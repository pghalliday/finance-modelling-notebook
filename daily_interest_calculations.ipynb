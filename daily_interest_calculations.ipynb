{
 "cells": [
  {
   "metadata": {
    "ExecuteTime": {
     "end_time": "2025-07-30T19:49:23.016553Z",
     "start_time": "2025-07-30T19:49:23.006790Z"
    }
   },
   "cell_type": "code",
   "source": [
    "from dataclasses import dataclass\n",
    "from datetime import date, timedelta\n",
    "\n",
    "from prettytable import PrettyTable, TableStyle\n",
    "\n",
    "from lib.utils.interest import annual_to_daily_interest_rate\n",
    "from lib.utils.date import days_in_year"
   ],
   "id": "6b6b231d7c9054a7",
   "outputs": [],
   "execution_count": 109
  },
  {
   "metadata": {},
   "cell_type": "markdown",
   "source": [
    "# Daily Interest Calculations\n",
    "\n",
    "Interest payments on bank accounts are often applied annually or quarterly.\n",
    "\n",
    "For example, the ABN AMRO Capital Savings Account applies interest annually, whereas their Deposit Accounts\n",
    "apply interest quarterly.\n",
    "\n",
    "In both cases, however, the rate advertised is the effective annual rate.\n",
    "\n",
    "For annual payments, this is simple to calculate as it can be prorated over the number of days spent at\n",
    "each balance level.\n",
    "\n",
    "The following examples have bene taken from the ABN AMRO site at https://www.abnamro.nl/en/personal/savings/interest-rates/when-and-how-often-do-you-receive-interest.html\n",
    "\n",
    "## Annual interest payments\n",
    "\n",
    "For example, on 31 December, the balance in your savings account was € 5,000.\n",
    "You received € 2,000 in holiday pay that you put in your savings account on 25 May.\n",
    "On 15 August, you went on holiday and withdrew € 1,000 from the account.\n",
    "The savings rate in this sample calculation is 1.50% and does not change during the year.\n",
    "The interest is calculated as follows:"
   ],
   "id": "9e35087262a6d3c8"
  },
  {
   "metadata": {
    "collapsed": true,
    "ExecuteTime": {
     "end_time": "2025-07-30T19:49:23.057717Z",
     "start_time": "2025-07-30T19:49:23.026674Z"
    }
   },
   "cell_type": "code",
   "source": [
    "INTEREST_RATE = 0.015\n",
    "\n",
    "@dataclass(frozen=True)\n",
    "class Period:\n",
    "    start: date\n",
    "    end: date\n",
    "    balance: float\n",
    "\n",
    "ANNUAL_PERIODS = [Period(start=date(2025, 12, 31),\n",
    "                         end=date(2026, 5, 24),\n",
    "                         balance=5000),\n",
    "                  Period(start=date(2026, 5, 25),\n",
    "                  end=date(2026, 8, 14),\n",
    "                  balance=7000),\n",
    "                  Period(start=date(2026, 8, 15),\n",
    "                  end=date(2026, 12, 30),\n",
    "                  balance=6000)]\n",
    "\n",
    "annual_table = PrettyTable()\n",
    "annual_table.field_names = ['Period', 'Balance', 'Days', 'Interest']\n",
    "interest_payments = []\n",
    "for period in ANNUAL_PERIODS:\n",
    "    days = (period.end - period.start).days + 1\n",
    "    interest_payment = INTEREST_RATE * period.balance * (days/365)\n",
    "    annual_table.add_row([f'{period.start} to {period.end}',\n",
    "                          period.balance,\n",
    "                          days,\n",
    "                          interest_payment])\n",
    "    interest_payments.append(interest_payment)\n",
    "ORIGINAL_ANNUAL_INTEREST_PAYMENT = sum(interest_payments)\n",
    "annual_table.add_row(['', '', 'Total', ORIGINAL_ANNUAL_INTEREST_PAYMENT])\n",
    "annual_table.set_style(TableStyle.SINGLE_BORDER)\n",
    "annual_table.float_format = '.2'\n",
    "annual_table"
   ],
   "id": "initial_id",
   "outputs": [
    {
     "data": {
      "text/plain": [
       "┌──────────────────────────┬─────────┬───────┬──────────┐\n",
       "│          Period          │ Balance │  Days │ Interest │\n",
       "├──────────────────────────┼─────────┼───────┼──────────┤\n",
       "│ 2025-12-31 to 2026-05-24 │   5000  │  145  │  29.79   │\n",
       "│ 2026-05-25 to 2026-08-14 │   7000  │   82  │  23.59   │\n",
       "│ 2026-08-15 to 2026-12-30 │   6000  │  138  │  34.03   │\n",
       "│                          │         │ Total │  87.41   │\n",
       "└──────────────────────────┴─────────┴───────┴──────────┘"
      ],
      "text/html": [
       "<table>\n",
       "    <thead>\n",
       "        <tr>\n",
       "            <th>Period</th>\n",
       "            <th>Balance</th>\n",
       "            <th>Days</th>\n",
       "            <th>Interest</th>\n",
       "        </tr>\n",
       "    </thead>\n",
       "    <tbody>\n",
       "        <tr>\n",
       "            <td>2025-12-31 to 2026-05-24</td>\n",
       "            <td>5000</td>\n",
       "            <td>145</td>\n",
       "            <td>29.79</td>\n",
       "        </tr>\n",
       "        <tr>\n",
       "            <td>2026-05-25 to 2026-08-14</td>\n",
       "            <td>7000</td>\n",
       "            <td>82</td>\n",
       "            <td>23.59</td>\n",
       "        </tr>\n",
       "        <tr>\n",
       "            <td>2026-08-15 to 2026-12-30</td>\n",
       "            <td>6000</td>\n",
       "            <td>138</td>\n",
       "            <td>34.03</td>\n",
       "        </tr>\n",
       "        <tr>\n",
       "            <td></td>\n",
       "            <td></td>\n",
       "            <td>Total</td>\n",
       "            <td>87.41</td>\n",
       "        </tr>\n",
       "    </tbody>\n",
       "</table>"
      ]
     },
     "execution_count": 110,
     "metadata": {},
     "output_type": "execute_result"
    }
   ],
   "execution_count": 110
  },
  {
   "metadata": {},
   "cell_type": "markdown",
   "source": [
    "Note that here we have assumed that there are 365 days in a year. Although it is not stated on the ABN AMRO\n",
    "site, I assume that in leap years they use the same annual rate and spread it over 366 days. After all, that would\n",
    "be most in their favor, and they don't state otherwise.\n",
    "\n",
    "## Quarterly interest payments\n",
    "\n",
    "As far as I can tell, the advertised rates for quarterly payments are also the annual effective rates. This\n",
    "means that the actual rate applied each quarter will be the nominal rate that when compounded will result in\n",
    "the annual effective rate.\n",
    "\n",
    "The nominal rate can be calculated using the following formula:\n",
    "\n",
    "```\n",
    "nominal_rate =\n",
    "    number_of_periods * [ { (1 + effective_rate) ^ (1 / number_of_periods) } - 1 ]\n",
    "```"
   ],
   "id": "79e3dfc243ebd2d"
  },
  {
   "metadata": {
    "ExecuteTime": {
     "end_time": "2025-07-30T19:49:23.102614Z",
     "start_time": "2025-07-30T19:49:23.092021Z"
    }
   },
   "cell_type": "code",
   "source": [
    "QUARTERLY_EFFECTIVE_RATES = [0.015, 0.013, 0.011, 0.002]\n",
    "NUMBER_OF_PERIODS = 4\n",
    "\n",
    "quarterly_rates_table = PrettyTable()\n",
    "quarterly_rates_table.field_names = ['Nominal rate (once a quarter)', 'Effective rate']\n",
    "for effective_rate in QUARTERLY_EFFECTIVE_RATES:\n",
    "    nominal_rate = NUMBER_OF_PERIODS * (pow(1 + effective_rate, 1 / NUMBER_OF_PERIODS) - 1)\n",
    "    quarterly_rates_table.add_row([f'{(nominal_rate * 100):.3f}%', f'{(effective_rate * 100):.2f}%'])\n",
    "quarterly_rates_table.set_style(TableStyle.SINGLE_BORDER)\n",
    "quarterly_rates_table"
   ],
   "id": "30cd574933b8a81f",
   "outputs": [
    {
     "data": {
      "text/plain": [
       "┌───────────────────────────────┬────────────────┐\n",
       "│ Nominal rate (once a quarter) │ Effective rate │\n",
       "├───────────────────────────────┼────────────────┤\n",
       "│             1.492%            │     1.50%      │\n",
       "│             1.294%            │     1.30%      │\n",
       "│             1.095%            │     1.10%      │\n",
       "│             0.200%            │     0.20%      │\n",
       "└───────────────────────────────┴────────────────┘"
      ],
      "text/html": [
       "<table>\n",
       "    <thead>\n",
       "        <tr>\n",
       "            <th>Nominal rate (once a quarter)</th>\n",
       "            <th>Effective rate</th>\n",
       "        </tr>\n",
       "    </thead>\n",
       "    <tbody>\n",
       "        <tr>\n",
       "            <td>1.492%</td>\n",
       "            <td>1.50%</td>\n",
       "        </tr>\n",
       "        <tr>\n",
       "            <td>1.294%</td>\n",
       "            <td>1.30%</td>\n",
       "        </tr>\n",
       "        <tr>\n",
       "            <td>1.095%</td>\n",
       "            <td>1.10%</td>\n",
       "        </tr>\n",
       "        <tr>\n",
       "            <td>0.200%</td>\n",
       "            <td>0.20%</td>\n",
       "        </tr>\n",
       "    </tbody>\n",
       "</table>"
      ]
     },
     "execution_count": 111,
     "metadata": {},
     "output_type": "execute_result"
    }
   ],
   "execution_count": 111
  },
  {
   "metadata": {},
   "cell_type": "markdown",
   "source": [
    "Note that this is still an annual rate, but as it is applied four times each year it compounds back to the\n",
    "effective rate. This does mean, however, that the formula to calculate the interest for each period remains\n",
    "the same with the number of days divided by the number of days in the year (not the quarter).\n",
    "\n",
    "We can show this by comparing the interest applied annually or quarterly, over a single year on € 10,000, at an effective\n",
    "rate of 1.5%."
   ],
   "id": "c491a3e98322515f"
  },
  {
   "metadata": {
    "ExecuteTime": {
     "end_time": "2025-07-30T19:49:23.192348Z",
     "start_time": "2025-07-30T19:49:23.160394Z"
    }
   },
   "cell_type": "code",
   "source": [
    "OPENING_BALANCE = 10_000\n",
    "EFFECTIVE_RATE = 0.015\n",
    "DAYS_IN_YEAR = 365\n",
    "PERIOD_COUNT = 4\n",
    "DAYS_IN_PERIOD = DAYS_IN_YEAR / PERIOD_COUNT\n",
    "NOMINAL_RATE = PERIOD_COUNT * (pow(1 + EFFECTIVE_RATE, 1 / PERIOD_COUNT) - 1)\n",
    "\n",
    "annual_interest_payment = OPENING_BALANCE * EFFECTIVE_RATE\n",
    "\n",
    "print(f'Annual interest payment: {annual_interest_payment:.6f}')\n",
    "\n",
    "quarterly_interest_payments = []\n",
    "current_balance = OPENING_BALANCE\n",
    "for days in [DAYS_IN_PERIOD] * PERIOD_COUNT:\n",
    "    interest_payment = current_balance * NOMINAL_RATE * (days / DAYS_IN_YEAR)\n",
    "    quarterly_interest_payments.append(interest_payment)\n",
    "    current_balance += interest_payment\n",
    "total_quarterly_interest_payment = sum(quarterly_interest_payments)\n",
    "\n",
    "print(f'Total quarterly interest: {total_quarterly_interest_payment:.6f}')"
   ],
   "id": "a1c3eb409d5f2391",
   "outputs": [
    {
     "name": "stdout",
     "output_type": "stream",
     "text": [
      "Annual interest payment: 150.000000\n",
      "Total quarterly interest: 150.000000\n"
     ]
    }
   ],
   "execution_count": 112
  },
  {
   "metadata": {},
   "cell_type": "markdown",
   "source": [
    "## Daily interest calculations\n",
    "\n",
    "In our simulations, we will actually increment the states daily. This actually simplifies the interest\n",
    "calculations for us as the number of periods will be the number of days in the current year.\n",
    "\n",
    "This also simplifies the application of leap years as a day is either in a leap year or not.\n",
    "\n",
    "Remember that the annual nominal rate was calculated by multiplying by the period count.\n",
    "\n",
    "Also remember that the periodic interest payment is calculated by dividing by the days in the year.\n",
    "\n",
    "For daily calculations, the period count and the days in the year are equal!\n",
    "\n",
    "Also for daily calculations, the number of days in each period becomes 1 which removes another multiplier\n",
    "from the formula.\n",
    "\n",
    "Thus, the daily calculation becomes:\n",
    "\n",
    "```\n",
    "daily_rate = [ (1 + effective_rate) ^ (1 / days_in_year) ] - 1\n",
    "```\n",
    "\n",
    "This formula is captured in the `lib.utils.interest.annual_to_daily_interest_rate` function. A function to\n",
    "get the number of days in a year is also provided in `lib.utils.date.days_in_year`.\n",
    "\n",
    "This rate **compounded** every day over the year should result in the same effective rate. Using the\n",
    "example from above we can demonstrate this:"
   ],
   "id": "95371ec327cc0fe3"
  },
  {
   "metadata": {
    "ExecuteTime": {
     "end_time": "2025-07-30T19:49:23.222012Z",
     "start_time": "2025-07-30T19:49:23.215582Z"
    }
   },
   "cell_type": "code",
   "source": [
    "CURRENT_DATE = date.today()\n",
    "DAILY_RATE = annual_to_daily_interest_rate(EFFECTIVE_RATE, CURRENT_DATE)\n",
    "interest_accrued = 0\n",
    "for day in range(days_in_year(CURRENT_DATE.year)):\n",
    "    interest_accrued += (OPENING_BALANCE + interest_accrued) * DAILY_RATE\n",
    "print(f'Interest accrued: {interest_accrued:.6f}')"
   ],
   "id": "d23e4bd821469005",
   "outputs": [
    {
     "name": "stdout",
     "output_type": "stream",
     "text": [
      "Interest accrued: 150.000000\n"
     ]
    }
   ],
   "execution_count": 113
  },
  {
   "metadata": {},
   "cell_type": "markdown",
   "source": [
    "You can see that in this calculation, the interest accrued is added to the balance for each calculation\n",
    "to ensure the correct compounding effects.\n",
    "\n",
    "You can also see that on any arbitrary day the interest accrued could be added to the balance and zeroed\n",
    "out without impacting the calculation. To see this, we can arbitrarily pay out interest every 10th day:"
   ],
   "id": "a2f14c4a75e4386a"
  },
  {
   "metadata": {
    "ExecuteTime": {
     "end_time": "2025-07-30T19:49:23.243106Z",
     "start_time": "2025-07-30T19:49:23.239805Z"
    }
   },
   "cell_type": "code",
   "source": [
    "CURRENT_DATE = date.today()\n",
    "DAILY_RATE = annual_to_daily_interest_rate(EFFECTIVE_RATE, CURRENT_DATE)\n",
    "interest_accrued = 0\n",
    "current_balance = OPENING_BALANCE\n",
    "for day in range(days_in_year(CURRENT_DATE.year)):\n",
    "    if day % 10 == 0:\n",
    "        current_balance += interest_accrued\n",
    "        interest_accrued = 0\n",
    "    interest_accrued += (current_balance + interest_accrued) * DAILY_RATE\n",
    "print(f'Interest paid or accrued: {current_balance - OPENING_BALANCE + interest_accrued:.6f}')"
   ],
   "id": "9a4a9a4fbab4aa9c",
   "outputs": [
    {
     "name": "stdout",
     "output_type": "stream",
     "text": [
      "Interest paid or accrued: 150.000000\n"
     ]
    }
   ],
   "execution_count": 114
  },
  {
   "metadata": {},
   "cell_type": "markdown",
   "source": [
    "This method will also provide the correct calculation in the face of daily deposits and withdrawals as we\n",
    "no longer have to consider the number of days at each balance. We can demonstrate this by calculating the\n",
    "interest accrued for our original annual example:"
   ],
   "id": "70cc72a5620568e2"
  },
  {
   "metadata": {
    "ExecuteTime": {
     "end_time": "2025-07-30T19:49:23.261568Z",
     "start_time": "2025-07-30T19:49:23.256919Z"
    }
   },
   "cell_type": "code",
   "source": [
    "interest_accrued = 0\n",
    "number_of_days = 0\n",
    "for period in ANNUAL_PERIODS:\n",
    "    days = (period.end - period.start).days + 1\n",
    "    number_of_days += days\n",
    "    for day in range(days):\n",
    "        current_date = period.start + timedelta(days=day)\n",
    "        daily_rate = annual_to_daily_interest_rate(INTEREST_RATE, current_date)\n",
    "        interest_accrued += (daily_rate * (period.balance + interest_accrued))\n",
    "print(f'Number of days: {number_of_days}')\n",
    "print(f'Interest rate: {INTEREST_RATE * 100:.2f}%')\n",
    "print(f'Daily interest accrued: {interest_accrued:.6f}')\n",
    "print(f'Original annual interest payment: {ORIGINAL_ANNUAL_INTEREST_PAYMENT:.6f}')"
   ],
   "id": "f2a9f58b1300c41",
   "outputs": [
    {
     "name": "stdout",
     "output_type": "stream",
     "text": [
      "Number of days: 365\n",
      "Interest rate: 1.50%\n",
      "Daily interest accrued: 87.383697\n",
      "Original annual interest payment: 87.410959\n"
     ]
    }
   ],
   "execution_count": 115
  }
 ],
 "metadata": {
  "kernelspec": {
   "display_name": "Python 3",
   "language": "python",
   "name": "python3"
  },
  "language_info": {
   "codemirror_mode": {
    "name": "ipython",
    "version": 2
   },
   "file_extension": ".py",
   "mimetype": "text/x-python",
   "name": "python",
   "nbconvert_exporter": "python",
   "pygments_lexer": "ipython2",
   "version": "2.7.6"
  }
 },
 "nbformat": 4,
 "nbformat_minor": 5
}
