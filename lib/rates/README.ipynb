{
 "cells": [
  {
   "cell_type": "markdown",
   "id": "6adff10c72276c84",
   "metadata": {
    "papermill": {
     "duration": 0.00209,
     "end_time": "2025-08-01T13:40:10.519115",
     "exception": false,
     "start_time": "2025-08-01T13:40:10.517025",
     "status": "completed"
    },
    "tags": []
   },
   "source": []
  }
 ],
 "metadata": {
  "kernelspec": {
   "display_name": "Python 3",
   "language": "python",
   "name": "python3"
  },
  "language_info": {
   "codemirror_mode": {
    "name": "ipython",
    "version": 3
   },
   "file_extension": ".py",
   "mimetype": "text/x-python",
   "name": "python",
   "nbconvert_exporter": "python",
   "pygments_lexer": "ipython3",
   "version": "3.12.11"
  },
  "papermill": {
   "default_parameters": {},
   "duration": 1.164996,
   "end_time": "2025-08-01T13:40:10.638048",
   "environment_variables": {},
   "exception": null,
   "input_path": "./lib/rates/README.ipynb",
   "output_path": "./lib/rates/README.ipynb",
   "parameters": {},
   "start_time": "2025-08-01T13:40:09.473052",
   "version": "2.6.0"
  }
 },
 "nbformat": 4,
 "nbformat_minor": 5
}