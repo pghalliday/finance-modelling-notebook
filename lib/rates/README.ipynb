{
 "cells": [
  {
   "cell_type": "markdown",
   "id": "7067663d0aefaf78",
   "metadata": {
    "papermill": {
     "duration": 0.007504,
     "end_time": "2025-08-05T11:02:02.204495",
     "exception": false,
     "start_time": "2025-08-05T11:02:02.196991",
     "status": "completed"
    },
    "tags": []
   },
   "source": [
    "# Rates\n",
    "\n",
    "A collection of daily rate calculation algorithms."
   ]
  },
  {
   "cell_type": "code",
   "execution_count": 1,
   "id": "cadbc5098d249568",
   "metadata": {
    "ExecuteTime": {
     "end_time": "2025-08-05T08:47:56.017830Z",
     "start_time": "2025-08-05T08:47:55.975609Z"
    },
    "execution": {
     "iopub.execute_input": "2025-08-05T11:02:02.210174Z",
     "iopub.status.busy": "2025-08-05T11:02:02.210015Z",
     "iopub.status.idle": "2025-08-05T11:02:02.246172Z",
     "shell.execute_reply": "2025-08-05T11:02:02.245909Z"
    },
    "papermill": {
     "duration": 0.039881,
     "end_time": "2025-08-05T11:02:02.246885",
     "exception": false,
     "start_time": "2025-08-05T11:02:02.207004",
     "status": "completed"
    },
    "tags": []
   },
   "outputs": [
    {
     "name": "stdout",
     "output_type": "stream",
     "text": [
      "Decimal context: Context(prec=1000, rounding=ROUND_HALF_EVEN, Emin=-999999, Emax=999999, capitals=1, clamp=0, flags=[], traps=[InvalidOperation, DivisionByZero, FloatOperation, Overflow])\n",
      "┌──────────────────┬──────────────────┐\n",
      "│ Current date     │ 2024-12-31 : Tue │\n",
      "│ Net deposits     │            10000 │\n",
      "│ Interest paid    │              0.0 │\n",
      "│ Interest accrued │              0.0 │\n",
      "│ Total            │          10000.0 │\n",
      "└──────────────────┴──────────────────┘\n"
     ]
    }
   ],
   "source": [
    "from datetime import date, timedelta\n",
    "from decimal import Decimal, getcontext, FloatOperation\n",
    "from functools import reduce\n",
    "\n",
    "from lib.rates import \\\n",
    "    ContinuousRate, \\\n",
    "    PeriodicRate, \\\n",
    "    create_banded_rate\n",
    "from lib.utils.date import days_in_year\n",
    "from lib.utils.rates.state import \\\n",
    "    State, \\\n",
    "    StateUpdater, \\\n",
    "    ANNUAL_UPDATER_PROVIDER, \\\n",
    "    QUARTERLY_UPDATER_PROVIDER, \\\n",
    "    DAILY_UPDATER_PROVIDER\n",
    "\n",
    "decimal_context = getcontext()\n",
    "decimal_context.traps[FloatOperation] = True\n",
    "decimal_context.prec = 1000\n",
    "\n",
    "START_DATE = date(date.today().year, 1, 1)\n",
    "DAYS = [START_DATE + timedelta(days=day) for day in range(days_in_year(START_DATE.year))]\n",
    "RATE = Decimal('0.015')\n",
    "BANDS = {Decimal('0.0'): Decimal('0.10'),\n",
    "         Decimal('1000.0'): Decimal('0.20'),\n",
    "         Decimal('2000.0'): Decimal('0.30'),\n",
    "         Decimal('3000.0'): Decimal('0.40'),\n",
    "         Decimal('4000.0'): Decimal('0.0')}\n",
    "STARTING_BALANCE = Decimal('10_000')\n",
    "\n",
    "INITIAL_STATE = State(current_date=START_DATE - timedelta(days=1),\n",
    "                      net_deposits=STARTING_BALANCE,\n",
    "                      interest_paid=Decimal('0.0'),\n",
    "                      interest_accrued=Decimal('0.0'))\n",
    "\n",
    "print(f'Decimal context: {decimal_context}')\n",
    "print(INITIAL_STATE)"
   ]
  },
  {
   "cell_type": "markdown",
   "id": "6ba0fbf8aefde640",
   "metadata": {
    "papermill": {
     "duration": 0.002025,
     "end_time": "2025-08-05T11:02:02.250791",
     "exception": false,
     "start_time": "2025-08-05T11:02:02.248766",
     "status": "completed"
    },
    "tags": []
   },
   "source": [
    "## ContinuousRate\n",
    "\n",
    "This calculator applies a continuously compounding algorithm, which most accurately reflects a\n",
    "continuous return given a desired annual rate."
   ]
  },
  {
   "cell_type": "markdown",
   "id": "53b9895f7157ddb0",
   "metadata": {
    "papermill": {
     "duration": 0.001628,
     "end_time": "2025-08-05T11:02:02.254384",
     "exception": false,
     "start_time": "2025-08-05T11:02:02.252756",
     "status": "completed"
    },
    "tags": []
   },
   "source": [
    "Each call to calculate will return the daily amount associated with the given annual rate."
   ]
  },
  {
   "cell_type": "code",
   "execution_count": 2,
   "id": "378306241b59fd56",
   "metadata": {
    "ExecuteTime": {
     "end_time": "2025-08-05T08:47:56.053910Z",
     "start_time": "2025-08-05T08:47:56.025146Z"
    },
    "execution": {
     "iopub.execute_input": "2025-08-05T11:02:02.258226Z",
     "iopub.status.busy": "2025-08-05T11:02:02.258074Z",
     "iopub.status.idle": "2025-08-05T11:02:02.283100Z",
     "shell.execute_reply": "2025-08-05T11:02:02.282848Z"
    },
    "papermill": {
     "duration": 0.027755,
     "end_time": "2025-08-05T11:02:02.283782",
     "exception": false,
     "start_time": "2025-08-05T11:02:02.256027",
     "status": "completed"
    },
    "tags": []
   },
   "outputs": [
    {
     "name": "stdout",
     "output_type": "stream",
     "text": [
      "┌──────────────┬───────────────────────┐\n",
      "│ Current date │      2025-01-01 : Wed │\n",
      "│ Rate         │ ContinuousRate: 1.50% │\n",
      "│ Daily rate   │              0.004079 │\n",
      "│ Balance      │          10000.000000 │\n",
      "│ Accrued      │              0.000000 │\n",
      "│ Calculation  │              0.407916 │\n",
      "└──────────────┴───────────────────────┘\n"
     ]
    }
   ],
   "source": [
    "rate = ContinuousRate(RATE)\n",
    "calculation = rate.calculate(current_date=START_DATE,\n",
    "                             balance=STARTING_BALANCE,\n",
    "                             accrued=Decimal('0.0'))\n",
    "print(calculation)"
   ]
  },
  {
   "cell_type": "markdown",
   "id": "6ad2b1a98ad5e3d1",
   "metadata": {
    "papermill": {
     "duration": 0.001736,
     "end_time": "2025-08-05T11:02:02.287587",
     "exception": false,
     "start_time": "2025-08-05T11:02:02.285851",
     "status": "completed"
    },
    "tags": []
   },
   "source": [
    "So collecting the daily amounts over a full year, we can see the compounded result."
   ]
  },
  {
   "cell_type": "code",
   "execution_count": 3,
   "id": "957e6d3eafd4f71a",
   "metadata": {
    "ExecuteTime": {
     "end_time": "2025-08-05T08:47:56.159566Z",
     "start_time": "2025-08-05T08:47:56.144827Z"
    },
    "execution": {
     "iopub.execute_input": "2025-08-05T11:02:02.291630Z",
     "iopub.status.busy": "2025-08-05T11:02:02.291527Z",
     "iopub.status.idle": "2025-08-05T11:02:02.306494Z",
     "shell.execute_reply": "2025-08-05T11:02:02.306271Z"
    },
    "papermill": {
     "duration": 0.017725,
     "end_time": "2025-08-05T11:02:02.307102",
     "exception": false,
     "start_time": "2025-08-05T11:02:02.289377",
     "status": "completed"
    },
    "tags": []
   },
   "outputs": [
    {
     "name": "stdout",
     "output_type": "stream",
     "text": [
      "┌──────────────────┬───────────────────────┐\n",
      "│ Current date     │      2025-12-31 : Wed │\n",
      "│ Net deposits     │                 10000 │\n",
      "│ Interest paid    │                   0.0 │\n",
      "│ Interest accrued │ 150.00000000000000000 │\n",
      "│ Total            │ 10150.000000000000000 │\n",
      "└──────────────────┴───────────────────────┘\n"
     ]
    }
   ],
   "source": [
    "state_updater = StateUpdater(rate, ANNUAL_UPDATER_PROVIDER)\n",
    "final_state = reduce(lambda state, day: state_updater.update(day, state), DAYS, INITIAL_STATE)\n",
    "print(final_state)"
   ]
  },
  {
   "cell_type": "code",
   "execution_count": 4,
   "id": "df995429b8f0dbc6",
   "metadata": {
    "ExecuteTime": {
     "end_time": "2025-08-05T08:47:56.190215Z",
     "start_time": "2025-08-05T08:47:56.171761Z"
    },
    "execution": {
     "iopub.execute_input": "2025-08-05T11:02:02.311165Z",
     "iopub.status.busy": "2025-08-05T11:02:02.311056Z",
     "iopub.status.idle": "2025-08-05T11:02:02.325730Z",
     "shell.execute_reply": "2025-08-05T11:02:02.325517Z"
    },
    "papermill": {
     "duration": 0.01746,
     "end_time": "2025-08-05T11:02:02.326430",
     "exception": false,
     "start_time": "2025-08-05T11:02:02.308970",
     "status": "completed"
    },
    "tags": []
   },
   "outputs": [
    {
     "name": "stdout",
     "output_type": "stream",
     "text": [
      "┌──────────────────┬───────────────────────┐\n",
      "│ Current date     │      2025-12-31 : Wed │\n",
      "│ Net deposits     │                 10000 │\n",
      "│ Interest paid    │ 111.98100887779136099 │\n",
      "│ Interest accrued │ 38.018991122208639007 │\n",
      "│ Total            │ 10150.000000000000000 │\n",
      "└──────────────────┴───────────────────────┘\n"
     ]
    }
   ],
   "source": [
    "state_updater = StateUpdater(rate, QUARTERLY_UPDATER_PROVIDER)\n",
    "final_state = reduce(lambda state, day: state_updater.update(day, state), DAYS, INITIAL_STATE)\n",
    "print(final_state)"
   ]
  },
  {
   "cell_type": "code",
   "execution_count": 5,
   "id": "a960253e994fbcb0",
   "metadata": {
    "ExecuteTime": {
     "end_time": "2025-08-05T08:47:56.215822Z",
     "start_time": "2025-08-05T08:47:56.199518Z"
    },
    "execution": {
     "iopub.execute_input": "2025-08-05T11:02:02.330524Z",
     "iopub.status.busy": "2025-08-05T11:02:02.330425Z",
     "iopub.status.idle": "2025-08-05T11:02:02.344675Z",
     "shell.execute_reply": "2025-08-05T11:02:02.344411Z"
    },
    "papermill": {
     "duration": 0.016981,
     "end_time": "2025-08-05T11:02:02.345318",
     "exception": false,
     "start_time": "2025-08-05T11:02:02.328337",
     "status": "completed"
    },
    "tags": []
   },
   "outputs": [
    {
     "name": "stdout",
     "output_type": "stream",
     "text": [
      "┌──────────────────┬────────────────────────┐\n",
      "│ Current date     │       2025-12-31 : Wed │\n",
      "│ Net deposits     │                  10000 │\n",
      "│ Interest paid    │  149.58598264460649109 │\n",
      "│ Interest accrued │ 0.41401735539350891438 │\n",
      "│ Total            │  10150.000000000000000 │\n",
      "└──────────────────┴────────────────────────┘\n"
     ]
    }
   ],
   "source": [
    "state_updater = StateUpdater(rate, DAILY_UPDATER_PROVIDER)\n",
    "final_state = reduce(lambda state, day: state_updater.update(day, state), DAYS, INITIAL_STATE)\n",
    "print(final_state)"
   ]
  },
  {
   "cell_type": "markdown",
   "id": "833de3ea900c9057",
   "metadata": {
    "papermill": {
     "duration": 0.001983,
     "end_time": "2025-08-05T11:02:02.349155",
     "exception": false,
     "start_time": "2025-08-05T11:02:02.347172",
     "status": "completed"
    },
    "tags": []
   },
   "source": [
    "## PeriodicRate\n",
    "\n",
    "This calculator applies a periodic compounding algorithm by applying the same rate to the\n",
    "balance for each day without taking into account the unrealized accrued amount. For a constant\n",
    "balance, this should provide the same return as the `ContinuousRate`. However,\n",
    "for a falling balance it will return less and for a rising balance it will return more."
   ]
  },
  {
   "cell_type": "markdown",
   "id": "46a81808e6738906",
   "metadata": {
    "papermill": {
     "duration": 0.001687,
     "end_time": "2025-08-05T11:02:02.352471",
     "exception": false,
     "start_time": "2025-08-05T11:02:02.350784",
     "status": "completed"
    },
    "tags": []
   },
   "source": [
    "Each call to calculate will return the daily amount associated with the given annual rate."
   ]
  },
  {
   "cell_type": "code",
   "execution_count": 6,
   "id": "9da69ad7cd759f07",
   "metadata": {
    "ExecuteTime": {
     "end_time": "2025-08-05T08:47:56.227197Z",
     "start_time": "2025-08-05T08:47:56.224684Z"
    },
    "execution": {
     "iopub.execute_input": "2025-08-05T11:02:02.356179Z",
     "iopub.status.busy": "2025-08-05T11:02:02.356072Z",
     "iopub.status.idle": "2025-08-05T11:02:02.358025Z",
     "shell.execute_reply": "2025-08-05T11:02:02.357806Z"
    },
    "papermill": {
     "duration": 0.004547,
     "end_time": "2025-08-05T11:02:02.358644",
     "exception": false,
     "start_time": "2025-08-05T11:02:02.354097",
     "status": "completed"
    },
    "tags": []
   },
   "outputs": [
    {
     "name": "stdout",
     "output_type": "stream",
     "text": [
      "┌──────────────┬────────────────────────────────┐\n",
      "│ Current date │               2025-01-01 : Wed │\n",
      "│ Rate         │ PeriodicRate: 1 periods: 1.50% │\n",
      "│ Daily rate   │                       0.004110 │\n",
      "│ Balance      │                   10000.000000 │\n",
      "│ Accrued      │                       0.000000 │\n",
      "│ Calculation  │                       0.410959 │\n",
      "└──────────────┴────────────────────────────────┘\n"
     ]
    }
   ],
   "source": [
    "rate = PeriodicRate(RATE, 1)\n",
    "calculation = rate.calculate(current_date=START_DATE,\n",
    "                             balance=STARTING_BALANCE,\n",
    "                             accrued=Decimal('0.0'))\n",
    "print(calculation)"
   ]
  },
  {
   "cell_type": "markdown",
   "id": "1ea82b5d782a7830",
   "metadata": {
    "papermill": {
     "duration": 0.001912,
     "end_time": "2025-08-05T11:02:02.362326",
     "exception": false,
     "start_time": "2025-08-05T11:02:02.360414",
     "status": "completed"
    },
    "tags": []
   },
   "source": [
    "So collecting the daily amounts over a full year, we can see the compounded result."
   ]
  },
  {
   "cell_type": "code",
   "execution_count": 7,
   "id": "ebde40f77b990bf8",
   "metadata": {
    "ExecuteTime": {
     "end_time": "2025-08-05T08:47:56.244971Z",
     "start_time": "2025-08-05T08:47:56.239863Z"
    },
    "execution": {
     "iopub.execute_input": "2025-08-05T11:02:02.366288Z",
     "iopub.status.busy": "2025-08-05T11:02:02.366188Z",
     "iopub.status.idle": "2025-08-05T11:02:02.369531Z",
     "shell.execute_reply": "2025-08-05T11:02:02.369324Z"
    },
    "papermill": {
     "duration": 0.005893,
     "end_time": "2025-08-05T11:02:02.370114",
     "exception": false,
     "start_time": "2025-08-05T11:02:02.364221",
     "status": "completed"
    },
    "tags": []
   },
   "outputs": [
    {
     "name": "stdout",
     "output_type": "stream",
     "text": [
      "┌──────────────────┬───────────────────────┐\n",
      "│ Current date     │      2025-12-31 : Wed │\n",
      "│ Net deposits     │                 10000 │\n",
      "│ Interest paid    │                   0.0 │\n",
      "│ Interest accrued │ 150.00000000000000000 │\n",
      "│ Total            │ 10150.000000000000000 │\n",
      "└──────────────────┴───────────────────────┘\n"
     ]
    }
   ],
   "source": [
    "state_updater = StateUpdater(rate, ANNUAL_UPDATER_PROVIDER)\n",
    "final_state = reduce(lambda state, day: state_updater.update(day, state), DAYS, INITIAL_STATE)\n",
    "print(final_state)"
   ]
  },
  {
   "cell_type": "code",
   "execution_count": 8,
   "id": "f81169fe23aa6030",
   "metadata": {
    "ExecuteTime": {
     "end_time": "2025-08-05T08:47:56.284890Z",
     "start_time": "2025-08-05T08:47:56.256391Z"
    },
    "execution": {
     "iopub.execute_input": "2025-08-05T11:02:02.374023Z",
     "iopub.status.busy": "2025-08-05T11:02:02.373930Z",
     "iopub.status.idle": "2025-08-05T11:02:02.399354Z",
     "shell.execute_reply": "2025-08-05T11:02:02.399135Z"
    },
    "papermill": {
     "duration": 0.028089,
     "end_time": "2025-08-05T11:02:02.399993",
     "exception": false,
     "start_time": "2025-08-05T11:02:02.371904",
     "status": "completed"
    },
    "tags": []
   },
   "outputs": [
    {
     "name": "stdout",
     "output_type": "stream",
     "text": [
      "┌──────────────┬────────────────────────────────┐\n",
      "│ Current date │               2025-01-01 : Wed │\n",
      "│ Rate         │ PeriodicRate: 4 periods: 1.50% │\n",
      "│ Daily rate   │                       0.004087 │\n",
      "│ Balance      │                   10000.000000 │\n",
      "│ Accrued      │                       0.000000 │\n",
      "│ Calculation  │                       0.408667 │\n",
      "└──────────────┴────────────────────────────────┘\n"
     ]
    }
   ],
   "source": [
    "rate = PeriodicRate(RATE, 4)\n",
    "calculation = rate.calculate(current_date=START_DATE,\n",
    "                             balance=STARTING_BALANCE,\n",
    "                             accrued=Decimal('0.0'))\n",
    "print(calculation)"
   ]
  },
  {
   "cell_type": "code",
   "execution_count": 9,
   "id": "272e3ae294f74519",
   "metadata": {
    "ExecuteTime": {
     "end_time": "2025-08-05T08:47:56.311145Z",
     "start_time": "2025-08-05T08:47:56.298194Z"
    },
    "execution": {
     "iopub.execute_input": "2025-08-05T11:02:02.403922Z",
     "iopub.status.busy": "2025-08-05T11:02:02.403829Z",
     "iopub.status.idle": "2025-08-05T11:02:02.415411Z",
     "shell.execute_reply": "2025-08-05T11:02:02.415201Z"
    },
    "papermill": {
     "duration": 0.014274,
     "end_time": "2025-08-05T11:02:02.416070",
     "exception": false,
     "start_time": "2025-08-05T11:02:02.401796",
     "status": "completed"
    },
    "tags": []
   },
   "outputs": [
    {
     "name": "stdout",
     "output_type": "stream",
     "text": [
      "┌──────────────────┬───────────────────────┐\n",
      "│ Current date     │      2025-12-31 : Wed │\n",
      "│ Net deposits     │                 10000 │\n",
      "│ Interest paid    │ 111.98156556526785157 │\n",
      "│ Interest accrued │ 38.018411299158197925 │\n",
      "│ Total            │ 10149.999976864426049 │\n",
      "└──────────────────┴───────────────────────┘\n"
     ]
    }
   ],
   "source": [
    "state_updater = StateUpdater(rate, QUARTERLY_UPDATER_PROVIDER)\n",
    "final_state = reduce(lambda state, day: state_updater.update(day, state), DAYS, INITIAL_STATE)\n",
    "print(final_state)"
   ]
  },
  {
   "cell_type": "markdown",
   "id": "d6f6b16430b9959e",
   "metadata": {
    "papermill": {
     "duration": 0.001934,
     "end_time": "2025-08-05T11:02:02.420376",
     "exception": false,
     "start_time": "2025-08-05T11:02:02.418442",
     "status": "completed"
    },
    "tags": []
   },
   "source": [
    "> **_NB._** We can see an error here as the total is slightly less than the expected 10,150.\n",
    "> This is due to an inadequacy in the algorithm. The rate calculation assumes that\n",
    "> quarters are of equal length. This is not the case and can't really be the case, as years\n",
    "> cannot be divided into a four equal number of days. We are actually using 3 calendar months\n",
    "> per quarter.\n",
    ">\n",
    "> So why is the result slightly less? This is due to compounding as payments from earlier quarters\n",
    "> compound more than those from later quarters. There are fewer days in the first\n",
    "> two quarters than the second two, but the daily rate is the same. This means that fewer days\n",
    "> of payments are compounded from the first half of the year than if the periods were equal\n",
    "> length. The fact that those days compound for more time, as the payment is earlier, does not\n",
    "> compensate for the missing days."
   ]
  },
  {
   "cell_type": "code",
   "execution_count": 10,
   "id": "19ec63b4d8bcea96",
   "metadata": {
    "ExecuteTime": {
     "end_time": "2025-08-05T08:47:56.322170Z",
     "start_time": "2025-08-05T08:47:56.319144Z"
    },
    "execution": {
     "iopub.execute_input": "2025-08-05T11:02:02.424258Z",
     "iopub.status.busy": "2025-08-05T11:02:02.424148Z",
     "iopub.status.idle": "2025-08-05T11:02:02.425956Z",
     "shell.execute_reply": "2025-08-05T11:02:02.425747Z"
    },
    "papermill": {
     "duration": 0.004439,
     "end_time": "2025-08-05T11:02:02.426550",
     "exception": false,
     "start_time": "2025-08-05T11:02:02.422111",
     "status": "completed"
    },
    "tags": []
   },
   "outputs": [
    {
     "name": "stdout",
     "output_type": "stream",
     "text": [
      "Days in first half of the year 181\n",
      "Days in second half of the year 184\n"
     ]
    }
   ],
   "source": [
    "print('Days in first half of the year', (date(2025, 7, 1) - date(2025, 1, 1)).days)\n",
    "print('Days in second half of the year', (date(2026, 1, 1) - date(2025, 7, 1)).days)\n"
   ]
  },
  {
   "cell_type": "markdown",
   "id": "7197dbbbaf41699f",
   "metadata": {
    "papermill": {
     "duration": 0.001806,
     "end_time": "2025-08-05T11:02:02.430182",
     "exception": false,
     "start_time": "2025-08-05T11:02:02.428376",
     "status": "completed"
    },
    "tags": []
   },
   "source": [
    "> **_NBB._** It may be possible to correct this algorithm, but any solution is likely to throw\n",
    "> up more problems. For instance what should we do if a period crosses between a regular year\n",
    "> and a leap year?\n",
    ">\n",
    "> For this reason it is probably unwise to use this algorithm and instead just\n",
    "> use the `ContinuousRate` in simulations as the differences are likely to be\n",
    "> insignificant.\n",
    ">\n",
    "> So why is it here? Well, when investigating how banks calculate interest. It was found that\n",
    "> this is how they say they do it. For instance: https://www.abnamro.nl/en/personal/savings/interest-rates/when-and-how-often-do-you-receive-interest.html\n",
    ">\n",
    "> However, this did not give any indication of how they compensate for unequal quarters or\n",
    "> leap years. As such, the implementation here is probably wrong anyway, so just don't use it!"
   ]
  },
  {
   "cell_type": "markdown",
   "id": "638482e7cbc9dbd",
   "metadata": {
    "papermill": {
     "duration": 0.001947,
     "end_time": "2025-08-05T11:02:02.434261",
     "exception": false,
     "start_time": "2025-08-05T11:02:02.432314",
     "status": "completed"
    },
    "tags": []
   },
   "source": [
    "## BandedRate\n",
    "\n",
    "This rate combines a dictionary of rates that will be applied at different balance amounts."
   ]
  },
  {
   "cell_type": "markdown",
   "id": "3fd008912985412a",
   "metadata": {
    "papermill": {
     "duration": 0.001777,
     "end_time": "2025-08-05T11:02:02.437868",
     "exception": false,
     "start_time": "2025-08-05T11:02:02.436091",
     "status": "completed"
    },
    "tags": []
   },
   "source": [
    "Each call to calculate will return the daily amount associated with the given annual rate."
   ]
  },
  {
   "cell_type": "code",
   "execution_count": 11,
   "id": "229b89b8769a473d",
   "metadata": {
    "ExecuteTime": {
     "end_time": "2025-08-05T08:47:56.440351Z",
     "start_time": "2025-08-05T08:47:56.329994Z"
    },
    "execution": {
     "iopub.execute_input": "2025-08-05T11:02:02.441844Z",
     "iopub.status.busy": "2025-08-05T11:02:02.441727Z",
     "iopub.status.idle": "2025-08-05T11:02:02.548650Z",
     "shell.execute_reply": "2025-08-05T11:02:02.548448Z"
    },
    "papermill": {
     "duration": 0.109662,
     "end_time": "2025-08-05T11:02:02.549269",
     "exception": false,
     "start_time": "2025-08-05T11:02:02.439607",
     "status": "completed"
    },
    "tags": []
   },
   "outputs": [
    {
     "name": "stdout",
     "output_type": "stream",
     "text": [
      "┌─────────────────────────┬────────────────────────┬──────────────┬──────────┬─────────────┐\n",
      "│ Band                    │                   Rate │      Balance │  Accrued │ Calculation │\n",
      "├─────────────────────────┼────────────────────────┼──────────────┼──────────┼─────────────┤\n",
      "│ up to 1000.00           │ ContinuousRate: 10.00% │  1000.000000 │ 0.000000 │    0.261158 │\n",
      "│ from 1000.00 to 2000.00 │ ContinuousRate: 20.00% │  1000.000000 │ 0.000000 │    0.499636 │\n",
      "│ from 2000.00 to 3000.00 │ ContinuousRate: 30.00% │  1000.000000 │ 0.000000 │    0.719065 │\n",
      "│ from 3000.00 to 4000.00 │ ContinuousRate: 40.00% │  1000.000000 │ 0.000000 │    0.922267 │\n",
      "│ above 4000.00           │  ContinuousRate: 0.00% │  6000.000000 │ 0.000000 │    0.000000 │\n",
      "├─────────────────────────┼────────────────────────┼──────────────┼──────────┼─────────────┤\n",
      "│ 2025-01-01 : Wed        │                 Totals │ 10000.000000 │ 0.000000 │    2.402125 │\n",
      "└─────────────────────────┴────────────────────────┴──────────────┴──────────┴─────────────┘"
     ]
    },
    {
     "name": "stdout",
     "output_type": "stream",
     "text": [
      "\n"
     ]
    }
   ],
   "source": [
    "rate = create_banded_rate({k: ContinuousRate(v) for k, v in BANDS.items()})\n",
    "calculation = rate.calculate(current_date=START_DATE,\n",
    "                             balance=STARTING_BALANCE,\n",
    "                             accrued=Decimal('0.0'))\n",
    "print(calculation)"
   ]
  },
  {
   "cell_type": "markdown",
   "id": "f513016d664a12c8",
   "metadata": {
    "papermill": {
     "duration": 0.001906,
     "end_time": "2025-08-05T11:02:02.553250",
     "exception": false,
     "start_time": "2025-08-05T11:02:02.551344",
     "status": "completed"
    },
    "tags": []
   },
   "source": [
    "So collecting the daily amounts over a full year, we can see the compounded result."
   ]
  },
  {
   "cell_type": "code",
   "execution_count": 12,
   "id": "89aa8d339bee5fdc",
   "metadata": {
    "ExecuteTime": {
     "end_time": "2025-08-05T08:47:56.457723Z",
     "start_time": "2025-08-05T08:47:56.447913Z"
    },
    "execution": {
     "iopub.execute_input": "2025-08-05T11:02:02.557775Z",
     "iopub.status.busy": "2025-08-05T11:02:02.557576Z",
     "iopub.status.idle": "2025-08-05T11:02:02.566768Z",
     "shell.execute_reply": "2025-08-05T11:02:02.566561Z"
    },
    "papermill": {
     "duration": 0.012185,
     "end_time": "2025-08-05T11:02:02.567392",
     "exception": false,
     "start_time": "2025-08-05T11:02:02.555207",
     "status": "completed"
    },
    "tags": []
   },
   "outputs": [
    {
     "name": "stdout",
     "output_type": "stream",
     "text": [
      "┌──────────────────┬───────────────────────┐\n",
      "│ Current date     │      2025-12-31 : Wed │\n",
      "│ Net deposits     │                 10000 │\n",
      "│ Interest paid    │ 874.37355277796035981 │\n",
      "│ Interest accrued │ 2.4021251449943965929 │\n",
      "│ Total            │ 10876.775677922954756 │\n",
      "└──────────────────┴───────────────────────┘\n"
     ]
    }
   ],
   "source": [
    "state_updater = StateUpdater(rate, DAILY_UPDATER_PROVIDER)\n",
    "final_state = reduce(lambda state, day: state_updater.update(day, state), DAYS, INITIAL_STATE)\n",
    "print(final_state)"
   ]
  },
  {
   "cell_type": "code",
   "execution_count": 13,
   "id": "96a21b564081f75d",
   "metadata": {
    "ExecuteTime": {
     "end_time": "2025-08-05T08:47:56.594357Z",
     "start_time": "2025-08-05T08:47:56.468214Z"
    },
    "execution": {
     "iopub.execute_input": "2025-08-05T11:02:02.571770Z",
     "iopub.status.busy": "2025-08-05T11:02:02.571672Z",
     "iopub.status.idle": "2025-08-05T11:02:02.694719Z",
     "shell.execute_reply": "2025-08-05T11:02:02.694515Z"
    },
    "papermill": {
     "duration": 0.125987,
     "end_time": "2025-08-05T11:02:02.695358",
     "exception": false,
     "start_time": "2025-08-05T11:02:02.569371",
     "status": "completed"
    },
    "tags": []
   },
   "outputs": [
    {
     "name": "stdout",
     "output_type": "stream",
     "text": [
      "┌─────────────────────────┬─────────────────────────────────┬──────────────┬──────────┬─────────────┐\n",
      "│ Band                    │                            Rate │      Balance │  Accrued │ Calculation │\n",
      "├─────────────────────────┼─────────────────────────────────┼──────────────┼──────────┼─────────────┤\n",
      "│ up to 1000.00           │ PeriodicRate: 4 periods: 10.00% │  1000.000000 │ 0.000000 │    0.264260 │\n",
      "│ from 1000.00 to 2000.00 │ PeriodicRate: 4 periods: 20.00% │  1000.000000 │ 0.000000 │    0.511070 │\n",
      "│ from 2000.00 to 3000.00 │ PeriodicRate: 4 periods: 30.00% │  1000.000000 │ 0.000000 │    0.742904 │\n",
      "│ from 3000.00 to 4000.00 │ PeriodicRate: 4 periods: 40.00% │  1000.000000 │ 0.000000 │    0.961724 │\n",
      "│ above 4000.00           │  PeriodicRate: 4 periods: 0.00% │  6000.000000 │ 0.000000 │    0.000000 │\n",
      "├─────────────────────────┼─────────────────────────────────┼──────────────┼──────────┼─────────────┤\n",
      "│ 2025-01-01 : Wed        │                          Totals │ 10000.000000 │ 0.000000 │    2.479957 │\n",
      "└─────────────────────────┴─────────────────────────────────┴──────────────┴──────────┴─────────────┘"
     ]
    },
    {
     "name": "stdout",
     "output_type": "stream",
     "text": [
      "\n"
     ]
    }
   ],
   "source": [
    "rate = create_banded_rate({k: PeriodicRate(v, 4) for k, v in BANDS.items()})\n",
    "calculation = rate.calculate(current_date=START_DATE,\n",
    "                             balance=STARTING_BALANCE,\n",
    "                             accrued=Decimal('0.0'))\n",
    "print(calculation)"
   ]
  },
  {
   "cell_type": "code",
   "execution_count": 14,
   "id": "aac7c58dffc93c2c",
   "metadata": {
    "ExecuteTime": {
     "end_time": "2025-08-05T08:47:56.616393Z",
     "start_time": "2025-08-05T08:47:56.604909Z"
    },
    "execution": {
     "iopub.execute_input": "2025-08-05T11:02:02.699934Z",
     "iopub.status.busy": "2025-08-05T11:02:02.699835Z",
     "iopub.status.idle": "2025-08-05T11:02:02.710379Z",
     "shell.execute_reply": "2025-08-05T11:02:02.710184Z"
    },
    "papermill": {
     "duration": 0.013507,
     "end_time": "2025-08-05T11:02:02.711017",
     "exception": false,
     "start_time": "2025-08-05T11:02:02.697510",
     "status": "completed"
    },
    "tags": []
   },
   "outputs": [
    {
     "name": "stdout",
     "output_type": "stream",
     "text": [
      "┌──────────────────┬───────────────────────┐\n",
      "│ Current date     │      2025-12-31 : Wed │\n",
      "│ Net deposits     │                 10000 │\n",
      "│ Interest paid    │ 677.02835235782307248 │\n",
      "│ Interest accrued │ 228.15607478725173139 │\n",
      "│ Total            │ 10905.184427145074804 │\n",
      "└──────────────────┴───────────────────────┘\n"
     ]
    }
   ],
   "source": [
    "state_updater = StateUpdater(rate, QUARTERLY_UPDATER_PROVIDER)\n",
    "final_state = reduce(lambda state, day: state_updater.update(day, state), DAYS, INITIAL_STATE)\n",
    "print(final_state)"
   ]
  }
 ],
 "metadata": {
  "kernelspec": {
   "display_name": "Python 3",
   "language": "python",
   "name": "python3"
  },
  "language_info": {
   "codemirror_mode": {
    "name": "ipython",
    "version": 3
   },
   "file_extension": ".py",
   "mimetype": "text/x-python",
   "name": "python",
   "nbconvert_exporter": "python",
   "pygments_lexer": "ipython3",
   "version": "3.12.11"
  },
  "papermill": {
   "default_parameters": {},
   "duration": 1.62269,
   "end_time": "2025-08-05T11:02:02.827947",
   "environment_variables": {},
   "exception": null,
   "input_path": "./lib/rates/README.ipynb",
   "output_path": "./lib/rates/README.ipynb",
   "parameters": {},
   "start_time": "2025-08-05T11:02:01.205257",
   "version": "2.6.0"
  }
 },
 "nbformat": 4,
 "nbformat_minor": 5
}