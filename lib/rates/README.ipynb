{
 "cells": [
  {
   "cell_type": "markdown",
   "id": "7067663d0aefaf78",
   "metadata": {
    "papermill": {
     "duration": 0.0068,
     "end_time": "2025-08-03T15:00:43.289562",
     "exception": false,
     "start_time": "2025-08-03T15:00:43.282762",
     "status": "completed"
    },
    "tags": []
   },
   "source": [
    "# Rates\n",
    "\n",
    "A collection of daily rate calculation algorithms."
   ]
  },
  {
   "cell_type": "code",
   "execution_count": 1,
   "id": "initial_id",
   "metadata": {
    "ExecuteTime": {
     "end_time": "2025-08-03T14:56:39.448779Z",
     "start_time": "2025-08-03T14:56:39.431712Z"
    },
    "collapsed": true,
    "execution": {
     "iopub.execute_input": "2025-08-03T15:00:43.294838Z",
     "iopub.status.busy": "2025-08-03T15:00:43.294599Z",
     "iopub.status.idle": "2025-08-03T15:00:43.322648Z",
     "shell.execute_reply": "2025-08-03T15:00:43.322342Z"
    },
    "papermill": {
     "duration": 0.03148,
     "end_time": "2025-08-03T15:00:43.323576",
     "exception": false,
     "start_time": "2025-08-03T15:00:43.292096",
     "status": "completed"
    },
    "tags": []
   },
   "outputs": [
    {
     "name": "stdout",
     "output_type": "stream",
     "text": [
      "Start Date: 2025-01-01 : Wed\n",
      "Starting balance: 10000.00\n",
      "\n",
      "Decimal context: Context(prec=1000, rounding=ROUND_HALF_EVEN, Emin=-999999, Emax=999999, capitals=1, clamp=0, flags=[], traps=[InvalidOperation, DivisionByZero, FloatOperation, Overflow])\n"
     ]
    }
   ],
   "source": [
    "from calendar import JANUARY, APRIL, JULY, OCTOBER\n",
    "from dataclasses import dataclass, replace\n",
    "from datetime import date, timedelta\n",
    "from decimal import Decimal, getcontext, FloatOperation\n",
    "from functools import reduce\n",
    "from typing import Callable\n",
    "\n",
    "from lib.providers import ScheduledProvider, AnyProvider, AlwaysProvider, Provider\n",
    "from lib.rates import \\\n",
    "    Rate, \\\n",
    "    ContinuousRate, \\\n",
    "    PeriodicRate, \\\n",
    "    create_banded_rate\n",
    "from lib.schedules import AnySchedule, YearlySchedule\n",
    "from lib.utils.date import days_in_year\n",
    "from lib.utils.print import format_day\n",
    "\n",
    "decimal_context = getcontext()\n",
    "decimal_context.traps[FloatOperation] = True\n",
    "decimal_context.prec = 1000\n",
    "\n",
    "START_DATE = date(date.today().year, 1, 1)\n",
    "DAYS = [START_DATE + timedelta(days=day) for day in range(days_in_year(START_DATE.year))]\n",
    "RATE = Decimal('0.015')\n",
    "BANDS = {Decimal('0.0'): Decimal('0.10'),\n",
    "         Decimal('1000.0'): Decimal('0.20'),\n",
    "         Decimal('2000.0'): Decimal('0.30'),\n",
    "         Decimal('3000.0'): Decimal('0.40'),\n",
    "         Decimal('4000.0'): Decimal('0.0')}\n",
    "STARTING_BALANCE = Decimal('10_000')\n",
    "\n",
    "\n",
    "@dataclass(frozen=True)\n",
    "class State:\n",
    "    balance: Decimal\n",
    "    accrued: Decimal\n",
    "\n",
    "    def __str__(self) -> str:\n",
    "        return f\"\"\"Balance: {self.balance:.20}\n",
    "Accrued: {self.accrued:.20}\n",
    "Total: {self.balance + self.accrued:.20}\"\"\"\n",
    "\n",
    "\n",
    "INITIAL_STATE = State(balance=STARTING_BALANCE,\n",
    "                      accrued=Decimal('0'))\n",
    "\n",
    "\n",
    "def payout(state: State) -> State:\n",
    "    return State(balance=state.balance + state.accrued,\n",
    "                 accrued=Decimal('0'))\n",
    "\n",
    "\n",
    "def accrue(state: State) -> State:\n",
    "    return replace(state)\n",
    "\n",
    "\n",
    "class StateUpdater(object):\n",
    "    calculator: Rate\n",
    "    updater_provider: Provider[Callable[[State], State]]\n",
    "\n",
    "    def __init__(self,\n",
    "                 calculator: Rate,\n",
    "                 updater_provider: Provider[Callable[[State], State]]):\n",
    "        self.calculator = calculator\n",
    "        self.updater_provider = updater_provider\n",
    "\n",
    "    def update(self, current_date: date, state: State) -> State:\n",
    "        # apply the payment schedule first\n",
    "        state = self.updater_provider.get(current_date)(state)\n",
    "        # then apply the rate and accrue\n",
    "        return replace(state,\n",
    "                       accrued=state.accrued + self.calculator.calculate(current_date,\n",
    "                                                                         state.balance,\n",
    "                                                                         state.accrued))\n",
    "\n",
    "\n",
    "ANNUAL_PAYMENT_SCHEDULE = YearlySchedule(JANUARY, 1)\n",
    "ANNUAL_UPDATER_PROVIDER = AnyProvider([ScheduledProvider(payout, ANNUAL_PAYMENT_SCHEDULE),\n",
    "                                       AlwaysProvider(accrue)])\n",
    "\n",
    "QUARTERLY_PAYMENT_SCHEDULE = AnySchedule({'First quarter': YearlySchedule(APRIL, 1),\n",
    "                                          'Second quarter': YearlySchedule(JULY, 1),\n",
    "                                          'Third quarter': YearlySchedule(OCTOBER, 1),\n",
    "                                          'Fourth quarter': YearlySchedule(JANUARY, 1)})\n",
    "QUARTERLY_UPDATER_PROVIDER = AnyProvider([ScheduledProvider(payout, QUARTERLY_PAYMENT_SCHEDULE),\n",
    "                                          AlwaysProvider(accrue)])\n",
    "\n",
    "DAILY_UPDATER_PROVIDER = AlwaysProvider(payout)\n",
    "\n",
    "print(f'Start Date: {format_day(START_DATE)}')\n",
    "print(f'Starting balance: {STARTING_BALANCE:.2f}')\n",
    "print()\n",
    "print(f'Decimal context: {decimal_context}')"
   ]
  },
  {
   "cell_type": "markdown",
   "id": "53b9895f7157ddb0",
   "metadata": {
    "papermill": {
     "duration": 0.00159,
     "end_time": "2025-08-03T15:00:43.326752",
     "exception": false,
     "start_time": "2025-08-03T15:00:43.325162",
     "status": "completed"
    },
    "tags": []
   },
   "source": [
    "## ContinuousRate\n",
    "\n",
    "This calculator applies a continuously compounding algorithm, which most accurately reflects a\n",
    "continuous return given a desired annual rate."
   ]
  },
  {
   "cell_type": "code",
   "execution_count": 2,
   "id": "957e6d3eafd4f71a",
   "metadata": {
    "ExecuteTime": {
     "end_time": "2025-08-03T14:56:39.477662Z",
     "start_time": "2025-08-03T14:56:39.459468Z"
    },
    "execution": {
     "iopub.execute_input": "2025-08-03T15:00:43.330693Z",
     "iopub.status.busy": "2025-08-03T15:00:43.330551Z",
     "iopub.status.idle": "2025-08-03T15:00:43.366655Z",
     "shell.execute_reply": "2025-08-03T15:00:43.366417Z"
    },
    "papermill": {
     "duration": 0.038824,
     "end_time": "2025-08-03T15:00:43.367370",
     "exception": false,
     "start_time": "2025-08-03T15:00:43.328546",
     "status": "completed"
    },
    "tags": []
   },
   "outputs": [
    {
     "name": "stdout",
     "output_type": "stream",
     "text": [
      "ContinuousRate: 1.50%\n",
      "Balance: 10000\n",
      "Accrued: 150.00000000000000000\n",
      "Total: 10150.000000000000000\n"
     ]
    }
   ],
   "source": [
    "rate = ContinuousRate(RATE)\n",
    "print(rate)\n",
    "state_updater = StateUpdater(rate, ANNUAL_UPDATER_PROVIDER)\n",
    "state = reduce(lambda state, day: state_updater.update(day, state), DAYS, INITIAL_STATE)\n",
    "print(state)"
   ]
  },
  {
   "cell_type": "code",
   "execution_count": 3,
   "id": "df995429b8f0dbc6",
   "metadata": {
    "ExecuteTime": {
     "end_time": "2025-08-03T14:56:39.601550Z",
     "start_time": "2025-08-03T14:56:39.583450Z"
    },
    "execution": {
     "iopub.execute_input": "2025-08-03T15:00:43.371437Z",
     "iopub.status.busy": "2025-08-03T15:00:43.371293Z",
     "iopub.status.idle": "2025-08-03T15:00:43.386247Z",
     "shell.execute_reply": "2025-08-03T15:00:43.386043Z"
    },
    "papermill": {
     "duration": 0.017577,
     "end_time": "2025-08-03T15:00:43.386858",
     "exception": false,
     "start_time": "2025-08-03T15:00:43.369281",
     "status": "completed"
    },
    "tags": []
   },
   "outputs": [
    {
     "name": "stdout",
     "output_type": "stream",
     "text": [
      "ContinuousRate: 1.50%\n",
      "Balance: 10111.981008877791361\n",
      "Accrued: 38.018991122208639007\n",
      "Total: 10150.000000000000000\n"
     ]
    }
   ],
   "source": [
    "rate = ContinuousRate(RATE)\n",
    "print(rate)\n",
    "state_updater = StateUpdater(rate, QUARTERLY_UPDATER_PROVIDER)\n",
    "state = reduce(lambda state, day: state_updater.update(day, state), DAYS, INITIAL_STATE)\n",
    "print(state)"
   ]
  },
  {
   "cell_type": "code",
   "execution_count": 4,
   "id": "a960253e994fbcb0",
   "metadata": {
    "ExecuteTime": {
     "end_time": "2025-08-03T14:56:39.653038Z",
     "start_time": "2025-08-03T14:56:39.634976Z"
    },
    "execution": {
     "iopub.execute_input": "2025-08-03T15:00:43.390655Z",
     "iopub.status.busy": "2025-08-03T15:00:43.390549Z",
     "iopub.status.idle": "2025-08-03T15:00:43.404555Z",
     "shell.execute_reply": "2025-08-03T15:00:43.404314Z"
    },
    "papermill": {
     "duration": 0.016621,
     "end_time": "2025-08-03T15:00:43.405191",
     "exception": false,
     "start_time": "2025-08-03T15:00:43.388570",
     "status": "completed"
    },
    "tags": []
   },
   "outputs": [
    {
     "name": "stdout",
     "output_type": "stream",
     "text": [
      "ContinuousRate: 1.50%\n",
      "Balance: 10149.585982644606491\n",
      "Accrued: 0.41401735539350891438\n",
      "Total: 10150.000000000000000\n"
     ]
    }
   ],
   "source": [
    "rate = ContinuousRate(RATE)\n",
    "print(rate)\n",
    "state_updater = StateUpdater(rate, DAILY_UPDATER_PROVIDER)\n",
    "state = reduce(lambda state, day: state_updater.update(day, state), DAYS, INITIAL_STATE)\n",
    "print(state)"
   ]
  },
  {
   "cell_type": "markdown",
   "id": "833de3ea900c9057",
   "metadata": {
    "papermill": {
     "duration": 0.001973,
     "end_time": "2025-08-03T15:00:43.408944",
     "exception": false,
     "start_time": "2025-08-03T15:00:43.406971",
     "status": "completed"
    },
    "tags": []
   },
   "source": [
    "## PeriodicRate\n",
    "\n",
    "This calculator applies a periodic compounding algorithm by applying the same rate to the\n",
    "balance for each day without taking into account the unrealized accrued amount. For a constant\n",
    "balance, this should provide the same return as the `ContinuousRate`. However,\n",
    "for a falling balance it will return less and for a rising balance it will return more."
   ]
  },
  {
   "cell_type": "code",
   "execution_count": 5,
   "id": "ebde40f77b990bf8",
   "metadata": {
    "ExecuteTime": {
     "end_time": "2025-08-03T14:56:39.676877Z",
     "start_time": "2025-08-03T14:56:39.670541Z"
    },
    "execution": {
     "iopub.execute_input": "2025-08-03T15:00:43.413518Z",
     "iopub.status.busy": "2025-08-03T15:00:43.413369Z",
     "iopub.status.idle": "2025-08-03T15:00:43.416546Z",
     "shell.execute_reply": "2025-08-03T15:00:43.416275Z"
    },
    "papermill": {
     "duration": 0.006176,
     "end_time": "2025-08-03T15:00:43.417160",
     "exception": false,
     "start_time": "2025-08-03T15:00:43.410984",
     "status": "completed"
    },
    "tags": []
   },
   "outputs": [
    {
     "name": "stdout",
     "output_type": "stream",
     "text": [
      "PeriodicRate: 1 periods: 1.50%\n",
      "Balance: 10000\n",
      "Accrued: 150.00000000000000000\n",
      "Total: 10150.000000000000000\n"
     ]
    }
   ],
   "source": [
    "rate = PeriodicRate(RATE, 1)\n",
    "print(rate)\n",
    "state_updater = StateUpdater(rate, ANNUAL_UPDATER_PROVIDER)\n",
    "state = reduce(lambda state, day: state_updater.update(day, state), DAYS, INITIAL_STATE)\n",
    "print(state)"
   ]
  },
  {
   "cell_type": "code",
   "execution_count": 6,
   "id": "272e3ae294f74519",
   "metadata": {
    "ExecuteTime": {
     "end_time": "2025-08-03T14:56:39.714867Z",
     "start_time": "2025-08-03T14:56:39.691542Z"
    },
    "execution": {
     "iopub.execute_input": "2025-08-03T15:00:43.420387Z",
     "iopub.status.busy": "2025-08-03T15:00:43.420293Z",
     "iopub.status.idle": "2025-08-03T15:00:43.457218Z",
     "shell.execute_reply": "2025-08-03T15:00:43.456969Z"
    },
    "papermill": {
     "duration": 0.03919,
     "end_time": "2025-08-03T15:00:43.457924",
     "exception": false,
     "start_time": "2025-08-03T15:00:43.418734",
     "status": "completed"
    },
    "tags": []
   },
   "outputs": [
    {
     "name": "stdout",
     "output_type": "stream",
     "text": [
      "PeriodicRate: 4 periods: 1.50%\n",
      "Balance: 10111.981565565267852\n",
      "Accrued: 38.018411299158197925\n",
      "Total: 10149.999976864426049\n"
     ]
    }
   ],
   "source": [
    "rate = PeriodicRate(RATE, 4)\n",
    "print(rate)\n",
    "state_updater = StateUpdater(rate, QUARTERLY_UPDATER_PROVIDER)\n",
    "state = reduce(lambda state, day: state_updater.update(day, state), DAYS, INITIAL_STATE)\n",
    "print(state)"
   ]
  },
  {
   "cell_type": "markdown",
   "id": "d6f6b16430b9959e",
   "metadata": {
    "papermill": {
     "duration": 0.001456,
     "end_time": "2025-08-03T15:00:43.460845",
     "exception": false,
     "start_time": "2025-08-03T15:00:43.459389",
     "status": "completed"
    },
    "tags": []
   },
   "source": [
    "> **_NB._** We can see an error here as the total is slightly less than the expected 10,150.\n",
    "> This is due to an inadequacy in the algorithm. The rate calculation assumes that\n",
    "> quarters are of equal length. This is not the case and can't really be the case, as years\n",
    "> cannot be divided into a four equal number of days. We are actually using 3 calendar months\n",
    "> per quarter.\n",
    ">\n",
    "> So why is the result slightly less? This is due to compounding as payments from earlier quarters\n",
    "> compound more than those from later quarters. There are fewer days in the first\n",
    "> two quarters than the second two, but the daily rate is the same. This means that fewer days\n",
    "> of payments are compounded from the first half of the year than if the periods were equal\n",
    "> length. The fact that those days compound for more time, as the payment is earlier, does not\n",
    "> compensate for the missing days."
   ]
  },
  {
   "cell_type": "code",
   "execution_count": 7,
   "id": "19ec63b4d8bcea96",
   "metadata": {
    "ExecuteTime": {
     "end_time": "2025-08-03T14:56:39.746192Z",
     "start_time": "2025-08-03T14:56:39.741893Z"
    },
    "execution": {
     "iopub.execute_input": "2025-08-03T15:00:43.463922Z",
     "iopub.status.busy": "2025-08-03T15:00:43.463815Z",
     "iopub.status.idle": "2025-08-03T15:00:43.465688Z",
     "shell.execute_reply": "2025-08-03T15:00:43.465485Z"
    },
    "papermill": {
     "duration": 0.004245,
     "end_time": "2025-08-03T15:00:43.466293",
     "exception": false,
     "start_time": "2025-08-03T15:00:43.462048",
     "status": "completed"
    },
    "tags": []
   },
   "outputs": [
    {
     "name": "stdout",
     "output_type": "stream",
     "text": [
      "Days in first half of the year 181\n",
      "Days in second half of the year 184\n"
     ]
    }
   ],
   "source": [
    "print('Days in first half of the year', (date(2025, 7, 1) - date(2025, 1, 1)).days)\n",
    "print('Days in second half of the year', (date(2026, 1, 1) - date(2025, 7, 1)).days)\n"
   ]
  },
  {
   "cell_type": "markdown",
   "id": "7197dbbbaf41699f",
   "metadata": {
    "papermill": {
     "duration": 0.001568,
     "end_time": "2025-08-03T15:00:43.469252",
     "exception": false,
     "start_time": "2025-08-03T15:00:43.467684",
     "status": "completed"
    },
    "tags": []
   },
   "source": [
    "> **_NBB._** It may be possible to correct this algorithm, but any solution is likely to throw\n",
    "> up more problems. For instance what should we do if a period crosses between a regular year\n",
    "> and a leap year?\n",
    ">\n",
    "> For this reason it is probably unwise to use this algorithm and instead just\n",
    "> use the `ContinuousRate` in simulations as the differences are likely to be\n",
    "> insignificant.\n",
    ">\n",
    "> So why is it here? Well, when investigating how banks calculate interest. It was found that\n",
    "> this is how they say they do it. For instance: https://www.abnamro.nl/en/personal/savings/interest-rates/when-and-how-often-do-you-receive-interest.html\n",
    ">\n",
    "> However, this did not give any indication of how they compensate for unequal quarters or\n",
    "> leap years. As such, the implementation here is probably wrong anyway, so just don't use it!"
   ]
  },
  {
   "cell_type": "markdown",
   "id": "638482e7cbc9dbd",
   "metadata": {
    "papermill": {
     "duration": 0.001198,
     "end_time": "2025-08-03T15:00:43.471692",
     "exception": false,
     "start_time": "2025-08-03T15:00:43.470494",
     "status": "completed"
    },
    "tags": []
   },
   "source": [
    "## BandedRate\n",
    "\n",
    "This rate combines a dictionary of rates that will be applied at different balance amounts."
   ]
  },
  {
   "cell_type": "code",
   "execution_count": 8,
   "id": "89aa8d339bee5fdc",
   "metadata": {
    "ExecuteTime": {
     "end_time": "2025-08-03T15:00:13.447766Z",
     "start_time": "2025-08-03T15:00:13.416915Z"
    },
    "execution": {
     "iopub.execute_input": "2025-08-03T15:00:43.474809Z",
     "iopub.status.busy": "2025-08-03T15:00:43.474706Z",
     "iopub.status.idle": "2025-08-03T15:00:43.587317Z",
     "shell.execute_reply": "2025-08-03T15:00:43.587092Z"
    },
    "papermill": {
     "duration": 0.114784,
     "end_time": "2025-08-03T15:00:43.587969",
     "exception": false,
     "start_time": "2025-08-03T15:00:43.473185",
     "status": "completed"
    },
    "tags": []
   },
   "outputs": [
    {
     "name": "stdout",
     "output_type": "stream",
     "text": [
      "┌─────────────────────────┬────────────────────────┐\n",
      "│          Range          │          Rate          │\n",
      "├─────────────────────────┼────────────────────────┤\n",
      "│      up to 1000.00      │ ContinuousRate: 10.00% │\n",
      "│ from 1000.00 to 2000.00 │ ContinuousRate: 20.00% │\n",
      "│ from 2000.00 to 3000.00 │ ContinuousRate: 30.00% │\n",
      "│ from 3000.00 to 4000.00 │ ContinuousRate: 40.00% │\n",
      "│      above 4000.00      │ ContinuousRate: 0.00%  │\n",
      "└─────────────────────────┴────────────────────────┘\n"
     ]
    },
    {
     "name": "stdout",
     "output_type": "stream",
     "text": [
      "Balance: 10874.373552777960360\n",
      "Accrued: 2.4021251449943965929\n",
      "Total: 10876.775677922954756\n"
     ]
    }
   ],
   "source": [
    "rate = create_banded_rate({k: ContinuousRate(v) for k, v in BANDS.items()})\n",
    "print(rate)\n",
    "state_updater = StateUpdater(rate, DAILY_UPDATER_PROVIDER)\n",
    "state = reduce(lambda state, day: state_updater.update(day, state), DAYS, INITIAL_STATE)\n",
    "print(state)"
   ]
  },
  {
   "cell_type": "code",
   "execution_count": 9,
   "id": "aac7c58dffc93c2c",
   "metadata": {
    "ExecuteTime": {
     "end_time": "2025-08-03T14:59:25.670610Z",
     "start_time": "2025-08-03T14:59:25.653404Z"
    },
    "execution": {
     "iopub.execute_input": "2025-08-03T15:00:43.591667Z",
     "iopub.status.busy": "2025-08-03T15:00:43.591476Z",
     "iopub.status.idle": "2025-08-03T15:00:43.721199Z",
     "shell.execute_reply": "2025-08-03T15:00:43.720963Z"
    },
    "papermill": {
     "duration": 0.132345,
     "end_time": "2025-08-03T15:00:43.721872",
     "exception": false,
     "start_time": "2025-08-03T15:00:43.589527",
     "status": "completed"
    },
    "tags": []
   },
   "outputs": [
    {
     "name": "stdout",
     "output_type": "stream",
     "text": [
      "┌─────────────────────────┬─────────────────────────────────┐\n",
      "│          Range          │               Rate              │\n",
      "├─────────────────────────┼─────────────────────────────────┤\n",
      "│      up to 1000.00      │ PeriodicRate: 4 periods: 10.00% │\n",
      "│ from 1000.00 to 2000.00 │ PeriodicRate: 4 periods: 20.00% │\n",
      "│ from 2000.00 to 3000.00 │ PeriodicRate: 4 periods: 30.00% │\n",
      "│ from 3000.00 to 4000.00 │ PeriodicRate: 4 periods: 40.00% │\n",
      "│      above 4000.00      │  PeriodicRate: 4 periods: 0.00% │\n",
      "└─────────────────────────┴─────────────────────────────────┘\n",
      "Balance: 10677.028352357823072\n",
      "Accrued: 228.15607478725173139\n",
      "Total: 10905.184427145074804\n"
     ]
    }
   ],
   "source": [
    "rate = create_banded_rate({k: PeriodicRate(v, 4) for k, v in BANDS.items()})\n",
    "print(rate)\n",
    "state_updater = StateUpdater(rate, QUARTERLY_UPDATER_PROVIDER)\n",
    "state = reduce(lambda state, day: state_updater.update(day, state), DAYS, INITIAL_STATE)\n",
    "print(state)"
   ]
  }
 ],
 "metadata": {
  "kernelspec": {
   "display_name": "Python 3",
   "language": "python",
   "name": "python3"
  },
  "language_info": {
   "codemirror_mode": {
    "name": "ipython",
    "version": 3
   },
   "file_extension": ".py",
   "mimetype": "text/x-python",
   "name": "python",
   "nbconvert_exporter": "python",
   "pygments_lexer": "ipython3",
   "version": "3.12.11"
  },
  "papermill": {
   "default_parameters": {},
   "duration": 1.546363,
   "end_time": "2025-08-03T15:00:43.838996",
   "environment_variables": {},
   "exception": null,
   "input_path": "./lib/rates/README.ipynb",
   "output_path": "./lib/rates/README.ipynb",
   "parameters": {},
   "start_time": "2025-08-03T15:00:42.292633",
   "version": "2.6.0"
  }
 },
 "nbformat": 4,
 "nbformat_minor": 5
}