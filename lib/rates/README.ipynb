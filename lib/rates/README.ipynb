{
 "cells": [
  {
   "cell_type": "markdown",
   "id": "7067663d0aefaf78",
   "metadata": {
    "papermill": {
     "duration": 0.008358,
     "end_time": "2025-08-05T15:15:32.198176",
     "exception": false,
     "start_time": "2025-08-05T15:15:32.189818",
     "status": "completed"
    },
    "tags": []
   },
   "source": [
    "# Rates\n",
    "\n",
    "A collection of daily rate calculation algorithms."
   ]
  },
  {
   "cell_type": "code",
   "execution_count": 1,
   "id": "cadbc5098d249568",
   "metadata": {
    "ExecuteTime": {
     "end_time": "2025-08-05T14:19:33.164970Z",
     "start_time": "2025-08-05T14:19:32.983477Z"
    },
    "execution": {
     "iopub.execute_input": "2025-08-05T15:15:32.206863Z",
     "iopub.status.busy": "2025-08-05T15:15:32.206599Z",
     "iopub.status.idle": "2025-08-05T15:15:32.340157Z",
     "shell.execute_reply": "2025-08-05T15:15:32.339256Z"
    },
    "papermill": {
     "duration": 0.140401,
     "end_time": "2025-08-05T15:15:32.342546",
     "exception": false,
     "start_time": "2025-08-05T15:15:32.202145",
     "status": "completed"
    },
    "tags": []
   },
   "outputs": [
    {
     "name": "stdout",
     "output_type": "stream",
     "text": [
      "Decimal context: Context(prec=1000, rounding=ROUND_HALF_EVEN, Emin=-999999, Emax=999999, capitals=1, clamp=0, flags=[], traps=[InvalidOperation, DivisionByZero, FloatOperation, Overflow])\n",
      "┌──────────────────┬──────────────────┐\n",
      "│ Current date     │ 2024-12-31 : Tue │\n",
      "│ Net deposits     │            10000 │\n",
      "│ Interest paid    │              0.0 │\n",
      "│ Interest accrued │              0.0 │\n",
      "│ Total            │          10000.0 │\n",
      "└──────────────────┴──────────────────┘\n"
     ]
    }
   ],
   "source": [
    "from datetime import date, timedelta\n",
    "from decimal import Decimal, getcontext, FloatOperation\n",
    "from functools import reduce\n",
    "\n",
    "from lib.rates import \\\n",
    "    ContinuousRate, \\\n",
    "    PeriodicRate, \\\n",
    "    create_banded_rate\n",
    "from lib.utils.date import days_in_year\n",
    "from lib.utils.rates.state import \\\n",
    "    State, \\\n",
    "    StateUpdater, \\\n",
    "    ANNUAL_UPDATER_PROVIDER, \\\n",
    "    QUARTERLY_UPDATER_PROVIDER, \\\n",
    "    DAILY_UPDATER_PROVIDER\n",
    "\n",
    "decimal_context = getcontext()\n",
    "decimal_context.traps[FloatOperation] = True\n",
    "decimal_context.prec = 1000\n",
    "\n",
    "START_DATE = date(date.today().year, 1, 1)\n",
    "DAYS = [START_DATE + timedelta(days=day) for day in range(days_in_year(START_DATE.year))]\n",
    "RATE = Decimal('0.015')\n",
    "BANDS = {Decimal('0.0'): Decimal('0.10'),\n",
    "         Decimal('1000.0'): Decimal('0.20'),\n",
    "         Decimal('2000.0'): Decimal('0.30'),\n",
    "         Decimal('3000.0'): Decimal('0.40'),\n",
    "         Decimal('4000.0'): Decimal('0.0')}\n",
    "STARTING_BALANCE = Decimal('10_000')\n",
    "\n",
    "INITIAL_STATE = State(current_date=START_DATE - timedelta(days=1),\n",
    "                      net_deposits=STARTING_BALANCE,\n",
    "                      interest_paid=Decimal('0.0'),\n",
    "                      interest_accrued=Decimal('0.0'))\n",
    "\n",
    "print(f'Decimal context: {decimal_context}')\n",
    "print(INITIAL_STATE)"
   ]
  },
  {
   "cell_type": "markdown",
   "id": "6ba0fbf8aefde640",
   "metadata": {
    "papermill": {
     "duration": 0.008495,
     "end_time": "2025-08-05T15:15:32.357319",
     "exception": false,
     "start_time": "2025-08-05T15:15:32.348824",
     "status": "completed"
    },
    "tags": []
   },
   "source": [
    "## ContinuousRate\n",
    "\n",
    "This calculator applies a continuously compounding algorithm, which most accurately reflects a\n",
    "continuous return given a desired annual rate."
   ]
  },
  {
   "cell_type": "markdown",
   "id": "53b9895f7157ddb0",
   "metadata": {
    "papermill": {
     "duration": 0.001748,
     "end_time": "2025-08-05T15:15:32.361220",
     "exception": false,
     "start_time": "2025-08-05T15:15:32.359472",
     "status": "completed"
    },
    "tags": []
   },
   "source": [
    "Each call to calculate will return the daily amount associated with the given annual rate."
   ]
  },
  {
   "cell_type": "code",
   "execution_count": 2,
   "id": "378306241b59fd56",
   "metadata": {
    "ExecuteTime": {
     "end_time": "2025-08-05T14:19:33.336557Z",
     "start_time": "2025-08-05T14:19:33.304902Z"
    },
    "execution": {
     "iopub.execute_input": "2025-08-05T15:15:32.373137Z",
     "iopub.status.busy": "2025-08-05T15:15:32.372760Z",
     "iopub.status.idle": "2025-08-05T15:15:32.404232Z",
     "shell.execute_reply": "2025-08-05T15:15:32.403412Z"
    },
    "papermill": {
     "duration": 0.039884,
     "end_time": "2025-08-05T15:15:32.406782",
     "exception": false,
     "start_time": "2025-08-05T15:15:32.366898",
     "status": "completed"
    },
    "tags": []
   },
   "outputs": [
    {
     "name": "stdout",
     "output_type": "stream",
     "text": [
      "┌──────────────┬───────────────────────┐\n",
      "│ Current date │      2025-01-01 : Wed │\n",
      "│ Rate         │ ContinuousRate: 1.50% │\n",
      "│ Daily rate   │              0.004079 │\n",
      "│ Balance      │          10000.000000 │\n",
      "│ Accrued      │              0.000000 │\n",
      "│ Calculation  │              0.407916 │\n",
      "└──────────────┴───────────────────────┘\n"
     ]
    }
   ],
   "source": [
    "rate = ContinuousRate(RATE)\n",
    "calculation = rate.calculate(current_date=START_DATE,\n",
    "                             balance=STARTING_BALANCE,\n",
    "                             accrued=Decimal('0.0'))\n",
    "print(calculation)"
   ]
  },
  {
   "cell_type": "markdown",
   "id": "6ad2b1a98ad5e3d1",
   "metadata": {
    "papermill": {
     "duration": 0.005346,
     "end_time": "2025-08-05T15:15:32.417588",
     "exception": false,
     "start_time": "2025-08-05T15:15:32.412242",
     "status": "completed"
    },
    "tags": []
   },
   "source": [
    "So collecting the daily amounts over a full year, we can see the compounded result."
   ]
  },
  {
   "cell_type": "code",
   "execution_count": 3,
   "id": "957e6d3eafd4f71a",
   "metadata": {
    "ExecuteTime": {
     "end_time": "2025-08-05T14:19:33.368924Z",
     "start_time": "2025-08-05T14:19:33.347020Z"
    },
    "execution": {
     "iopub.execute_input": "2025-08-05T15:15:32.430860Z",
     "iopub.status.busy": "2025-08-05T15:15:32.430517Z",
     "iopub.status.idle": "2025-08-05T15:15:32.458083Z",
     "shell.execute_reply": "2025-08-05T15:15:32.457500Z"
    },
    "papermill": {
     "duration": 0.035512,
     "end_time": "2025-08-05T15:15:32.460474",
     "exception": false,
     "start_time": "2025-08-05T15:15:32.424962",
     "status": "completed"
    },
    "tags": []
   },
   "outputs": [
    {
     "name": "stdout",
     "output_type": "stream",
     "text": [
      "┌──────────────────┬───────────────────────┐\n",
      "│ Current date     │      2025-12-31 : Wed │\n",
      "│ Net deposits     │                 10000 │\n",
      "│ Interest paid    │                   0.0 │\n",
      "│ Interest accrued │ 150.00000000000000000 │\n",
      "│ Total            │ 10150.000000000000000 │\n",
      "└──────────────────┴───────────────────────┘\n"
     ]
    }
   ],
   "source": [
    "state_updater = StateUpdater(rate, ANNUAL_UPDATER_PROVIDER)\n",
    "final_state = reduce(lambda state, day: state_updater.update(day, state), DAYS, INITIAL_STATE)\n",
    "print(final_state)"
   ]
  },
  {
   "cell_type": "code",
   "execution_count": 4,
   "id": "df995429b8f0dbc6",
   "metadata": {
    "ExecuteTime": {
     "end_time": "2025-08-05T14:19:33.434307Z",
     "start_time": "2025-08-05T14:19:33.387847Z"
    },
    "execution": {
     "iopub.execute_input": "2025-08-05T15:15:32.474372Z",
     "iopub.status.busy": "2025-08-05T15:15:32.474036Z",
     "iopub.status.idle": "2025-08-05T15:15:32.504295Z",
     "shell.execute_reply": "2025-08-05T15:15:32.502902Z"
    },
    "papermill": {
     "duration": 0.040957,
     "end_time": "2025-08-05T15:15:32.508528",
     "exception": false,
     "start_time": "2025-08-05T15:15:32.467571",
     "status": "completed"
    },
    "tags": []
   },
   "outputs": [
    {
     "name": "stdout",
     "output_type": "stream",
     "text": [
      "┌──────────────────┬───────────────────────┐\n",
      "│ Current date     │      2025-12-31 : Wed │\n",
      "│ Net deposits     │                 10000 │\n",
      "│ Interest paid    │ 111.98100887779136099 │\n",
      "│ Interest accrued │ 38.018991122208639007 │\n",
      "│ Total            │ 10150.000000000000000 │\n",
      "└──────────────────┴───────────────────────┘\n"
     ]
    }
   ],
   "source": [
    "state_updater = StateUpdater(rate, QUARTERLY_UPDATER_PROVIDER)\n",
    "final_state = reduce(lambda state, day: state_updater.update(day, state), DAYS, INITIAL_STATE)\n",
    "print(final_state)"
   ]
  },
  {
   "cell_type": "code",
   "execution_count": 5,
   "id": "a960253e994fbcb0",
   "metadata": {
    "ExecuteTime": {
     "end_time": "2025-08-05T14:19:33.473914Z",
     "start_time": "2025-08-05T14:19:33.454546Z"
    },
    "execution": {
     "iopub.execute_input": "2025-08-05T15:15:32.526417Z",
     "iopub.status.busy": "2025-08-05T15:15:32.526166Z",
     "iopub.status.idle": "2025-08-05T15:15:32.554539Z",
     "shell.execute_reply": "2025-08-05T15:15:32.552934Z"
    },
    "papermill": {
     "duration": 0.041161,
     "end_time": "2025-08-05T15:15:32.557115",
     "exception": false,
     "start_time": "2025-08-05T15:15:32.515954",
     "status": "completed"
    },
    "tags": []
   },
   "outputs": [
    {
     "name": "stdout",
     "output_type": "stream",
     "text": [
      "┌──────────────────┬────────────────────────┐\n",
      "│ Current date     │       2025-12-31 : Wed │\n",
      "│ Net deposits     │                  10000 │\n",
      "│ Interest paid    │  149.58598264460649109 │\n",
      "│ Interest accrued │ 0.41401735539350891438 │\n",
      "│ Total            │  10150.000000000000000 │\n",
      "└──────────────────┴────────────────────────┘\n"
     ]
    }
   ],
   "source": [
    "state_updater = StateUpdater(rate, DAILY_UPDATER_PROVIDER)\n",
    "final_state = reduce(lambda state, day: state_updater.update(day, state), DAYS, INITIAL_STATE)\n",
    "print(final_state)"
   ]
  },
  {
   "cell_type": "markdown",
   "id": "833de3ea900c9057",
   "metadata": {
    "papermill": {
     "duration": 0.003751,
     "end_time": "2025-08-05T15:15:32.565344",
     "exception": false,
     "start_time": "2025-08-05T15:15:32.561593",
     "status": "completed"
    },
    "tags": []
   },
   "source": [
    "## PeriodicRate\n",
    "\n",
    "This calculator applies a periodic compounding algorithm by applying the same rate to the\n",
    "balance for each day without taking into account the unrealized accrued amount. For a constant\n",
    "balance, this should provide the same return as the `ContinuousRate`. However,\n",
    "for a falling balance it will return less and for a rising balance it will return more."
   ]
  },
  {
   "cell_type": "markdown",
   "id": "46a81808e6738906",
   "metadata": {
    "papermill": {
     "duration": 0.00238,
     "end_time": "2025-08-05T15:15:32.571818",
     "exception": false,
     "start_time": "2025-08-05T15:15:32.569438",
     "status": "completed"
    },
    "tags": []
   },
   "source": [
    "Each call to calculate will return the daily amount associated with the given annual rate."
   ]
  },
  {
   "cell_type": "code",
   "execution_count": 6,
   "id": "9da69ad7cd759f07",
   "metadata": {
    "ExecuteTime": {
     "end_time": "2025-08-05T14:19:33.487730Z",
     "start_time": "2025-08-05T14:19:33.484111Z"
    },
    "execution": {
     "iopub.execute_input": "2025-08-05T15:15:32.579420Z",
     "iopub.status.busy": "2025-08-05T15:15:32.579135Z",
     "iopub.status.idle": "2025-08-05T15:15:32.590879Z",
     "shell.execute_reply": "2025-08-05T15:15:32.588154Z"
    },
    "papermill": {
     "duration": 0.020703,
     "end_time": "2025-08-05T15:15:32.596529",
     "exception": false,
     "start_time": "2025-08-05T15:15:32.575826",
     "status": "completed"
    },
    "tags": []
   },
   "outputs": [
    {
     "name": "stdout",
     "output_type": "stream",
     "text": [
      "┌──────────────┬────────────────────────────────┐\n",
      "│ Current date │               2025-01-01 : Wed │\n",
      "│ Rate         │ PeriodicRate: 1 periods: 1.50% │\n",
      "│ Daily rate   │                       0.004110 │\n",
      "│ Balance      │                   10000.000000 │\n",
      "│ Accrued      │                       0.000000 │\n",
      "│ Calculation  │                       0.410959 │\n",
      "└──────────────┴────────────────────────────────┘\n"
     ]
    }
   ],
   "source": [
    "rate = PeriodicRate(RATE, 1)\n",
    "calculation = rate.calculate(current_date=START_DATE,\n",
    "                             balance=STARTING_BALANCE,\n",
    "                             accrued=Decimal('0.0'))\n",
    "print(calculation)"
   ]
  },
  {
   "cell_type": "markdown",
   "id": "1ea82b5d782a7830",
   "metadata": {
    "papermill": {
     "duration": 0.008566,
     "end_time": "2025-08-05T15:15:32.608314",
     "exception": false,
     "start_time": "2025-08-05T15:15:32.599748",
     "status": "completed"
    },
    "tags": []
   },
   "source": [
    "So collecting the daily amounts over a full year, we can see the compounded result."
   ]
  },
  {
   "cell_type": "code",
   "execution_count": 7,
   "id": "ebde40f77b990bf8",
   "metadata": {
    "ExecuteTime": {
     "end_time": "2025-08-05T14:19:33.515997Z",
     "start_time": "2025-08-05T14:19:33.509363Z"
    },
    "execution": {
     "iopub.execute_input": "2025-08-05T15:15:32.620477Z",
     "iopub.status.busy": "2025-08-05T15:15:32.620139Z",
     "iopub.status.idle": "2025-08-05T15:15:32.628056Z",
     "shell.execute_reply": "2025-08-05T15:15:32.627244Z"
    },
    "papermill": {
     "duration": 0.01633,
     "end_time": "2025-08-05T15:15:32.629889",
     "exception": false,
     "start_time": "2025-08-05T15:15:32.613559",
     "status": "completed"
    },
    "tags": []
   },
   "outputs": [
    {
     "name": "stdout",
     "output_type": "stream",
     "text": [
      "┌──────────────────┬───────────────────────┐\n",
      "│ Current date     │      2025-12-31 : Wed │\n",
      "│ Net deposits     │                 10000 │\n",
      "│ Interest paid    │                   0.0 │\n",
      "│ Interest accrued │ 150.00000000000000000 │\n",
      "│ Total            │ 10150.000000000000000 │\n",
      "└──────────────────┴───────────────────────┘\n"
     ]
    }
   ],
   "source": [
    "state_updater = StateUpdater(rate, ANNUAL_UPDATER_PROVIDER)\n",
    "final_state = reduce(lambda state, day: state_updater.update(day, state), DAYS, INITIAL_STATE)\n",
    "print(final_state)"
   ]
  },
  {
   "cell_type": "code",
   "execution_count": 8,
   "id": "f81169fe23aa6030",
   "metadata": {
    "ExecuteTime": {
     "end_time": "2025-08-05T14:19:33.581971Z",
     "start_time": "2025-08-05T14:19:33.540594Z"
    },
    "execution": {
     "iopub.execute_input": "2025-08-05T15:15:32.643751Z",
     "iopub.status.busy": "2025-08-05T15:15:32.643136Z",
     "iopub.status.idle": "2025-08-05T15:15:32.680061Z",
     "shell.execute_reply": "2025-08-05T15:15:32.679552Z"
    },
    "papermill": {
     "duration": 0.048351,
     "end_time": "2025-08-05T15:15:32.681238",
     "exception": false,
     "start_time": "2025-08-05T15:15:32.632887",
     "status": "completed"
    },
    "tags": []
   },
   "outputs": [
    {
     "name": "stdout",
     "output_type": "stream",
     "text": [
      "┌──────────────┬────────────────────────────────┐\n",
      "│ Current date │               2025-01-01 : Wed │\n",
      "│ Rate         │ PeriodicRate: 4 periods: 1.50% │\n",
      "│ Daily rate   │                       0.004087 │\n",
      "│ Balance      │                   10000.000000 │\n",
      "│ Accrued      │                       0.000000 │\n",
      "│ Calculation  │                       0.408667 │\n",
      "└──────────────┴────────────────────────────────┘\n"
     ]
    }
   ],
   "source": [
    "rate = PeriodicRate(RATE, 4)\n",
    "calculation = rate.calculate(current_date=START_DATE,\n",
    "                             balance=STARTING_BALANCE,\n",
    "                             accrued=Decimal('0.0'))\n",
    "print(calculation)"
   ]
  },
  {
   "cell_type": "code",
   "execution_count": 9,
   "id": "272e3ae294f74519",
   "metadata": {
    "ExecuteTime": {
     "end_time": "2025-08-05T14:19:33.625930Z",
     "start_time": "2025-08-05T14:19:33.594535Z"
    },
    "execution": {
     "iopub.execute_input": "2025-08-05T15:15:32.692615Z",
     "iopub.status.busy": "2025-08-05T15:15:32.692026Z",
     "iopub.status.idle": "2025-08-05T15:15:32.712501Z",
     "shell.execute_reply": "2025-08-05T15:15:32.712162Z"
    },
    "papermill": {
     "duration": 0.029364,
     "end_time": "2025-08-05T15:15:32.713464",
     "exception": false,
     "start_time": "2025-08-05T15:15:32.684100",
     "status": "completed"
    },
    "tags": []
   },
   "outputs": [
    {
     "name": "stdout",
     "output_type": "stream",
     "text": [
      "┌──────────────────┬───────────────────────┐\n",
      "│ Current date     │      2025-12-31 : Wed │\n",
      "│ Net deposits     │                 10000 │\n",
      "│ Interest paid    │ 111.98156556526785157 │\n",
      "│ Interest accrued │ 38.018411299158197925 │\n",
      "│ Total            │ 10149.999976864426049 │\n",
      "└──────────────────┴───────────────────────┘\n"
     ]
    }
   ],
   "source": [
    "state_updater = StateUpdater(rate, QUARTERLY_UPDATER_PROVIDER)\n",
    "final_state = reduce(lambda state, day: state_updater.update(day, state), DAYS, INITIAL_STATE)\n",
    "print(final_state)"
   ]
  },
  {
   "cell_type": "markdown",
   "id": "d6f6b16430b9959e",
   "metadata": {
    "papermill": {
     "duration": 0.002501,
     "end_time": "2025-08-05T15:15:32.718240",
     "exception": false,
     "start_time": "2025-08-05T15:15:32.715739",
     "status": "completed"
    },
    "tags": []
   },
   "source": [
    "> **_NB._** We can see an error here as the total is slightly less than the expected 10,150.\n",
    "> This is due to an inadequacy in the algorithm. The rate calculation assumes that\n",
    "> quarters are of equal length. This is not the case and can't really be the case, as years\n",
    "> cannot be divided into a four equal number of days. We are actually using 3 calendar months\n",
    "> per quarter.\n",
    ">\n",
    "> So why is the result slightly less? This is due to compounding as payments from earlier quarters\n",
    "> compound more than those from later quarters. There are fewer days in the first\n",
    "> two quarters than the second two, but the daily rate is the same. This means that fewer days\n",
    "> of payments are compounded from the first half of the year than if the periods were equal\n",
    "> length. The fact that those days compound for more time, as the payment is earlier, does not\n",
    "> compensate for the missing days."
   ]
  },
  {
   "cell_type": "code",
   "execution_count": 10,
   "id": "19ec63b4d8bcea96",
   "metadata": {
    "ExecuteTime": {
     "end_time": "2025-08-05T14:19:33.651962Z",
     "start_time": "2025-08-05T14:19:33.641389Z"
    },
    "execution": {
     "iopub.execute_input": "2025-08-05T15:15:32.726612Z",
     "iopub.status.busy": "2025-08-05T15:15:32.726216Z",
     "iopub.status.idle": "2025-08-05T15:15:32.728904Z",
     "shell.execute_reply": "2025-08-05T15:15:32.728522Z"
    },
    "papermill": {
     "duration": 0.006868,
     "end_time": "2025-08-05T15:15:32.729878",
     "exception": false,
     "start_time": "2025-08-05T15:15:32.723010",
     "status": "completed"
    },
    "tags": []
   },
   "outputs": [
    {
     "name": "stdout",
     "output_type": "stream",
     "text": [
      "Days in first half of the year 181\n",
      "Days in second half of the year 184\n"
     ]
    }
   ],
   "source": [
    "print('Days in first half of the year', (date(2025, 7, 1) - date(2025, 1, 1)).days)\n",
    "print('Days in second half of the year', (date(2026, 1, 1) - date(2025, 7, 1)).days)\n"
   ]
  },
  {
   "cell_type": "markdown",
   "id": "7197dbbbaf41699f",
   "metadata": {
    "papermill": {
     "duration": 0.002027,
     "end_time": "2025-08-05T15:15:32.734109",
     "exception": false,
     "start_time": "2025-08-05T15:15:32.732082",
     "status": "completed"
    },
    "tags": []
   },
   "source": [
    "> **_NBB._** It may be possible to correct this algorithm, but any solution is likely to throw\n",
    "> up more problems. For instance what should we do if a period crosses between a regular year\n",
    "> and a leap year?\n",
    ">\n",
    "> For this reason it is probably unwise to use this algorithm and instead just\n",
    "> use the `ContinuousRate` in simulations as the differences are likely to be\n",
    "> insignificant.\n",
    ">\n",
    "> So why is it here? Well, when investigating how banks calculate interest. It was found that\n",
    "> this is how they say they do it. For instance: https://www.abnamro.nl/en/personal/savings/interest-rates/when-and-how-often-do-you-receive-interest.html\n",
    ">\n",
    "> However, this did not give any indication of how they compensate for unequal quarters or\n",
    "> leap years. As such, the implementation here is probably wrong anyway, so just don't use it!"
   ]
  },
  {
   "cell_type": "markdown",
   "id": "638482e7cbc9dbd",
   "metadata": {
    "papermill": {
     "duration": 0.001977,
     "end_time": "2025-08-05T15:15:32.738075",
     "exception": false,
     "start_time": "2025-08-05T15:15:32.736098",
     "status": "completed"
    },
    "tags": []
   },
   "source": [
    "## BandedRate\n",
    "\n",
    "This rate combines a dictionary of rates that will be applied at different balance amounts."
   ]
  },
  {
   "cell_type": "markdown",
   "id": "3fd008912985412a",
   "metadata": {
    "papermill": {
     "duration": 0.001926,
     "end_time": "2025-08-05T15:15:32.741880",
     "exception": false,
     "start_time": "2025-08-05T15:15:32.739954",
     "status": "completed"
    },
    "tags": []
   },
   "source": [
    "Each call to calculate will return the daily amount associated with the given annual rate."
   ]
  },
  {
   "cell_type": "code",
   "execution_count": 11,
   "id": "229b89b8769a473d",
   "metadata": {
    "ExecuteTime": {
     "end_time": "2025-08-05T14:19:33.782856Z",
     "start_time": "2025-08-05T14:19:33.661291Z"
    },
    "execution": {
     "iopub.execute_input": "2025-08-05T15:15:32.746381Z",
     "iopub.status.busy": "2025-08-05T15:15:32.746165Z",
     "iopub.status.idle": "2025-08-05T15:15:32.857533Z",
     "shell.execute_reply": "2025-08-05T15:15:32.857296Z"
    },
    "papermill": {
     "duration": 0.114466,
     "end_time": "2025-08-05T15:15:32.858212",
     "exception": false,
     "start_time": "2025-08-05T15:15:32.743746",
     "status": "completed"
    },
    "tags": []
   },
   "outputs": [
    {
     "name": "stdout",
     "output_type": "stream",
     "text": [
      "┌─────────────────────────┬────────────────────────┬──────────────┬──────────┬─────────────┐\n",
      "│ Band                    │                   Rate │      Balance │  Accrued │ Calculation │\n",
      "├─────────────────────────┼────────────────────────┼──────────────┼──────────┼─────────────┤\n",
      "│ up to 1000.00           │ ContinuousRate: 10.00% │  1000.000000 │ 0.000000 │    0.261158 │\n",
      "│ from 1000.00 to 2000.00 │ ContinuousRate: 20.00% │  1000.000000 │ 0.000000 │    0.499636 │\n",
      "│ from 2000.00 to 3000.00 │ ContinuousRate: 30.00% │  1000.000000 │ 0.000000 │    0.719065 │\n",
      "│ from 3000.00 to 4000.00 │ ContinuousRate: 40.00% │  1000.000000 │ 0.000000 │    0.922267 │\n",
      "│ above 4000.00           │  ContinuousRate: 0.00% │  6000.000000 │ 0.000000 │    0.000000 │\n",
      "├─────────────────────────┼────────────────────────┼──────────────┼──────────┼─────────────┤\n",
      "│ 2025-01-01 : Wed        │                 Totals │ 10000.000000 │ 0.000000 │    2.402125 │\n",
      "└─────────────────────────┴────────────────────────┴──────────────┴──────────┴─────────────┘\n"
     ]
    }
   ],
   "source": [
    "rate = create_banded_rate({k: ContinuousRate(v) for k, v in BANDS.items()})\n",
    "calculation = rate.calculate(current_date=START_DATE,\n",
    "                             balance=STARTING_BALANCE,\n",
    "                             accrued=Decimal('0.0'))\n",
    "print(calculation)"
   ]
  },
  {
   "cell_type": "markdown",
   "id": "f513016d664a12c8",
   "metadata": {
    "papermill": {
     "duration": 0.001899,
     "end_time": "2025-08-05T15:15:32.862281",
     "exception": false,
     "start_time": "2025-08-05T15:15:32.860382",
     "status": "completed"
    },
    "tags": []
   },
   "source": [
    "So collecting the daily amounts over a full year, we can see the compounded result."
   ]
  },
  {
   "cell_type": "code",
   "execution_count": 12,
   "id": "89aa8d339bee5fdc",
   "metadata": {
    "ExecuteTime": {
     "end_time": "2025-08-05T14:19:33.808955Z",
     "start_time": "2025-08-05T14:19:33.795153Z"
    },
    "execution": {
     "iopub.execute_input": "2025-08-05T15:15:32.866308Z",
     "iopub.status.busy": "2025-08-05T15:15:32.866190Z",
     "iopub.status.idle": "2025-08-05T15:15:32.875816Z",
     "shell.execute_reply": "2025-08-05T15:15:32.875576Z"
    },
    "papermill": {
     "duration": 0.012375,
     "end_time": "2025-08-05T15:15:32.876438",
     "exception": false,
     "start_time": "2025-08-05T15:15:32.864063",
     "status": "completed"
    },
    "tags": []
   },
   "outputs": [
    {
     "name": "stdout",
     "output_type": "stream",
     "text": [
      "┌──────────────────┬───────────────────────┐\n",
      "│ Current date     │      2025-12-31 : Wed │\n",
      "│ Net deposits     │                 10000 │\n",
      "│ Interest paid    │ 874.37355277796035981 │\n",
      "│ Interest accrued │ 2.4021251449943965929 │\n",
      "│ Total            │ 10876.775677922954756 │\n",
      "└──────────────────┴───────────────────────┘\n"
     ]
    }
   ],
   "source": [
    "state_updater = StateUpdater(rate, DAILY_UPDATER_PROVIDER)\n",
    "final_state = reduce(lambda state, day: state_updater.update(day, state), DAYS, INITIAL_STATE)\n",
    "print(final_state)"
   ]
  },
  {
   "cell_type": "code",
   "execution_count": 13,
   "id": "96a21b564081f75d",
   "metadata": {
    "ExecuteTime": {
     "end_time": "2025-08-05T14:19:33.967255Z",
     "start_time": "2025-08-05T14:19:33.822539Z"
    },
    "execution": {
     "iopub.execute_input": "2025-08-05T15:15:32.880886Z",
     "iopub.status.busy": "2025-08-05T15:15:32.880787Z",
     "iopub.status.idle": "2025-08-05T15:15:33.004769Z",
     "shell.execute_reply": "2025-08-05T15:15:33.004518Z"
    },
    "papermill": {
     "duration": 0.126922,
     "end_time": "2025-08-05T15:15:33.005436",
     "exception": false,
     "start_time": "2025-08-05T15:15:32.878514",
     "status": "completed"
    },
    "tags": []
   },
   "outputs": [
    {
     "name": "stdout",
     "output_type": "stream",
     "text": [
      "┌─────────────────────────┬─────────────────────────────────┬──────────────┬──────────┬─────────────┐\n",
      "│ Band                    │                            Rate │      Balance │  Accrued │ Calculation │\n",
      "├─────────────────────────┼─────────────────────────────────┼──────────────┼──────────┼─────────────┤\n",
      "│ up to 1000.00           │ PeriodicRate: 4 periods: 10.00% │  1000.000000 │ 0.000000 │    0.264260 │\n",
      "│ from 1000.00 to 2000.00 │ PeriodicRate: 4 periods: 20.00% │  1000.000000 │ 0.000000 │    0.511070 │\n",
      "│ from 2000.00 to 3000.00 │ PeriodicRate: 4 periods: 30.00% │  1000.000000 │ 0.000000 │    0.742904 │\n",
      "│ from 3000.00 to 4000.00 │ PeriodicRate: 4 periods: 40.00% │  1000.000000 │ 0.000000 │    0.961724 │\n",
      "│ above 4000.00           │  PeriodicRate: 4 periods: 0.00% │  6000.000000 │ 0.000000 │    0.000000 │\n",
      "├─────────────────────────┼─────────────────────────────────┼──────────────┼──────────┼─────────────┤\n",
      "│ 2025-01-01 : Wed        │                          Totals │ 10000.000000 │ 0.000000 │    2.479957 │\n",
      "└─────────────────────────┴─────────────────────────────────┴──────────────┴──────────┴─────────────┘\n"
     ]
    }
   ],
   "source": [
    "rate = create_banded_rate({k: PeriodicRate(v, 4) for k, v in BANDS.items()})\n",
    "calculation = rate.calculate(current_date=START_DATE,\n",
    "                             balance=STARTING_BALANCE,\n",
    "                             accrued=Decimal('0.0'))\n",
    "print(calculation)"
   ]
  },
  {
   "cell_type": "code",
   "execution_count": 14,
   "id": "aac7c58dffc93c2c",
   "metadata": {
    "ExecuteTime": {
     "end_time": "2025-08-05T14:19:34.010002Z",
     "start_time": "2025-08-05T14:19:33.980032Z"
    },
    "execution": {
     "iopub.execute_input": "2025-08-05T15:15:33.009907Z",
     "iopub.status.busy": "2025-08-05T15:15:33.009813Z",
     "iopub.status.idle": "2025-08-05T15:15:33.022423Z",
     "shell.execute_reply": "2025-08-05T15:15:33.022186Z"
    },
    "papermill": {
     "duration": 0.015462,
     "end_time": "2025-08-05T15:15:33.023045",
     "exception": false,
     "start_time": "2025-08-05T15:15:33.007583",
     "status": "completed"
    },
    "tags": []
   },
   "outputs": [
    {
     "name": "stdout",
     "output_type": "stream",
     "text": [
      "┌──────────────────┬───────────────────────┐\n",
      "│ Current date     │      2025-12-31 : Wed │\n",
      "│ Net deposits     │                 10000 │\n",
      "│ Interest paid    │ 677.02835235782307248 │\n",
      "│ Interest accrued │ 228.15607478725173139 │\n",
      "│ Total            │ 10905.184427145074804 │\n",
      "└──────────────────┴───────────────────────┘\n"
     ]
    }
   ],
   "source": [
    "state_updater = StateUpdater(rate, QUARTERLY_UPDATER_PROVIDER)\n",
    "final_state = reduce(lambda state, day: state_updater.update(day, state), DAYS, INITIAL_STATE)\n",
    "print(final_state)"
   ]
  }
 ],
 "metadata": {
  "kernelspec": {
   "display_name": "Python 3",
   "language": "python",
   "name": "python3"
  },
  "language_info": {
   "codemirror_mode": {
    "name": "ipython",
    "version": 3
   },
   "file_extension": ".py",
   "mimetype": "text/x-python",
   "name": "python",
   "nbconvert_exporter": "python",
   "pygments_lexer": "ipython3",
   "version": "3.12.11"
  },
  "papermill": {
   "default_parameters": {},
   "duration": 1.737298,
   "end_time": "2025-08-05T15:15:33.140106",
   "environment_variables": {},
   "exception": null,
   "input_path": "./lib/rates/README.ipynb",
   "output_path": "./lib/rates/README.ipynb",
   "parameters": {},
   "start_time": "2025-08-05T15:15:31.402808",
   "version": "2.6.0"
  }
 },
 "nbformat": 4,
 "nbformat_minor": 5
}