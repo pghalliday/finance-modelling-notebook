{
 "cells": [
  {
   "cell_type": "markdown",
   "id": "7067663d0aefaf78",
   "metadata": {
    "papermill": {
     "duration": 0.013272,
     "end_time": "2025-08-04T14:07:27.557291",
     "exception": false,
     "start_time": "2025-08-04T14:07:27.544019",
     "status": "completed"
    },
    "tags": []
   },
   "source": [
    "# Rates\n",
    "\n",
    "A collection of daily rate calculation algorithms."
   ]
  },
  {
   "metadata": {
    "ExecuteTime": {
     "end_time": "2025-08-04T19:03:48.624075Z",
     "start_time": "2025-08-04T19:03:48.586484Z"
    }
   },
   "cell_type": "code",
   "source": [
    "from datetime import date, timedelta\n",
    "from decimal import Decimal, getcontext, FloatOperation\n",
    "from functools import reduce\n",
    "\n",
    "from lib.rates import \\\n",
    "    ContinuousRate, \\\n",
    "    PeriodicRate, \\\n",
    "    create_banded_rate\n",
    "from lib.utils.date import days_in_year\n",
    "from lib.utils.rates.state import \\\n",
    "    State, \\\n",
    "    StateUpdater, \\\n",
    "    ANNUAL_UPDATER_PROVIDER, \\\n",
    "    QUARTERLY_UPDATER_PROVIDER, \\\n",
    "    DAILY_UPDATER_PROVIDER\n",
    "\n",
    "decimal_context = getcontext()\n",
    "decimal_context.traps[FloatOperation] = True\n",
    "decimal_context.prec = 1000\n",
    "\n",
    "START_DATE = date(date.today().year, 1, 1)\n",
    "DAYS = [START_DATE + timedelta(days=day) for day in range(days_in_year(START_DATE.year))]\n",
    "RATE = Decimal('0.015')\n",
    "BANDS = {Decimal('0.0'): Decimal('0.10'),\n",
    "         Decimal('1000.0'): Decimal('0.20'),\n",
    "         Decimal('2000.0'): Decimal('0.30'),\n",
    "         Decimal('3000.0'): Decimal('0.40'),\n",
    "         Decimal('4000.0'): Decimal('0.0')}\n",
    "STARTING_BALANCE = Decimal('10_000')\n",
    "\n",
    "INITIAL_STATE = State(current_date=START_DATE - timedelta(days=1),\n",
    "                      net_deposits=STARTING_BALANCE,\n",
    "                      interest_paid=Decimal('0.0'),\n",
    "                      interest_accrued=Decimal('0.0'))\n",
    "\n",
    "print(f'Decimal context: {decimal_context}')\n",
    "print(INITIAL_STATE)"
   ],
   "id": "cadbc5098d249568",
   "outputs": [
    {
     "name": "stdout",
     "output_type": "stream",
     "text": [
      "Decimal context: Context(prec=1000, rounding=ROUND_HALF_EVEN, Emin=-999999, Emax=999999, capitals=1, clamp=0, flags=[Inexact, Rounded], traps=[InvalidOperation, DivisionByZero, FloatOperation, Overflow])\n",
      "┌──────────────────┬──────────────────┐\n",
      "│ Current date     │ 2024-12-31 : Tue │\n",
      "│ Net deposits     │            10000 │\n",
      "│ Interest paid    │              0.0 │\n",
      "│ Interest accrued │              0.0 │\n",
      "│ Total            │          10000.0 │\n",
      "└──────────────────┴──────────────────┘\n"
     ]
    }
   ],
   "execution_count": 16
  },
  {
   "cell_type": "markdown",
   "id": "6ba0fbf8aefde640",
   "metadata": {
    "papermill": {
     "duration": 0.002197,
     "end_time": "2025-08-04T14:07:27.612958",
     "exception": false,
     "start_time": "2025-08-04T14:07:27.610761",
     "status": "completed"
    },
    "tags": []
   },
   "source": [
    "## ContinuousRate\n",
    "\n",
    "This calculator applies a continuously compounding algorithm, which most accurately reflects a\n",
    "continuous return given a desired annual rate."
   ]
  },
  {
   "cell_type": "markdown",
   "id": "53b9895f7157ddb0",
   "metadata": {
    "papermill": {
     "duration": 0.002103,
     "end_time": "2025-08-04T14:07:27.617461",
     "exception": false,
     "start_time": "2025-08-04T14:07:27.615358",
     "status": "completed"
    },
    "tags": []
   },
   "source": [
    "Each call to calculate will return the daily amount associated with the given annual rate."
   ]
  },
  {
   "cell_type": "code",
   "id": "378306241b59fd56",
   "metadata": {
    "execution": {
     "iopub.execute_input": "2025-08-04T14:07:27.622311Z",
     "iopub.status.busy": "2025-08-04T14:07:27.622172Z",
     "iopub.status.idle": "2025-08-04T14:07:27.648281Z",
     "shell.execute_reply": "2025-08-04T14:07:27.648033Z"
    },
    "papermill": {
     "duration": 0.029344,
     "end_time": "2025-08-04T14:07:27.648971",
     "exception": false,
     "start_time": "2025-08-04T14:07:27.619627",
     "status": "completed"
    },
    "tags": [],
    "ExecuteTime": {
     "end_time": "2025-08-04T19:03:48.647802Z",
     "start_time": "2025-08-04T19:03:48.641836Z"
    }
   },
   "source": [
    "rate = ContinuousRate(RATE)\n",
    "calculation = rate.calculate(current_date=START_DATE,\n",
    "                             balance=STARTING_BALANCE,\n",
    "                             accrued=Decimal('0.0'))\n",
    "print(calculation)"
   ],
   "outputs": [
    {
     "name": "stdout",
     "output_type": "stream",
     "text": [
      "┌──────────────┬───────────────────────┐\n",
      "│ Current date │      2025-01-01 : Wed │\n",
      "│ Rate         │ ContinuousRate: 1.50% │\n",
      "│ Daily rate   │              0.004079 │\n",
      "│ Balance      │          10000.000000 │\n",
      "│ Accrued      │              0.000000 │\n",
      "│ Calculation  │              0.407916 │\n",
      "└──────────────┴───────────────────────┘\n"
     ]
    }
   ],
   "execution_count": 17
  },
  {
   "cell_type": "markdown",
   "id": "6ad2b1a98ad5e3d1",
   "metadata": {
    "papermill": {
     "duration": 0.001696,
     "end_time": "2025-08-04T14:07:27.652559",
     "exception": false,
     "start_time": "2025-08-04T14:07:27.650863",
     "status": "completed"
    },
    "tags": []
   },
   "source": [
    "So collecting the daily amounts over a full year, we can see the compounded result."
   ]
  },
  {
   "cell_type": "code",
   "id": "957e6d3eafd4f71a",
   "metadata": {
    "execution": {
     "iopub.execute_input": "2025-08-04T14:07:27.656735Z",
     "iopub.status.busy": "2025-08-04T14:07:27.656626Z",
     "iopub.status.idle": "2025-08-04T14:07:27.671136Z",
     "shell.execute_reply": "2025-08-04T14:07:27.670917Z"
    },
    "papermill": {
     "duration": 0.017345,
     "end_time": "2025-08-04T14:07:27.671763",
     "exception": false,
     "start_time": "2025-08-04T14:07:27.654418",
     "status": "completed"
    },
    "tags": [],
    "ExecuteTime": {
     "end_time": "2025-08-04T19:03:48.726635Z",
     "start_time": "2025-08-04T19:03:48.707437Z"
    }
   },
   "source": [
    "state_updater = StateUpdater(rate, ANNUAL_UPDATER_PROVIDER)\n",
    "final_state = reduce(lambda state, day: state_updater.update(day, state), DAYS, INITIAL_STATE)\n",
    "print(final_state)"
   ],
   "outputs": [
    {
     "name": "stdout",
     "output_type": "stream",
     "text": [
      "┌──────────────────┬───────────────────────┐\n",
      "│ Current date     │      2025-12-31 : Wed │\n",
      "│ Net deposits     │                 10000 │\n",
      "│ Interest paid    │                   0.0 │\n",
      "│ Interest accrued │ 150.00000000000000000 │\n",
      "│ Total            │ 10150.000000000000000 │\n",
      "└──────────────────┴───────────────────────┘\n"
     ]
    }
   ],
   "execution_count": 18
  },
  {
   "cell_type": "code",
   "id": "df995429b8f0dbc6",
   "metadata": {
    "execution": {
     "iopub.execute_input": "2025-08-04T14:07:27.676480Z",
     "iopub.status.busy": "2025-08-04T14:07:27.676357Z",
     "iopub.status.idle": "2025-08-04T14:07:27.693548Z",
     "shell.execute_reply": "2025-08-04T14:07:27.693212Z"
    },
    "papermill": {
     "duration": 0.020413,
     "end_time": "2025-08-04T14:07:27.694503",
     "exception": false,
     "start_time": "2025-08-04T14:07:27.674090",
     "status": "completed"
    },
    "tags": [],
    "ExecuteTime": {
     "end_time": "2025-08-04T19:03:48.762004Z",
     "start_time": "2025-08-04T19:03:48.740480Z"
    }
   },
   "source": [
    "state_updater = StateUpdater(rate, QUARTERLY_UPDATER_PROVIDER)\n",
    "final_state = reduce(lambda state, day: state_updater.update(day, state), DAYS, INITIAL_STATE)\n",
    "print(final_state)"
   ],
   "outputs": [
    {
     "name": "stdout",
     "output_type": "stream",
     "text": [
      "┌──────────────────┬───────────────────────┐\n",
      "│ Current date     │      2025-12-31 : Wed │\n",
      "│ Net deposits     │                 10000 │\n",
      "│ Interest paid    │ 111.98100887779136099 │\n",
      "│ Interest accrued │ 38.018991122208639007 │\n",
      "│ Total            │ 10150.000000000000000 │\n",
      "└──────────────────┴───────────────────────┘\n"
     ]
    }
   ],
   "execution_count": 19
  },
  {
   "cell_type": "code",
   "id": "a960253e994fbcb0",
   "metadata": {
    "execution": {
     "iopub.execute_input": "2025-08-04T14:07:27.699016Z",
     "iopub.status.busy": "2025-08-04T14:07:27.698791Z",
     "iopub.status.idle": "2025-08-04T14:07:27.713563Z",
     "shell.execute_reply": "2025-08-04T14:07:27.713317Z"
    },
    "papermill": {
     "duration": 0.017673,
     "end_time": "2025-08-04T14:07:27.714253",
     "exception": false,
     "start_time": "2025-08-04T14:07:27.696580",
     "status": "completed"
    },
    "tags": [],
    "ExecuteTime": {
     "end_time": "2025-08-04T19:03:48.793831Z",
     "start_time": "2025-08-04T19:03:48.775620Z"
    }
   },
   "source": [
    "state_updater = StateUpdater(rate, DAILY_UPDATER_PROVIDER)\n",
    "final_state = reduce(lambda state, day: state_updater.update(day, state), DAYS, INITIAL_STATE)\n",
    "print(final_state)"
   ],
   "outputs": [
    {
     "name": "stdout",
     "output_type": "stream",
     "text": [
      "┌──────────────────┬────────────────────────┐\n",
      "│ Current date     │       2025-12-31 : Wed │\n",
      "│ Net deposits     │                  10000 │\n",
      "│ Interest paid    │  149.58598264460649109 │\n",
      "│ Interest accrued │ 0.41401735539350891438 │\n",
      "│ Total            │  10150.000000000000000 │\n",
      "└──────────────────┴────────────────────────┘\n"
     ]
    }
   ],
   "execution_count": 20
  },
  {
   "cell_type": "markdown",
   "id": "833de3ea900c9057",
   "metadata": {
    "papermill": {
     "duration": 0.002168,
     "end_time": "2025-08-04T14:07:27.718323",
     "exception": false,
     "start_time": "2025-08-04T14:07:27.716155",
     "status": "completed"
    },
    "tags": []
   },
   "source": [
    "## PeriodicRate\n",
    "\n",
    "This calculator applies a periodic compounding algorithm by applying the same rate to the\n",
    "balance for each day without taking into account the unrealized accrued amount. For a constant\n",
    "balance, this should provide the same return as the `ContinuousRate`. However,\n",
    "for a falling balance it will return less and for a rising balance it will return more."
   ]
  },
  {
   "cell_type": "markdown",
   "id": "46a81808e6738906",
   "metadata": {
    "papermill": {
     "duration": 0.001771,
     "end_time": "2025-08-04T14:07:27.722109",
     "exception": false,
     "start_time": "2025-08-04T14:07:27.720338",
     "status": "completed"
    },
    "tags": []
   },
   "source": [
    "Each call to calculate will return the daily amount associated with the given annual rate."
   ]
  },
  {
   "cell_type": "code",
   "id": "9da69ad7cd759f07",
   "metadata": {
    "execution": {
     "iopub.execute_input": "2025-08-04T14:07:27.726437Z",
     "iopub.status.busy": "2025-08-04T14:07:27.726303Z",
     "iopub.status.idle": "2025-08-04T14:07:27.728432Z",
     "shell.execute_reply": "2025-08-04T14:07:27.728207Z"
    },
    "papermill": {
     "duration": 0.005119,
     "end_time": "2025-08-04T14:07:27.729067",
     "exception": false,
     "start_time": "2025-08-04T14:07:27.723948",
     "status": "completed"
    },
    "tags": [],
    "ExecuteTime": {
     "end_time": "2025-08-04T19:03:48.820994Z",
     "start_time": "2025-08-04T19:03:48.813745Z"
    }
   },
   "source": [
    "rate = PeriodicRate(RATE, 1)\n",
    "calculation = rate.calculate(current_date=START_DATE,\n",
    "                             balance=STARTING_BALANCE,\n",
    "                             accrued=Decimal('0.0'))\n",
    "print(calculation)"
   ],
   "outputs": [
    {
     "name": "stdout",
     "output_type": "stream",
     "text": [
      "┌──────────────┬────────────────────────────────┐\n",
      "│ Current date │               2025-01-01 : Wed │\n",
      "│ Rate         │ PeriodicRate: 1 periods: 1.50% │\n",
      "│ Daily rate   │                       0.004110 │\n",
      "│ Balance      │                   10000.000000 │\n",
      "│ Accrued      │                       0.000000 │\n",
      "│ Calculation  │                       0.410959 │\n",
      "└──────────────┴────────────────────────────────┘\n"
     ]
    }
   ],
   "execution_count": 21
  },
  {
   "cell_type": "markdown",
   "id": "1ea82b5d782a7830",
   "metadata": {
    "papermill": {
     "duration": 0.002024,
     "end_time": "2025-08-04T14:07:27.732879",
     "exception": false,
     "start_time": "2025-08-04T14:07:27.730855",
     "status": "completed"
    },
    "tags": []
   },
   "source": [
    "So collecting the daily amounts over a full year, we can see the compounded result."
   ]
  },
  {
   "cell_type": "code",
   "id": "ebde40f77b990bf8",
   "metadata": {
    "execution": {
     "iopub.execute_input": "2025-08-04T14:07:27.736906Z",
     "iopub.status.busy": "2025-08-04T14:07:27.736795Z",
     "iopub.status.idle": "2025-08-04T14:07:27.740377Z",
     "shell.execute_reply": "2025-08-04T14:07:27.740115Z"
    },
    "papermill": {
     "duration": 0.006265,
     "end_time": "2025-08-04T14:07:27.740973",
     "exception": false,
     "start_time": "2025-08-04T14:07:27.734708",
     "status": "completed"
    },
    "tags": [],
    "ExecuteTime": {
     "end_time": "2025-08-04T19:03:48.842533Z",
     "start_time": "2025-08-04T19:03:48.835311Z"
    }
   },
   "source": [
    "state_updater = StateUpdater(rate, ANNUAL_UPDATER_PROVIDER)\n",
    "final_state = reduce(lambda state, day: state_updater.update(day, state), DAYS, INITIAL_STATE)\n",
    "print(final_state)"
   ],
   "outputs": [
    {
     "name": "stdout",
     "output_type": "stream",
     "text": [
      "┌──────────────────┬───────────────────────┐\n",
      "│ Current date     │      2025-12-31 : Wed │\n",
      "│ Net deposits     │                 10000 │\n",
      "│ Interest paid    │                   0.0 │\n",
      "│ Interest accrued │ 150.00000000000000000 │\n",
      "│ Total            │ 10150.000000000000000 │\n",
      "└──────────────────┴───────────────────────┘\n"
     ]
    }
   ],
   "execution_count": 22
  },
  {
   "cell_type": "code",
   "id": "f81169fe23aa6030",
   "metadata": {
    "execution": {
     "iopub.execute_input": "2025-08-04T14:07:27.744907Z",
     "iopub.status.busy": "2025-08-04T14:07:27.744804Z",
     "iopub.status.idle": "2025-08-04T14:07:27.770501Z",
     "shell.execute_reply": "2025-08-04T14:07:27.770288Z"
    },
    "papermill": {
     "duration": 0.028434,
     "end_time": "2025-08-04T14:07:27.771164",
     "exception": false,
     "start_time": "2025-08-04T14:07:27.742730",
     "status": "completed"
    },
    "tags": [],
    "ExecuteTime": {
     "end_time": "2025-08-04T19:03:48.856363Z",
     "start_time": "2025-08-04T19:03:48.853887Z"
    }
   },
   "source": [
    "rate = PeriodicRate(RATE, 4)\n",
    "calculation = rate.calculate(current_date=START_DATE,\n",
    "                             balance=STARTING_BALANCE,\n",
    "                             accrued=Decimal('0.0'))\n",
    "print(calculation)"
   ],
   "outputs": [
    {
     "name": "stdout",
     "output_type": "stream",
     "text": [
      "┌──────────────┬────────────────────────────────┐\n",
      "│ Current date │               2025-01-01 : Wed │\n",
      "│ Rate         │ PeriodicRate: 4 periods: 1.50% │\n",
      "│ Daily rate   │                       0.004087 │\n",
      "│ Balance      │                   10000.000000 │\n",
      "│ Accrued      │                       0.000000 │\n",
      "│ Calculation  │                       0.408667 │\n",
      "└──────────────┴────────────────────────────────┘\n"
     ]
    }
   ],
   "execution_count": 23
  },
  {
   "cell_type": "code",
   "id": "272e3ae294f74519",
   "metadata": {
    "execution": {
     "iopub.execute_input": "2025-08-04T14:07:27.775308Z",
     "iopub.status.busy": "2025-08-04T14:07:27.775211Z",
     "iopub.status.idle": "2025-08-04T14:07:27.787128Z",
     "shell.execute_reply": "2025-08-04T14:07:27.786731Z"
    },
    "papermill": {
     "duration": 0.014889,
     "end_time": "2025-08-04T14:07:27.787971",
     "exception": false,
     "start_time": "2025-08-04T14:07:27.773082",
     "status": "completed"
    },
    "tags": [],
    "ExecuteTime": {
     "end_time": "2025-08-04T19:03:48.885189Z",
     "start_time": "2025-08-04T19:03:48.868359Z"
    }
   },
   "source": [
    "state_updater = StateUpdater(rate, QUARTERLY_UPDATER_PROVIDER)\n",
    "final_state = reduce(lambda state, day: state_updater.update(day, state), DAYS, INITIAL_STATE)\n",
    "print(final_state)"
   ],
   "outputs": [
    {
     "name": "stdout",
     "output_type": "stream",
     "text": [
      "┌──────────────────┬───────────────────────┐\n",
      "│ Current date     │      2025-12-31 : Wed │\n",
      "│ Net deposits     │                 10000 │\n",
      "│ Interest paid    │ 111.98156556526785157 │\n",
      "│ Interest accrued │ 38.018411299158197925 │\n",
      "│ Total            │ 10149.999976864426049 │\n",
      "└──────────────────┴───────────────────────┘\n"
     ]
    }
   ],
   "execution_count": 24
  },
  {
   "cell_type": "markdown",
   "id": "d6f6b16430b9959e",
   "metadata": {
    "papermill": {
     "duration": 0.002174,
     "end_time": "2025-08-04T14:07:27.792606",
     "exception": false,
     "start_time": "2025-08-04T14:07:27.790432",
     "status": "completed"
    },
    "tags": []
   },
   "source": [
    "> **_NB._** We can see an error here as the total is slightly less than the expected 10,150.\n",
    "> This is due to an inadequacy in the algorithm. The rate calculation assumes that\n",
    "> quarters are of equal length. This is not the case and can't really be the case, as years\n",
    "> cannot be divided into a four equal number of days. We are actually using 3 calendar months\n",
    "> per quarter.\n",
    ">\n",
    "> So why is the result slightly less? This is due to compounding as payments from earlier quarters\n",
    "> compound more than those from later quarters. There are fewer days in the first\n",
    "> two quarters than the second two, but the daily rate is the same. This means that fewer days\n",
    "> of payments are compounded from the first half of the year than if the periods were equal\n",
    "> length. The fact that those days compound for more time, as the payment is earlier, does not\n",
    "> compensate for the missing days."
   ]
  },
  {
   "cell_type": "code",
   "id": "19ec63b4d8bcea96",
   "metadata": {
    "execution": {
     "iopub.execute_input": "2025-08-04T14:07:27.796888Z",
     "iopub.status.busy": "2025-08-04T14:07:27.796740Z",
     "iopub.status.idle": "2025-08-04T14:07:27.798769Z",
     "shell.execute_reply": "2025-08-04T14:07:27.798521Z"
    },
    "papermill": {
     "duration": 0.004895,
     "end_time": "2025-08-04T14:07:27.799389",
     "exception": false,
     "start_time": "2025-08-04T14:07:27.794494",
     "status": "completed"
    },
    "tags": [],
    "ExecuteTime": {
     "end_time": "2025-08-04T19:03:48.904671Z",
     "start_time": "2025-08-04T19:03:48.900652Z"
    }
   },
   "source": [
    "print('Days in first half of the year', (date(2025, 7, 1) - date(2025, 1, 1)).days)\n",
    "print('Days in second half of the year', (date(2026, 1, 1) - date(2025, 7, 1)).days)\n"
   ],
   "outputs": [
    {
     "name": "stdout",
     "output_type": "stream",
     "text": [
      "Days in first half of the year 181\n",
      "Days in second half of the year 184\n"
     ]
    }
   ],
   "execution_count": 25
  },
  {
   "cell_type": "markdown",
   "id": "7197dbbbaf41699f",
   "metadata": {
    "papermill": {
     "duration": 0.001824,
     "end_time": "2025-08-04T14:07:27.803167",
     "exception": false,
     "start_time": "2025-08-04T14:07:27.801343",
     "status": "completed"
    },
    "tags": []
   },
   "source": [
    "> **_NBB._** It may be possible to correct this algorithm, but any solution is likely to throw\n",
    "> up more problems. For instance what should we do if a period crosses between a regular year\n",
    "> and a leap year?\n",
    ">\n",
    "> For this reason it is probably unwise to use this algorithm and instead just\n",
    "> use the `ContinuousRate` in simulations as the differences are likely to be\n",
    "> insignificant.\n",
    ">\n",
    "> So why is it here? Well, when investigating how banks calculate interest. It was found that\n",
    "> this is how they say they do it. For instance: https://www.abnamro.nl/en/personal/savings/interest-rates/when-and-how-often-do-you-receive-interest.html\n",
    ">\n",
    "> However, this did not give any indication of how they compensate for unequal quarters or\n",
    "> leap years. As such, the implementation here is probably wrong anyway, so just don't use it!"
   ]
  },
  {
   "cell_type": "markdown",
   "id": "638482e7cbc9dbd",
   "metadata": {
    "papermill": {
     "duration": 0.001738,
     "end_time": "2025-08-04T14:07:27.806666",
     "exception": false,
     "start_time": "2025-08-04T14:07:27.804928",
     "status": "completed"
    },
    "tags": []
   },
   "source": [
    "## BandedRate\n",
    "\n",
    "This rate combines a dictionary of rates that will be applied at different balance amounts."
   ]
  },
  {
   "cell_type": "markdown",
   "id": "3fd008912985412a",
   "metadata": {
    "papermill": {
     "duration": 0.001753,
     "end_time": "2025-08-04T14:07:27.810136",
     "exception": false,
     "start_time": "2025-08-04T14:07:27.808383",
     "status": "completed"
    },
    "tags": []
   },
   "source": [
    "Each call to calculate will return the daily amount associated with the given annual rate."
   ]
  },
  {
   "cell_type": "code",
   "id": "229b89b8769a473d",
   "metadata": {
    "execution": {
     "iopub.execute_input": "2025-08-04T14:07:27.814105Z",
     "iopub.status.busy": "2025-08-04T14:07:27.813998Z",
     "iopub.status.idle": "2025-08-04T14:07:27.926084Z",
     "shell.execute_reply": "2025-08-04T14:07:27.925861Z"
    },
    "papermill": {
     "duration": 0.114911,
     "end_time": "2025-08-04T14:07:27.926759",
     "exception": false,
     "start_time": "2025-08-04T14:07:27.811848",
     "status": "completed"
    },
    "tags": [],
    "ExecuteTime": {
     "end_time": "2025-08-04T19:03:48.929808Z",
     "start_time": "2025-08-04T19:03:48.924054Z"
    }
   },
   "source": [
    "rate = create_banded_rate({k: ContinuousRate(v) for k, v in BANDS.items()})\n",
    "calculation = rate.calculate(current_date=START_DATE,\n",
    "                             balance=STARTING_BALANCE,\n",
    "                             accrued=Decimal('0.0'))\n",
    "print(calculation)"
   ],
   "outputs": [
    {
     "name": "stdout",
     "output_type": "stream",
     "text": [
      "┌─────────────────────────┬────────────────────────┬──────────────┬──────────┬─────────────┐\n",
      "│ Band                    │                   Rate │      Balance │  Accrued │ Calculation │\n",
      "├─────────────────────────┼────────────────────────┼──────────────┼──────────┼─────────────┤\n",
      "│ up to 1000.00           │ ContinuousRate: 10.00% │  1000.000000 │ 0.000000 │    0.261158 │\n",
      "│ from 1000.00 to 2000.00 │ ContinuousRate: 20.00% │  1000.000000 │ 0.000000 │    0.499636 │\n",
      "│ from 2000.00 to 3000.00 │ ContinuousRate: 30.00% │  1000.000000 │ 0.000000 │    0.719065 │\n",
      "│ from 3000.00 to 4000.00 │ ContinuousRate: 40.00% │  1000.000000 │ 0.000000 │    0.922267 │\n",
      "│ above 4000.00           │  ContinuousRate: 0.00% │  6000.000000 │ 0.000000 │    0.000000 │\n",
      "├─────────────────────────┼────────────────────────┼──────────────┼──────────┼─────────────┤\n",
      "│ 2025-01-01 : Wed        │                 Totals │ 10000.000000 │ 0.000000 │    2.402125 │\n",
      "└─────────────────────────┴────────────────────────┴──────────────┴──────────┴─────────────┘\n"
     ]
    }
   ],
   "execution_count": 26
  },
  {
   "cell_type": "markdown",
   "id": "f513016d664a12c8",
   "metadata": {
    "papermill": {
     "duration": 0.001911,
     "end_time": "2025-08-04T14:07:27.930818",
     "exception": false,
     "start_time": "2025-08-04T14:07:27.928907",
     "status": "completed"
    },
    "tags": []
   },
   "source": [
    "So collecting the daily amounts over a full year, we can see the compounded result."
   ]
  },
  {
   "cell_type": "code",
   "id": "89aa8d339bee5fdc",
   "metadata": {
    "execution": {
     "iopub.execute_input": "2025-08-04T14:07:27.934949Z",
     "iopub.status.busy": "2025-08-04T14:07:27.934835Z",
     "iopub.status.idle": "2025-08-04T14:07:27.944475Z",
     "shell.execute_reply": "2025-08-04T14:07:27.944243Z"
    },
    "papermill": {
     "duration": 0.012492,
     "end_time": "2025-08-04T14:07:27.945121",
     "exception": false,
     "start_time": "2025-08-04T14:07:27.932629",
     "status": "completed"
    },
    "tags": [],
    "ExecuteTime": {
     "end_time": "2025-08-04T19:03:48.953375Z",
     "start_time": "2025-08-04T19:03:48.942775Z"
    }
   },
   "source": [
    "state_updater = StateUpdater(rate, DAILY_UPDATER_PROVIDER)\n",
    "final_state = reduce(lambda state, day: state_updater.update(day, state), DAYS, INITIAL_STATE)\n",
    "print(final_state)"
   ],
   "outputs": [
    {
     "name": "stdout",
     "output_type": "stream",
     "text": [
      "┌──────────────────┬───────────────────────┐\n",
      "│ Current date     │      2025-12-31 : Wed │\n",
      "│ Net deposits     │                 10000 │\n",
      "│ Interest paid    │ 874.37355277796035981 │\n",
      "│ Interest accrued │ 2.4021251449943965929 │\n",
      "│ Total            │ 10876.775677922954756 │\n",
      "└──────────────────┴───────────────────────┘\n"
     ]
    }
   ],
   "execution_count": 27
  },
  {
   "cell_type": "code",
   "id": "96a21b564081f75d",
   "metadata": {
    "execution": {
     "iopub.execute_input": "2025-08-04T14:07:27.949869Z",
     "iopub.status.busy": "2025-08-04T14:07:27.949753Z",
     "iopub.status.idle": "2025-08-04T14:07:28.076831Z",
     "shell.execute_reply": "2025-08-04T14:07:28.076570Z"
    },
    "papermill": {
     "duration": 0.13047,
     "end_time": "2025-08-04T14:07:28.077627",
     "exception": false,
     "start_time": "2025-08-04T14:07:27.947157",
     "status": "completed"
    },
    "tags": [],
    "ExecuteTime": {
     "end_time": "2025-08-04T19:03:48.974164Z",
     "start_time": "2025-08-04T19:03:48.965488Z"
    }
   },
   "source": [
    "rate = create_banded_rate({k: PeriodicRate(v, 4) for k, v in BANDS.items()})\n",
    "calculation = rate.calculate(current_date=START_DATE,\n",
    "                             balance=STARTING_BALANCE,\n",
    "                             accrued=Decimal('0.0'))\n",
    "print(calculation)"
   ],
   "outputs": [
    {
     "name": "stdout",
     "output_type": "stream",
     "text": [
      "┌─────────────────────────┬─────────────────────────────────┬──────────────┬──────────┬─────────────┐\n",
      "│ Band                    │                            Rate │      Balance │  Accrued │ Calculation │\n",
      "├─────────────────────────┼─────────────────────────────────┼──────────────┼──────────┼─────────────┤\n",
      "│ up to 1000.00           │ PeriodicRate: 4 periods: 10.00% │  1000.000000 │ 0.000000 │    0.264260 │\n",
      "│ from 1000.00 to 2000.00 │ PeriodicRate: 4 periods: 20.00% │  1000.000000 │ 0.000000 │    0.511070 │\n",
      "│ from 2000.00 to 3000.00 │ PeriodicRate: 4 periods: 30.00% │  1000.000000 │ 0.000000 │    0.742904 │\n",
      "│ from 3000.00 to 4000.00 │ PeriodicRate: 4 periods: 40.00% │  1000.000000 │ 0.000000 │    0.961724 │\n",
      "│ above 4000.00           │  PeriodicRate: 4 periods: 0.00% │  6000.000000 │ 0.000000 │    0.000000 │\n",
      "├─────────────────────────┼─────────────────────────────────┼──────────────┼──────────┼─────────────┤\n",
      "│ 2025-01-01 : Wed        │                          Totals │ 10000.000000 │ 0.000000 │    2.479957 │\n",
      "└─────────────────────────┴─────────────────────────────────┴──────────────┴──────────┴─────────────┘\n"
     ]
    }
   ],
   "execution_count": 28
  },
  {
   "cell_type": "code",
   "id": "aac7c58dffc93c2c",
   "metadata": {
    "execution": {
     "iopub.execute_input": "2025-08-04T14:07:28.083574Z",
     "iopub.status.busy": "2025-08-04T14:07:28.083421Z",
     "iopub.status.idle": "2025-08-04T14:07:28.097934Z",
     "shell.execute_reply": "2025-08-04T14:07:28.097596Z"
    },
    "papermill": {
     "duration": 0.018867,
     "end_time": "2025-08-04T14:07:28.098637",
     "exception": false,
     "start_time": "2025-08-04T14:07:28.079770",
     "status": "completed"
    },
    "tags": [],
    "ExecuteTime": {
     "end_time": "2025-08-04T19:03:48.996059Z",
     "start_time": "2025-08-04T19:03:48.982967Z"
    }
   },
   "source": [
    "state_updater = StateUpdater(rate, QUARTERLY_UPDATER_PROVIDER)\n",
    "final_state = reduce(lambda state, day: state_updater.update(day, state), DAYS, INITIAL_STATE)\n",
    "print(final_state)"
   ],
   "outputs": [
    {
     "name": "stdout",
     "output_type": "stream",
     "text": [
      "┌──────────────────┬───────────────────────┐\n",
      "│ Current date     │      2025-12-31 : Wed │\n",
      "│ Net deposits     │                 10000 │\n",
      "│ Interest paid    │ 677.02835235782307248 │\n",
      "│ Interest accrued │ 228.15607478725173139 │\n",
      "│ Total            │ 10905.184427145074804 │\n",
      "└──────────────────┴───────────────────────┘\n"
     ]
    }
   ],
   "execution_count": 29
  }
 ],
 "metadata": {
  "kernelspec": {
   "display_name": "Python 3",
   "language": "python",
   "name": "python3"
  },
  "language_info": {
   "codemirror_mode": {
    "name": "ipython",
    "version": 3
   },
   "file_extension": ".py",
   "mimetype": "text/x-python",
   "name": "python",
   "nbconvert_exporter": "python",
   "pygments_lexer": "ipython3",
   "version": "3.12.11"
  },
  "papermill": {
   "default_parameters": {},
   "duration": 1.497595,
   "end_time": "2025-08-04T14:07:28.215908",
   "environment_variables": {},
   "exception": null,
   "input_path": "./lib/rates/README.ipynb",
   "output_path": "./lib/rates/README.ipynb",
   "parameters": {},
   "start_time": "2025-08-04T14:07:26.718313",
   "version": "2.6.0"
  }
 },
 "nbformat": 4,
 "nbformat_minor": 5
}
