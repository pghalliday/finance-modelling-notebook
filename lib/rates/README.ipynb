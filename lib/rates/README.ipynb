{
 "cells": [
  {
   "cell_type": "markdown",
   "id": "7067663d0aefaf78",
   "metadata": {
    "papermill": {
     "duration": 0.009946,
     "end_time": "2025-08-05T10:46:30.976777",
     "exception": false,
     "start_time": "2025-08-05T10:46:30.966831",
     "status": "completed"
    },
    "tags": []
   },
   "source": [
    "# Rates\n",
    "\n",
    "A collection of daily rate calculation algorithms."
   ]
  },
  {
   "cell_type": "code",
   "execution_count": 1,
   "id": "cadbc5098d249568",
   "metadata": {
    "ExecuteTime": {
     "end_time": "2025-08-05T08:47:56.017830Z",
     "start_time": "2025-08-05T08:47:55.975609Z"
    },
    "execution": {
     "iopub.execute_input": "2025-08-05T10:46:30.988566Z",
     "iopub.status.busy": "2025-08-05T10:46:30.988085Z",
     "iopub.status.idle": "2025-08-05T10:46:31.037726Z",
     "shell.execute_reply": "2025-08-05T10:46:31.037447Z"
    },
    "papermill": {
     "duration": 0.055876,
     "end_time": "2025-08-05T10:46:31.038579",
     "exception": false,
     "start_time": "2025-08-05T10:46:30.982703",
     "status": "completed"
    },
    "tags": []
   },
   "outputs": [
    {
     "name": "stdout",
     "output_type": "stream",
     "text": [
      "Decimal context: Context(prec=1000, rounding=ROUND_HALF_EVEN, Emin=-999999, Emax=999999, capitals=1, clamp=0, flags=[], traps=[InvalidOperation, DivisionByZero, FloatOperation, Overflow])\n",
      "┌──────────────────┬──────────────────┐\n",
      "│ Current date     │ 2024-12-31 : Tue │\n",
      "│ Net deposits     │            10000 │\n",
      "│ Interest paid    │              0.0 │\n",
      "│ Interest accrued │              0.0 │\n",
      "│ Total            │          10000.0 │\n",
      "└──────────────────┴──────────────────┘\n"
     ]
    }
   ],
   "source": [
    "from datetime import date, timedelta\n",
    "from decimal import Decimal, getcontext, FloatOperation\n",
    "from functools import reduce\n",
    "\n",
    "from lib.rates import \\\n",
    "    ContinuousRate, \\\n",
    "    PeriodicRate, \\\n",
    "    create_banded_rate\n",
    "from lib.utils.date import days_in_year\n",
    "from lib.utils.rates.state import \\\n",
    "    State, \\\n",
    "    StateUpdater, \\\n",
    "    ANNUAL_UPDATER_PROVIDER, \\\n",
    "    QUARTERLY_UPDATER_PROVIDER, \\\n",
    "    DAILY_UPDATER_PROVIDER\n",
    "\n",
    "decimal_context = getcontext()\n",
    "decimal_context.traps[FloatOperation] = True\n",
    "decimal_context.prec = 1000\n",
    "\n",
    "START_DATE = date(date.today().year, 1, 1)\n",
    "DAYS = [START_DATE + timedelta(days=day) for day in range(days_in_year(START_DATE.year))]\n",
    "RATE = Decimal('0.015')\n",
    "BANDS = {Decimal('0.0'): Decimal('0.10'),\n",
    "         Decimal('1000.0'): Decimal('0.20'),\n",
    "         Decimal('2000.0'): Decimal('0.30'),\n",
    "         Decimal('3000.0'): Decimal('0.40'),\n",
    "         Decimal('4000.0'): Decimal('0.0')}\n",
    "STARTING_BALANCE = Decimal('10_000')\n",
    "\n",
    "INITIAL_STATE = State(current_date=START_DATE - timedelta(days=1),\n",
    "                      net_deposits=STARTING_BALANCE,\n",
    "                      interest_paid=Decimal('0.0'),\n",
    "                      interest_accrued=Decimal('0.0'))\n",
    "\n",
    "print(f'Decimal context: {decimal_context}')\n",
    "print(INITIAL_STATE)"
   ]
  },
  {
   "cell_type": "markdown",
   "id": "6ba0fbf8aefde640",
   "metadata": {
    "papermill": {
     "duration": 0.002093,
     "end_time": "2025-08-05T10:46:31.043068",
     "exception": false,
     "start_time": "2025-08-05T10:46:31.040975",
     "status": "completed"
    },
    "tags": []
   },
   "source": [
    "## ContinuousRate\n",
    "\n",
    "This calculator applies a continuously compounding algorithm, which most accurately reflects a\n",
    "continuous return given a desired annual rate."
   ]
  },
  {
   "cell_type": "markdown",
   "id": "53b9895f7157ddb0",
   "metadata": {
    "papermill": {
     "duration": 0.001879,
     "end_time": "2025-08-05T10:46:31.046826",
     "exception": false,
     "start_time": "2025-08-05T10:46:31.044947",
     "status": "completed"
    },
    "tags": []
   },
   "source": [
    "Each call to calculate will return the daily amount associated with the given annual rate."
   ]
  },
  {
   "cell_type": "code",
   "execution_count": 2,
   "id": "378306241b59fd56",
   "metadata": {
    "ExecuteTime": {
     "end_time": "2025-08-05T08:47:56.053910Z",
     "start_time": "2025-08-05T08:47:56.025146Z"
    },
    "execution": {
     "iopub.execute_input": "2025-08-05T10:46:31.051106Z",
     "iopub.status.busy": "2025-08-05T10:46:31.050989Z",
     "iopub.status.idle": "2025-08-05T10:46:31.075900Z",
     "shell.execute_reply": "2025-08-05T10:46:31.075666Z"
    },
    "papermill": {
     "duration": 0.027818,
     "end_time": "2025-08-05T10:46:31.076560",
     "exception": false,
     "start_time": "2025-08-05T10:46:31.048742",
     "status": "completed"
    },
    "tags": []
   },
   "outputs": [
    {
     "name": "stdout",
     "output_type": "stream",
     "text": [
      "┌──────────────┬───────────────────────┐\n",
      "│ Current date │      2025-01-01 : Wed │\n",
      "│ Rate         │ ContinuousRate: 1.50% │\n",
      "│ Daily rate   │              0.004079 │\n",
      "│ Balance      │          10000.000000 │\n",
      "│ Accrued      │              0.000000 │\n",
      "│ Calculation  │              0.407916 │\n",
      "└──────────────┴───────────────────────┘\n"
     ]
    }
   ],
   "source": [
    "rate = ContinuousRate(RATE)\n",
    "calculation = rate.calculate(current_date=START_DATE,\n",
    "                             balance=STARTING_BALANCE,\n",
    "                             accrued=Decimal('0.0'))\n",
    "print(calculation)"
   ]
  },
  {
   "cell_type": "markdown",
   "id": "6ad2b1a98ad5e3d1",
   "metadata": {
    "papermill": {
     "duration": 0.001687,
     "end_time": "2025-08-05T10:46:31.080061",
     "exception": false,
     "start_time": "2025-08-05T10:46:31.078374",
     "status": "completed"
    },
    "tags": []
   },
   "source": [
    "So collecting the daily amounts over a full year, we can see the compounded result."
   ]
  },
  {
   "cell_type": "code",
   "execution_count": 3,
   "id": "957e6d3eafd4f71a",
   "metadata": {
    "ExecuteTime": {
     "end_time": "2025-08-05T08:47:56.159566Z",
     "start_time": "2025-08-05T08:47:56.144827Z"
    },
    "execution": {
     "iopub.execute_input": "2025-08-05T10:46:31.083658Z",
     "iopub.status.busy": "2025-08-05T10:46:31.083556Z",
     "iopub.status.idle": "2025-08-05T10:46:31.097871Z",
     "shell.execute_reply": "2025-08-05T10:46:31.097628Z"
    },
    "papermill": {
     "duration": 0.016867,
     "end_time": "2025-08-05T10:46:31.098528",
     "exception": false,
     "start_time": "2025-08-05T10:46:31.081661",
     "status": "completed"
    },
    "tags": []
   },
   "outputs": [
    {
     "name": "stdout",
     "output_type": "stream",
     "text": [
      "┌──────────────────┬───────────────────────┐\n",
      "│ Current date     │      2025-12-31 : Wed │\n",
      "│ Net deposits     │                 10000 │\n",
      "│ Interest paid    │                   0.0 │\n",
      "│ Interest accrued │ 150.00000000000000000 │\n",
      "│ Total            │ 10150.000000000000000 │\n",
      "└──────────────────┴───────────────────────┘\n"
     ]
    }
   ],
   "source": [
    "state_updater = StateUpdater(rate, ANNUAL_UPDATER_PROVIDER)\n",
    "final_state = reduce(lambda state, day: state_updater.update(day, state), DAYS, INITIAL_STATE)\n",
    "print(final_state)"
   ]
  },
  {
   "cell_type": "code",
   "execution_count": 4,
   "id": "df995429b8f0dbc6",
   "metadata": {
    "ExecuteTime": {
     "end_time": "2025-08-05T08:47:56.190215Z",
     "start_time": "2025-08-05T08:47:56.171761Z"
    },
    "execution": {
     "iopub.execute_input": "2025-08-05T10:46:31.102459Z",
     "iopub.status.busy": "2025-08-05T10:46:31.102363Z",
     "iopub.status.idle": "2025-08-05T10:46:31.116804Z",
     "shell.execute_reply": "2025-08-05T10:46:31.116608Z"
    },
    "papermill": {
     "duration": 0.017043,
     "end_time": "2025-08-05T10:46:31.117409",
     "exception": false,
     "start_time": "2025-08-05T10:46:31.100366",
     "status": "completed"
    },
    "tags": []
   },
   "outputs": [
    {
     "name": "stdout",
     "output_type": "stream",
     "text": [
      "┌──────────────────┬───────────────────────┐\n",
      "│ Current date     │      2025-12-31 : Wed │\n",
      "│ Net deposits     │                 10000 │\n",
      "│ Interest paid    │ 111.98100887779136099 │\n",
      "│ Interest accrued │ 38.018991122208639007 │\n",
      "│ Total            │ 10150.000000000000000 │\n",
      "└──────────────────┴───────────────────────┘\n"
     ]
    }
   ],
   "source": [
    "state_updater = StateUpdater(rate, QUARTERLY_UPDATER_PROVIDER)\n",
    "final_state = reduce(lambda state, day: state_updater.update(day, state), DAYS, INITIAL_STATE)\n",
    "print(final_state)"
   ]
  },
  {
   "cell_type": "code",
   "execution_count": 5,
   "id": "a960253e994fbcb0",
   "metadata": {
    "ExecuteTime": {
     "end_time": "2025-08-05T08:47:56.215822Z",
     "start_time": "2025-08-05T08:47:56.199518Z"
    },
    "execution": {
     "iopub.execute_input": "2025-08-05T10:46:31.121368Z",
     "iopub.status.busy": "2025-08-05T10:46:31.121261Z",
     "iopub.status.idle": "2025-08-05T10:46:31.135672Z",
     "shell.execute_reply": "2025-08-05T10:46:31.135457Z"
    },
    "papermill": {
     "duration": 0.017225,
     "end_time": "2025-08-05T10:46:31.136327",
     "exception": false,
     "start_time": "2025-08-05T10:46:31.119102",
     "status": "completed"
    },
    "tags": []
   },
   "outputs": [
    {
     "name": "stdout",
     "output_type": "stream",
     "text": [
      "┌──────────────────┬────────────────────────┐\n",
      "│ Current date     │       2025-12-31 : Wed │\n",
      "│ Net deposits     │                  10000 │\n",
      "│ Interest paid    │  149.58598264460649109 │\n",
      "│ Interest accrued │ 0.41401735539350891438 │\n",
      "│ Total            │  10150.000000000000000 │\n",
      "└──────────────────┴────────────────────────┘\n"
     ]
    }
   ],
   "source": [
    "state_updater = StateUpdater(rate, DAILY_UPDATER_PROVIDER)\n",
    "final_state = reduce(lambda state, day: state_updater.update(day, state), DAYS, INITIAL_STATE)\n",
    "print(final_state)"
   ]
  },
  {
   "cell_type": "markdown",
   "id": "833de3ea900c9057",
   "metadata": {
    "papermill": {
     "duration": 0.001673,
     "end_time": "2025-08-05T10:46:31.139880",
     "exception": false,
     "start_time": "2025-08-05T10:46:31.138207",
     "status": "completed"
    },
    "tags": []
   },
   "source": [
    "## PeriodicRate\n",
    "\n",
    "This calculator applies a periodic compounding algorithm by applying the same rate to the\n",
    "balance for each day without taking into account the unrealized accrued amount. For a constant\n",
    "balance, this should provide the same return as the `ContinuousRate`. However,\n",
    "for a falling balance it will return less and for a rising balance it will return more."
   ]
  },
  {
   "cell_type": "markdown",
   "id": "46a81808e6738906",
   "metadata": {
    "papermill": {
     "duration": 0.001675,
     "end_time": "2025-08-05T10:46:31.143214",
     "exception": false,
     "start_time": "2025-08-05T10:46:31.141539",
     "status": "completed"
    },
    "tags": []
   },
   "source": [
    "Each call to calculate will return the daily amount associated with the given annual rate."
   ]
  },
  {
   "cell_type": "code",
   "execution_count": 6,
   "id": "9da69ad7cd759f07",
   "metadata": {
    "ExecuteTime": {
     "end_time": "2025-08-05T08:47:56.227197Z",
     "start_time": "2025-08-05T08:47:56.224684Z"
    },
    "execution": {
     "iopub.execute_input": "2025-08-05T10:46:31.146968Z",
     "iopub.status.busy": "2025-08-05T10:46:31.146863Z",
     "iopub.status.idle": "2025-08-05T10:46:31.148772Z",
     "shell.execute_reply": "2025-08-05T10:46:31.148568Z"
    },
    "papermill": {
     "duration": 0.004572,
     "end_time": "2025-08-05T10:46:31.149384",
     "exception": false,
     "start_time": "2025-08-05T10:46:31.144812",
     "status": "completed"
    },
    "tags": []
   },
   "outputs": [
    {
     "name": "stdout",
     "output_type": "stream",
     "text": [
      "┌──────────────┬────────────────────────────────┐\n",
      "│ Current date │               2025-01-01 : Wed │\n",
      "│ Rate         │ PeriodicRate: 1 periods: 1.50% │\n",
      "│ Daily rate   │                       0.004110 │\n",
      "│ Balance      │                   10000.000000 │\n",
      "│ Accrued      │                       0.000000 │\n",
      "│ Calculation  │                       0.410959 │\n",
      "└──────────────┴────────────────────────────────┘\n"
     ]
    }
   ],
   "source": [
    "rate = PeriodicRate(RATE, 1)\n",
    "calculation = rate.calculate(current_date=START_DATE,\n",
    "                             balance=STARTING_BALANCE,\n",
    "                             accrued=Decimal('0.0'))\n",
    "print(calculation)"
   ]
  },
  {
   "cell_type": "markdown",
   "id": "1ea82b5d782a7830",
   "metadata": {
    "papermill": {
     "duration": 0.001918,
     "end_time": "2025-08-05T10:46:31.153107",
     "exception": false,
     "start_time": "2025-08-05T10:46:31.151189",
     "status": "completed"
    },
    "tags": []
   },
   "source": [
    "So collecting the daily amounts over a full year, we can see the compounded result."
   ]
  },
  {
   "cell_type": "code",
   "execution_count": 7,
   "id": "ebde40f77b990bf8",
   "metadata": {
    "ExecuteTime": {
     "end_time": "2025-08-05T08:47:56.244971Z",
     "start_time": "2025-08-05T08:47:56.239863Z"
    },
    "execution": {
     "iopub.execute_input": "2025-08-05T10:46:31.156851Z",
     "iopub.status.busy": "2025-08-05T10:46:31.156759Z",
     "iopub.status.idle": "2025-08-05T10:46:31.160195Z",
     "shell.execute_reply": "2025-08-05T10:46:31.159944Z"
    },
    "papermill": {
     "duration": 0.006012,
     "end_time": "2025-08-05T10:46:31.160804",
     "exception": false,
     "start_time": "2025-08-05T10:46:31.154792",
     "status": "completed"
    },
    "tags": []
   },
   "outputs": [
    {
     "name": "stdout",
     "output_type": "stream",
     "text": [
      "┌──────────────────┬───────────────────────┐\n",
      "│ Current date     │      2025-12-31 : Wed │\n",
      "│ Net deposits     │                 10000 │\n",
      "│ Interest paid    │                   0.0 │\n",
      "│ Interest accrued │ 150.00000000000000000 │\n",
      "│ Total            │ 10150.000000000000000 │\n",
      "└──────────────────┴───────────────────────┘\n"
     ]
    }
   ],
   "source": [
    "state_updater = StateUpdater(rate, ANNUAL_UPDATER_PROVIDER)\n",
    "final_state = reduce(lambda state, day: state_updater.update(day, state), DAYS, INITIAL_STATE)\n",
    "print(final_state)"
   ]
  },
  {
   "cell_type": "code",
   "execution_count": 8,
   "id": "f81169fe23aa6030",
   "metadata": {
    "ExecuteTime": {
     "end_time": "2025-08-05T08:47:56.284890Z",
     "start_time": "2025-08-05T08:47:56.256391Z"
    },
    "execution": {
     "iopub.execute_input": "2025-08-05T10:46:31.164750Z",
     "iopub.status.busy": "2025-08-05T10:46:31.164656Z",
     "iopub.status.idle": "2025-08-05T10:46:31.190025Z",
     "shell.execute_reply": "2025-08-05T10:46:31.189825Z"
    },
    "papermill": {
     "duration": 0.02803,
     "end_time": "2025-08-05T10:46:31.190640",
     "exception": false,
     "start_time": "2025-08-05T10:46:31.162610",
     "status": "completed"
    },
    "tags": []
   },
   "outputs": [
    {
     "name": "stdout",
     "output_type": "stream",
     "text": [
      "┌──────────────┬────────────────────────────────┐\n",
      "│ Current date │               2025-01-01 : Wed │\n",
      "│ Rate         │ PeriodicRate: 4 periods: 1.50% │\n",
      "│ Daily rate   │                       0.004087 │\n",
      "│ Balance      │                   10000.000000 │\n",
      "│ Accrued      │                       0.000000 │\n",
      "│ Calculation  │                       0.408667 │\n",
      "└──────────────┴────────────────────────────────┘\n"
     ]
    }
   ],
   "source": [
    "rate = PeriodicRate(RATE, 4)\n",
    "calculation = rate.calculate(current_date=START_DATE,\n",
    "                             balance=STARTING_BALANCE,\n",
    "                             accrued=Decimal('0.0'))\n",
    "print(calculation)"
   ]
  },
  {
   "cell_type": "code",
   "execution_count": 9,
   "id": "272e3ae294f74519",
   "metadata": {
    "ExecuteTime": {
     "end_time": "2025-08-05T08:47:56.311145Z",
     "start_time": "2025-08-05T08:47:56.298194Z"
    },
    "execution": {
     "iopub.execute_input": "2025-08-05T10:46:31.194659Z",
     "iopub.status.busy": "2025-08-05T10:46:31.194564Z",
     "iopub.status.idle": "2025-08-05T10:46:31.206218Z",
     "shell.execute_reply": "2025-08-05T10:46:31.206019Z"
    },
    "papermill": {
     "duration": 0.01438,
     "end_time": "2025-08-05T10:46:31.206884",
     "exception": false,
     "start_time": "2025-08-05T10:46:31.192504",
     "status": "completed"
    },
    "tags": []
   },
   "outputs": [
    {
     "name": "stdout",
     "output_type": "stream",
     "text": [
      "┌──────────────────┬───────────────────────┐\n",
      "│ Current date     │      2025-12-31 : Wed │\n",
      "│ Net deposits     │                 10000 │\n",
      "│ Interest paid    │ 111.98156556526785157 │\n",
      "│ Interest accrued │ 38.018411299158197925 │\n",
      "│ Total            │ 10149.999976864426049 │\n",
      "└──────────────────┴───────────────────────┘\n"
     ]
    }
   ],
   "source": [
    "state_updater = StateUpdater(rate, QUARTERLY_UPDATER_PROVIDER)\n",
    "final_state = reduce(lambda state, day: state_updater.update(day, state), DAYS, INITIAL_STATE)\n",
    "print(final_state)"
   ]
  },
  {
   "cell_type": "markdown",
   "id": "d6f6b16430b9959e",
   "metadata": {
    "papermill": {
     "duration": 0.001808,
     "end_time": "2025-08-05T10:46:31.210606",
     "exception": false,
     "start_time": "2025-08-05T10:46:31.208798",
     "status": "completed"
    },
    "tags": []
   },
   "source": [
    "> **_NB._** We can see an error here as the total is slightly less than the expected 10,150.\n",
    "> This is due to an inadequacy in the algorithm. The rate calculation assumes that\n",
    "> quarters are of equal length. This is not the case and can't really be the case, as years\n",
    "> cannot be divided into a four equal number of days. We are actually using 3 calendar months\n",
    "> per quarter.\n",
    ">\n",
    "> So why is the result slightly less? This is due to compounding as payments from earlier quarters\n",
    "> compound more than those from later quarters. There are fewer days in the first\n",
    "> two quarters than the second two, but the daily rate is the same. This means that fewer days\n",
    "> of payments are compounded from the first half of the year than if the periods were equal\n",
    "> length. The fact that those days compound for more time, as the payment is earlier, does not\n",
    "> compensate for the missing days."
   ]
  },
  {
   "cell_type": "code",
   "execution_count": 10,
   "id": "19ec63b4d8bcea96",
   "metadata": {
    "ExecuteTime": {
     "end_time": "2025-08-05T08:47:56.322170Z",
     "start_time": "2025-08-05T08:47:56.319144Z"
    },
    "execution": {
     "iopub.execute_input": "2025-08-05T10:46:31.215038Z",
     "iopub.status.busy": "2025-08-05T10:46:31.214938Z",
     "iopub.status.idle": "2025-08-05T10:46:31.216767Z",
     "shell.execute_reply": "2025-08-05T10:46:31.216528Z"
    },
    "papermill": {
     "duration": 0.00503,
     "end_time": "2025-08-05T10:46:31.217355",
     "exception": false,
     "start_time": "2025-08-05T10:46:31.212325",
     "status": "completed"
    },
    "tags": []
   },
   "outputs": [
    {
     "name": "stdout",
     "output_type": "stream",
     "text": [
      "Days in first half of the year 181\n",
      "Days in second half of the year 184\n"
     ]
    }
   ],
   "source": [
    "print('Days in first half of the year', (date(2025, 7, 1) - date(2025, 1, 1)).days)\n",
    "print('Days in second half of the year', (date(2026, 1, 1) - date(2025, 7, 1)).days)\n"
   ]
  },
  {
   "cell_type": "markdown",
   "id": "7197dbbbaf41699f",
   "metadata": {
    "papermill": {
     "duration": 0.001861,
     "end_time": "2025-08-05T10:46:31.221023",
     "exception": false,
     "start_time": "2025-08-05T10:46:31.219162",
     "status": "completed"
    },
    "tags": []
   },
   "source": [
    "> **_NBB._** It may be possible to correct this algorithm, but any solution is likely to throw\n",
    "> up more problems. For instance what should we do if a period crosses between a regular year\n",
    "> and a leap year?\n",
    ">\n",
    "> For this reason it is probably unwise to use this algorithm and instead just\n",
    "> use the `ContinuousRate` in simulations as the differences are likely to be\n",
    "> insignificant.\n",
    ">\n",
    "> So why is it here? Well, when investigating how banks calculate interest. It was found that\n",
    "> this is how they say they do it. For instance: https://www.abnamro.nl/en/personal/savings/interest-rates/when-and-how-often-do-you-receive-interest.html\n",
    ">\n",
    "> However, this did not give any indication of how they compensate for unequal quarters or\n",
    "> leap years. As such, the implementation here is probably wrong anyway, so just don't use it!"
   ]
  },
  {
   "cell_type": "markdown",
   "id": "638482e7cbc9dbd",
   "metadata": {
    "papermill": {
     "duration": 0.00177,
     "end_time": "2025-08-05T10:46:31.224548",
     "exception": false,
     "start_time": "2025-08-05T10:46:31.222778",
     "status": "completed"
    },
    "tags": []
   },
   "source": [
    "## BandedRate\n",
    "\n",
    "This rate combines a dictionary of rates that will be applied at different balance amounts."
   ]
  },
  {
   "cell_type": "markdown",
   "id": "3fd008912985412a",
   "metadata": {
    "papermill": {
     "duration": 0.001801,
     "end_time": "2025-08-05T10:46:31.228094",
     "exception": false,
     "start_time": "2025-08-05T10:46:31.226293",
     "status": "completed"
    },
    "tags": []
   },
   "source": [
    "Each call to calculate will return the daily amount associated with the given annual rate."
   ]
  },
  {
   "cell_type": "code",
   "execution_count": 11,
   "id": "229b89b8769a473d",
   "metadata": {
    "ExecuteTime": {
     "end_time": "2025-08-05T08:47:56.440351Z",
     "start_time": "2025-08-05T08:47:56.329994Z"
    },
    "execution": {
     "iopub.execute_input": "2025-08-05T10:46:31.232294Z",
     "iopub.status.busy": "2025-08-05T10:46:31.232136Z",
     "iopub.status.idle": "2025-08-05T10:46:31.339189Z",
     "shell.execute_reply": "2025-08-05T10:46:31.338942Z"
    },
    "papermill": {
     "duration": 0.110031,
     "end_time": "2025-08-05T10:46:31.339873",
     "exception": false,
     "start_time": "2025-08-05T10:46:31.229842",
     "status": "completed"
    },
    "tags": []
   },
   "outputs": [
    {
     "name": "stdout",
     "output_type": "stream",
     "text": [
      "┌─────────────────────────┬────────────────────────┬──────────────┬──────────┬─────────────┐\n",
      "│ Band                    │                   Rate │      Balance │  Accrued │ Calculation │\n",
      "├─────────────────────────┼────────────────────────┼──────────────┼──────────┼─────────────┤\n",
      "│ up to 1000.00           │ ContinuousRate: 10.00% │  1000.000000 │ 0.000000 │    0.261158 │\n",
      "│ from 1000.00 to 2000.00 │ ContinuousRate: 20.00% │  1000.000000 │ 0.000000 │    0.499636 │\n",
      "│ from 2000.00 to 3000.00 │ ContinuousRate: 30.00% │  1000.000000 │ 0.000000 │    0.719065 │\n",
      "│ from 3000.00 to 4000.00 │ ContinuousRate: 40.00% │  1000.000000 │ 0.000000 │    0.922267 │\n",
      "│ above 4000.00           │  ContinuousRate: 0.00% │  6000.000000 │ 0.000000 │    0.000000 │\n",
      "├─────────────────────────┼────────────────────────┼──────────────┼──────────┼─────────────┤\n",
      "│ 2025-01-01 : Wed        │                 Totals │ 10000.000000 │ 0.000000 │    2.402125 │\n",
      "└─────────────────────────┴────────────────────────┴──────────────┴──────────┴─────────────┘\n"
     ]
    }
   ],
   "source": [
    "rate = create_banded_rate({k: ContinuousRate(v) for k, v in BANDS.items()})\n",
    "calculation = rate.calculate(current_date=START_DATE,\n",
    "                             balance=STARTING_BALANCE,\n",
    "                             accrued=Decimal('0.0'))\n",
    "print(calculation)"
   ]
  },
  {
   "cell_type": "markdown",
   "id": "f513016d664a12c8",
   "metadata": {
    "papermill": {
     "duration": 0.001876,
     "end_time": "2025-08-05T10:46:31.343894",
     "exception": false,
     "start_time": "2025-08-05T10:46:31.342018",
     "status": "completed"
    },
    "tags": []
   },
   "source": [
    "So collecting the daily amounts over a full year, we can see the compounded result."
   ]
  },
  {
   "cell_type": "code",
   "execution_count": 12,
   "id": "89aa8d339bee5fdc",
   "metadata": {
    "ExecuteTime": {
     "end_time": "2025-08-05T08:47:56.457723Z",
     "start_time": "2025-08-05T08:47:56.447913Z"
    },
    "execution": {
     "iopub.execute_input": "2025-08-05T10:46:31.348243Z",
     "iopub.status.busy": "2025-08-05T10:46:31.348126Z",
     "iopub.status.idle": "2025-08-05T10:46:31.357292Z",
     "shell.execute_reply": "2025-08-05T10:46:31.357086Z"
    },
    "papermill": {
     "duration": 0.012207,
     "end_time": "2025-08-05T10:46:31.357996",
     "exception": false,
     "start_time": "2025-08-05T10:46:31.345789",
     "status": "completed"
    },
    "tags": []
   },
   "outputs": [
    {
     "name": "stdout",
     "output_type": "stream",
     "text": [
      "┌──────────────────┬───────────────────────┐\n",
      "│ Current date     │      2025-12-31 : Wed │\n",
      "│ Net deposits     │                 10000 │\n",
      "│ Interest paid    │ 874.37355277796035981 │\n",
      "│ Interest accrued │ 2.4021251449943965929 │\n",
      "│ Total            │ 10876.775677922954756 │\n",
      "└──────────────────┴───────────────────────┘\n"
     ]
    }
   ],
   "source": [
    "state_updater = StateUpdater(rate, DAILY_UPDATER_PROVIDER)\n",
    "final_state = reduce(lambda state, day: state_updater.update(day, state), DAYS, INITIAL_STATE)\n",
    "print(final_state)"
   ]
  },
  {
   "cell_type": "code",
   "execution_count": 13,
   "id": "96a21b564081f75d",
   "metadata": {
    "ExecuteTime": {
     "end_time": "2025-08-05T08:47:56.594357Z",
     "start_time": "2025-08-05T08:47:56.468214Z"
    },
    "execution": {
     "iopub.execute_input": "2025-08-05T10:46:31.362200Z",
     "iopub.status.busy": "2025-08-05T10:46:31.362105Z",
     "iopub.status.idle": "2025-08-05T10:46:31.485086Z",
     "shell.execute_reply": "2025-08-05T10:46:31.484869Z"
    },
    "papermill": {
     "duration": 0.12582,
     "end_time": "2025-08-05T10:46:31.485739",
     "exception": false,
     "start_time": "2025-08-05T10:46:31.359919",
     "status": "completed"
    },
    "tags": []
   },
   "outputs": [
    {
     "name": "stdout",
     "output_type": "stream",
     "text": [
      "┌─────────────────────────┬─────────────────────────────────┬──────────────┬──────────┬─────────────┐\n",
      "│ Band                    │                            Rate │      Balance │  Accrued │ Calculation │\n",
      "├─────────────────────────┼─────────────────────────────────┼──────────────┼──────────┼─────────────┤\n",
      "│ up to 1000.00           │ PeriodicRate: 4 periods: 10.00% │  1000.000000 │ 0.000000 │    0.264260 │\n",
      "│ from 1000.00 to 2000.00 │ PeriodicRate: 4 periods: 20.00% │  1000.000000 │ 0.000000 │    0.511070 │\n",
      "│ from 2000.00 to 3000.00 │ PeriodicRate: 4 periods: 30.00% │  1000.000000 │ 0.000000 │    0.742904 │\n",
      "│ from 3000.00 to 4000.00 │ PeriodicRate: 4 periods: 40.00% │  1000.000000 │ 0.000000 │    0.961724 │\n",
      "│ above 4000.00           │  PeriodicRate: 4 periods: 0.00% │  6000.000000 │ 0.000000 │    0.000000 │\n",
      "├─────────────────────────┼─────────────────────────────────┼──────────────┼──────────┼─────────────┤\n",
      "│ 2025-01-01 : Wed        │                          Totals │ 10000.000000 │ 0.000000 │    2.479957 │\n",
      "└─────────────────────────┴─────────────────────────────────┴──────────────┴──────────┴─────────────┘\n"
     ]
    }
   ],
   "source": [
    "rate = create_banded_rate({k: PeriodicRate(v, 4) for k, v in BANDS.items()})\n",
    "calculation = rate.calculate(current_date=START_DATE,\n",
    "                             balance=STARTING_BALANCE,\n",
    "                             accrued=Decimal('0.0'))\n",
    "print(calculation)"
   ]
  },
  {
   "cell_type": "code",
   "execution_count": 14,
   "id": "aac7c58dffc93c2c",
   "metadata": {
    "ExecuteTime": {
     "end_time": "2025-08-05T08:47:56.616393Z",
     "start_time": "2025-08-05T08:47:56.604909Z"
    },
    "execution": {
     "iopub.execute_input": "2025-08-05T10:46:31.490127Z",
     "iopub.status.busy": "2025-08-05T10:46:31.490028Z",
     "iopub.status.idle": "2025-08-05T10:46:31.500642Z",
     "shell.execute_reply": "2025-08-05T10:46:31.500426Z"
    },
    "papermill": {
     "duration": 0.013487,
     "end_time": "2025-08-05T10:46:31.501296",
     "exception": false,
     "start_time": "2025-08-05T10:46:31.487809",
     "status": "completed"
    },
    "tags": []
   },
   "outputs": [
    {
     "name": "stdout",
     "output_type": "stream",
     "text": [
      "┌──────────────────┬───────────────────────┐\n",
      "│ Current date     │      2025-12-31 : Wed │\n",
      "│ Net deposits     │                 10000 │\n",
      "│ Interest paid    │ 677.02835235782307248 │\n",
      "│ Interest accrued │ 228.15607478725173139 │\n",
      "│ Total            │ 10905.184427145074804 │\n",
      "└──────────────────┴───────────────────────┘\n"
     ]
    }
   ],
   "source": [
    "state_updater = StateUpdater(rate, QUARTERLY_UPDATER_PROVIDER)\n",
    "final_state = reduce(lambda state, day: state_updater.update(day, state), DAYS, INITIAL_STATE)\n",
    "print(final_state)"
   ]
  }
 ],
 "metadata": {
  "kernelspec": {
   "display_name": "Python 3",
   "language": "python",
   "name": "python3"
  },
  "language_info": {
   "codemirror_mode": {
    "name": "ipython",
    "version": 3
   },
   "file_extension": ".py",
   "mimetype": "text/x-python",
   "name": "python",
   "nbconvert_exporter": "python",
   "pygments_lexer": "ipython3",
   "version": "3.12.11"
  },
  "papermill": {
   "default_parameters": {},
   "duration": 1.645364,
   "end_time": "2025-08-05T10:46:31.618054",
   "environment_variables": {},
   "exception": null,
   "input_path": "./lib/rates/README.ipynb",
   "output_path": "./lib/rates/README.ipynb",
   "parameters": {},
   "start_time": "2025-08-05T10:46:29.972690",
   "version": "2.6.0"
  }
 },
 "nbformat": 4,
 "nbformat_minor": 5
}