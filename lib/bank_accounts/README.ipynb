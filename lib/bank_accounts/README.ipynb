{
 "cells": [
  {
   "cell_type": "markdown",
   "id": "d6a740bc5792ca7d",
   "metadata": {
    "papermill": {
     "duration": 0.004913,
     "end_time": "2025-08-05T15:15:37.397445",
     "exception": false,
     "start_time": "2025-08-05T15:15:37.392532",
     "status": "completed"
    },
    "tags": []
   },
   "source": [
    "# Bank Accounts\n",
    "\n",
    "State and reducer implementations to keep track of bank account changes."
   ]
  },
  {
   "cell_type": "code",
   "execution_count": 1,
   "id": "b954acf954365ab5",
   "metadata": {
    "ExecuteTime": {
     "end_time": "2025-08-05T14:27:12.195852Z",
     "start_time": "2025-08-05T14:27:11.979130Z"
    },
    "execution": {
     "iopub.execute_input": "2025-08-05T15:15:37.404745Z",
     "iopub.status.busy": "2025-08-05T15:15:37.404213Z",
     "iopub.status.idle": "2025-08-05T15:15:37.548512Z",
     "shell.execute_reply": "2025-08-05T15:15:37.547845Z"
    },
    "papermill": {
     "duration": 0.150182,
     "end_time": "2025-08-05T15:15:37.550845",
     "exception": false,
     "start_time": "2025-08-05T15:15:37.400663",
     "status": "completed"
    },
    "tags": []
   },
   "outputs": [
    {
     "name": "stdout",
     "output_type": "stream",
     "text": [
      "Decimal context: Context(prec=1000, rounding=ROUND_HALF_EVEN, Emin=-999999, Emax=999999, capitals=1, clamp=0, flags=[], traps=[InvalidOperation, DivisionByZero, FloatOperation, Overflow])\n",
      "┌──────────────────┬──────────────────┐\n",
      "│ Current date     │ 2024-12-31 : Tue │\n",
      "│ Interest applied │         0.000000 │\n",
      "│ Interest accrued │         0.000000 │\n",
      "│ Balance          │     10000.000000 │\n",
      "│ Total            │     10000.000000 │\n",
      "└──────────────────┴──────────────────┘\n"
     ]
    }
   ],
   "source": [
    "from datetime import date\n",
    "from decimal import Decimal, getcontext, FloatOperation\n",
    "\n",
    "from lib.bank_accounts import BankAccount, BankAccountReducer\n",
    "from lib.providers import AlwaysProvider\n",
    "from lib.rates import ContinuousRate\n",
    "from lib.schedules import DailySchedule\n",
    "from lib.utils.date import days_in_year\n",
    "\n",
    "decimal_context = getcontext()\n",
    "decimal_context.traps[FloatOperation] = True\n",
    "decimal_context.prec = 1000\n",
    "\n",
    "# Start on the last day of last year so we create opening states for the first year in our range\n",
    "START_DATE = date(date.today().year - 1, 12, 31)\n",
    "YEARS = [START_DATE.year + offset for offset in range(1, 4)]\n",
    "# Total number of days in years plus one, so we roll over into another year and create closing states\n",
    "# for the last year in our range\n",
    "DAYS = range(sum([days_in_year(year) for year in YEARS]) + 1)\n",
    "RATE_PROVIDER = AlwaysProvider(ContinuousRate(Decimal('0.015')))\n",
    "STARTING_BALANCE = Decimal('10_000')\n",
    "\n",
    "INITIAL_STATE = BankAccount(current_date=START_DATE,\n",
    "                            balance=STARTING_BALANCE)\n",
    "\n",
    "print(f'Decimal context: {decimal_context}')\n",
    "print(INITIAL_STATE)"
   ]
  },
  {
   "cell_type": "markdown",
   "id": "63cb9ebc0372caf3",
   "metadata": {
    "papermill": {
     "duration": 0.002843,
     "end_time": "2025-08-05T15:15:37.556417",
     "exception": false,
     "start_time": "2025-08-05T15:15:37.553574",
     "status": "completed"
    },
    "tags": []
   },
   "source": [
    "The reducer should be provided with an interest rate and an interest payment schedule."
   ]
  },
  {
   "cell_type": "code",
   "execution_count": 2,
   "id": "e0f95b367b11e0aa",
   "metadata": {
    "ExecuteTime": {
     "end_time": "2025-08-05T14:27:12.393305Z",
     "start_time": "2025-08-05T14:27:12.301181Z"
    },
    "execution": {
     "iopub.execute_input": "2025-08-05T15:15:37.562465Z",
     "iopub.status.busy": "2025-08-05T15:15:37.561944Z",
     "iopub.status.idle": "2025-08-05T15:15:37.732437Z",
     "shell.execute_reply": "2025-08-05T15:15:37.731941Z"
    },
    "papermill": {
     "duration": 0.17442,
     "end_time": "2025-08-05T15:15:37.733342",
     "exception": false,
     "start_time": "2025-08-05T15:15:37.558922",
     "status": "completed"
    },
    "tags": []
   },
   "outputs": [
    {
     "name": "stdout",
     "output_type": "stream",
     "text": [
      "┌──────────────────┬──────────────────┐\n",
      "│ Current date     │ 2028-01-01 : Sat │\n",
      "│ Interest applied │       456.783750 │\n",
      "│ Interest accrued │         0.425383 │\n",
      "│ Balance          │     10456.783750 │\n",
      "│ Total            │     10457.209133 │\n",
      "└──────────────────┴──────────────────┘\n"
     ]
    }
   ],
   "source": [
    "bank_account_reducer = BankAccountReducer(rate_provider=RATE_PROVIDER,\n",
    "                                          interest_payment_schedule=DailySchedule())\n",
    "state = INITIAL_STATE\n",
    "for day in DAYS:\n",
    "    state = bank_account_reducer.next(state)\n",
    "print(state)"
   ]
  },
  {
   "cell_type": "markdown",
   "id": "ae2d8c1c3cce966f",
   "metadata": {
    "papermill": {
     "duration": 0.000904,
     "end_time": "2025-08-05T15:15:37.735504",
     "exception": false,
     "start_time": "2025-08-05T15:15:37.734600",
     "status": "completed"
    },
    "tags": []
   },
   "source": [
    "The state will also provide information on yearly opening and closing balances, etc."
   ]
  },
  {
   "cell_type": "code",
   "execution_count": 3,
   "id": "54ea5101fcec99e",
   "metadata": {
    "ExecuteTime": {
     "end_time": "2025-08-05T14:27:12.428762Z",
     "start_time": "2025-08-05T14:27:12.425083Z"
    },
    "execution": {
     "iopub.execute_input": "2025-08-05T15:15:37.737645Z",
     "iopub.status.busy": "2025-08-05T15:15:37.737537Z",
     "iopub.status.idle": "2025-08-05T15:15:37.740505Z",
     "shell.execute_reply": "2025-08-05T15:15:37.740295Z"
    },
    "papermill": {
     "duration": 0.004802,
     "end_time": "2025-08-05T15:15:37.741148",
     "exception": false,
     "start_time": "2025-08-05T15:15:37.736346",
     "status": "completed"
    },
    "tags": []
   },
   "outputs": [
    {
     "name": "stdout",
     "output_type": "stream",
     "text": [
      "Opening balance for year 2025: 10000.000000\n",
      "Closing balance for year 2025: 10149.585983\n",
      "Balance change for year 2025: 149.585983\n",
      "\n",
      "Opening interest applied for year 2025: 0.000000\n",
      "Closing interest applied for year 2025: 149.585983\n",
      "Interest applied change for year 2025: 149.585983\n",
      "\n",
      "Opening interest accrued for year 2025: 0.000000\n",
      "Closing interest accrued for year 2025: 0.414017\n",
      "Interest accrued change for year 2025: 0.414017\n",
      "\n",
      "Interest change for year 2025: 150.000000\n",
      "\n",
      "Opening balance for year 2026: 10149.585983\n",
      "Closing balance for year 2026: 10301.829772\n",
      "Balance change for year 2026: 152.243790\n",
      "\n",
      "Opening interest applied for year 2026: 149.585983\n",
      "Closing interest applied for year 2026: 301.829772\n",
      "Interest applied change for year 2026: 152.243790\n",
      "\n",
      "Opening interest accrued for year 2026: 0.414017\n",
      "Closing interest accrued for year 2026: 0.420228\n",
      "Interest accrued change for year 2026: 0.006210\n",
      "\n",
      "Interest change for year 2026: 152.250000\n",
      "\n",
      "Opening balance for year 2027: 10301.829772\n",
      "Closing balance for year 2027: 10456.357219\n",
      "Balance change for year 2027: 154.527447\n",
      "\n",
      "Opening interest applied for year 2027: 301.829772\n",
      "Closing interest applied for year 2027: 456.357219\n",
      "Interest applied change for year 2027: 154.527447\n",
      "\n",
      "Opening interest accrued for year 2027: 0.420228\n",
      "Closing interest accrued for year 2027: 0.426531\n",
      "Interest accrued change for year 2027: 0.006303\n",
      "\n",
      "Interest change for year 2027: 154.533750\n",
      "\n"
     ]
    }
   ],
   "source": [
    "for year in YEARS:\n",
    "    print(f'Opening balance for year {year}: {state.opening_balance[year]:.6f}')\n",
    "    print(f'Closing balance for year {year}: {state.closing_balance[year]:.6f}')\n",
    "    balance_change = state.closing_balance[year] - state.opening_balance[year]\n",
    "    print(f'Balance change for year {year}: {balance_change:.6f}')\n",
    "    print()\n",
    "    print(f'Opening interest applied for year {year}: {state.opening_interest_applied[year]:.6f}')\n",
    "    print(f'Closing interest applied for year {year}: {state.closing_interest_applied[year]:.6f}')\n",
    "    interest_applied_change = state.closing_interest_applied[year] - state.opening_interest_applied[year]\n",
    "    print(f'Interest applied change for year {year}: {interest_applied_change:.6f}')\n",
    "    print()\n",
    "    print(f'Opening interest accrued for year {year}: {state.opening_interest_accrued[year]:.6f}')\n",
    "    print(f'Closing interest accrued for year {year}: {state.closing_interest_accrued[year]:.6f}')\n",
    "    interest_accrued_change = state.closing_interest_accrued[year] - state.opening_interest_accrued[year]\n",
    "    print(f'Interest accrued change for year {year}: {interest_accrued_change:.6f}')\n",
    "    print()\n",
    "    interest_change = interest_applied_change + interest_accrued_change\n",
    "    print(f'Interest change for year {year}: {interest_change:.6f}')\n",
    "    print()"
   ]
  }
 ],
 "metadata": {
  "kernelspec": {
   "display_name": "Python 3",
   "language": "python",
   "name": "python3"
  },
  "language_info": {
   "codemirror_mode": {
    "name": "ipython",
    "version": 3
   },
   "file_extension": ".py",
   "mimetype": "text/x-python",
   "name": "python",
   "nbconvert_exporter": "python",
   "pygments_lexer": "ipython3",
   "version": "3.12.11"
  },
  "papermill": {
   "default_parameters": {},
   "duration": 1.311584,
   "end_time": "2025-08-05T15:15:37.856716",
   "environment_variables": {},
   "exception": null,
   "input_path": "./lib/bank_accounts/README.ipynb",
   "output_path": "./lib/bank_accounts/README.ipynb",
   "parameters": {},
   "start_time": "2025-08-05T15:15:36.545132",
   "version": "2.6.0"
  }
 },
 "nbformat": 4,
 "nbformat_minor": 5
}