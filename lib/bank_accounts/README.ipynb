{
 "cells": [
  {
   "metadata": {},
   "cell_type": "markdown",
   "source": [
    "# Bank Accounts\n",
    "\n",
    "State and reducer implementations to keep track of bank account changes."
   ],
   "id": "d6a740bc5792ca7d"
  },
  {
   "cell_type": "code",
   "id": "initial_id",
   "metadata": {
    "collapsed": true,
    "ExecuteTime": {
     "end_time": "2025-08-04T22:18:17.902812Z",
     "start_time": "2025-08-04T22:18:17.858878Z"
    }
   },
   "source": [
    "from datetime import date\n",
    "from decimal import Decimal, getcontext, FloatOperation\n",
    "\n",
    "from lib.bank_accounts import BankAccount, BankAccountReducer\n",
    "from lib.providers import AlwaysProvider, NeverProvider\n",
    "from lib.rates import ContinuousRate\n",
    "from lib.schedules import DailySchedule\n",
    "from lib.utils.date import days_in_year\n",
    "\n",
    "decimal_context = getcontext()\n",
    "decimal_context.traps[FloatOperation] = True\n",
    "decimal_context.prec = 1000\n",
    "\n",
    "START_DATE = date(date.today().year, 1, 1)\n",
    "# Three years of days\n",
    "DAYS = range(days_in_year(START_DATE.year) +\n",
    "             days_in_year(START_DATE.year + 1) +\n",
    "             days_in_year(START_DATE.year + 2))\n",
    "RATE_PROVIDER = AlwaysProvider(ContinuousRate(Decimal('0.015')))\n",
    "STARTING_BALANCE = Decimal('10_000')\n",
    "\n",
    "INITIAL_STATE = BankAccount(current_date=START_DATE,\n",
    "                            balance=STARTING_BALANCE)\n",
    "\n",
    "print(f'Decimal context: {decimal_context}')\n",
    "print(INITIAL_STATE)"
   ],
   "outputs": [
    {
     "name": "stdout",
     "output_type": "stream",
     "text": [
      "Decimal context: Context(prec=1000, rounding=ROUND_HALF_EVEN, Emin=-999999, Emax=999999, capitals=1, clamp=0, flags=[], traps=[InvalidOperation, DivisionByZero, FloatOperation, Overflow])\n",
      "┌──────────────────┬──────────────────┐\n",
      "│ Current date     │ 2025-01-01 : Wed │\n",
      "│ Interest applied │         0.000000 │\n",
      "│ Interest accrued │         0.000000 │\n",
      "│ Balance          │     10000.000000 │\n",
      "│ Total            │     10000.000000 │\n",
      "└──────────────────┴──────────────────┘\n"
     ]
    }
   ],
   "execution_count": 1
  },
  {
   "metadata": {},
   "cell_type": "markdown",
   "source": "The reducer should be provided with an interest rate and an interest payment schedule.",
   "id": "63cb9ebc0372caf3"
  },
  {
   "metadata": {
    "ExecuteTime": {
     "end_time": "2025-08-04T22:18:18.118147Z",
     "start_time": "2025-08-04T22:18:18.009462Z"
    }
   },
   "cell_type": "code",
   "source": [
    "bank_account_reducer = BankAccountReducer(rate_provider=RATE_PROVIDER,\n",
    "                                          interest_payment_schedule=DailySchedule())\n",
    "state = INITIAL_STATE\n",
    "for day in DAYS:\n",
    "    state = bank_account_reducer.next(state)\n",
    "print(state)"
   ],
   "id": "e0f95b367b11e0aa",
   "outputs": [
    {
     "name": "stdout",
     "output_type": "stream",
     "text": [
      "┌──────────────────┬──────────────────┐\n",
      "│ Current date     │ 2028-01-01 : Sat │\n",
      "│ Interest applied │       456.357219 │\n",
      "│ Interest accrued │         0.425366 │\n",
      "│ Balance          │     10456.357219 │\n",
      "│ Total            │     10456.782585 │\n",
      "└──────────────────┴──────────────────┘\n"
     ]
    }
   ],
   "execution_count": 2
  },
  {
   "metadata": {},
   "cell_type": "markdown",
   "source": "",
   "id": "ae2d8c1c3cce966f"
  }
 ],
 "metadata": {
  "kernelspec": {
   "display_name": "Python 3",
   "language": "python",
   "name": "python3"
  },
  "language_info": {
   "codemirror_mode": {
    "name": "ipython",
    "version": 2
   },
   "file_extension": ".py",
   "mimetype": "text/x-python",
   "name": "python",
   "nbconvert_exporter": "python",
   "pygments_lexer": "ipython2",
   "version": "2.7.6"
  }
 },
 "nbformat": 4,
 "nbformat_minor": 5
}
