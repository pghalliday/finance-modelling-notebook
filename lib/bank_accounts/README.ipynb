{
 "cells": [
  {
   "cell_type": "markdown",
   "id": "d6a740bc5792ca7d",
   "metadata": {
    "papermill": {
     "duration": 0.004533,
     "end_time": "2025-08-05T08:48:09.504697",
     "exception": false,
     "start_time": "2025-08-05T08:48:09.500164",
     "status": "completed"
    },
    "tags": []
   },
   "source": [
    "# Bank Accounts\n",
    "\n",
    "State and reducer implementations to keep track of bank account changes."
   ]
  },
  {
   "cell_type": "code",
   "execution_count": 1,
   "id": "initial_id",
   "metadata": {
    "ExecuteTime": {
     "end_time": "2025-08-05T08:02:17.348750Z",
     "start_time": "2025-08-05T08:02:17.305814Z"
    },
    "collapsed": true,
    "execution": {
     "iopub.execute_input": "2025-08-05T08:48:09.509444Z",
     "iopub.status.busy": "2025-08-05T08:48:09.509276Z",
     "iopub.status.idle": "2025-08-05T08:48:09.537120Z",
     "shell.execute_reply": "2025-08-05T08:48:09.536802Z"
    },
    "papermill": {
     "duration": 0.030451,
     "end_time": "2025-08-05T08:48:09.538074",
     "exception": false,
     "start_time": "2025-08-05T08:48:09.507623",
     "status": "completed"
    },
    "tags": []
   },
   "outputs": [
    {
     "name": "stdout",
     "output_type": "stream",
     "text": [
      "Decimal context: Context(prec=1000, rounding=ROUND_HALF_EVEN, Emin=-999999, Emax=999999, capitals=1, clamp=0, flags=[], traps=[InvalidOperation, DivisionByZero, FloatOperation, Overflow])\n",
      "┌──────────────────┬──────────────────┐\n",
      "│ Current date     │ 2025-01-01 : Wed │\n",
      "│ Interest applied │         0.000000 │\n",
      "│ Interest accrued │         0.000000 │\n",
      "│ Balance          │     10000.000000 │\n",
      "│ Total            │     10000.000000 │\n",
      "└──────────────────┴──────────────────┘\n"
     ]
    }
   ],
   "source": [
    "from datetime import date\n",
    "from decimal import Decimal, getcontext, FloatOperation\n",
    "\n",
    "from lib.bank_accounts import BankAccount, BankAccountReducer\n",
    "from lib.providers import AlwaysProvider\n",
    "from lib.rates import ContinuousRate\n",
    "from lib.schedules import DailySchedule\n",
    "from lib.utils.date import days_in_year\n",
    "\n",
    "decimal_context = getcontext()\n",
    "decimal_context.traps[FloatOperation] = True\n",
    "decimal_context.prec = 1000\n",
    "\n",
    "START_DATE = date(date.today().year, 1, 1)\n",
    "# Three years of days\n",
    "DAYS = range(days_in_year(START_DATE.year) +\n",
    "             days_in_year(START_DATE.year + 1) +\n",
    "             days_in_year(START_DATE.year + 2))\n",
    "RATE_PROVIDER = AlwaysProvider(ContinuousRate(Decimal('0.015')))\n",
    "STARTING_BALANCE = Decimal('10_000')\n",
    "\n",
    "INITIAL_STATE = BankAccount(current_date=START_DATE,\n",
    "                            balance=STARTING_BALANCE)\n",
    "\n",
    "print(f'Decimal context: {decimal_context}')\n",
    "print(INITIAL_STATE)"
   ]
  },
  {
   "cell_type": "markdown",
   "id": "63cb9ebc0372caf3",
   "metadata": {
    "papermill": {
     "duration": 0.000663,
     "end_time": "2025-08-05T08:48:09.539775",
     "exception": false,
     "start_time": "2025-08-05T08:48:09.539112",
     "status": "completed"
    },
    "tags": []
   },
   "source": [
    "The reducer should be provided with an interest rate and an interest payment schedule."
   ]
  },
  {
   "cell_type": "code",
   "execution_count": 2,
   "id": "e0f95b367b11e0aa",
   "metadata": {
    "ExecuteTime": {
     "end_time": "2025-08-05T08:02:17.454910Z",
     "start_time": "2025-08-05T08:02:17.355769Z"
    },
    "execution": {
     "iopub.execute_input": "2025-08-05T08:48:09.541788Z",
     "iopub.status.busy": "2025-08-05T08:48:09.541621Z",
     "iopub.status.idle": "2025-08-05T08:48:09.637129Z",
     "shell.execute_reply": "2025-08-05T08:48:09.636842Z"
    },
    "papermill": {
     "duration": 0.097445,
     "end_time": "2025-08-05T08:48:09.637861",
     "exception": false,
     "start_time": "2025-08-05T08:48:09.540416",
     "status": "completed"
    },
    "tags": []
   },
   "outputs": [
    {
     "name": "stdout",
     "output_type": "stream",
     "text": [
      "┌──────────────────┬──────────────────┐\n",
      "│ Current date     │ 2028-01-01 : Sat │\n",
      "│ Interest applied │       456.357219 │\n",
      "│ Interest accrued │         0.425366 │\n",
      "│ Balance          │     10456.357219 │\n",
      "│ Total            │     10456.782585 │\n",
      "└──────────────────┴──────────────────┘\n"
     ]
    }
   ],
   "source": [
    "bank_account_reducer = BankAccountReducer(rate_provider=RATE_PROVIDER,\n",
    "                                          interest_payment_schedule=DailySchedule())\n",
    "state = INITIAL_STATE\n",
    "for day in DAYS:\n",
    "    state = bank_account_reducer.next(state)\n",
    "print(state)"
   ]
  },
  {
   "cell_type": "markdown",
   "id": "ae2d8c1c3cce966f",
   "metadata": {
    "papermill": {
     "duration": 0.000669,
     "end_time": "2025-08-05T08:48:09.639492",
     "exception": false,
     "start_time": "2025-08-05T08:48:09.638823",
     "status": "completed"
    },
    "tags": []
   },
   "source": []
  }
 ],
 "metadata": {
  "kernelspec": {
   "display_name": "Python 3",
   "language": "python",
   "name": "python3"
  },
  "language_info": {
   "codemirror_mode": {
    "name": "ipython",
    "version": 3
   },
   "file_extension": ".py",
   "mimetype": "text/x-python",
   "name": "python",
   "nbconvert_exporter": "python",
   "pygments_lexer": "ipython3",
   "version": "3.12.11"
  },
  "papermill": {
   "default_parameters": {},
   "duration": 1.087967,
   "end_time": "2025-08-05T08:48:09.755063",
   "environment_variables": {},
   "exception": null,
   "input_path": "./lib/bank_accounts/README.ipynb",
   "output_path": "./lib/bank_accounts/README.ipynb",
   "parameters": {},
   "start_time": "2025-08-05T08:48:08.667096",
   "version": "2.6.0"
  }
 },
 "nbformat": 4,
 "nbformat_minor": 5
}