{
 "cells": [
  {
   "cell_type": "markdown",
   "id": "7067663d0aefaf78",
   "metadata": {
    "papermill": {
     "duration": 0.006436,
     "end_time": "2025-08-01T13:40:14.531881",
     "exception": false,
     "start_time": "2025-08-01T13:40:14.525445",
     "status": "completed"
    },
    "tags": []
   },
   "source": [
    "# Daily rate calculators\n",
    "\n",
    "A collection of daily rate calculation algorithms."
   ]
  },
  {
   "cell_type": "code",
   "execution_count": 1,
   "id": "initial_id",
   "metadata": {
    "ExecuteTime": {
     "end_time": "2025-08-01T13:39:53.798550Z",
     "start_time": "2025-08-01T13:39:53.789282Z"
    },
    "collapsed": true,
    "execution": {
     "iopub.execute_input": "2025-08-01T13:40:14.541366Z",
     "iopub.status.busy": "2025-08-01T13:40:14.540992Z",
     "iopub.status.idle": "2025-08-01T13:40:14.563177Z",
     "shell.execute_reply": "2025-08-01T13:40:14.562779Z"
    },
    "papermill": {
     "duration": 0.02737,
     "end_time": "2025-08-01T13:40:14.564365",
     "exception": false,
     "start_time": "2025-08-01T13:40:14.536995",
     "status": "completed"
    },
    "tags": []
   },
   "outputs": [
    {
     "name": "stdout",
     "output_type": "stream",
     "text": [
      "Start Date: 2025-01-01 : Wed\n",
      "Rate: 1.50\n",
      "Starting balance: 10000.00\n",
      "\n",
      "Decimal context: Context(prec=1000, rounding=ROUND_HALF_EVEN, Emin=-999999, Emax=999999, capitals=1, clamp=0, flags=[], traps=[InvalidOperation, DivisionByZero, FloatOperation, Overflow])\n"
     ]
    }
   ],
   "source": [
    "from calendar import JANUARY, APRIL, JULY, OCTOBER\n",
    "from dataclasses import dataclass, replace\n",
    "from datetime import date, timedelta\n",
    "from decimal import Decimal, getcontext, FloatOperation\n",
    "from functools import reduce\n",
    "from typing import Callable\n",
    "\n",
    "from lib.daily_rate_calculators import \\\n",
    "    DailyRateCalculator, \\\n",
    "    ContinuousDailyRateCalculator, \\\n",
    "    PeriodicDailyRateCalculator\n",
    "from lib.providers import ScheduledProvider, AnyProvider, AlwaysProvider, Provider\n",
    "from lib.schedules import AnySchedule, YearlySchedule\n",
    "from lib.utils.date import days_in_year\n",
    "from lib.utils.print import format_day\n",
    "\n",
    "decimal_context = getcontext()\n",
    "decimal_context.traps[FloatOperation] = True\n",
    "decimal_context.prec = 1000\n",
    "\n",
    "START_DATE = date(date.today().year, 1, 1)\n",
    "DAYS = [START_DATE + timedelta(days=day) for day in range(days_in_year(START_DATE.year))]\n",
    "RATE = Decimal('0.015')\n",
    "STARTING_BALANCE = Decimal('10_000')\n",
    "\n",
    "\n",
    "@dataclass(frozen=True)\n",
    "class State:\n",
    "    balance: Decimal\n",
    "    accrued: Decimal\n",
    "\n",
    "    def __str__(self) -> str:\n",
    "        return f\"\"\"Balance: {self.balance:.20}\n",
    "Accrued: {self.accrued:.20}\n",
    "Total: {self.balance + self.accrued:.20}\"\"\"\n",
    "\n",
    "\n",
    "INITIAL_STATE = State(balance=STARTING_BALANCE,\n",
    "                      accrued=Decimal('0'))\n",
    "\n",
    "\n",
    "def payout(state: State) -> State:\n",
    "    return State(balance=state.balance + state.accrued,\n",
    "                 accrued=Decimal('0'))\n",
    "\n",
    "\n",
    "def accrue(state: State) -> State:\n",
    "    return replace(state)\n",
    "\n",
    "\n",
    "class StateUpdater(object):\n",
    "    calculator: DailyRateCalculator\n",
    "    updater_provider: Provider[Callable[[State], State]]\n",
    "\n",
    "    def __init__(self,\n",
    "                 calculator: DailyRateCalculator,\n",
    "                 updater_provider: Provider[Callable[[State], State]]):\n",
    "        self.calculator = calculator\n",
    "        self.updater_provider = updater_provider\n",
    "\n",
    "    def update(self, current_date: date, state: State) -> State:\n",
    "        # apply the payment schedule first\n",
    "        state = self.updater_provider.get(current_date)(state)\n",
    "        # then apply the rate and accrue\n",
    "        return replace(state,\n",
    "                       accrued=state.accrued + self.calculator.calculate(current_date,\n",
    "                                                                         RATE,\n",
    "                                                                         state.balance,\n",
    "                                                                         state.accrued))\n",
    "\n",
    "\n",
    "ANNUAL_PAYMENT_SCHEDULE = YearlySchedule(JANUARY, 1)\n",
    "ANNUAL_UPDATER_PROVIDER = AnyProvider([ScheduledProvider(payout, ANNUAL_PAYMENT_SCHEDULE),\n",
    "                                       AlwaysProvider(accrue)])\n",
    "\n",
    "QUARTERLY_PAYMENT_SCHEDULE = AnySchedule({'First quarter': YearlySchedule(APRIL, 1),\n",
    "                                          'Second quarter': YearlySchedule(JULY, 1),\n",
    "                                          'Third quarter': YearlySchedule(OCTOBER, 1),\n",
    "                                          'Fourth quarter': YearlySchedule(JANUARY, 1)})\n",
    "QUARTERLY_UPDATER_PROVIDER = AnyProvider([ScheduledProvider(payout, QUARTERLY_PAYMENT_SCHEDULE),\n",
    "                                          AlwaysProvider(accrue)])\n",
    "\n",
    "DAILY_UPDATER_PROVIDER = AlwaysProvider(payout)\n",
    "\n",
    "print(f'Start Date: {format_day(START_DATE)}')\n",
    "print(f'Rate: {RATE * 100:.2f}')\n",
    "print(f'Starting balance: {STARTING_BALANCE:.2f}')\n",
    "print()\n",
    "print(f'Decimal context: {decimal_context}')"
   ]
  },
  {
   "cell_type": "markdown",
   "id": "53b9895f7157ddb0",
   "metadata": {
    "papermill": {
     "duration": 0.001758,
     "end_time": "2025-08-01T13:40:14.568405",
     "exception": false,
     "start_time": "2025-08-01T13:40:14.566647",
     "status": "completed"
    },
    "tags": []
   },
   "source": [
    "## ContinuousDailyRateCalculator\n",
    "\n",
    "This calculator applies a continuously compounding algorithm, which most accurately reflects a\n",
    "continuous return given a desired annual rate."
   ]
  },
  {
   "cell_type": "code",
   "execution_count": 2,
   "id": "957e6d3eafd4f71a",
   "metadata": {
    "ExecuteTime": {
     "end_time": "2025-08-01T13:39:53.832118Z",
     "start_time": "2025-08-01T13:39:53.824132Z"
    },
    "execution": {
     "iopub.execute_input": "2025-08-01T13:40:14.572832Z",
     "iopub.status.busy": "2025-08-01T13:40:14.572521Z",
     "iopub.status.idle": "2025-08-01T13:40:14.619283Z",
     "shell.execute_reply": "2025-08-01T13:40:14.619031Z"
    },
    "papermill": {
     "duration": 0.049847,
     "end_time": "2025-08-01T13:40:14.619947",
     "exception": false,
     "start_time": "2025-08-01T13:40:14.570100",
     "status": "completed"
    },
    "tags": []
   },
   "outputs": [
    {
     "name": "stdout",
     "output_type": "stream",
     "text": [
      "Balance: 10000\n",
      "Accrued: 150.00000000000000000\n",
      "Total: 10150.000000000000000\n"
     ]
    }
   ],
   "source": [
    "calculator = ContinuousDailyRateCalculator()\n",
    "state_updater = StateUpdater(calculator, ANNUAL_UPDATER_PROVIDER)\n",
    "state = reduce(lambda state, day: state_updater.update(day, state), DAYS, INITIAL_STATE)\n",
    "print(state)"
   ]
  },
  {
   "cell_type": "code",
   "execution_count": 3,
   "id": "df995429b8f0dbc6",
   "metadata": {
    "ExecuteTime": {
     "end_time": "2025-08-01T13:39:53.867075Z",
     "start_time": "2025-08-01T13:39:53.859727Z"
    },
    "execution": {
     "iopub.execute_input": "2025-08-01T13:40:14.622830Z",
     "iopub.status.busy": "2025-08-01T13:40:14.622712Z",
     "iopub.status.idle": "2025-08-01T13:40:14.637062Z",
     "shell.execute_reply": "2025-08-01T13:40:14.636862Z"
    },
    "papermill": {
     "duration": 0.016451,
     "end_time": "2025-08-01T13:40:14.637701",
     "exception": false,
     "start_time": "2025-08-01T13:40:14.621250",
     "status": "completed"
    },
    "tags": []
   },
   "outputs": [
    {
     "name": "stdout",
     "output_type": "stream",
     "text": [
      "Balance: 10111.981008877791361\n",
      "Accrued: 38.018991122208639007\n",
      "Total: 10150.000000000000000\n"
     ]
    }
   ],
   "source": [
    "calculator = ContinuousDailyRateCalculator()\n",
    "state_updater = StateUpdater(calculator, QUARTERLY_UPDATER_PROVIDER)\n",
    "state = reduce(lambda state, day: state_updater.update(day, state), DAYS, INITIAL_STATE)\n",
    "print(state)"
   ]
  },
  {
   "cell_type": "code",
   "execution_count": 4,
   "id": "a960253e994fbcb0",
   "metadata": {
    "ExecuteTime": {
     "end_time": "2025-08-01T13:39:53.925720Z",
     "start_time": "2025-08-01T13:39:53.913827Z"
    },
    "execution": {
     "iopub.execute_input": "2025-08-01T13:40:14.640386Z",
     "iopub.status.busy": "2025-08-01T13:40:14.640284Z",
     "iopub.status.idle": "2025-08-01T13:40:14.653604Z",
     "shell.execute_reply": "2025-08-01T13:40:14.653406Z"
    },
    "papermill": {
     "duration": 0.015359,
     "end_time": "2025-08-01T13:40:14.654274",
     "exception": false,
     "start_time": "2025-08-01T13:40:14.638915",
     "status": "completed"
    },
    "tags": []
   },
   "outputs": [
    {
     "name": "stdout",
     "output_type": "stream",
     "text": [
      "Balance: 10149.585982644606491\n",
      "Accrued: 0.41401735539350891438\n",
      "Total: 10150.000000000000000\n"
     ]
    }
   ],
   "source": [
    "calculator = ContinuousDailyRateCalculator()\n",
    "state_updater = StateUpdater(calculator, DAILY_UPDATER_PROVIDER)\n",
    "state = reduce(lambda state, day: state_updater.update(day, state), DAYS, INITIAL_STATE)\n",
    "print(state)"
   ]
  },
  {
   "cell_type": "markdown",
   "id": "833de3ea900c9057",
   "metadata": {
    "papermill": {
     "duration": 0.000971,
     "end_time": "2025-08-01T13:40:14.656610",
     "exception": false,
     "start_time": "2025-08-01T13:40:14.655639",
     "status": "completed"
    },
    "tags": []
   },
   "source": [
    "## PeriodicDailyRateCalculator\n",
    "\n",
    "This calculator applies a periodic compounding algorithm by applying the same rate to the\n",
    "balance for each day without taking into account the unrealized accrued amount. For a constant\n",
    "balance, this should provide the same return as the `ContinuousDailyRateCalculator`. However,\n",
    "for a falling balance it will return less and for a rising balance it will return more."
   ]
  },
  {
   "cell_type": "code",
   "execution_count": 5,
   "id": "ebde40f77b990bf8",
   "metadata": {
    "ExecuteTime": {
     "end_time": "2025-08-01T13:39:53.959742Z",
     "start_time": "2025-08-01T13:39:53.950361Z"
    },
    "execution": {
     "iopub.execute_input": "2025-08-01T13:40:14.659088Z",
     "iopub.status.busy": "2025-08-01T13:40:14.658989Z",
     "iopub.status.idle": "2025-08-01T13:40:14.662023Z",
     "shell.execute_reply": "2025-08-01T13:40:14.661767Z"
    },
    "papermill": {
     "duration": 0.005091,
     "end_time": "2025-08-01T13:40:14.662646",
     "exception": false,
     "start_time": "2025-08-01T13:40:14.657555",
     "status": "completed"
    },
    "tags": []
   },
   "outputs": [
    {
     "name": "stdout",
     "output_type": "stream",
     "text": [
      "Balance: 10000\n",
      "Accrued: 150.00000000000000000\n",
      "Total: 10150.000000000000000\n"
     ]
    }
   ],
   "source": [
    "calculator = PeriodicDailyRateCalculator(1)\n",
    "state_updater = StateUpdater(calculator, ANNUAL_UPDATER_PROVIDER)\n",
    "state = reduce(lambda state, day: state_updater.update(day, state), DAYS, INITIAL_STATE)\n",
    "print(state)"
   ]
  },
  {
   "cell_type": "code",
   "execution_count": 6,
   "id": "272e3ae294f74519",
   "metadata": {
    "ExecuteTime": {
     "end_time": "2025-08-01T13:39:53.986417Z",
     "start_time": "2025-08-01T13:39:53.975220Z"
    },
    "execution": {
     "iopub.execute_input": "2025-08-01T13:40:14.665309Z",
     "iopub.status.busy": "2025-08-01T13:40:14.665213Z",
     "iopub.status.idle": "2025-08-01T13:40:14.699638Z",
     "shell.execute_reply": "2025-08-01T13:40:14.699434Z"
    },
    "papermill": {
     "duration": 0.036431,
     "end_time": "2025-08-01T13:40:14.700275",
     "exception": false,
     "start_time": "2025-08-01T13:40:14.663844",
     "status": "completed"
    },
    "tags": []
   },
   "outputs": [
    {
     "name": "stdout",
     "output_type": "stream",
     "text": [
      "Balance: 10111.981565565267852\n",
      "Accrued: 38.018411299158197925\n",
      "Total: 10149.999976864426049\n"
     ]
    }
   ],
   "source": [
    "calculator = PeriodicDailyRateCalculator(4)\n",
    "state_updater = StateUpdater(calculator, QUARTERLY_UPDATER_PROVIDER)\n",
    "state = reduce(lambda state, day: state_updater.update(day, state), DAYS, INITIAL_STATE)\n",
    "print(state)"
   ]
  },
  {
   "cell_type": "markdown",
   "id": "d6f6b16430b9959e",
   "metadata": {
    "papermill": {
     "duration": 0.001038,
     "end_time": "2025-08-01T13:40:14.702772",
     "exception": false,
     "start_time": "2025-08-01T13:40:14.701734",
     "status": "completed"
    },
    "tags": []
   },
   "source": [
    "> **_NB._** We can see an error here as the total is slightly less than the expected 10,150.\n",
    "> This is due to an inadequacy in the algorithm. The rate calculation assumes that\n",
    "> quarters are of equal length. This is not the case and can't really be the case, as years\n",
    "> cannot be divided into a four equal number of days. We are actually using 3 calendar months\n",
    "> per quarter.\n",
    ">\n",
    "> So why is the result slightly less? This is due to compounding as payments from earlier quarters\n",
    "> compound more than those from later quarters. There are fewer days in the first\n",
    "> two quarters than the second two, but the daily rate is the same. This means that fewer days\n",
    "> of payments are compounded from the first half of the year than if the periods were equal\n",
    "> length. The fact that those days compound for more time, as the payment is earlier, does not\n",
    "> compensate for the missing days."
   ]
  },
  {
   "cell_type": "code",
   "execution_count": 7,
   "id": "19ec63b4d8bcea96",
   "metadata": {
    "ExecuteTime": {
     "end_time": "2025-08-01T13:39:54.010737Z",
     "start_time": "2025-08-01T13:39:54.006273Z"
    },
    "execution": {
     "iopub.execute_input": "2025-08-01T13:40:14.705531Z",
     "iopub.status.busy": "2025-08-01T13:40:14.705426Z",
     "iopub.status.idle": "2025-08-01T13:40:14.707246Z",
     "shell.execute_reply": "2025-08-01T13:40:14.707040Z"
    },
    "papermill": {
     "duration": 0.004048,
     "end_time": "2025-08-01T13:40:14.707822",
     "exception": false,
     "start_time": "2025-08-01T13:40:14.703774",
     "status": "completed"
    },
    "tags": []
   },
   "outputs": [
    {
     "name": "stdout",
     "output_type": "stream",
     "text": [
      "Days in first half of the year 181\n",
      "Days in second half of the year 184\n"
     ]
    }
   ],
   "source": [
    "print('Days in first half of the year', (date(2025, 7, 1) - date(2025, 1, 1)).days)\n",
    "print('Days in second half of the year', (date(2026, 1, 1) - date(2025, 7, 1)).days)\n"
   ]
  },
  {
   "cell_type": "markdown",
   "id": "7197dbbbaf41699f",
   "metadata": {
    "papermill": {
     "duration": 0.001066,
     "end_time": "2025-08-01T13:40:14.710083",
     "exception": false,
     "start_time": "2025-08-01T13:40:14.709017",
     "status": "completed"
    },
    "tags": []
   },
   "source": [
    "> **_NBB._** It may be possible to correct this algorithm, but any solution is likely to throw\n",
    "> up more problems. For instance what should we do if a period crosses between a regular year\n",
    "> and a leap year?\n",
    ">\n",
    "> For this reason it is probably unwise to use this algorithm and instead just\n",
    "> use the `ContinuousDailyRateCalculator` in simulations as the differences are likely to be\n",
    "> insignificant.\n",
    ">\n",
    "> So why is it here? Well, when investigating how banks calculate interest. It was found that\n",
    "> this is how they say they do it. For instance: https://www.abnamro.nl/en/personal/savings/interest-rates/when-and-how-often-do-you-receive-interest.html\n",
    ">\n",
    "> However, this did not give any indication of how they compensate for unequal quarters or\n",
    "> leap years. As such, the implementation here is probably wrong anyway, so just don't use it!"
   ]
  }
 ],
 "metadata": {
  "kernelspec": {
   "display_name": "Python 3",
   "language": "python",
   "name": "python3"
  },
  "language_info": {
   "codemirror_mode": {
    "name": "ipython",
    "version": 3
   },
   "file_extension": ".py",
   "mimetype": "text/x-python",
   "name": "python",
   "nbconvert_exporter": "python",
   "pygments_lexer": "ipython3",
   "version": "3.12.11"
  },
  "papermill": {
   "default_parameters": {},
   "duration": 1.133523,
   "end_time": "2025-08-01T13:40:14.826174",
   "environment_variables": {},
   "exception": null,
   "input_path": "./lib/daily_rate_calculators/README.ipynb",
   "output_path": "./lib/daily_rate_calculators/README.ipynb",
   "parameters": {},
   "start_time": "2025-08-01T13:40:13.692651",
   "version": "2.6.0"
  }
 },
 "nbformat": 4,
 "nbformat_minor": 5
}