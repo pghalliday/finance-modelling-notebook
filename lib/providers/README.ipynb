{
 "cells": [
  {
   "cell_type": "markdown",
   "id": "fe92965f5481891",
   "metadata": {
    "papermill": {
     "duration": 0.008553,
     "end_time": "2025-08-05T11:56:01.011680",
     "exception": false,
     "start_time": "2025-08-05T11:56:01.003127",
     "status": "completed"
    },
    "tags": []
   },
   "source": [
    "# Providers\n",
    "\n",
    "A collection of Provider implementations that will take the current date and provide an\n",
    "item valid for that date."
   ]
  },
  {
   "cell_type": "code",
   "execution_count": 1,
   "id": "initial_id",
   "metadata": {
    "ExecuteTime": {
     "end_time": "2025-08-05T11:54:05.990547Z",
     "start_time": "2025-08-05T11:54:05.819708Z"
    },
    "collapsed": true,
    "execution": {
     "iopub.execute_input": "2025-08-05T11:56:01.021724Z",
     "iopub.status.busy": "2025-08-05T11:56:01.021172Z",
     "iopub.status.idle": "2025-08-05T11:56:01.146978Z",
     "shell.execute_reply": "2025-08-05T11:56:01.146192Z"
    },
    "papermill": {
     "duration": 0.133191,
     "end_time": "2025-08-05T11:56:01.149854",
     "exception": false,
     "start_time": "2025-08-05T11:56:01.016663",
     "status": "completed"
    },
    "tags": []
   },
   "outputs": [
    {
     "name": "stdout",
     "output_type": "stream",
     "text": [
      "Start Date: 2025-08-05 : Tue\n"
     ]
    }
   ],
   "source": [
    "from calendar import TUESDAY, THURSDAY\n",
    "from datetime import date, timedelta\n",
    "\n",
    "from lib.providers import \\\n",
    "    NeverProvider, \\\n",
    "    AlwaysProvider, \\\n",
    "    ScheduledProvider, \\\n",
    "    AnyProvider, \\\n",
    "    AllProvider, \\\n",
    "    SequenceProvider, \\\n",
    "    FunctionProvider, \\\n",
    "    MapProvider\n",
    "from lib.schedules import \\\n",
    "    WeeklySchedule, \\\n",
    "    AnySchedule, \\\n",
    "    UntilSchedule\n",
    "from lib.utils.format import \\\n",
    "    format_day, \\\n",
    "    format_values\n",
    "\n",
    "START_DATE = date.today()\n",
    "\n",
    "print(f'Start Date: {format_day(START_DATE)}')"
   ]
  },
  {
   "cell_type": "markdown",
   "id": "d4c1c5f73c56c950",
   "metadata": {
    "papermill": {
     "duration": 0.004807,
     "end_time": "2025-08-05T11:56:01.159421",
     "exception": false,
     "start_time": "2025-08-05T11:56:01.154614",
     "status": "completed"
    },
    "tags": []
   },
   "source": [
    "## NeverProvider\n",
    "\n",
    "This is a trivial provider that always provides `None`"
   ]
  },
  {
   "cell_type": "code",
   "execution_count": 2,
   "id": "31d15be478105fb",
   "metadata": {
    "ExecuteTime": {
     "end_time": "2025-08-05T11:54:06.000206Z",
     "start_time": "2025-08-05T11:54:05.997969Z"
    },
    "execution": {
     "iopub.execute_input": "2025-08-05T11:56:01.172936Z",
     "iopub.status.busy": "2025-08-05T11:56:01.172303Z",
     "iopub.status.idle": "2025-08-05T11:56:01.176869Z",
     "shell.execute_reply": "2025-08-05T11:56:01.176267Z"
    },
    "papermill": {
     "duration": 0.015423,
     "end_time": "2025-08-05T11:56:01.178949",
     "exception": false,
     "start_time": "2025-08-05T11:56:01.163526",
     "status": "completed"
    },
    "tags": []
   },
   "outputs": [
    {
     "name": "stdout",
     "output_type": "stream",
     "text": [
      "[2025-08-05 : Tue : None\n",
      " 2025-08-06 : Wed : None\n",
      " 2025-08-07 : Thu : None\n",
      " 2025-08-08 : Fri : None\n",
      " 2025-08-09 : Sat : None\n",
      " 2025-08-10 : Sun : None\n",
      " 2025-08-11 : Mon : None\n",
      " 2025-08-12 : Tue : None\n",
      " 2025-08-13 : Wed : None\n",
      " 2025-08-14 : Thu : None]\n"
     ]
    }
   ],
   "source": [
    "days = [START_DATE + timedelta(days=i) for i in range(10)]\n",
    "values = zip(days, map(NeverProvider[str]().get, days))\n",
    "print(format_values(values))"
   ]
  },
  {
   "cell_type": "markdown",
   "id": "533be8092240d073",
   "metadata": {
    "papermill": {
     "duration": 0.004504,
     "end_time": "2025-08-05T11:56:01.187816",
     "exception": false,
     "start_time": "2025-08-05T11:56:01.183312",
     "status": "completed"
    },
    "tags": []
   },
   "source": [
    "## AlwaysProvider\n",
    "\n",
    "This is a trivial provider that always provides the given value"
   ]
  },
  {
   "cell_type": "code",
   "execution_count": 3,
   "id": "c22e59cd690a96ad",
   "metadata": {
    "ExecuteTime": {
     "end_time": "2025-08-05T11:54:06.128174Z",
     "start_time": "2025-08-05T11:54:06.113012Z"
    },
    "execution": {
     "iopub.execute_input": "2025-08-05T11:56:01.194901Z",
     "iopub.status.busy": "2025-08-05T11:56:01.194579Z",
     "iopub.status.idle": "2025-08-05T11:56:01.200663Z",
     "shell.execute_reply": "2025-08-05T11:56:01.199342Z"
    },
    "papermill": {
     "duration": 0.011827,
     "end_time": "2025-08-05T11:56:01.203594",
     "exception": false,
     "start_time": "2025-08-05T11:56:01.191767",
     "status": "completed"
    },
    "tags": []
   },
   "outputs": [
    {
     "name": "stdout",
     "output_type": "stream",
     "text": [
      "[2025-08-05 : Tue : My value\n",
      " 2025-08-06 : Wed : My value\n",
      " 2025-08-07 : Thu : My value\n",
      " 2025-08-08 : Fri : My value\n",
      " 2025-08-09 : Sat : My value\n",
      " 2025-08-10 : Sun : My value\n",
      " 2025-08-11 : Mon : My value\n",
      " 2025-08-12 : Tue : My value\n",
      " 2025-08-13 : Wed : My value\n",
      " 2025-08-14 : Thu : My value]\n"
     ]
    }
   ],
   "source": [
    "days = [START_DATE + timedelta(days=i) for i in range(10)]\n",
    "values = zip(days, map(AlwaysProvider('My value').get, days))\n",
    "print(format_values(values))"
   ]
  },
  {
   "cell_type": "markdown",
   "id": "9ccdd9e65b1af09b",
   "metadata": {
    "papermill": {
     "duration": 0.001478,
     "end_time": "2025-08-05T11:56:01.207182",
     "exception": false,
     "start_time": "2025-08-05T11:56:01.205704",
     "status": "completed"
    },
    "tags": []
   },
   "source": [
    "## SequenceProvider\n",
    "\n",
    "This provider takes a mapping of dates to values and provides the value associated with the current date.\n",
    "If no value is associated with the current date then it provides `None`."
   ]
  },
  {
   "cell_type": "code",
   "execution_count": 4,
   "id": "65638c7a6481919a",
   "metadata": {
    "ExecuteTime": {
     "end_time": "2025-08-05T11:54:06.151753Z",
     "start_time": "2025-08-05T11:54:06.148295Z"
    },
    "execution": {
     "iopub.execute_input": "2025-08-05T11:56:01.216233Z",
     "iopub.status.busy": "2025-08-05T11:56:01.215842Z",
     "iopub.status.idle": "2025-08-05T11:56:01.224782Z",
     "shell.execute_reply": "2025-08-05T11:56:01.223085Z"
    },
    "papermill": {
     "duration": 0.014158,
     "end_time": "2025-08-05T11:56:01.226961",
     "exception": false,
     "start_time": "2025-08-05T11:56:01.212803",
     "status": "completed"
    },
    "tags": []
   },
   "outputs": [
    {
     "name": "stdout",
     "output_type": "stream",
     "text": [
      "[2025-08-05 : Tue : 1\n",
      " 2025-08-06 : Wed : 2\n",
      " 2025-08-07 : Thu : 3\n",
      " 2025-08-08 : Fri : 4\n",
      " 2025-08-09 : Sat : 5\n",
      " 2025-08-10 : Sun : 6\n",
      " 2025-08-11 : Mon : 0\n",
      " 2025-08-12 : Tue : 1\n",
      " 2025-08-13 : Wed : 2\n",
      " 2025-08-14 : Thu : 3]\n"
     ]
    }
   ],
   "source": [
    "days = [START_DATE + timedelta(days=i) for i in range(10)]\n",
    "sequence = {day: day.weekday() for day in days}\n",
    "values = zip(days, map(SequenceProvider(sequence).get, days))\n",
    "print(format_values(values))"
   ]
  },
  {
   "cell_type": "markdown",
   "id": "9438000ff7296003",
   "metadata": {
    "papermill": {
     "duration": 0.004242,
     "end_time": "2025-08-05T11:56:01.235361",
     "exception": false,
     "start_time": "2025-08-05T11:56:01.231119",
     "status": "completed"
    },
    "tags": []
   },
   "source": [
    "## ScheduledProvider\n",
    "\n",
    "This provider provides its value according to the specified schedule. If not scheduled it provides `None`."
   ]
  },
  {
   "cell_type": "code",
   "execution_count": 5,
   "id": "4c1dc048def50421",
   "metadata": {
    "ExecuteTime": {
     "end_time": "2025-08-05T11:54:06.182513Z",
     "start_time": "2025-08-05T11:54:06.174685Z"
    },
    "execution": {
     "iopub.execute_input": "2025-08-05T11:56:01.243885Z",
     "iopub.status.busy": "2025-08-05T11:56:01.243563Z",
     "iopub.status.idle": "2025-08-05T11:56:01.312638Z",
     "shell.execute_reply": "2025-08-05T11:56:01.311910Z"
    },
    "papermill": {
     "duration": 0.072355,
     "end_time": "2025-08-05T11:56:01.313480",
     "exception": false,
     "start_time": "2025-08-05T11:56:01.241125",
     "status": "completed"
    },
    "tags": []
   },
   "outputs": [
    {
     "name": "stdout",
     "output_type": "stream",
     "text": [
      "[2025-08-05 : Tue : My value\n",
      " 2025-08-06 : Wed : None\n",
      " 2025-08-07 : Thu : My value\n",
      " 2025-08-08 : Fri : None\n",
      " 2025-08-09 : Sat : None\n",
      " 2025-08-10 : Sun : None\n",
      " 2025-08-11 : Mon : None\n",
      " 2025-08-12 : Tue : My value\n",
      " 2025-08-13 : Wed : None\n",
      " 2025-08-14 : Thu : My value]\n"
     ]
    }
   ],
   "source": [
    "days = [START_DATE + timedelta(days=i) for i in range(10)]\n",
    "values = zip(days, map(ScheduledProvider('My value',\n",
    "                                         AnySchedule((WeeklySchedule(TUESDAY),\n",
    "                                                      WeeklySchedule(THURSDAY)))).get, days))\n",
    "print(format_values(values))"
   ]
  },
  {
   "cell_type": "markdown",
   "id": "8455c53a0b137c63",
   "metadata": {
    "papermill": {
     "duration": 0.001734,
     "end_time": "2025-08-05T11:56:01.316750",
     "exception": false,
     "start_time": "2025-08-05T11:56:01.315016",
     "status": "completed"
    },
    "tags": []
   },
   "source": [
    "## FunctionProvider\n",
    "\n",
    "This provider uses the specified function to map the current date to a value."
   ]
  },
  {
   "cell_type": "code",
   "execution_count": 6,
   "id": "7466d848235f73b1",
   "metadata": {
    "ExecuteTime": {
     "end_time": "2025-08-05T11:54:06.219712Z",
     "start_time": "2025-08-05T11:54:06.216110Z"
    },
    "execution": {
     "iopub.execute_input": "2025-08-05T11:56:01.319922Z",
     "iopub.status.busy": "2025-08-05T11:56:01.319797Z",
     "iopub.status.idle": "2025-08-05T11:56:01.321847Z",
     "shell.execute_reply": "2025-08-05T11:56:01.321617Z"
    },
    "papermill": {
     "duration": 0.004344,
     "end_time": "2025-08-05T11:56:01.322466",
     "exception": false,
     "start_time": "2025-08-05T11:56:01.318122",
     "status": "completed"
    },
    "tags": []
   },
   "outputs": [
    {
     "name": "stdout",
     "output_type": "stream",
     "text": [
      "[2025-08-05 : Tue : 1\n",
      " 2025-08-06 : Wed : 2\n",
      " 2025-08-07 : Thu : 3\n",
      " 2025-08-08 : Fri : 4\n",
      " 2025-08-09 : Sat : 5\n",
      " 2025-08-10 : Sun : 6\n",
      " 2025-08-11 : Mon : 0\n",
      " 2025-08-12 : Tue : 1\n",
      " 2025-08-13 : Wed : 2\n",
      " 2025-08-14 : Thu : 3]\n"
     ]
    }
   ],
   "source": [
    "days = [START_DATE + timedelta(days=i) for i in range(10)]\n",
    "values = zip(days, map(FunctionProvider(lambda current_date: current_date.weekday()).get, days))\n",
    "print(format_values(values))"
   ]
  },
  {
   "cell_type": "markdown",
   "id": "9415a1ec450ff23f",
   "metadata": {
    "papermill": {
     "duration": 0.001287,
     "end_time": "2025-08-05T11:56:01.325091",
     "exception": false,
     "start_time": "2025-08-05T11:56:01.323804",
     "status": "completed"
    },
    "tags": []
   },
   "source": [
    "## AnyProvider\n",
    "\n",
    "This provider takes a list of providers and provides the value from the first provider that provides a not `None` value. If all\n",
    "the providers provide `None` then `None` will be provided."
   ]
  },
  {
   "cell_type": "code",
   "execution_count": 7,
   "id": "2b530da5752cfc68",
   "metadata": {
    "ExecuteTime": {
     "end_time": "2025-08-05T11:54:06.255417Z",
     "start_time": "2025-08-05T11:54:06.249466Z"
    },
    "execution": {
     "iopub.execute_input": "2025-08-05T11:56:01.328081Z",
     "iopub.status.busy": "2025-08-05T11:56:01.327987Z",
     "iopub.status.idle": "2025-08-05T11:56:01.330047Z",
     "shell.execute_reply": "2025-08-05T11:56:01.329842Z"
    },
    "papermill": {
     "duration": 0.004259,
     "end_time": "2025-08-05T11:56:01.330685",
     "exception": false,
     "start_time": "2025-08-05T11:56:01.326426",
     "status": "completed"
    },
    "tags": []
   },
   "outputs": [
    {
     "name": "stdout",
     "output_type": "stream",
     "text": [
      "[2025-08-05 : Tue : Value 1\n",
      " 2025-08-06 : Wed : Value 1\n",
      " 2025-08-07 : Thu : Value 1\n",
      " 2025-08-08 : Fri : Value 2\n",
      " 2025-08-09 : Sat : Value 2\n",
      " 2025-08-10 : Sun : Value 2\n",
      " 2025-08-11 : Mon : Value 2\n",
      " 2025-08-12 : Tue : Value 3\n",
      " 2025-08-13 : Wed : Value 3\n",
      " 2025-08-14 : Thu : None]\n"
     ]
    }
   ],
   "source": [
    "days = [START_DATE + timedelta(days=i) for i in range(10)]\n",
    "values = zip(days, map(AnyProvider(\n",
    "    (ScheduledProvider('Value 1', UntilSchedule(START_DATE + timedelta(days=3))),\n",
    "     ScheduledProvider('Value 2', UntilSchedule(START_DATE + timedelta(days=7))),\n",
    "     ScheduledProvider('Value 3', UntilSchedule(START_DATE + timedelta(days=9))))).get,\n",
    "                       days))\n",
    "print(format_values(values))"
   ]
  },
  {
   "cell_type": "markdown",
   "id": "a7b3bd5dd232502d",
   "metadata": {
    "papermill": {
     "duration": 0.001295,
     "end_time": "2025-08-05T11:56:01.333336",
     "exception": false,
     "start_time": "2025-08-05T11:56:01.332041",
     "status": "completed"
    },
    "tags": []
   },
   "source": [
    "## AllProvider\n",
    "\n",
    "This provider takes a dictionary of providers and provides a corresponding dictionary of the values provided by each provider"
   ]
  },
  {
   "cell_type": "code",
   "execution_count": 8,
   "id": "d8bfc055aedbf4b7",
   "metadata": {
    "ExecuteTime": {
     "end_time": "2025-08-05T11:55:25.681010Z",
     "start_time": "2025-08-05T11:55:25.670800Z"
    },
    "execution": {
     "iopub.execute_input": "2025-08-05T11:56:01.336297Z",
     "iopub.status.busy": "2025-08-05T11:56:01.336202Z",
     "iopub.status.idle": "2025-08-05T11:56:01.338555Z",
     "shell.execute_reply": "2025-08-05T11:56:01.338333Z"
    },
    "papermill": {
     "duration": 0.004582,
     "end_time": "2025-08-05T11:56:01.339200",
     "exception": false,
     "start_time": "2025-08-05T11:56:01.334618",
     "status": "completed"
    },
    "tags": []
   },
   "outputs": [
    {
     "name": "stdout",
     "output_type": "stream",
     "text": [
      "[2025-08-05 : Tue : ['Always value', 'Sometimes value', 'Value 1']\n",
      " 2025-08-06 : Wed : ['Always value', 'Value 1']\n",
      " 2025-08-07 : Thu : ['Always value', 'Sometimes value', 'Value 1']\n",
      " 2025-08-08 : Fri : ['Always value', 'Value 2']\n",
      " 2025-08-09 : Sat : ['Always value', 'Value 2']\n",
      " 2025-08-10 : Sun : ['Always value', 'Value 2']\n",
      " 2025-08-11 : Mon : ['Always value', 'Value 2']\n",
      " 2025-08-12 : Tue : ['Always value', 'Sometimes value', 'Value 3']\n",
      " 2025-08-13 : Wed : ['Always value', 'Value 3']\n",
      " 2025-08-14 : Thu : ['Always value', 'Sometimes value']]\n"
     ]
    }
   ],
   "source": [
    "days = [START_DATE + timedelta(days=i) for i in range(10)]\n",
    "values = zip(days, map(AllProvider((AlwaysProvider('Always value'),\n",
    "                                    ScheduledProvider('Sometimes value', AnySchedule((WeeklySchedule(TUESDAY),\n",
    "                                                                                      WeeklySchedule(THURSDAY)))),\n",
    "                                    AnyProvider(\n",
    "                                        (ScheduledProvider('Value 1', UntilSchedule(START_DATE + timedelta(days=3))),\n",
    "                                         ScheduledProvider('Value 2', UntilSchedule(START_DATE + timedelta(days=7))),\n",
    "                                         ScheduledProvider('Value 3',\n",
    "                                                           UntilSchedule(START_DATE + timedelta(days=9))))))).get,\n",
    "                       days))\n",
    "print(format_values(values))"
   ]
  },
  {
   "cell_type": "markdown",
   "id": "bec08f537882b95f",
   "metadata": {
    "papermill": {
     "duration": 0.001399,
     "end_time": "2025-08-05T11:56:01.342344",
     "exception": false,
     "start_time": "2025-08-05T11:56:01.340945",
     "status": "completed"
    },
    "tags": []
   },
   "source": [
    "## MapProvider\n",
    "\n",
    "This provider uses the specified transform function to transform the values provided by the specified provider"
   ]
  },
  {
   "cell_type": "code",
   "execution_count": 9,
   "id": "eb4cc20e24a0eecd",
   "metadata": {
    "ExecuteTime": {
     "end_time": "2025-08-05T11:54:06.310460Z",
     "start_time": "2025-08-05T11:54:06.305320Z"
    },
    "execution": {
     "iopub.execute_input": "2025-08-05T11:56:01.346109Z",
     "iopub.status.busy": "2025-08-05T11:56:01.345862Z",
     "iopub.status.idle": "2025-08-05T11:56:01.348190Z",
     "shell.execute_reply": "2025-08-05T11:56:01.347969Z"
    },
    "papermill": {
     "duration": 0.004901,
     "end_time": "2025-08-05T11:56:01.348810",
     "exception": false,
     "start_time": "2025-08-05T11:56:01.343909",
     "status": "completed"
    },
    "tags": []
   },
   "outputs": [
    {
     "name": "stdout",
     "output_type": "stream",
     "text": [
      "[2025-08-05 : Tue : MY VALUE\n",
      " 2025-08-06 : Wed : None\n",
      " 2025-08-07 : Thu : MY VALUE\n",
      " 2025-08-08 : Fri : None\n",
      " 2025-08-09 : Sat : None\n",
      " 2025-08-10 : Sun : None\n",
      " 2025-08-11 : Mon : None\n",
      " 2025-08-12 : Tue : MY VALUE\n",
      " 2025-08-13 : Wed : None\n",
      " 2025-08-14 : Thu : MY VALUE]\n"
     ]
    }
   ],
   "source": [
    "days = [START_DATE + timedelta(days=i) for i in range(10)]\n",
    "values = zip(days, map(MapProvider(transform=lambda value: value.upper(),\n",
    "                                   provider=ScheduledProvider(value='My value',\n",
    "                                                              schedule=AnySchedule((WeeklySchedule(TUESDAY),\n",
    "                                                                                    WeeklySchedule(\n",
    "                                                                                        THURSDAY))))).get, days))\n",
    "print(format_values(values))"
   ]
  }
 ],
 "metadata": {
  "kernelspec": {
   "display_name": "Python 3",
   "language": "python",
   "name": "python3"
  },
  "language_info": {
   "codemirror_mode": {
    "name": "ipython",
    "version": 3
   },
   "file_extension": ".py",
   "mimetype": "text/x-python",
   "name": "python",
   "nbconvert_exporter": "python",
   "pygments_lexer": "ipython3",
   "version": "3.12.11"
  },
  "papermill": {
   "default_parameters": {},
   "duration": 1.3201,
   "end_time": "2025-08-05T11:56:01.464925",
   "environment_variables": {},
   "exception": null,
   "input_path": "./lib/providers/README.ipynb",
   "output_path": "./lib/providers/README.ipynb",
   "parameters": {},
   "start_time": "2025-08-05T11:56:00.144825",
   "version": "2.6.0"
  }
 },
 "nbformat": 4,
 "nbformat_minor": 5
}