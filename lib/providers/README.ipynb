{
 "cells": [
  {
   "cell_type": "markdown",
   "id": "fe92965f5481891",
   "metadata": {
    "papermill": {
     "duration": 0.007611,
     "end_time": "2025-08-05T10:46:33.586566",
     "exception": false,
     "start_time": "2025-08-05T10:46:33.578955",
     "status": "completed"
    },
    "tags": []
   },
   "source": [
    "# Providers\n",
    "\n",
    "A collection of Provider implementations that will take the current date and provide an\n",
    "item valid for that date."
   ]
  },
  {
   "cell_type": "code",
   "execution_count": 1,
   "id": "initial_id",
   "metadata": {
    "ExecuteTime": {
     "end_time": "2025-08-05T10:43:15.022056Z",
     "start_time": "2025-08-05T10:43:14.995357Z"
    },
    "collapsed": true,
    "execution": {
     "iopub.execute_input": "2025-08-05T10:46:33.597236Z",
     "iopub.status.busy": "2025-08-05T10:46:33.596912Z",
     "iopub.status.idle": "2025-08-05T10:46:33.622565Z",
     "shell.execute_reply": "2025-08-05T10:46:33.622104Z"
    },
    "papermill": {
     "duration": 0.031806,
     "end_time": "2025-08-05T10:46:33.623645",
     "exception": false,
     "start_time": "2025-08-05T10:46:33.591839",
     "status": "completed"
    },
    "tags": []
   },
   "outputs": [
    {
     "name": "stdout",
     "output_type": "stream",
     "text": [
      "Start Date: 2025-08-05 : Tue\n"
     ]
    }
   ],
   "source": [
    "from calendar import TUESDAY, THURSDAY\n",
    "from datetime import date, timedelta\n",
    "\n",
    "from lib.providers import \\\n",
    "    NeverProvider, \\\n",
    "    AlwaysProvider, \\\n",
    "    ScheduledProvider, \\\n",
    "    AnyProvider, \\\n",
    "    AllProvider\n",
    "from lib.providers.map_provider import MapProvider\n",
    "from lib.providers.sequence_provider import SequenceProvider\n",
    "from lib.schedules import \\\n",
    "    WeeklySchedule, \\\n",
    "    AnySchedule, \\\n",
    "    UntilSchedule\n",
    "from lib.utils.format import \\\n",
    "    format_day, \\\n",
    "    format_values\n",
    "\n",
    "START_DATE = date.today()\n",
    "\n",
    "print(f'Start Date: {format_day(START_DATE)}')"
   ]
  },
  {
   "cell_type": "markdown",
   "id": "d4c1c5f73c56c950",
   "metadata": {
    "papermill": {
     "duration": 0.002106,
     "end_time": "2025-08-05T10:46:33.628191",
     "exception": false,
     "start_time": "2025-08-05T10:46:33.626085",
     "status": "completed"
    },
    "tags": []
   },
   "source": [
    "## NeverProvider\n",
    "\n",
    "This is a trivial provider that always provides `None`"
   ]
  },
  {
   "cell_type": "code",
   "execution_count": 2,
   "id": "31d15be478105fb",
   "metadata": {
    "ExecuteTime": {
     "end_time": "2025-08-05T10:43:15.118894Z",
     "start_time": "2025-08-05T10:43:15.115711Z"
    },
    "execution": {
     "iopub.execute_input": "2025-08-05T10:46:33.632731Z",
     "iopub.status.busy": "2025-08-05T10:46:33.632553Z",
     "iopub.status.idle": "2025-08-05T10:46:33.635218Z",
     "shell.execute_reply": "2025-08-05T10:46:33.634926Z"
    },
    "papermill": {
     "duration": 0.005859,
     "end_time": "2025-08-05T10:46:33.636055",
     "exception": false,
     "start_time": "2025-08-05T10:46:33.630196",
     "status": "completed"
    },
    "tags": []
   },
   "outputs": [
    {
     "name": "stdout",
     "output_type": "stream",
     "text": [
      "[2025-08-05 : Tue : None\n",
      " 2025-08-06 : Wed : None\n",
      " 2025-08-07 : Thu : None\n",
      " 2025-08-08 : Fri : None\n",
      " 2025-08-09 : Sat : None\n",
      " 2025-08-10 : Sun : None\n",
      " 2025-08-11 : Mon : None\n",
      " 2025-08-12 : Tue : None\n",
      " 2025-08-13 : Wed : None\n",
      " 2025-08-14 : Thu : None]\n"
     ]
    }
   ],
   "source": [
    "days = [START_DATE + timedelta(days=i) for i in range(10)]\n",
    "values = zip(days, map(NeverProvider[str]().get, days))\n",
    "print(format_values(values))"
   ]
  },
  {
   "cell_type": "markdown",
   "id": "533be8092240d073",
   "metadata": {
    "papermill": {
     "duration": 0.001758,
     "end_time": "2025-08-05T10:46:33.639831",
     "exception": false,
     "start_time": "2025-08-05T10:46:33.638073",
     "status": "completed"
    },
    "tags": []
   },
   "source": [
    "## AlwaysProvider\n",
    "\n",
    "This is a trivial provider that always provides the given value"
   ]
  },
  {
   "cell_type": "code",
   "execution_count": 3,
   "id": "c22e59cd690a96ad",
   "metadata": {
    "ExecuteTime": {
     "end_time": "2025-08-05T10:43:15.145331Z",
     "start_time": "2025-08-05T10:43:15.141911Z"
    },
    "execution": {
     "iopub.execute_input": "2025-08-05T10:46:33.643752Z",
     "iopub.status.busy": "2025-08-05T10:46:33.643624Z",
     "iopub.status.idle": "2025-08-05T10:46:33.645790Z",
     "shell.execute_reply": "2025-08-05T10:46:33.645542Z"
    },
    "papermill": {
     "duration": 0.004981,
     "end_time": "2025-08-05T10:46:33.646532",
     "exception": false,
     "start_time": "2025-08-05T10:46:33.641551",
     "status": "completed"
    },
    "tags": []
   },
   "outputs": [
    {
     "name": "stdout",
     "output_type": "stream",
     "text": [
      "[2025-08-05 : Tue : My value\n",
      " 2025-08-06 : Wed : My value\n",
      " 2025-08-07 : Thu : My value\n",
      " 2025-08-08 : Fri : My value\n",
      " 2025-08-09 : Sat : My value\n",
      " 2025-08-10 : Sun : My value\n",
      " 2025-08-11 : Mon : My value\n",
      " 2025-08-12 : Tue : My value\n",
      " 2025-08-13 : Wed : My value\n",
      " 2025-08-14 : Thu : My value]\n"
     ]
    }
   ],
   "source": [
    "days = [START_DATE + timedelta(days=i) for i in range(10)]\n",
    "values = zip(days, map(AlwaysProvider('My value').get, days))\n",
    "print(format_values(values))"
   ]
  },
  {
   "cell_type": "markdown",
   "id": "9ccdd9e65b1af09b",
   "metadata": {
    "papermill": {
     "duration": 0.001611,
     "end_time": "2025-08-05T10:46:33.649904",
     "exception": false,
     "start_time": "2025-08-05T10:46:33.648293",
     "status": "completed"
    },
    "tags": []
   },
   "source": [
    "## SequenceProvider\n",
    "\n",
    "This provider takes a mapping of dates to values and provides the value associated with the current date.\n",
    "If no value is associated with the current date then it provides `None`."
   ]
  },
  {
   "cell_type": "code",
   "execution_count": 4,
   "id": "65638c7a6481919a",
   "metadata": {
    "ExecuteTime": {
     "end_time": "2025-08-05T10:46:24.696737Z",
     "start_time": "2025-08-05T10:46:24.684753Z"
    },
    "execution": {
     "iopub.execute_input": "2025-08-05T10:46:33.653575Z",
     "iopub.status.busy": "2025-08-05T10:46:33.653455Z",
     "iopub.status.idle": "2025-08-05T10:46:33.655703Z",
     "shell.execute_reply": "2025-08-05T10:46:33.655455Z"
    },
    "papermill": {
     "duration": 0.004848,
     "end_time": "2025-08-05T10:46:33.656382",
     "exception": false,
     "start_time": "2025-08-05T10:46:33.651534",
     "status": "completed"
    },
    "tags": []
   },
   "outputs": [
    {
     "name": "stdout",
     "output_type": "stream",
     "text": [
      "[2025-08-05 : Tue : 1\n",
      " 2025-08-06 : Wed : 2\n",
      " 2025-08-07 : Thu : 3\n",
      " 2025-08-08 : Fri : 4\n",
      " 2025-08-09 : Sat : 5\n",
      " 2025-08-10 : Sun : 6\n",
      " 2025-08-11 : Mon : 0\n",
      " 2025-08-12 : Tue : 1\n",
      " 2025-08-13 : Wed : 2\n",
      " 2025-08-14 : Thu : 3]\n"
     ]
    }
   ],
   "source": [
    "days = [START_DATE + timedelta(days=i) for i in range(10)]\n",
    "sequence = {day: day.weekday() for day in days}\n",
    "values = zip(days, map(SequenceProvider(sequence).get, days))\n",
    "print(format_values(values))"
   ]
  },
  {
   "cell_type": "markdown",
   "id": "9438000ff7296003",
   "metadata": {
    "papermill": {
     "duration": 0.001528,
     "end_time": "2025-08-05T10:46:33.659567",
     "exception": false,
     "start_time": "2025-08-05T10:46:33.658039",
     "status": "completed"
    },
    "tags": []
   },
   "source": [
    "## ScheduledProvider\n",
    "\n",
    "This provider provides its value according to the specified schedule. If not scheduled it provides `None`."
   ]
  },
  {
   "cell_type": "code",
   "execution_count": 5,
   "id": "4c1dc048def50421",
   "metadata": {
    "ExecuteTime": {
     "end_time": "2025-08-05T10:43:15.223958Z",
     "start_time": "2025-08-05T10:43:15.220934Z"
    },
    "execution": {
     "iopub.execute_input": "2025-08-05T10:46:33.663010Z",
     "iopub.status.busy": "2025-08-05T10:46:33.662911Z",
     "iopub.status.idle": "2025-08-05T10:46:33.664943Z",
     "shell.execute_reply": "2025-08-05T10:46:33.664747Z"
    },
    "papermill": {
     "duration": 0.004505,
     "end_time": "2025-08-05T10:46:33.665612",
     "exception": false,
     "start_time": "2025-08-05T10:46:33.661107",
     "status": "completed"
    },
    "tags": []
   },
   "outputs": [
    {
     "name": "stdout",
     "output_type": "stream",
     "text": [
      "[2025-08-05 : Tue : My value\n",
      " 2025-08-06 : Wed : None\n",
      " 2025-08-07 : Thu : My value\n",
      " 2025-08-08 : Fri : None\n",
      " 2025-08-09 : Sat : None\n",
      " 2025-08-10 : Sun : None\n",
      " 2025-08-11 : Mon : None\n",
      " 2025-08-12 : Tue : My value\n",
      " 2025-08-13 : Wed : None\n",
      " 2025-08-14 : Thu : My value]\n"
     ]
    }
   ],
   "source": [
    "days = [START_DATE + timedelta(days=i) for i in range(10)]\n",
    "values = zip(days, map(ScheduledProvider('My value',\n",
    "                                         AnySchedule({'Tuesdays': WeeklySchedule(TUESDAY),\n",
    "                                                      'Thursdays': WeeklySchedule(THURSDAY)})).get, days))\n",
    "print(format_values(values))"
   ]
  },
  {
   "cell_type": "markdown",
   "id": "9415a1ec450ff23f",
   "metadata": {
    "papermill": {
     "duration": 0.001337,
     "end_time": "2025-08-05T10:46:33.668433",
     "exception": false,
     "start_time": "2025-08-05T10:46:33.667096",
     "status": "completed"
    },
    "tags": []
   },
   "source": [
    "## AnyProvider\n",
    "\n",
    "This provider takes a list of providers and provides the value from the first provider that provides a not `None` value. If all\n",
    "the providers provide `None` then `None` will be provided."
   ]
  },
  {
   "cell_type": "code",
   "execution_count": 6,
   "id": "2b530da5752cfc68",
   "metadata": {
    "ExecuteTime": {
     "end_time": "2025-08-05T10:43:15.249191Z",
     "start_time": "2025-08-05T10:43:15.245123Z"
    },
    "execution": {
     "iopub.execute_input": "2025-08-05T10:46:33.671502Z",
     "iopub.status.busy": "2025-08-05T10:46:33.671407Z",
     "iopub.status.idle": "2025-08-05T10:46:33.673438Z",
     "shell.execute_reply": "2025-08-05T10:46:33.673253Z"
    },
    "papermill": {
     "duration": 0.004199,
     "end_time": "2025-08-05T10:46:33.673991",
     "exception": false,
     "start_time": "2025-08-05T10:46:33.669792",
     "status": "completed"
    },
    "tags": []
   },
   "outputs": [
    {
     "name": "stdout",
     "output_type": "stream",
     "text": [
      "[2025-08-05 : Tue : Value 1\n",
      " 2025-08-06 : Wed : Value 1\n",
      " 2025-08-07 : Thu : Value 1\n",
      " 2025-08-08 : Fri : Value 2\n",
      " 2025-08-09 : Sat : Value 2\n",
      " 2025-08-10 : Sun : Value 2\n",
      " 2025-08-11 : Mon : Value 2\n",
      " 2025-08-12 : Tue : Value 3\n",
      " 2025-08-13 : Wed : Value 3\n",
      " 2025-08-14 : Thu : None]\n"
     ]
    }
   ],
   "source": [
    "days = [START_DATE + timedelta(days=i) for i in range(10)]\n",
    "values = zip(days, map(AnyProvider(\n",
    "    {'days 0 to 3': ScheduledProvider('Value 1', UntilSchedule(START_DATE + timedelta(days=3))),\n",
    "     'days 4 to 7': ScheduledProvider('Value 2', UntilSchedule(START_DATE + timedelta(days=7))),\n",
    "     'days 8 to 9': ScheduledProvider('Value 3', UntilSchedule(START_DATE + timedelta(days=9)))}).get,\n",
    "                       days))\n",
    "print(format_values(values))"
   ]
  },
  {
   "cell_type": "markdown",
   "id": "a7b3bd5dd232502d",
   "metadata": {
    "papermill": {
     "duration": 0.00122,
     "end_time": "2025-08-05T10:46:33.676494",
     "exception": false,
     "start_time": "2025-08-05T10:46:33.675274",
     "status": "completed"
    },
    "tags": []
   },
   "source": [
    "## AllProvider\n",
    "\n",
    "This provider takes a dictionary of providers and provides a corresponding dictionary of the values provided by each provider"
   ]
  },
  {
   "cell_type": "code",
   "execution_count": 7,
   "id": "d8bfc055aedbf4b7",
   "metadata": {
    "ExecuteTime": {
     "end_time": "2025-08-05T10:43:15.281388Z",
     "start_time": "2025-08-05T10:43:15.277668Z"
    },
    "execution": {
     "iopub.execute_input": "2025-08-05T10:46:33.679336Z",
     "iopub.status.busy": "2025-08-05T10:46:33.679251Z",
     "iopub.status.idle": "2025-08-05T10:46:33.681523Z",
     "shell.execute_reply": "2025-08-05T10:46:33.681338Z"
    },
    "papermill": {
     "duration": 0.004368,
     "end_time": "2025-08-05T10:46:33.682106",
     "exception": false,
     "start_time": "2025-08-05T10:46:33.677738",
     "status": "completed"
    },
    "tags": []
   },
   "outputs": [
    {
     "name": "stdout",
     "output_type": "stream",
     "text": [
      "[2025-08-05 : Tue : {'Always': 'My value', 'Scheduled': 'My value', 'Any': 'Value 1'}\n",
      " 2025-08-06 : Wed : {'Always': 'My value', 'Scheduled': None, 'Any': 'Value 1'}\n",
      " 2025-08-07 : Thu : {'Always': 'My value', 'Scheduled': 'My value', 'Any': 'Value 1'}\n",
      " 2025-08-08 : Fri : {'Always': 'My value', 'Scheduled': None, 'Any': 'Value 2'}\n",
      " 2025-08-09 : Sat : {'Always': 'My value', 'Scheduled': None, 'Any': 'Value 2'}\n",
      " 2025-08-10 : Sun : {'Always': 'My value', 'Scheduled': None, 'Any': 'Value 2'}\n",
      " 2025-08-11 : Mon : {'Always': 'My value', 'Scheduled': None, 'Any': 'Value 2'}\n",
      " 2025-08-12 : Tue : {'Always': 'My value', 'Scheduled': 'My value', 'Any': 'Value 3'}\n",
      " 2025-08-13 : Wed : {'Always': 'My value', 'Scheduled': None, 'Any': 'Value 3'}\n",
      " 2025-08-14 : Thu : {'Always': 'My value', 'Scheduled': 'My value', 'Any': None}]\n"
     ]
    }
   ],
   "source": [
    "days = [START_DATE + timedelta(days=i) for i in range(10)]\n",
    "values = zip(days, map(AllProvider({'Always': AlwaysProvider('My value'),\n",
    "                                    'Scheduled': ScheduledProvider('My value',\n",
    "                                                                   AnySchedule({'Tuesdays': WeeklySchedule(TUESDAY),\n",
    "                                                                                'Thursdays': WeeklySchedule(\n",
    "                                                                                    THURSDAY)})),\n",
    "                                    'Any': AnyProvider(\n",
    "                                        {'days 0 to 3': ScheduledProvider('Value 1', UntilSchedule(\n",
    "                                            START_DATE + timedelta(days=3))),\n",
    "                                         'days 4 to 7': ScheduledProvider('Value 2', UntilSchedule(\n",
    "                                             START_DATE + timedelta(days=7))),\n",
    "                                         'days 8 to 9': ScheduledProvider('Value 3',\n",
    "                                                                          UntilSchedule(\n",
    "                                                                              START_DATE + timedelta(days=9)))})}).get,\n",
    "                       days))\n",
    "print(format_values(values))"
   ]
  },
  {
   "cell_type": "markdown",
   "id": "bec08f537882b95f",
   "metadata": {
    "papermill": {
     "duration": 0.001276,
     "end_time": "2025-08-05T10:46:33.684780",
     "exception": false,
     "start_time": "2025-08-05T10:46:33.683504",
     "status": "completed"
    },
    "tags": []
   },
   "source": [
    "## MapProvider\n",
    "\n",
    "This provider uses the specified transform function to transform the values provided by the specified provider"
   ]
  },
  {
   "cell_type": "code",
   "execution_count": 8,
   "id": "eb4cc20e24a0eecd",
   "metadata": {
    "ExecuteTime": {
     "end_time": "2025-08-05T10:43:15.311878Z",
     "start_time": "2025-08-05T10:43:15.309044Z"
    },
    "execution": {
     "iopub.execute_input": "2025-08-05T10:46:33.687618Z",
     "iopub.status.busy": "2025-08-05T10:46:33.687523Z",
     "iopub.status.idle": "2025-08-05T10:46:33.689496Z",
     "shell.execute_reply": "2025-08-05T10:46:33.689308Z"
    },
    "papermill": {
     "duration": 0.004068,
     "end_time": "2025-08-05T10:46:33.690066",
     "exception": false,
     "start_time": "2025-08-05T10:46:33.685998",
     "status": "completed"
    },
    "tags": []
   },
   "outputs": [
    {
     "name": "stdout",
     "output_type": "stream",
     "text": [
      "[2025-08-05 : Tue : MY VALUE\n",
      " 2025-08-06 : Wed : None\n",
      " 2025-08-07 : Thu : MY VALUE\n",
      " 2025-08-08 : Fri : None\n",
      " 2025-08-09 : Sat : None\n",
      " 2025-08-10 : Sun : None\n",
      " 2025-08-11 : Mon : None\n",
      " 2025-08-12 : Tue : MY VALUE\n",
      " 2025-08-13 : Wed : None\n",
      " 2025-08-14 : Thu : MY VALUE]\n"
     ]
    }
   ],
   "source": [
    "days = [START_DATE + timedelta(days=i) for i in range(10)]\n",
    "values = zip(days, map(MapProvider(transform=lambda value: value.upper(),\n",
    "                                   provider=ScheduledProvider(value='My value',\n",
    "                                                              schedule=AnySchedule({'Tuesdays': WeeklySchedule(TUESDAY),\n",
    "                                                                                    'Thursdays': WeeklySchedule(\n",
    "                                                                                        THURSDAY)}))).get, days))\n",
    "print(format_values(values))"
   ]
  }
 ],
 "metadata": {
  "kernelspec": {
   "display_name": "Python 3",
   "language": "python",
   "name": "python3"
  },
  "language_info": {
   "codemirror_mode": {
    "name": "ipython",
    "version": 3
   },
   "file_extension": ".py",
   "mimetype": "text/x-python",
   "name": "python",
   "nbconvert_exporter": "python",
   "pygments_lexer": "ipython3",
   "version": "3.12.11"
  },
  "papermill": {
   "default_parameters": {},
   "duration": 1.146422,
   "end_time": "2025-08-05T10:46:33.806046",
   "environment_variables": {},
   "exception": null,
   "input_path": "./lib/providers/README.ipynb",
   "output_path": "./lib/providers/README.ipynb",
   "parameters": {},
   "start_time": "2025-08-05T10:46:32.659624",
   "version": "2.6.0"
  }
 },
 "nbformat": 4,
 "nbformat_minor": 5
}