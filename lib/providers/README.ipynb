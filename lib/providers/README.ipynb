{
 "cells": [
  {
   "cell_type": "markdown",
   "id": "fe92965f5481891",
   "metadata": {
    "papermill": {
     "duration": 0.007581,
     "end_time": "2025-08-05T11:02:04.691396",
     "exception": false,
     "start_time": "2025-08-05T11:02:04.683815",
     "status": "completed"
    },
    "tags": []
   },
   "source": [
    "# Providers\n",
    "\n",
    "A collection of Provider implementations that will take the current date and provide an\n",
    "item valid for that date."
   ]
  },
  {
   "cell_type": "code",
   "execution_count": 1,
   "id": "initial_id",
   "metadata": {
    "ExecuteTime": {
     "end_time": "2025-08-05T10:59:54.732423Z",
     "start_time": "2025-08-05T10:59:54.703592Z"
    },
    "collapsed": true,
    "execution": {
     "iopub.execute_input": "2025-08-05T11:02:04.701114Z",
     "iopub.status.busy": "2025-08-05T11:02:04.700771Z",
     "iopub.status.idle": "2025-08-05T11:02:04.729322Z",
     "shell.execute_reply": "2025-08-05T11:02:04.728922Z"
    },
    "papermill": {
     "duration": 0.034114,
     "end_time": "2025-08-05T11:02:04.730415",
     "exception": false,
     "start_time": "2025-08-05T11:02:04.696301",
     "status": "completed"
    },
    "tags": []
   },
   "outputs": [
    {
     "name": "stdout",
     "output_type": "stream",
     "text": [
      "Start Date: 2025-08-05 : Tue\n"
     ]
    }
   ],
   "source": [
    "from calendar import TUESDAY, THURSDAY\n",
    "from datetime import date, timedelta\n",
    "\n",
    "from lib.providers import \\\n",
    "    NeverProvider, \\\n",
    "    AlwaysProvider, \\\n",
    "    ScheduledProvider, \\\n",
    "    AnyProvider, \\\n",
    "    AllProvider, \\\n",
    "    SequenceProvider, \\\n",
    "    FunctionProvider, \\\n",
    "    MapProvider\n",
    "from lib.schedules import \\\n",
    "    WeeklySchedule, \\\n",
    "    AnySchedule, \\\n",
    "    UntilSchedule\n",
    "from lib.utils.format import \\\n",
    "    format_day, \\\n",
    "    format_values\n",
    "\n",
    "START_DATE = date.today()\n",
    "\n",
    "print(f'Start Date: {format_day(START_DATE)}')"
   ]
  },
  {
   "cell_type": "markdown",
   "id": "d4c1c5f73c56c950",
   "metadata": {
    "papermill": {
     "duration": 0.002172,
     "end_time": "2025-08-05T11:02:04.735162",
     "exception": false,
     "start_time": "2025-08-05T11:02:04.732990",
     "status": "completed"
    },
    "tags": []
   },
   "source": [
    "## NeverProvider\n",
    "\n",
    "This is a trivial provider that always provides `None`"
   ]
  },
  {
   "cell_type": "code",
   "execution_count": 2,
   "id": "31d15be478105fb",
   "metadata": {
    "ExecuteTime": {
     "end_time": "2025-08-05T10:59:54.845038Z",
     "start_time": "2025-08-05T10:59:54.841337Z"
    },
    "execution": {
     "iopub.execute_input": "2025-08-05T11:02:04.739728Z",
     "iopub.status.busy": "2025-08-05T11:02:04.739566Z",
     "iopub.status.idle": "2025-08-05T11:02:04.742435Z",
     "shell.execute_reply": "2025-08-05T11:02:04.742065Z"
    },
    "papermill": {
     "duration": 0.006142,
     "end_time": "2025-08-05T11:02:04.743256",
     "exception": false,
     "start_time": "2025-08-05T11:02:04.737114",
     "status": "completed"
    },
    "tags": []
   },
   "outputs": [
    {
     "name": "stdout",
     "output_type": "stream",
     "text": [
      "[2025-08-05 : Tue : None\n",
      " 2025-08-06 : Wed : None\n",
      " 2025-08-07 : Thu : None\n",
      " 2025-08-08 : Fri : None\n",
      " 2025-08-09 : Sat : None\n",
      " 2025-08-10 : Sun : None\n",
      " 2025-08-11 : Mon : None\n",
      " 2025-08-12 : Tue : None\n",
      " 2025-08-13 : Wed : None\n",
      " 2025-08-14 : Thu : None]\n"
     ]
    }
   ],
   "source": [
    "days = [START_DATE + timedelta(days=i) for i in range(10)]\n",
    "values = zip(days, map(NeverProvider[str]().get, days))\n",
    "print(format_values(values))"
   ]
  },
  {
   "cell_type": "markdown",
   "id": "533be8092240d073",
   "metadata": {
    "papermill": {
     "duration": 0.001745,
     "end_time": "2025-08-05T11:02:04.747109",
     "exception": false,
     "start_time": "2025-08-05T11:02:04.745364",
     "status": "completed"
    },
    "tags": []
   },
   "source": [
    "## AlwaysProvider\n",
    "\n",
    "This is a trivial provider that always provides the given value"
   ]
  },
  {
   "cell_type": "code",
   "execution_count": 3,
   "id": "c22e59cd690a96ad",
   "metadata": {
    "ExecuteTime": {
     "end_time": "2025-08-05T10:59:54.869259Z",
     "start_time": "2025-08-05T10:59:54.866116Z"
    },
    "execution": {
     "iopub.execute_input": "2025-08-05T11:02:04.751216Z",
     "iopub.status.busy": "2025-08-05T11:02:04.751072Z",
     "iopub.status.idle": "2025-08-05T11:02:04.753347Z",
     "shell.execute_reply": "2025-08-05T11:02:04.753070Z"
    },
    "papermill": {
     "duration": 0.005128,
     "end_time": "2025-08-05T11:02:04.754084",
     "exception": false,
     "start_time": "2025-08-05T11:02:04.748956",
     "status": "completed"
    },
    "tags": []
   },
   "outputs": [
    {
     "name": "stdout",
     "output_type": "stream",
     "text": [
      "[2025-08-05 : Tue : My value\n",
      " 2025-08-06 : Wed : My value\n",
      " 2025-08-07 : Thu : My value\n",
      " 2025-08-08 : Fri : My value\n",
      " 2025-08-09 : Sat : My value\n",
      " 2025-08-10 : Sun : My value\n",
      " 2025-08-11 : Mon : My value\n",
      " 2025-08-12 : Tue : My value\n",
      " 2025-08-13 : Wed : My value\n",
      " 2025-08-14 : Thu : My value]\n"
     ]
    }
   ],
   "source": [
    "days = [START_DATE + timedelta(days=i) for i in range(10)]\n",
    "values = zip(days, map(AlwaysProvider('My value').get, days))\n",
    "print(format_values(values))"
   ]
  },
  {
   "cell_type": "markdown",
   "id": "9ccdd9e65b1af09b",
   "metadata": {
    "papermill": {
     "duration": 0.001587,
     "end_time": "2025-08-05T11:02:04.757356",
     "exception": false,
     "start_time": "2025-08-05T11:02:04.755769",
     "status": "completed"
    },
    "tags": []
   },
   "source": [
    "## SequenceProvider\n",
    "\n",
    "This provider takes a mapping of dates to values and provides the value associated with the current date.\n",
    "If no value is associated with the current date then it provides `None`."
   ]
  },
  {
   "cell_type": "code",
   "execution_count": 4,
   "id": "65638c7a6481919a",
   "metadata": {
    "ExecuteTime": {
     "end_time": "2025-08-05T10:59:54.891208Z",
     "start_time": "2025-08-05T10:59:54.886565Z"
    },
    "execution": {
     "iopub.execute_input": "2025-08-05T11:02:04.760920Z",
     "iopub.status.busy": "2025-08-05T11:02:04.760814Z",
     "iopub.status.idle": "2025-08-05T11:02:04.762864Z",
     "shell.execute_reply": "2025-08-05T11:02:04.762643Z"
    },
    "papermill": {
     "duration": 0.00461,
     "end_time": "2025-08-05T11:02:04.763555",
     "exception": false,
     "start_time": "2025-08-05T11:02:04.758945",
     "status": "completed"
    },
    "tags": []
   },
   "outputs": [
    {
     "name": "stdout",
     "output_type": "stream",
     "text": [
      "[2025-08-05 : Tue : 1\n",
      " 2025-08-06 : Wed : 2\n",
      " 2025-08-07 : Thu : 3\n",
      " 2025-08-08 : Fri : 4\n",
      " 2025-08-09 : Sat : 5\n",
      " 2025-08-10 : Sun : 6\n",
      " 2025-08-11 : Mon : 0\n",
      " 2025-08-12 : Tue : 1\n",
      " 2025-08-13 : Wed : 2\n",
      " 2025-08-14 : Thu : 3]\n"
     ]
    }
   ],
   "source": [
    "days = [START_DATE + timedelta(days=i) for i in range(10)]\n",
    "sequence = {day: day.weekday() for day in days}\n",
    "values = zip(days, map(SequenceProvider(sequence).get, days))\n",
    "print(format_values(values))"
   ]
  },
  {
   "cell_type": "markdown",
   "id": "9438000ff7296003",
   "metadata": {
    "papermill": {
     "duration": 0.001476,
     "end_time": "2025-08-05T11:02:04.766566",
     "exception": false,
     "start_time": "2025-08-05T11:02:04.765090",
     "status": "completed"
    },
    "tags": []
   },
   "source": [
    "## ScheduledProvider\n",
    "\n",
    "This provider provides its value according to the specified schedule. If not scheduled it provides `None`."
   ]
  },
  {
   "cell_type": "code",
   "execution_count": 5,
   "id": "4c1dc048def50421",
   "metadata": {
    "ExecuteTime": {
     "end_time": "2025-08-05T10:59:54.911396Z",
     "start_time": "2025-08-05T10:59:54.907195Z"
    },
    "execution": {
     "iopub.execute_input": "2025-08-05T11:02:04.769829Z",
     "iopub.status.busy": "2025-08-05T11:02:04.769743Z",
     "iopub.status.idle": "2025-08-05T11:02:04.771681Z",
     "shell.execute_reply": "2025-08-05T11:02:04.771457Z"
    },
    "papermill": {
     "duration": 0.004288,
     "end_time": "2025-08-05T11:02:04.772342",
     "exception": false,
     "start_time": "2025-08-05T11:02:04.768054",
     "status": "completed"
    },
    "tags": []
   },
   "outputs": [
    {
     "name": "stdout",
     "output_type": "stream",
     "text": [
      "[2025-08-05 : Tue : My value\n",
      " 2025-08-06 : Wed : None\n",
      " 2025-08-07 : Thu : My value\n",
      " 2025-08-08 : Fri : None\n",
      " 2025-08-09 : Sat : None\n",
      " 2025-08-10 : Sun : None\n",
      " 2025-08-11 : Mon : None\n",
      " 2025-08-12 : Tue : My value\n",
      " 2025-08-13 : Wed : None\n",
      " 2025-08-14 : Thu : My value]\n"
     ]
    }
   ],
   "source": [
    "days = [START_DATE + timedelta(days=i) for i in range(10)]\n",
    "values = zip(days, map(ScheduledProvider('My value',\n",
    "                                         AnySchedule({'Tuesdays': WeeklySchedule(TUESDAY),\n",
    "                                                      'Thursdays': WeeklySchedule(THURSDAY)})).get, days))\n",
    "print(format_values(values))"
   ]
  },
  {
   "cell_type": "markdown",
   "id": "8455c53a0b137c63",
   "metadata": {
    "papermill": {
     "duration": 0.001421,
     "end_time": "2025-08-05T11:02:04.775293",
     "exception": false,
     "start_time": "2025-08-05T11:02:04.773872",
     "status": "completed"
    },
    "tags": []
   },
   "source": [
    "## FunctionProvider\n",
    "\n",
    "This provider uses the specified function to map the current date to a value."
   ]
  },
  {
   "cell_type": "code",
   "execution_count": 6,
   "id": "7466d848235f73b1",
   "metadata": {
    "ExecuteTime": {
     "end_time": "2025-08-05T11:00:36.287836Z",
     "start_time": "2025-08-05T11:00:36.279157Z"
    },
    "execution": {
     "iopub.execute_input": "2025-08-05T11:02:04.778562Z",
     "iopub.status.busy": "2025-08-05T11:02:04.778457Z",
     "iopub.status.idle": "2025-08-05T11:02:04.780382Z",
     "shell.execute_reply": "2025-08-05T11:02:04.780156Z"
    },
    "papermill": {
     "duration": 0.004232,
     "end_time": "2025-08-05T11:02:04.780980",
     "exception": false,
     "start_time": "2025-08-05T11:02:04.776748",
     "status": "completed"
    },
    "tags": []
   },
   "outputs": [
    {
     "name": "stdout",
     "output_type": "stream",
     "text": [
      "[2025-08-05 : Tue : 1\n",
      " 2025-08-06 : Wed : 2\n",
      " 2025-08-07 : Thu : 3\n",
      " 2025-08-08 : Fri : 4\n",
      " 2025-08-09 : Sat : 5\n",
      " 2025-08-10 : Sun : 6\n",
      " 2025-08-11 : Mon : 0\n",
      " 2025-08-12 : Tue : 1\n",
      " 2025-08-13 : Wed : 2\n",
      " 2025-08-14 : Thu : 3]\n"
     ]
    }
   ],
   "source": [
    "days = [START_DATE + timedelta(days=i) for i in range(10)]\n",
    "values = zip(days, map(FunctionProvider(lambda current_date: current_date.weekday()).get, days))\n",
    "print(format_values(values))"
   ]
  },
  {
   "cell_type": "markdown",
   "id": "9415a1ec450ff23f",
   "metadata": {
    "papermill": {
     "duration": 0.001367,
     "end_time": "2025-08-05T11:02:04.783783",
     "exception": false,
     "start_time": "2025-08-05T11:02:04.782416",
     "status": "completed"
    },
    "tags": []
   },
   "source": [
    "## AnyProvider\n",
    "\n",
    "This provider takes a list of providers and provides the value from the first provider that provides a not `None` value. If all\n",
    "the providers provide `None` then `None` will be provided."
   ]
  },
  {
   "cell_type": "code",
   "execution_count": 7,
   "id": "2b530da5752cfc68",
   "metadata": {
    "ExecuteTime": {
     "end_time": "2025-08-05T10:59:55.163929Z",
     "start_time": "2025-08-05T10:43:15.245123Z"
    },
    "execution": {
     "iopub.execute_input": "2025-08-05T11:02:04.786897Z",
     "iopub.status.busy": "2025-08-05T11:02:04.786801Z",
     "iopub.status.idle": "2025-08-05T11:02:04.788887Z",
     "shell.execute_reply": "2025-08-05T11:02:04.788683Z"
    },
    "papermill": {
     "duration": 0.004355,
     "end_time": "2025-08-05T11:02:04.789476",
     "exception": false,
     "start_time": "2025-08-05T11:02:04.785121",
     "status": "completed"
    },
    "tags": []
   },
   "outputs": [
    {
     "name": "stdout",
     "output_type": "stream",
     "text": [
      "[2025-08-05 : Tue : Value 1\n",
      " 2025-08-06 : Wed : Value 1\n",
      " 2025-08-07 : Thu : Value 1\n",
      " 2025-08-08 : Fri : Value 2\n",
      " 2025-08-09 : Sat : Value 2\n",
      " 2025-08-10 : Sun : Value 2\n",
      " 2025-08-11 : Mon : Value 2\n",
      " 2025-08-12 : Tue : Value 3\n",
      " 2025-08-13 : Wed : Value 3\n",
      " 2025-08-14 : Thu : None]\n"
     ]
    }
   ],
   "source": [
    "days = [START_DATE + timedelta(days=i) for i in range(10)]\n",
    "values = zip(days, map(AnyProvider(\n",
    "    {'days 0 to 3': ScheduledProvider('Value 1', UntilSchedule(START_DATE + timedelta(days=3))),\n",
    "     'days 4 to 7': ScheduledProvider('Value 2', UntilSchedule(START_DATE + timedelta(days=7))),\n",
    "     'days 8 to 9': ScheduledProvider('Value 3', UntilSchedule(START_DATE + timedelta(days=9)))}).get,\n",
    "                       days))\n",
    "print(format_values(values))"
   ]
  },
  {
   "cell_type": "markdown",
   "id": "a7b3bd5dd232502d",
   "metadata": {
    "papermill": {
     "duration": 0.001389,
     "end_time": "2025-08-05T11:02:04.792384",
     "exception": false,
     "start_time": "2025-08-05T11:02:04.790995",
     "status": "completed"
    },
    "tags": []
   },
   "source": [
    "## AllProvider\n",
    "\n",
    "This provider takes a dictionary of providers and provides a corresponding dictionary of the values provided by each provider"
   ]
  },
  {
   "cell_type": "code",
   "execution_count": 8,
   "id": "d8bfc055aedbf4b7",
   "metadata": {
    "ExecuteTime": {
     "end_time": "2025-08-05T10:59:55.164265Z",
     "start_time": "2025-08-05T10:43:15.277668Z"
    },
    "execution": {
     "iopub.execute_input": "2025-08-05T11:02:04.795453Z",
     "iopub.status.busy": "2025-08-05T11:02:04.795357Z",
     "iopub.status.idle": "2025-08-05T11:02:04.797712Z",
     "shell.execute_reply": "2025-08-05T11:02:04.797510Z"
    },
    "papermill": {
     "duration": 0.004563,
     "end_time": "2025-08-05T11:02:04.798304",
     "exception": false,
     "start_time": "2025-08-05T11:02:04.793741",
     "status": "completed"
    },
    "tags": []
   },
   "outputs": [
    {
     "name": "stdout",
     "output_type": "stream",
     "text": [
      "[2025-08-05 : Tue : {'Always': 'My value', 'Scheduled': 'My value', 'Any': 'Value 1'}\n",
      " 2025-08-06 : Wed : {'Always': 'My value', 'Scheduled': None, 'Any': 'Value 1'}\n",
      " 2025-08-07 : Thu : {'Always': 'My value', 'Scheduled': 'My value', 'Any': 'Value 1'}\n",
      " 2025-08-08 : Fri : {'Always': 'My value', 'Scheduled': None, 'Any': 'Value 2'}\n",
      " 2025-08-09 : Sat : {'Always': 'My value', 'Scheduled': None, 'Any': 'Value 2'}\n",
      " 2025-08-10 : Sun : {'Always': 'My value', 'Scheduled': None, 'Any': 'Value 2'}\n",
      " 2025-08-11 : Mon : {'Always': 'My value', 'Scheduled': None, 'Any': 'Value 2'}\n",
      " 2025-08-12 : Tue : {'Always': 'My value', 'Scheduled': 'My value', 'Any': 'Value 3'}\n",
      " 2025-08-13 : Wed : {'Always': 'My value', 'Scheduled': None, 'Any': 'Value 3'}\n",
      " 2025-08-14 : Thu : {'Always': 'My value', 'Scheduled': 'My value', 'Any': None}]\n"
     ]
    }
   ],
   "source": [
    "days = [START_DATE + timedelta(days=i) for i in range(10)]\n",
    "values = zip(days, map(AllProvider({'Always': AlwaysProvider('My value'),\n",
    "                                    'Scheduled': ScheduledProvider('My value',\n",
    "                                                                   AnySchedule({'Tuesdays': WeeklySchedule(TUESDAY),\n",
    "                                                                                'Thursdays': WeeklySchedule(\n",
    "                                                                                    THURSDAY)})),\n",
    "                                    'Any': AnyProvider(\n",
    "                                        {'days 0 to 3': ScheduledProvider('Value 1', UntilSchedule(\n",
    "                                            START_DATE + timedelta(days=3))),\n",
    "                                         'days 4 to 7': ScheduledProvider('Value 2', UntilSchedule(\n",
    "                                             START_DATE + timedelta(days=7))),\n",
    "                                         'days 8 to 9': ScheduledProvider('Value 3',\n",
    "                                                                          UntilSchedule(\n",
    "                                                                              START_DATE + timedelta(days=9)))})}).get,\n",
    "                       days))\n",
    "print(format_values(values))"
   ]
  },
  {
   "cell_type": "markdown",
   "id": "bec08f537882b95f",
   "metadata": {
    "papermill": {
     "duration": 0.001527,
     "end_time": "2025-08-05T11:02:04.801443",
     "exception": false,
     "start_time": "2025-08-05T11:02:04.799916",
     "status": "completed"
    },
    "tags": []
   },
   "source": [
    "## MapProvider\n",
    "\n",
    "This provider uses the specified transform function to transform the values provided by the specified provider"
   ]
  },
  {
   "cell_type": "code",
   "execution_count": 9,
   "id": "eb4cc20e24a0eecd",
   "metadata": {
    "ExecuteTime": {
     "end_time": "2025-08-05T10:59:55.164797Z",
     "start_time": "2025-08-05T10:43:15.309044Z"
    },
    "execution": {
     "iopub.execute_input": "2025-08-05T11:02:04.804661Z",
     "iopub.status.busy": "2025-08-05T11:02:04.804547Z",
     "iopub.status.idle": "2025-08-05T11:02:04.806649Z",
     "shell.execute_reply": "2025-08-05T11:02:04.806457Z"
    },
    "papermill": {
     "duration": 0.004465,
     "end_time": "2025-08-05T11:02:04.807267",
     "exception": false,
     "start_time": "2025-08-05T11:02:04.802802",
     "status": "completed"
    },
    "tags": []
   },
   "outputs": [
    {
     "name": "stdout",
     "output_type": "stream",
     "text": [
      "[2025-08-05 : Tue : MY VALUE\n",
      " 2025-08-06 : Wed : None\n",
      " 2025-08-07 : Thu : MY VALUE\n",
      " 2025-08-08 : Fri : None\n",
      " 2025-08-09 : Sat : None\n",
      " 2025-08-10 : Sun : None\n",
      " 2025-08-11 : Mon : None\n",
      " 2025-08-12 : Tue : MY VALUE\n",
      " 2025-08-13 : Wed : None\n",
      " 2025-08-14 : Thu : MY VALUE]\n"
     ]
    }
   ],
   "source": [
    "days = [START_DATE + timedelta(days=i) for i in range(10)]\n",
    "values = zip(days, map(MapProvider(transform=lambda value: value.upper(),\n",
    "                                   provider=ScheduledProvider(value='My value',\n",
    "                                                              schedule=AnySchedule({'Tuesdays': WeeklySchedule(TUESDAY),\n",
    "                                                                                    'Thursdays': WeeklySchedule(\n",
    "                                                                                        THURSDAY)}))).get, days))\n",
    "print(format_values(values))"
   ]
  }
 ],
 "metadata": {
  "kernelspec": {
   "display_name": "Python 3",
   "language": "python",
   "name": "python3"
  },
  "language_info": {
   "codemirror_mode": {
    "name": "ipython",
    "version": 3
   },
   "file_extension": ".py",
   "mimetype": "text/x-python",
   "name": "python",
   "nbconvert_exporter": "python",
   "pygments_lexer": "ipython3",
   "version": "3.12.11"
  },
  "papermill": {
   "default_parameters": {},
   "duration": 1.065415,
   "end_time": "2025-08-05T11:02:04.923463",
   "environment_variables": {},
   "exception": null,
   "input_path": "./lib/providers/README.ipynb",
   "output_path": "./lib/providers/README.ipynb",
   "parameters": {},
   "start_time": "2025-08-05T11:02:03.858048",
   "version": "2.6.0"
  }
 },
 "nbformat": 4,
 "nbformat_minor": 5
}