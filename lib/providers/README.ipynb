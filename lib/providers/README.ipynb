{
 "cells": [
  {
   "cell_type": "markdown",
   "id": "fe92965f5481891",
   "metadata": {
    "papermill": {
     "duration": 0.00486,
     "end_time": "2025-08-05T09:07:32.273698",
     "exception": false,
     "start_time": "2025-08-05T09:07:32.268838",
     "status": "completed"
    },
    "tags": []
   },
   "source": [
    "# Providers\n",
    "\n",
    "A collection of Provider implementations that will take the current date and provide an\n",
    "item valid for that date."
   ]
  },
  {
   "cell_type": "code",
   "execution_count": 1,
   "id": "initial_id",
   "metadata": {
    "ExecuteTime": {
     "end_time": "2025-08-05T08:40:56.793965Z",
     "start_time": "2025-08-05T08:40:56.756707Z"
    },
    "collapsed": true,
    "execution": {
     "iopub.execute_input": "2025-08-05T09:07:32.281086Z",
     "iopub.status.busy": "2025-08-05T09:07:32.280548Z",
     "iopub.status.idle": "2025-08-05T09:07:32.301681Z",
     "shell.execute_reply": "2025-08-05T09:07:32.301175Z"
    },
    "papermill": {
     "duration": 0.024071,
     "end_time": "2025-08-05T09:07:32.302882",
     "exception": false,
     "start_time": "2025-08-05T09:07:32.278811",
     "status": "completed"
    },
    "tags": []
   },
   "outputs": [
    {
     "name": "stdout",
     "output_type": "stream",
     "text": [
      "Start Date: 2025-08-05 : Tue\n"
     ]
    }
   ],
   "source": [
    "from calendar import TUESDAY, THURSDAY\n",
    "from datetime import date, timedelta\n",
    "\n",
    "from lib.providers import \\\n",
    "    NeverProvider, \\\n",
    "    AlwaysProvider, \\\n",
    "    ScheduledProvider, \\\n",
    "    AnyProvider, \\\n",
    "    AllProvider\n",
    "from lib.providers.map_provider import MapProvider\n",
    "from lib.schedules import \\\n",
    "    WeeklySchedule, \\\n",
    "    AnySchedule, \\\n",
    "    UntilSchedule\n",
    "from lib.utils.format import \\\n",
    "    format_day, \\\n",
    "    format_values\n",
    "\n",
    "START_DATE = date.today()\n",
    "\n",
    "print(f'Start Date: {format_day(START_DATE)}')"
   ]
  },
  {
   "cell_type": "markdown",
   "id": "d4c1c5f73c56c950",
   "metadata": {
    "papermill": {
     "duration": 0.001291,
     "end_time": "2025-08-05T09:07:32.306826",
     "exception": false,
     "start_time": "2025-08-05T09:07:32.305535",
     "status": "completed"
    },
    "tags": []
   },
   "source": [
    "## NeverProvider\n",
    "\n",
    "This is a trivial provider that always provides `None`"
   ]
  },
  {
   "cell_type": "code",
   "execution_count": 2,
   "id": "31d15be478105fb",
   "metadata": {
    "ExecuteTime": {
     "end_time": "2025-08-05T08:40:56.866862Z",
     "start_time": "2025-08-05T08:40:56.862817Z"
    },
    "execution": {
     "iopub.execute_input": "2025-08-05T09:07:32.310039Z",
     "iopub.status.busy": "2025-08-05T09:07:32.309869Z",
     "iopub.status.idle": "2025-08-05T09:07:32.312202Z",
     "shell.execute_reply": "2025-08-05T09:07:32.311910Z"
    },
    "papermill": {
     "duration": 0.005118,
     "end_time": "2025-08-05T09:07:32.313176",
     "exception": false,
     "start_time": "2025-08-05T09:07:32.308058",
     "status": "completed"
    },
    "tags": []
   },
   "outputs": [
    {
     "name": "stdout",
     "output_type": "stream",
     "text": [
      "[2025-08-05 : Tue : None\n",
      " 2025-08-06 : Wed : None\n",
      " 2025-08-07 : Thu : None\n",
      " 2025-08-08 : Fri : None\n",
      " 2025-08-09 : Sat : None\n",
      " 2025-08-10 : Sun : None\n",
      " 2025-08-11 : Mon : None\n",
      " 2025-08-12 : Tue : None\n",
      " 2025-08-13 : Wed : None\n",
      " 2025-08-14 : Thu : None]\n"
     ]
    }
   ],
   "source": [
    "days = [START_DATE + timedelta(days=i) for i in range(10)]\n",
    "values = zip(days, map(NeverProvider[str]().get, days))\n",
    "print(format_values(values))"
   ]
  },
  {
   "cell_type": "markdown",
   "id": "533be8092240d073",
   "metadata": {
    "papermill": {
     "duration": 0.001687,
     "end_time": "2025-08-05T09:07:32.317075",
     "exception": false,
     "start_time": "2025-08-05T09:07:32.315388",
     "status": "completed"
    },
    "tags": []
   },
   "source": [
    "## AlwaysProvider\n",
    "\n",
    "This is a trivial provider that always provides the given value"
   ]
  },
  {
   "cell_type": "code",
   "execution_count": 3,
   "id": "c22e59cd690a96ad",
   "metadata": {
    "ExecuteTime": {
     "end_time": "2025-08-05T08:40:56.988354Z",
     "start_time": "2025-08-05T08:40:56.985809Z"
    },
    "execution": {
     "iopub.execute_input": "2025-08-05T09:07:32.320429Z",
     "iopub.status.busy": "2025-08-05T09:07:32.320280Z",
     "iopub.status.idle": "2025-08-05T09:07:32.322555Z",
     "shell.execute_reply": "2025-08-05T09:07:32.322272Z"
    },
    "papermill": {
     "duration": 0.004954,
     "end_time": "2025-08-05T09:07:32.323410",
     "exception": false,
     "start_time": "2025-08-05T09:07:32.318456",
     "status": "completed"
    },
    "tags": []
   },
   "outputs": [
    {
     "name": "stdout",
     "output_type": "stream",
     "text": [
      "[2025-08-05 : Tue : My value\n",
      " 2025-08-06 : Wed : My value\n",
      " 2025-08-07 : Thu : My value\n",
      " 2025-08-08 : Fri : My value\n",
      " 2025-08-09 : Sat : My value\n",
      " 2025-08-10 : Sun : My value\n",
      " 2025-08-11 : Mon : My value\n",
      " 2025-08-12 : Tue : My value\n",
      " 2025-08-13 : Wed : My value\n",
      " 2025-08-14 : Thu : My value]\n"
     ]
    }
   ],
   "source": [
    "days = [START_DATE + timedelta(days=i) for i in range(10)]\n",
    "values = zip(days, map(AlwaysProvider('My value').get, days))\n",
    "print(format_values(values))"
   ]
  },
  {
   "cell_type": "markdown",
   "id": "9438000ff7296003",
   "metadata": {
    "papermill": {
     "duration": 0.001759,
     "end_time": "2025-08-05T09:07:32.327243",
     "exception": false,
     "start_time": "2025-08-05T09:07:32.325484",
     "status": "completed"
    },
    "tags": []
   },
   "source": [
    "## ScheduledProvider\n",
    "\n",
    "This provider provides its value according to the specified schedule. If not scheduled it provides `None`."
   ]
  },
  {
   "cell_type": "code",
   "execution_count": 4,
   "id": "4c1dc048def50421",
   "metadata": {
    "ExecuteTime": {
     "end_time": "2025-08-05T08:40:57.000099Z",
     "start_time": "2025-08-05T08:40:56.996964Z"
    },
    "execution": {
     "iopub.execute_input": "2025-08-05T09:07:32.331286Z",
     "iopub.status.busy": "2025-08-05T09:07:32.331162Z",
     "iopub.status.idle": "2025-08-05T09:07:32.333571Z",
     "shell.execute_reply": "2025-08-05T09:07:32.333315Z"
    },
    "papermill": {
     "duration": 0.005377,
     "end_time": "2025-08-05T09:07:32.334370",
     "exception": false,
     "start_time": "2025-08-05T09:07:32.328993",
     "status": "completed"
    },
    "tags": []
   },
   "outputs": [
    {
     "name": "stdout",
     "output_type": "stream",
     "text": [
      "[2025-08-05 : Tue : My value\n",
      " 2025-08-06 : Wed : None\n",
      " 2025-08-07 : Thu : My value\n",
      " 2025-08-08 : Fri : None\n",
      " 2025-08-09 : Sat : None\n",
      " 2025-08-10 : Sun : None\n",
      " 2025-08-11 : Mon : None\n",
      " 2025-08-12 : Tue : My value\n",
      " 2025-08-13 : Wed : None\n",
      " 2025-08-14 : Thu : My value]\n"
     ]
    }
   ],
   "source": [
    "days = [START_DATE + timedelta(days=i) for i in range(10)]\n",
    "values = zip(days, map(ScheduledProvider('My value',\n",
    "                                         AnySchedule({'Tuesdays': WeeklySchedule(TUESDAY),\n",
    "                                                      'Thursdays': WeeklySchedule(THURSDAY)})).get, days))\n",
    "print(format_values(values))"
   ]
  },
  {
   "cell_type": "markdown",
   "id": "9415a1ec450ff23f",
   "metadata": {
    "papermill": {
     "duration": 0.001631,
     "end_time": "2025-08-05T09:07:32.337657",
     "exception": false,
     "start_time": "2025-08-05T09:07:32.336026",
     "status": "completed"
    },
    "tags": []
   },
   "source": [
    "## AnyProvider\n",
    "\n",
    "This provider takes a list of providers and provides the value from the first provider that provides a not `None` value. If all\n",
    "the providers provide `None` then `None` will be provided."
   ]
  },
  {
   "cell_type": "code",
   "execution_count": 5,
   "id": "2b530da5752cfc68",
   "metadata": {
    "ExecuteTime": {
     "end_time": "2025-08-05T08:40:57.011842Z",
     "start_time": "2025-08-05T08:40:57.009554Z"
    },
    "execution": {
     "iopub.execute_input": "2025-08-05T09:07:32.340989Z",
     "iopub.status.busy": "2025-08-05T09:07:32.340879Z",
     "iopub.status.idle": "2025-08-05T09:07:32.343360Z",
     "shell.execute_reply": "2025-08-05T09:07:32.343109Z"
    },
    "papermill": {
     "duration": 0.005006,
     "end_time": "2025-08-05T09:07:32.344102",
     "exception": false,
     "start_time": "2025-08-05T09:07:32.339096",
     "status": "completed"
    },
    "tags": []
   },
   "outputs": [
    {
     "name": "stdout",
     "output_type": "stream",
     "text": [
      "[2025-08-05 : Tue : Value 1\n",
      " 2025-08-06 : Wed : Value 1\n",
      " 2025-08-07 : Thu : Value 1\n",
      " 2025-08-08 : Fri : Value 2\n",
      " 2025-08-09 : Sat : Value 2\n",
      " 2025-08-10 : Sun : Value 2\n",
      " 2025-08-11 : Mon : Value 2\n",
      " 2025-08-12 : Tue : Value 3\n",
      " 2025-08-13 : Wed : Value 3\n",
      " 2025-08-14 : Thu : None]\n"
     ]
    }
   ],
   "source": [
    "days = [START_DATE + timedelta(days=i) for i in range(10)]\n",
    "values = zip(days, map(AnyProvider(\n",
    "    {'days 0 to 3': ScheduledProvider('Value 1', UntilSchedule(START_DATE + timedelta(days=3))),\n",
    "     'days 4 to 7': ScheduledProvider('Value 2', UntilSchedule(START_DATE + timedelta(days=7))),\n",
    "     'days 8 to 9': ScheduledProvider('Value 3', UntilSchedule(START_DATE + timedelta(days=9)))}).get,\n",
    "                       days))\n",
    "print(format_values(values))"
   ]
  },
  {
   "cell_type": "markdown",
   "id": "a7b3bd5dd232502d",
   "metadata": {
    "papermill": {
     "duration": 0.001383,
     "end_time": "2025-08-05T09:07:32.347255",
     "exception": false,
     "start_time": "2025-08-05T09:07:32.345872",
     "status": "completed"
    },
    "tags": []
   },
   "source": [
    "## AllProvider\n",
    "\n",
    "This provider takes a dictionary of providers and provides a corresponding dictionary of the values provided by each provider"
   ]
  },
  {
   "cell_type": "code",
   "execution_count": 6,
   "id": "d8bfc055aedbf4b7",
   "metadata": {
    "ExecuteTime": {
     "end_time": "2025-08-05T08:40:57.026272Z",
     "start_time": "2025-08-05T08:40:57.023275Z"
    },
    "execution": {
     "iopub.execute_input": "2025-08-05T09:07:32.350460Z",
     "iopub.status.busy": "2025-08-05T09:07:32.350344Z",
     "iopub.status.idle": "2025-08-05T09:07:32.353056Z",
     "shell.execute_reply": "2025-08-05T09:07:32.352803Z"
    },
    "papermill": {
     "duration": 0.005121,
     "end_time": "2025-08-05T09:07:32.353775",
     "exception": false,
     "start_time": "2025-08-05T09:07:32.348654",
     "status": "completed"
    },
    "tags": []
   },
   "outputs": [
    {
     "name": "stdout",
     "output_type": "stream",
     "text": [
      "[2025-08-05 : Tue : {'Always': 'My value', 'Scheduled': 'My value', 'Any': 'Value 1'}\n",
      " 2025-08-06 : Wed : {'Always': 'My value', 'Scheduled': None, 'Any': 'Value 1'}\n",
      " 2025-08-07 : Thu : {'Always': 'My value', 'Scheduled': 'My value', 'Any': 'Value 1'}\n",
      " 2025-08-08 : Fri : {'Always': 'My value', 'Scheduled': None, 'Any': 'Value 2'}\n",
      " 2025-08-09 : Sat : {'Always': 'My value', 'Scheduled': None, 'Any': 'Value 2'}\n",
      " 2025-08-10 : Sun : {'Always': 'My value', 'Scheduled': None, 'Any': 'Value 2'}\n",
      " 2025-08-11 : Mon : {'Always': 'My value', 'Scheduled': None, 'Any': 'Value 2'}\n",
      " 2025-08-12 : Tue : {'Always': 'My value', 'Scheduled': 'My value', 'Any': 'Value 3'}\n",
      " 2025-08-13 : Wed : {'Always': 'My value', 'Scheduled': None, 'Any': 'Value 3'}\n",
      " 2025-08-14 : Thu : {'Always': 'My value', 'Scheduled': 'My value', 'Any': None}]\n"
     ]
    }
   ],
   "source": [
    "days = [START_DATE + timedelta(days=i) for i in range(10)]\n",
    "values = zip(days, map(AllProvider({'Always': AlwaysProvider('My value'),\n",
    "                                    'Scheduled': ScheduledProvider('My value',\n",
    "                                                                   AnySchedule({'Tuesdays': WeeklySchedule(TUESDAY),\n",
    "                                                                                'Thursdays': WeeklySchedule(\n",
    "                                                                                    THURSDAY)})),\n",
    "                                    'Any': AnyProvider(\n",
    "                                        {'days 0 to 3': ScheduledProvider('Value 1', UntilSchedule(\n",
    "                                            START_DATE + timedelta(days=3))),\n",
    "                                         'days 4 to 7': ScheduledProvider('Value 2', UntilSchedule(\n",
    "                                             START_DATE + timedelta(days=7))),\n",
    "                                         'days 8 to 9': ScheduledProvider('Value 3',\n",
    "                                                                          UntilSchedule(\n",
    "                                                                              START_DATE + timedelta(days=9)))})}).get,\n",
    "                       days))\n",
    "print(format_values(values))"
   ]
  },
  {
   "cell_type": "markdown",
   "id": "bec08f537882b95f",
   "metadata": {
    "papermill": {
     "duration": 0.001488,
     "end_time": "2025-08-05T09:07:32.357123",
     "exception": false,
     "start_time": "2025-08-05T09:07:32.355635",
     "status": "completed"
    },
    "tags": []
   },
   "source": [
    "## MapProvider\n",
    "\n",
    "This provider uses the specified transform function to transform the values provided by the specified provider"
   ]
  },
  {
   "cell_type": "code",
   "execution_count": 7,
   "id": "eb4cc20e24a0eecd",
   "metadata": {
    "ExecuteTime": {
     "end_time": "2025-08-05T08:40:57.039939Z",
     "start_time": "2025-08-05T08:40:57.036751Z"
    },
    "execution": {
     "iopub.execute_input": "2025-08-05T09:07:32.360206Z",
     "iopub.status.busy": "2025-08-05T09:07:32.360096Z",
     "iopub.status.idle": "2025-08-05T09:07:32.362308Z",
     "shell.execute_reply": "2025-08-05T09:07:32.362077Z"
    },
    "papermill": {
     "duration": 0.004515,
     "end_time": "2025-08-05T09:07:32.362928",
     "exception": false,
     "start_time": "2025-08-05T09:07:32.358413",
     "status": "completed"
    },
    "tags": []
   },
   "outputs": [
    {
     "name": "stdout",
     "output_type": "stream",
     "text": [
      "[2025-08-05 : Tue : MY VALUE\n",
      " 2025-08-06 : Wed : None\n",
      " 2025-08-07 : Thu : MY VALUE\n",
      " 2025-08-08 : Fri : None\n",
      " 2025-08-09 : Sat : None\n",
      " 2025-08-10 : Sun : None\n",
      " 2025-08-11 : Mon : None\n",
      " 2025-08-12 : Tue : MY VALUE\n",
      " 2025-08-13 : Wed : None\n",
      " 2025-08-14 : Thu : MY VALUE]\n"
     ]
    }
   ],
   "source": [
    "days = [START_DATE + timedelta(days=i) for i in range(10)]\n",
    "values = zip(days, map(MapProvider(transform=lambda value: value.upper(),\n",
    "                                   provider=ScheduledProvider(value='My value',\n",
    "                                                              schedule=AnySchedule({'Tuesdays': WeeklySchedule(TUESDAY),\n",
    "                                                                                    'Thursdays': WeeklySchedule(\n",
    "                                                                                        THURSDAY)}))).get, days))\n",
    "print(format_values(values))"
   ]
  }
 ],
 "metadata": {
  "kernelspec": {
   "display_name": "Python 3",
   "language": "python",
   "name": "python3"
  },
  "language_info": {
   "codemirror_mode": {
    "name": "ipython",
    "version": 3
   },
   "file_extension": ".py",
   "mimetype": "text/x-python",
   "name": "python",
   "nbconvert_exporter": "python",
   "pygments_lexer": "ipython3",
   "version": "3.12.11"
  },
  "papermill": {
   "default_parameters": {},
   "duration": 1.029678,
   "end_time": "2025-08-05T09:07:32.479142",
   "environment_variables": {},
   "exception": null,
   "input_path": "./lib/providers/README.ipynb",
   "output_path": "./lib/providers/README.ipynb",
   "parameters": {},
   "start_time": "2025-08-05T09:07:31.449464",
   "version": "2.6.0"
  }
 },
 "nbformat": 4,
 "nbformat_minor": 5
}