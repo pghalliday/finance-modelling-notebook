{
 "cells": [
  {
   "cell_type": "markdown",
   "id": "fe92965f5481891",
   "metadata": {
    "papermill": {
     "duration": 0.006131,
     "end_time": "2025-08-04T14:07:30.166387",
     "exception": false,
     "start_time": "2025-08-04T14:07:30.160256",
     "status": "completed"
    },
    "tags": []
   },
   "source": [
    "# Providers\n",
    "\n",
    "A collection of Provider implementations that will take the current date and provide an\n",
    "item valid for that date."
   ]
  },
  {
   "cell_type": "code",
   "id": "initial_id",
   "metadata": {
    "collapsed": true,
    "execution": {
     "iopub.execute_input": "2025-08-04T14:07:30.171788Z",
     "iopub.status.busy": "2025-08-04T14:07:30.171580Z",
     "iopub.status.idle": "2025-08-04T14:07:30.179105Z",
     "shell.execute_reply": "2025-08-04T14:07:30.178785Z"
    },
    "papermill": {
     "duration": 0.010722,
     "end_time": "2025-08-04T14:07:30.179996",
     "exception": false,
     "start_time": "2025-08-04T14:07:30.169274",
     "status": "completed"
    },
    "tags": [],
    "ExecuteTime": {
     "end_time": "2025-08-04T18:44:59.717609Z",
     "start_time": "2025-08-04T18:44:59.678554Z"
    }
   },
   "source": [
    "from calendar import TUESDAY, THURSDAY\n",
    "from datetime import date, timedelta\n",
    "\n",
    "from lib.providers import \\\n",
    "    NeverProvider, \\\n",
    "    AlwaysProvider, \\\n",
    "    ScheduledProvider, \\\n",
    "    AnyProvider, \\\n",
    "    AllProvider\n",
    "from lib.providers.map_provider import MapProvider\n",
    "from lib.schedules import \\\n",
    "    WeeklySchedule, \\\n",
    "    AnySchedule, \\\n",
    "    UntilSchedule\n",
    "from lib.utils.format import \\\n",
    "    format_day, \\\n",
    "    format_values\n",
    "\n",
    "START_DATE = date.today()\n",
    "\n",
    "print(f'Start Date: {format_day(START_DATE)}')"
   ],
   "outputs": [
    {
     "name": "stdout",
     "output_type": "stream",
     "text": [
      "Start Date: 2025-08-04 : Mon\n"
     ]
    }
   ],
   "execution_count": 1
  },
  {
   "cell_type": "markdown",
   "id": "d4c1c5f73c56c950",
   "metadata": {
    "papermill": {
     "duration": 0.00164,
     "end_time": "2025-08-04T14:07:30.183386",
     "exception": false,
     "start_time": "2025-08-04T14:07:30.181746",
     "status": "completed"
    },
    "tags": []
   },
   "source": [
    "## NeverProvider\n",
    "\n",
    "This is a trivial provider that always provides `None`"
   ]
  },
  {
   "cell_type": "code",
   "id": "31d15be478105fb",
   "metadata": {
    "execution": {
     "iopub.execute_input": "2025-08-04T14:07:30.188521Z",
     "iopub.status.busy": "2025-08-04T14:07:30.188338Z",
     "iopub.status.idle": "2025-08-04T14:07:30.191035Z",
     "shell.execute_reply": "2025-08-04T14:07:30.190654Z"
    },
    "papermill": {
     "duration": 0.006168,
     "end_time": "2025-08-04T14:07:30.191987",
     "exception": false,
     "start_time": "2025-08-04T14:07:30.185819",
     "status": "completed"
    },
    "tags": [],
    "ExecuteTime": {
     "end_time": "2025-08-04T18:44:59.730425Z",
     "start_time": "2025-08-04T18:44:59.727519Z"
    }
   },
   "source": [
    "days = [START_DATE + timedelta(days=i) for i in range(10)]\n",
    "values = zip(days, map(NeverProvider[str]().get, days))\n",
    "print(format_values(values))"
   ],
   "outputs": [
    {
     "name": "stdout",
     "output_type": "stream",
     "text": [
      "[2025-08-04 : Mon : None\n",
      " 2025-08-05 : Tue : None\n",
      " 2025-08-06 : Wed : None\n",
      " 2025-08-07 : Thu : None\n",
      " 2025-08-08 : Fri : None\n",
      " 2025-08-09 : Sat : None\n",
      " 2025-08-10 : Sun : None\n",
      " 2025-08-11 : Mon : None\n",
      " 2025-08-12 : Tue : None\n",
      " 2025-08-13 : Wed : None]\n"
     ]
    }
   ],
   "execution_count": 2
  },
  {
   "cell_type": "markdown",
   "id": "533be8092240d073",
   "metadata": {
    "papermill": {
     "duration": 0.001657,
     "end_time": "2025-08-04T14:07:30.195803",
     "exception": false,
     "start_time": "2025-08-04T14:07:30.194146",
     "status": "completed"
    },
    "tags": []
   },
   "source": [
    "## AlwaysProvider\n",
    "\n",
    "This is a trivial provider that always provides the given value"
   ]
  },
  {
   "cell_type": "code",
   "id": "c22e59cd690a96ad",
   "metadata": {
    "execution": {
     "iopub.execute_input": "2025-08-04T14:07:30.200200Z",
     "iopub.status.busy": "2025-08-04T14:07:30.199997Z",
     "iopub.status.idle": "2025-08-04T14:07:30.203184Z",
     "shell.execute_reply": "2025-08-04T14:07:30.202777Z"
    },
    "papermill": {
     "duration": 0.006615,
     "end_time": "2025-08-04T14:07:30.204097",
     "exception": false,
     "start_time": "2025-08-04T14:07:30.197482",
     "status": "completed"
    },
    "tags": [],
    "ExecuteTime": {
     "end_time": "2025-08-04T18:44:59.832724Z",
     "start_time": "2025-08-04T18:44:59.828451Z"
    }
   },
   "source": [
    "days = [START_DATE + timedelta(days=i) for i in range(10)]\n",
    "values = zip(days, map(AlwaysProvider('My value').get, days))\n",
    "print(format_values(values))"
   ],
   "outputs": [
    {
     "name": "stdout",
     "output_type": "stream",
     "text": [
      "[2025-08-04 : Mon : My value\n",
      " 2025-08-05 : Tue : My value\n",
      " 2025-08-06 : Wed : My value\n",
      " 2025-08-07 : Thu : My value\n",
      " 2025-08-08 : Fri : My value\n",
      " 2025-08-09 : Sat : My value\n",
      " 2025-08-10 : Sun : My value\n",
      " 2025-08-11 : Mon : My value\n",
      " 2025-08-12 : Tue : My value\n",
      " 2025-08-13 : Wed : My value]\n"
     ]
    }
   ],
   "execution_count": 3
  },
  {
   "cell_type": "markdown",
   "id": "9438000ff7296003",
   "metadata": {
    "papermill": {
     "duration": 0.001941,
     "end_time": "2025-08-04T14:07:30.208099",
     "exception": false,
     "start_time": "2025-08-04T14:07:30.206158",
     "status": "completed"
    },
    "tags": []
   },
   "source": [
    "## ScheduledProvider\n",
    "\n",
    "This provider provides its value according to the specified schedule. If not scheduled it provides `None`."
   ]
  },
  {
   "cell_type": "code",
   "id": "4c1dc048def50421",
   "metadata": {
    "execution": {
     "iopub.execute_input": "2025-08-04T14:07:30.212725Z",
     "iopub.status.busy": "2025-08-04T14:07:30.212559Z",
     "iopub.status.idle": "2025-08-04T14:07:30.215362Z",
     "shell.execute_reply": "2025-08-04T14:07:30.215031Z"
    },
    "papermill": {
     "duration": 0.006186,
     "end_time": "2025-08-04T14:07:30.216354",
     "exception": false,
     "start_time": "2025-08-04T14:07:30.210168",
     "status": "completed"
    },
    "tags": [],
    "ExecuteTime": {
     "end_time": "2025-08-04T18:44:59.855483Z",
     "start_time": "2025-08-04T18:44:59.852314Z"
    }
   },
   "source": [
    "days = [START_DATE + timedelta(days=i) for i in range(10)]\n",
    "values = zip(days, map(ScheduledProvider('My value',\n",
    "                                         AnySchedule({'Tuesdays': WeeklySchedule(TUESDAY),\n",
    "                                                      'Thursdays': WeeklySchedule(THURSDAY)})).get, days))\n",
    "print(format_values(values))"
   ],
   "outputs": [
    {
     "name": "stdout",
     "output_type": "stream",
     "text": [
      "[2025-08-04 : Mon : None\n",
      " 2025-08-05 : Tue : My value\n",
      " 2025-08-06 : Wed : None\n",
      " 2025-08-07 : Thu : My value\n",
      " 2025-08-08 : Fri : None\n",
      " 2025-08-09 : Sat : None\n",
      " 2025-08-10 : Sun : None\n",
      " 2025-08-11 : Mon : None\n",
      " 2025-08-12 : Tue : My value\n",
      " 2025-08-13 : Wed : None]\n"
     ]
    }
   ],
   "execution_count": 4
  },
  {
   "cell_type": "markdown",
   "id": "9415a1ec450ff23f",
   "metadata": {
    "papermill": {
     "duration": 0.001809,
     "end_time": "2025-08-04T14:07:30.220277",
     "exception": false,
     "start_time": "2025-08-04T14:07:30.218468",
     "status": "completed"
    },
    "tags": []
   },
   "source": [
    "## AnyProvider\n",
    "\n",
    "This provider takes a list of providers and provides the value from the first provider that provides a not `None` value. If all\n",
    "the providers provide `None` then `None` will be provided."
   ]
  },
  {
   "cell_type": "code",
   "id": "2b530da5752cfc68",
   "metadata": {
    "execution": {
     "iopub.execute_input": "2025-08-04T14:07:30.223860Z",
     "iopub.status.busy": "2025-08-04T14:07:30.223699Z",
     "iopub.status.idle": "2025-08-04T14:07:30.227015Z",
     "shell.execute_reply": "2025-08-04T14:07:30.226713Z"
    },
    "papermill": {
     "duration": 0.006084,
     "end_time": "2025-08-04T14:07:30.227814",
     "exception": false,
     "start_time": "2025-08-04T14:07:30.221730",
     "status": "completed"
    },
    "tags": [],
    "ExecuteTime": {
     "end_time": "2025-08-04T18:44:59.878024Z",
     "start_time": "2025-08-04T18:44:59.874641Z"
    }
   },
   "source": [
    "days = [START_DATE + timedelta(days=i) for i in range(10)]\n",
    "values = zip(days, map(AnyProvider([ScheduledProvider('Value 1', UntilSchedule(START_DATE + timedelta(days=3))),\n",
    "                                    ScheduledProvider('Value 2', UntilSchedule(START_DATE + timedelta(days=7))),\n",
    "                                    ScheduledProvider('Value 3', UntilSchedule(START_DATE + timedelta(days=9)))]).get,\n",
    "                       days))\n",
    "print(format_values(values))"
   ],
   "outputs": [
    {
     "name": "stdout",
     "output_type": "stream",
     "text": [
      "[2025-08-04 : Mon : Value 1\n",
      " 2025-08-05 : Tue : Value 1\n",
      " 2025-08-06 : Wed : Value 1\n",
      " 2025-08-07 : Thu : Value 2\n",
      " 2025-08-08 : Fri : Value 2\n",
      " 2025-08-09 : Sat : Value 2\n",
      " 2025-08-10 : Sun : Value 2\n",
      " 2025-08-11 : Mon : Value 3\n",
      " 2025-08-12 : Tue : Value 3\n",
      " 2025-08-13 : Wed : None]\n"
     ]
    }
   ],
   "execution_count": 5
  },
  {
   "cell_type": "markdown",
   "id": "a7b3bd5dd232502d",
   "metadata": {
    "papermill": {
     "duration": 0.001425,
     "end_time": "2025-08-04T14:07:30.230936",
     "exception": false,
     "start_time": "2025-08-04T14:07:30.229511",
     "status": "completed"
    },
    "tags": []
   },
   "source": [
    "## AllProvider\n",
    "\n",
    "This provider takes a dictionary of providers and provides a corresponding dictionary of the values provided by each provider"
   ]
  },
  {
   "cell_type": "code",
   "id": "d8bfc055aedbf4b7",
   "metadata": {
    "execution": {
     "iopub.execute_input": "2025-08-04T14:07:30.234327Z",
     "iopub.status.busy": "2025-08-04T14:07:30.234176Z",
     "iopub.status.idle": "2025-08-04T14:07:30.237255Z",
     "shell.execute_reply": "2025-08-04T14:07:30.237011Z"
    },
    "papermill": {
     "duration": 0.005618,
     "end_time": "2025-08-04T14:07:30.237985",
     "exception": false,
     "start_time": "2025-08-04T14:07:30.232367",
     "status": "completed"
    },
    "tags": [],
    "ExecuteTime": {
     "end_time": "2025-08-04T18:44:59.899017Z",
     "start_time": "2025-08-04T18:44:59.893756Z"
    }
   },
   "source": [
    "days = [START_DATE + timedelta(days=i) for i in range(10)]\n",
    "values = zip(days, map(AllProvider({'Always': AlwaysProvider('My value'),\n",
    "                                    'Scheduled': ScheduledProvider('My value',\n",
    "                                                                   AnySchedule({'Tuesdays': WeeklySchedule(TUESDAY),\n",
    "                                                                                'Thursdays': WeeklySchedule(\n",
    "                                                                                    THURSDAY)})),\n",
    "                                    'Any': AnyProvider(\n",
    "                                        [ScheduledProvider('Value 1', UntilSchedule(START_DATE + timedelta(days=3))),\n",
    "                                         ScheduledProvider('Value 2', UntilSchedule(START_DATE + timedelta(days=7))),\n",
    "                                         ScheduledProvider('Value 3',\n",
    "                                                           UntilSchedule(START_DATE + timedelta(days=9)))])}).get,\n",
    "                       days))\n",
    "print(format_values(values))"
   ],
   "outputs": [
    {
     "name": "stdout",
     "output_type": "stream",
     "text": [
      "[2025-08-04 : Mon : {'Always': 'My value', 'Scheduled': None, 'Any': 'Value 1'}\n",
      " 2025-08-05 : Tue : {'Always': 'My value', 'Scheduled': 'My value', 'Any': 'Value 1'}\n",
      " 2025-08-06 : Wed : {'Always': 'My value', 'Scheduled': None, 'Any': 'Value 1'}\n",
      " 2025-08-07 : Thu : {'Always': 'My value', 'Scheduled': 'My value', 'Any': 'Value 2'}\n",
      " 2025-08-08 : Fri : {'Always': 'My value', 'Scheduled': None, 'Any': 'Value 2'}\n",
      " 2025-08-09 : Sat : {'Always': 'My value', 'Scheduled': None, 'Any': 'Value 2'}\n",
      " 2025-08-10 : Sun : {'Always': 'My value', 'Scheduled': None, 'Any': 'Value 2'}\n",
      " 2025-08-11 : Mon : {'Always': 'My value', 'Scheduled': None, 'Any': 'Value 3'}\n",
      " 2025-08-12 : Tue : {'Always': 'My value', 'Scheduled': 'My value', 'Any': 'Value 3'}\n",
      " 2025-08-13 : Wed : {'Always': 'My value', 'Scheduled': None, 'Any': None}]\n"
     ]
    }
   ],
   "execution_count": 6
  },
  {
   "metadata": {},
   "cell_type": "markdown",
   "source": [
    "## MapProvider\n",
    "\n",
    "This provider uses the specified transform function to transform the values provided by the specified provider"
   ],
   "id": "bec08f537882b95f"
  },
  {
   "metadata": {
    "ExecuteTime": {
     "end_time": "2025-08-04T18:46:06.892662Z",
     "start_time": "2025-08-04T18:46:06.884063Z"
    }
   },
   "cell_type": "code",
   "source": [
    "days = [START_DATE + timedelta(days=i) for i in range(10)]\n",
    "values = zip(days, map(MapProvider(transform=lambda value: value.upper(),\n",
    "                                   provider=ScheduledProvider(value='My value',\n",
    "                                                              schedule=AnySchedule({'Tuesdays': WeeklySchedule(TUESDAY),\n",
    "                                                                                    'Thursdays': WeeklySchedule(\n",
    "                                                                                        THURSDAY)}))).get, days))\n",
    "print(format_values(values))"
   ],
   "id": "eb4cc20e24a0eecd",
   "outputs": [
    {
     "name": "stdout",
     "output_type": "stream",
     "text": [
      "[2025-08-04 : Mon : None\n",
      " 2025-08-05 : Tue : MY VALUE\n",
      " 2025-08-06 : Wed : None\n",
      " 2025-08-07 : Thu : MY VALUE\n",
      " 2025-08-08 : Fri : None\n",
      " 2025-08-09 : Sat : None\n",
      " 2025-08-10 : Sun : None\n",
      " 2025-08-11 : Mon : None\n",
      " 2025-08-12 : Tue : MY VALUE\n",
      " 2025-08-13 : Wed : None]\n"
     ]
    }
   ],
   "execution_count": 8
  }
 ],
 "metadata": {
  "kernelspec": {
   "display_name": "Python 3",
   "language": "python",
   "name": "python3"
  },
  "language_info": {
   "codemirror_mode": {
    "name": "ipython",
    "version": 3
   },
   "file_extension": ".py",
   "mimetype": "text/x-python",
   "name": "python",
   "nbconvert_exporter": "python",
   "pygments_lexer": "ipython3",
   "version": "3.12.11"
  },
  "papermill": {
   "default_parameters": {},
   "duration": 1.030194,
   "end_time": "2025-08-04T14:07:30.354379",
   "environment_variables": {},
   "exception": null,
   "input_path": "./lib/providers/README.ipynb",
   "output_path": "./lib/providers/README.ipynb",
   "parameters": {},
   "start_time": "2025-08-04T14:07:29.324185",
   "version": "2.6.0"
  }
 },
 "nbformat": 4,
 "nbformat_minor": 5
}
