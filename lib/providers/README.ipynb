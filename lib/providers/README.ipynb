{
 "cells": [
  {
   "cell_type": "markdown",
   "id": "fe92965f5481891",
   "metadata": {
    "papermill": {
     "duration": 0.007696,
     "end_time": "2025-08-05T18:52:32.994278",
     "exception": false,
     "start_time": "2025-08-05T18:52:32.986582",
     "status": "completed"
    },
    "tags": []
   },
   "source": [
    "# Providers\n",
    "\n",
    "A collection of Provider implementations that will take the current date and provide sequences of values\n",
    "valid for that date. The sequence will be wrapped in an instance `Provided` that will also indicate if the\n",
    "provider has completed (i.e., it will not provide any more values)."
   ]
  },
  {
   "cell_type": "code",
   "execution_count": 1,
   "id": "initial_id",
   "metadata": {
    "ExecuteTime": {
     "end_time": "2025-08-05T18:36:03.759714Z",
     "start_time": "2025-08-05T18:36:03.728001Z"
    },
    "collapsed": true,
    "execution": {
     "iopub.execute_input": "2025-08-05T18:52:33.005209Z",
     "iopub.status.busy": "2025-08-05T18:52:33.004728Z",
     "iopub.status.idle": "2025-08-05T18:52:33.031973Z",
     "shell.execute_reply": "2025-08-05T18:52:33.031547Z"
    },
    "papermill": {
     "duration": 0.03398,
     "end_time": "2025-08-05T18:52:33.033305",
     "exception": false,
     "start_time": "2025-08-05T18:52:32.999325",
     "status": "completed"
    },
    "tags": []
   },
   "outputs": [
    {
     "name": "stdout",
     "output_type": "stream",
     "text": [
      "Start Date: 2025-08-05 : Tue\n"
     ]
    }
   ],
   "source": [
    "from calendar import TUESDAY, THURSDAY\n",
    "from datetime import date, timedelta\n",
    "\n",
    "from lib.providers import \\\n",
    "    NeverProvider, \\\n",
    "    AlwaysProvider, \\\n",
    "    ScheduledProvider, \\\n",
    "    NextProvider, \\\n",
    "    MergeProvider, \\\n",
    "    FunctionProvider, \\\n",
    "    MapProvider, \\\n",
    "    FlatMapProvider, \\\n",
    "    MergeMapProvider, \\\n",
    "    Provided, \\\n",
    "    create_sequence_provider\n",
    "from lib.schedules import \\\n",
    "    WeeklySchedule, \\\n",
    "    AnySchedule, \\\n",
    "    UntilSchedule\n",
    "from lib.utils.format import \\\n",
    "    format_day, \\\n",
    "    format_values\n",
    "\n",
    "START_DATE = date.today()\n",
    "\n",
    "print(f'Start Date: {format_day(START_DATE)}')"
   ]
  },
  {
   "cell_type": "markdown",
   "id": "d4c1c5f73c56c950",
   "metadata": {
    "papermill": {
     "duration": 0.002246,
     "end_time": "2025-08-05T18:52:33.038341",
     "exception": false,
     "start_time": "2025-08-05T18:52:33.036095",
     "status": "completed"
    },
    "tags": []
   },
   "source": [
    "## NeverProvider\n",
    "\n",
    "This is a trivial provider that always provides an empty sequence."
   ]
  },
  {
   "cell_type": "code",
   "execution_count": 2,
   "id": "31d15be478105fb",
   "metadata": {
    "ExecuteTime": {
     "end_time": "2025-08-05T18:36:03.779243Z",
     "start_time": "2025-08-05T18:36:03.773676Z"
    },
    "execution": {
     "iopub.execute_input": "2025-08-05T18:52:33.043603Z",
     "iopub.status.busy": "2025-08-05T18:52:33.043413Z",
     "iopub.status.idle": "2025-08-05T18:52:33.046141Z",
     "shell.execute_reply": "2025-08-05T18:52:33.045832Z"
    },
    "papermill": {
     "duration": 0.006427,
     "end_time": "2025-08-05T18:52:33.046978",
     "exception": false,
     "start_time": "2025-08-05T18:52:33.040551",
     "status": "completed"
    },
    "tags": []
   },
   "outputs": [
    {
     "name": "stdout",
     "output_type": "stream",
     "text": [
      "[2025-08-05 : Tue : Provided(values=(), complete=True)\n",
      " 2025-08-06 : Wed : Provided(values=(), complete=True)\n",
      " 2025-08-07 : Thu : Provided(values=(), complete=True)\n",
      " 2025-08-08 : Fri : Provided(values=(), complete=True)\n",
      " 2025-08-09 : Sat : Provided(values=(), complete=True)\n",
      " 2025-08-10 : Sun : Provided(values=(), complete=True)\n",
      " 2025-08-11 : Mon : Provided(values=(), complete=True)\n",
      " 2025-08-12 : Tue : Provided(values=(), complete=True)\n",
      " 2025-08-13 : Wed : Provided(values=(), complete=True)\n",
      " 2025-08-14 : Thu : Provided(values=(), complete=True)]\n"
     ]
    }
   ],
   "source": [
    "days = [START_DATE + timedelta(days=i) for i in range(10)]\n",
    "values = zip(days, map(NeverProvider[str]().get, days))\n",
    "print(format_values(values))"
   ]
  },
  {
   "cell_type": "markdown",
   "id": "533be8092240d073",
   "metadata": {
    "papermill": {
     "duration": 0.002008,
     "end_time": "2025-08-05T18:52:33.051148",
     "exception": false,
     "start_time": "2025-08-05T18:52:33.049140",
     "status": "completed"
    },
    "tags": []
   },
   "source": [
    "## AlwaysProvider\n",
    "\n",
    "This is a trivial provider that always provides a single value sequence."
   ]
  },
  {
   "cell_type": "code",
   "execution_count": 3,
   "id": "c22e59cd690a96ad",
   "metadata": {
    "ExecuteTime": {
     "end_time": "2025-08-05T18:36:03.890520Z",
     "start_time": "2025-08-05T18:36:03.885249Z"
    },
    "execution": {
     "iopub.execute_input": "2025-08-05T18:52:33.055534Z",
     "iopub.status.busy": "2025-08-05T18:52:33.055312Z",
     "iopub.status.idle": "2025-08-05T18:52:33.057561Z",
     "shell.execute_reply": "2025-08-05T18:52:33.057300Z"
    },
    "papermill": {
     "duration": 0.005153,
     "end_time": "2025-08-05T18:52:33.058264",
     "exception": false,
     "start_time": "2025-08-05T18:52:33.053111",
     "status": "completed"
    },
    "tags": []
   },
   "outputs": [
    {
     "name": "stdout",
     "output_type": "stream",
     "text": [
      "[2025-08-05 : Tue : Provided(values=('My value',), complete=False)\n",
      " 2025-08-06 : Wed : Provided(values=('My value',), complete=False)\n",
      " 2025-08-07 : Thu : Provided(values=('My value',), complete=False)\n",
      " 2025-08-08 : Fri : Provided(values=('My value',), complete=False)\n",
      " 2025-08-09 : Sat : Provided(values=('My value',), complete=False)\n",
      " 2025-08-10 : Sun : Provided(values=('My value',), complete=False)\n",
      " 2025-08-11 : Mon : Provided(values=('My value',), complete=False)\n",
      " 2025-08-12 : Tue : Provided(values=('My value',), complete=False)\n",
      " 2025-08-13 : Wed : Provided(values=('My value',), complete=False)\n",
      " 2025-08-14 : Thu : Provided(values=('My value',), complete=False)]\n"
     ]
    }
   ],
   "source": [
    "days = [START_DATE + timedelta(days=i) for i in range(10)]\n",
    "values = zip(days, map(AlwaysProvider('My value').get, days))\n",
    "print(format_values(values))"
   ]
  },
  {
   "cell_type": "markdown",
   "id": "9438000ff7296003",
   "metadata": {
    "papermill": {
     "duration": 0.001774,
     "end_time": "2025-08-05T18:52:33.062038",
     "exception": false,
     "start_time": "2025-08-05T18:52:33.060264",
     "status": "completed"
    },
    "tags": []
   },
   "source": [
    "## ScheduledProvider\n",
    "\n",
    "This provider provides a single value sequence according to the specified schedule. If not scheduled it\n",
    "provides an empty sequence."
   ]
  },
  {
   "cell_type": "code",
   "execution_count": 4,
   "id": "4c1dc048def50421",
   "metadata": {
    "ExecuteTime": {
     "end_time": "2025-08-05T18:36:03.924950Z",
     "start_time": "2025-08-05T18:36:03.922161Z"
    },
    "execution": {
     "iopub.execute_input": "2025-08-05T18:52:33.066008Z",
     "iopub.status.busy": "2025-08-05T18:52:33.065900Z",
     "iopub.status.idle": "2025-08-05T18:52:33.067960Z",
     "shell.execute_reply": "2025-08-05T18:52:33.067743Z"
    },
    "papermill": {
     "duration": 0.004793,
     "end_time": "2025-08-05T18:52:33.068581",
     "exception": false,
     "start_time": "2025-08-05T18:52:33.063788",
     "status": "completed"
    },
    "tags": []
   },
   "outputs": [
    {
     "name": "stdout",
     "output_type": "stream",
     "text": [
      "[2025-08-05 : Tue : Provided(values=('My value',), complete=False)\n",
      " 2025-08-06 : Wed : Provided(values=(), complete=False)\n",
      " 2025-08-07 : Thu : Provided(values=('My value',), complete=False)\n",
      " 2025-08-08 : Fri : Provided(values=(), complete=False)\n",
      " 2025-08-09 : Sat : Provided(values=(), complete=False)\n",
      " 2025-08-10 : Sun : Provided(values=(), complete=False)\n",
      " 2025-08-11 : Mon : Provided(values=(), complete=False)\n",
      " 2025-08-12 : Tue : Provided(values=('My value',), complete=False)\n",
      " 2025-08-13 : Wed : Provided(values=(), complete=False)\n",
      " 2025-08-14 : Thu : Provided(values=('My value',), complete=False)]\n"
     ]
    }
   ],
   "source": [
    "days = [START_DATE + timedelta(days=i) for i in range(10)]\n",
    "values = zip(days, map(ScheduledProvider('My value',\n",
    "                                         AnySchedule((WeeklySchedule(TUESDAY),\n",
    "                                                      WeeklySchedule(THURSDAY)))).get, days))\n",
    "print(format_values(values))"
   ]
  },
  {
   "cell_type": "markdown",
   "id": "8455c53a0b137c63",
   "metadata": {
    "papermill": {
     "duration": 0.001694,
     "end_time": "2025-08-05T18:52:33.072152",
     "exception": false,
     "start_time": "2025-08-05T18:52:33.070458",
     "status": "completed"
    },
    "tags": []
   },
   "source": [
    "## FunctionProvider\n",
    "\n",
    "This provider uses the specified function to map the current date to an instance of `Provided`."
   ]
  },
  {
   "cell_type": "code",
   "execution_count": 5,
   "id": "7466d848235f73b1",
   "metadata": {
    "ExecuteTime": {
     "end_time": "2025-08-05T18:36:03.953409Z",
     "start_time": "2025-08-05T18:36:03.948626Z"
    },
    "execution": {
     "iopub.execute_input": "2025-08-05T18:52:33.075959Z",
     "iopub.status.busy": "2025-08-05T18:52:33.075855Z",
     "iopub.status.idle": "2025-08-05T18:52:33.077850Z",
     "shell.execute_reply": "2025-08-05T18:52:33.077648Z"
    },
    "papermill": {
     "duration": 0.004637,
     "end_time": "2025-08-05T18:52:33.078477",
     "exception": false,
     "start_time": "2025-08-05T18:52:33.073840",
     "status": "completed"
    },
    "tags": []
   },
   "outputs": [
    {
     "name": "stdout",
     "output_type": "stream",
     "text": [
      "[2025-08-05 : Tue : Provided(values=(1,), complete=False)\n",
      " 2025-08-06 : Wed : Provided(values=(2,), complete=False)\n",
      " 2025-08-07 : Thu : Provided(values=(3,), complete=False)\n",
      " 2025-08-08 : Fri : Provided(values=(4,), complete=False)\n",
      " 2025-08-09 : Sat : Provided(values=(5,), complete=False)\n",
      " 2025-08-10 : Sun : Provided(values=(6,), complete=False)\n",
      " 2025-08-11 : Mon : Provided(values=(0,), complete=False)\n",
      " 2025-08-12 : Tue : Provided(values=(1,), complete=False)\n",
      " 2025-08-13 : Wed : Provided(values=(2,), complete=False)\n",
      " 2025-08-14 : Thu : Provided(values=(3,), complete=False)]\n"
     ]
    }
   ],
   "source": [
    "days = [START_DATE + timedelta(days=i) for i in range(10)]\n",
    "values = zip(days, map(FunctionProvider(lambda current_date: Provided(values=(current_date.weekday(),),\n",
    "                                                                      complete=False)).get, days))\n",
    "print(format_values(values))"
   ]
  },
  {
   "cell_type": "markdown",
   "id": "9415a1ec450ff23f",
   "metadata": {
    "papermill": {
     "duration": 0.001591,
     "end_time": "2025-08-05T18:52:33.081765",
     "exception": false,
     "start_time": "2025-08-05T18:52:33.080174",
     "status": "completed"
    },
    "tags": []
   },
   "source": [
    "## NextProvider\n",
    "\n",
    "This provider takes a sequence of providers and provides the values from the first provider that provides\n",
    "a non-empty sequence of values."
   ]
  },
  {
   "cell_type": "code",
   "execution_count": 6,
   "id": "2b530da5752cfc68",
   "metadata": {
    "ExecuteTime": {
     "end_time": "2025-08-05T18:36:03.990776Z",
     "start_time": "2025-08-05T18:36:03.985156Z"
    },
    "execution": {
     "iopub.execute_input": "2025-08-05T18:52:33.085246Z",
     "iopub.status.busy": "2025-08-05T18:52:33.085159Z",
     "iopub.status.idle": "2025-08-05T18:52:33.087290Z",
     "shell.execute_reply": "2025-08-05T18:52:33.087057Z"
    },
    "papermill": {
     "duration": 0.004529,
     "end_time": "2025-08-05T18:52:33.087864",
     "exception": false,
     "start_time": "2025-08-05T18:52:33.083335",
     "status": "completed"
    },
    "tags": []
   },
   "outputs": [
    {
     "name": "stdout",
     "output_type": "stream",
     "text": [
      "[2025-08-05 : Tue : Provided(values=('Value 1',), complete=False)\n",
      " 2025-08-06 : Wed : Provided(values=('Value 1',), complete=False)\n",
      " 2025-08-07 : Thu : Provided(values=('Value 1',), complete=False)\n",
      " 2025-08-08 : Fri : Provided(values=('Value 2',), complete=False)\n",
      " 2025-08-09 : Sat : Provided(values=('Value 2',), complete=False)\n",
      " 2025-08-10 : Sun : Provided(values=('Value 2',), complete=False)\n",
      " 2025-08-11 : Mon : Provided(values=('Value 2',), complete=False)\n",
      " 2025-08-12 : Tue : Provided(values=('Value 3',), complete=False)\n",
      " 2025-08-13 : Wed : Provided(values=('Value 3',), complete=True)\n",
      " 2025-08-14 : Thu : Provided(values=(), complete=True)]\n"
     ]
    }
   ],
   "source": [
    "days = [START_DATE + timedelta(days=i) for i in range(10)]\n",
    "values = zip(days, map(NextProvider(\n",
    "    (ScheduledProvider('Value 1', UntilSchedule(START_DATE + timedelta(days=3))),\n",
    "     ScheduledProvider('Value 2', UntilSchedule(START_DATE + timedelta(days=7))),\n",
    "     ScheduledProvider('Value 3', UntilSchedule(START_DATE + timedelta(days=9))))).get,\n",
    "                       days))\n",
    "print(format_values(values))"
   ]
  },
  {
   "cell_type": "markdown",
   "id": "a7b3bd5dd232502d",
   "metadata": {
    "papermill": {
     "duration": 0.001561,
     "end_time": "2025-08-05T18:52:33.091163",
     "exception": false,
     "start_time": "2025-08-05T18:52:33.089602",
     "status": "completed"
    },
    "tags": []
   },
   "source": [
    "## MergeProvider\n",
    "\n",
    "This provider takes a sequence of providers and provides a corresponding sequence of the merged values provided\n",
    "by those providers."
   ]
  },
  {
   "cell_type": "code",
   "execution_count": 7,
   "id": "d8bfc055aedbf4b7",
   "metadata": {
    "ExecuteTime": {
     "end_time": "2025-08-05T18:36:04.009692Z",
     "start_time": "2025-08-05T18:36:04.006077Z"
    },
    "execution": {
     "iopub.execute_input": "2025-08-05T18:52:33.094581Z",
     "iopub.status.busy": "2025-08-05T18:52:33.094487Z",
     "iopub.status.idle": "2025-08-05T18:52:33.096831Z",
     "shell.execute_reply": "2025-08-05T18:52:33.096613Z"
    },
    "papermill": {
     "duration": 0.004735,
     "end_time": "2025-08-05T18:52:33.097404",
     "exception": false,
     "start_time": "2025-08-05T18:52:33.092669",
     "status": "completed"
    },
    "tags": []
   },
   "outputs": [
    {
     "name": "stdout",
     "output_type": "stream",
     "text": [
      "[2025-08-05 : Tue : Provided(values=('Always value', 'Sometimes value', 'Value 1'), complete=False)\n",
      " 2025-08-06 : Wed : Provided(values=('Always value', 'Value 1'), complete=False)\n",
      " 2025-08-07 : Thu : Provided(values=('Always value', 'Sometimes value', 'Value 1'), complete=False)\n",
      " 2025-08-08 : Fri : Provided(values=('Always value', 'Value 2'), complete=False)\n",
      " 2025-08-09 : Sat : Provided(values=('Always value', 'Value 2'), complete=False)\n",
      " 2025-08-10 : Sun : Provided(values=('Always value', 'Value 2'), complete=False)\n",
      " 2025-08-11 : Mon : Provided(values=('Always value', 'Value 2'), complete=False)\n",
      " 2025-08-12 : Tue : Provided(values=('Always value', 'Sometimes value', 'Value 3'), complete=False)\n",
      " 2025-08-13 : Wed : Provided(values=('Always value', 'Value 3'), complete=False)\n",
      " 2025-08-14 : Thu : Provided(values=('Always value', 'Sometimes value'), complete=False)]\n"
     ]
    }
   ],
   "source": [
    "days = [START_DATE + timedelta(days=i) for i in range(10)]\n",
    "values = zip(days, map(MergeProvider((AlwaysProvider('Always value'),\n",
    "                                      ScheduledProvider('Sometimes value', AnySchedule((WeeklySchedule(TUESDAY),\n",
    "                                                                                        WeeklySchedule(THURSDAY)))),\n",
    "                                      NextProvider(\n",
    "                                          (ScheduledProvider('Value 1', UntilSchedule(START_DATE + timedelta(days=3))),\n",
    "                                           ScheduledProvider('Value 2', UntilSchedule(START_DATE + timedelta(days=7))),\n",
    "                                           ScheduledProvider('Value 3',\n",
    "                                                             UntilSchedule(START_DATE + timedelta(days=9))))))).get,\n",
    "                       days))\n",
    "print(format_values(values))"
   ]
  },
  {
   "cell_type": "markdown",
   "id": "bec08f537882b95f",
   "metadata": {
    "papermill": {
     "duration": 0.001867,
     "end_time": "2025-08-05T18:52:33.100994",
     "exception": false,
     "start_time": "2025-08-05T18:52:33.099127",
     "status": "completed"
    },
    "tags": []
   },
   "source": [
    "## MapProvider\n",
    "\n",
    "This provider uses the specified transform function to transform the values provided by the specified provider"
   ]
  },
  {
   "cell_type": "code",
   "execution_count": 8,
   "id": "eb4cc20e24a0eecd",
   "metadata": {
    "ExecuteTime": {
     "end_time": "2025-08-05T18:36:04.026305Z",
     "start_time": "2025-08-05T18:36:04.022166Z"
    },
    "execution": {
     "iopub.execute_input": "2025-08-05T18:52:33.104526Z",
     "iopub.status.busy": "2025-08-05T18:52:33.104424Z",
     "iopub.status.idle": "2025-08-05T18:52:33.106590Z",
     "shell.execute_reply": "2025-08-05T18:52:33.106392Z"
    },
    "papermill": {
     "duration": 0.004673,
     "end_time": "2025-08-05T18:52:33.107203",
     "exception": false,
     "start_time": "2025-08-05T18:52:33.102530",
     "status": "completed"
    },
    "tags": []
   },
   "outputs": [
    {
     "name": "stdout",
     "output_type": "stream",
     "text": [
      "[2025-08-05 : Tue : Provided(values=(('MY VALUE', 'my value'),), complete=False)\n",
      " 2025-08-06 : Wed : Provided(values=(), complete=False)\n",
      " 2025-08-07 : Thu : Provided(values=(('MY VALUE', 'my value'),), complete=False)\n",
      " 2025-08-08 : Fri : Provided(values=(), complete=False)\n",
      " 2025-08-09 : Sat : Provided(values=(), complete=False)\n",
      " 2025-08-10 : Sun : Provided(values=(), complete=False)\n",
      " 2025-08-11 : Mon : Provided(values=(), complete=False)\n",
      " 2025-08-12 : Tue : Provided(values=(('MY VALUE', 'my value'),), complete=False)\n",
      " 2025-08-13 : Wed : Provided(values=(), complete=False)\n",
      " 2025-08-14 : Thu : Provided(values=(('MY VALUE', 'my value'),), complete=False)]\n"
     ]
    }
   ],
   "source": [
    "days = [START_DATE + timedelta(days=i) for i in range(10)]\n",
    "values = zip(days, map(MapProvider(transform=lambda value: (value.upper(), value.lower()),\n",
    "                                   provider=ScheduledProvider(value='My value',\n",
    "                                                              schedule=AnySchedule((WeeklySchedule(TUESDAY),\n",
    "                                                                                    WeeklySchedule(\n",
    "                                                                                        THURSDAY))))).get, days))\n",
    "print(format_values(values))"
   ]
  },
  {
   "cell_type": "markdown",
   "id": "12d8fe0ac72d31a8",
   "metadata": {
    "papermill": {
     "duration": 0.002587,
     "end_time": "2025-08-05T18:52:33.111566",
     "exception": false,
     "start_time": "2025-08-05T18:52:33.108979",
     "status": "completed"
    },
    "tags": []
   },
   "source": [
    "## FlatMapProvider\n",
    "\n",
    "This provider, like the `MapProvider`, uses the specified transform function to transform the values provided\n",
    "by the specified provider. However, in this case the transform function should return a sequence and these\n",
    "sequences will be flattened in the resulting `Provided` instance."
   ]
  },
  {
   "cell_type": "code",
   "execution_count": 9,
   "id": "e3a90fa30827bec1",
   "metadata": {
    "ExecuteTime": {
     "end_time": "2025-08-05T18:36:04.040416Z",
     "start_time": "2025-08-05T18:36:04.036766Z"
    },
    "execution": {
     "iopub.execute_input": "2025-08-05T18:52:33.116281Z",
     "iopub.status.busy": "2025-08-05T18:52:33.116160Z",
     "iopub.status.idle": "2025-08-05T18:52:33.118462Z",
     "shell.execute_reply": "2025-08-05T18:52:33.118253Z"
    },
    "papermill": {
     "duration": 0.005265,
     "end_time": "2025-08-05T18:52:33.119074",
     "exception": false,
     "start_time": "2025-08-05T18:52:33.113809",
     "status": "completed"
    },
    "tags": []
   },
   "outputs": [
    {
     "name": "stdout",
     "output_type": "stream",
     "text": [
      "[2025-08-05 : Tue : Provided(values=('MY VALUE', 'my value'), complete=False)\n",
      " 2025-08-06 : Wed : Provided(values=(), complete=False)\n",
      " 2025-08-07 : Thu : Provided(values=('MY VALUE', 'my value'), complete=False)\n",
      " 2025-08-08 : Fri : Provided(values=(), complete=False)\n",
      " 2025-08-09 : Sat : Provided(values=(), complete=False)\n",
      " 2025-08-10 : Sun : Provided(values=(), complete=False)\n",
      " 2025-08-11 : Mon : Provided(values=(), complete=False)\n",
      " 2025-08-12 : Tue : Provided(values=('MY VALUE', 'my value'), complete=False)\n",
      " 2025-08-13 : Wed : Provided(values=(), complete=False)\n",
      " 2025-08-14 : Thu : Provided(values=('MY VALUE', 'my value'), complete=False)]\n"
     ]
    }
   ],
   "source": [
    "days = [START_DATE + timedelta(days=i) for i in range(10)]\n",
    "values = zip(days, map(FlatMapProvider(transform=lambda value: (value.upper(), value.lower()),\n",
    "                                       provider=ScheduledProvider(value='My value',\n",
    "                                                                  schedule=AnySchedule((WeeklySchedule(TUESDAY),\n",
    "                                                                                        WeeklySchedule(\n",
    "                                                                                            THURSDAY))))).get, days))\n",
    "print(format_values(values))"
   ]
  },
  {
   "cell_type": "markdown",
   "id": "eb21455656dbdedd",
   "metadata": {
    "papermill": {
     "duration": 0.001583,
     "end_time": "2025-08-05T18:52:33.122355",
     "exception": false,
     "start_time": "2025-08-05T18:52:33.120772",
     "status": "completed"
    },
    "tags": []
   },
   "source": [
    "## MergeMapProvider\n",
    "\n",
    "This provider, like the `MapProvider`, uses the specified transform function to transform the values provided\n",
    "by the specified provider. However, in this case, the transform function should return a new `Provider` instance.\n",
    "The values from these providers will be merged in future resulting `Provided` instances."
   ]
  },
  {
   "cell_type": "code",
   "execution_count": 10,
   "id": "67b65a6d191c9ab5",
   "metadata": {
    "ExecuteTime": {
     "end_time": "2025-08-05T18:40:37.314456Z",
     "start_time": "2025-08-05T18:40:37.301152Z"
    },
    "execution": {
     "iopub.execute_input": "2025-08-05T18:52:33.126221Z",
     "iopub.status.busy": "2025-08-05T18:52:33.126019Z",
     "iopub.status.idle": "2025-08-05T18:52:33.129004Z",
     "shell.execute_reply": "2025-08-05T18:52:33.128811Z"
    },
    "papermill": {
     "duration": 0.005584,
     "end_time": "2025-08-05T18:52:33.129602",
     "exception": false,
     "start_time": "2025-08-05T18:52:33.124018",
     "status": "completed"
    },
    "tags": []
   },
   "outputs": [
    {
     "name": "stdout",
     "output_type": "stream",
     "text": [
      "[2025-08-05 : Tue : Provided(values=(), complete=False)\n",
      " 2025-08-06 : Wed : Provided(values=('1-1',), complete=False)\n",
      " 2025-08-07 : Thu : Provided(values=('1-2', '2-1'), complete=False)\n",
      " 2025-08-08 : Fri : Provided(values=('1-3', '2-2', '3-1'), complete=False)\n",
      " 2025-08-09 : Sat : Provided(values=('1-4', '2-3', '3-2', '4-1'), complete=False)\n",
      " 2025-08-10 : Sun : Provided(values=('2-4', '3-3', '4-2', '5-1'), complete=False)\n",
      " 2025-08-11 : Mon : Provided(values=('3-4', '4-3', '5-2', '6-1'), complete=False)\n",
      " 2025-08-12 : Tue : Provided(values=('4-4', '5-3', '6-2', '0-1'), complete=False)\n",
      " 2025-08-13 : Wed : Provided(values=('5-4', '6-3', '0-2', '1-1'), complete=False)\n",
      " 2025-08-14 : Thu : Provided(values=('6-4', '0-3', '1-2', '2-1'), complete=False)\n",
      " 2025-08-15 : Fri : Provided(values=('0-4', '1-3', '2-2', '3-1'), complete=False)\n",
      " 2025-08-16 : Sat : Provided(values=('1-4', '2-3', '3-2'), complete=False)\n",
      " 2025-08-17 : Sun : Provided(values=('2-4', '3-3'), complete=False)\n",
      " 2025-08-18 : Mon : Provided(values=('3-4',), complete=True)\n",
      " 2025-08-19 : Tue : Provided(values=(), complete=True)]\n"
     ]
    }
   ],
   "source": [
    "days = [START_DATE + timedelta(days=i) for i in range(15)]\n",
    "sequence_days = [START_DATE + timedelta(days=i) for i in range(10)]\n",
    "values = zip(days, map(MergeMapProvider(\n",
    "    transform=lambda current_date, value: create_sequence_provider({current_date + timedelta(days=1): f'{value}-1',\n",
    "                                                                    current_date + timedelta(days=2): f'{value}-2',\n",
    "                                                                    current_date + timedelta(days=3): f'{value}-3',\n",
    "                                                                    current_date + timedelta(days=4): f'{value}-4'}),\n",
    "    provider=create_sequence_provider({day: day.weekday() for day in sequence_days})).get, days))\n",
    "print(format_values(values))"
   ]
  },
  {
   "cell_type": "markdown",
   "id": "2cbff25bb5657ea",
   "metadata": {
    "papermill": {
     "duration": 0.001644,
     "end_time": "2025-08-05T18:52:33.132953",
     "exception": false,
     "start_time": "2025-08-05T18:52:33.131309",
     "status": "completed"
    },
    "tags": []
   },
   "source": [
    "## Factories\n",
    "\n",
    "The following factory methods are available to construct combinations of providers to implement common patterns."
   ]
  },
  {
   "cell_type": "markdown",
   "id": "2fa95d7345700f11",
   "metadata": {
    "papermill": {
     "duration": 0.001642,
     "end_time": "2025-08-05T18:52:33.136266",
     "exception": false,
     "start_time": "2025-08-05T18:52:33.134624",
     "status": "completed"
    },
    "tags": []
   },
   "source": [
    "### create_sequence_provider\n",
    "\n",
    "This factory takes a mapping of days to values and returns a `Provider` that will provide the given values on the specified days."
   ]
  },
  {
   "cell_type": "code",
   "execution_count": 11,
   "id": "3704ae70ab57ad01",
   "metadata": {
    "ExecuteTime": {
     "end_time": "2025-08-05T18:47:17.987390Z",
     "start_time": "2025-08-05T18:47:17.974385Z"
    },
    "execution": {
     "iopub.execute_input": "2025-08-05T18:52:33.139984Z",
     "iopub.status.busy": "2025-08-05T18:52:33.139876Z",
     "iopub.status.idle": "2025-08-05T18:52:33.142072Z",
     "shell.execute_reply": "2025-08-05T18:52:33.141856Z"
    },
    "papermill": {
     "duration": 0.004833,
     "end_time": "2025-08-05T18:52:33.142751",
     "exception": false,
     "start_time": "2025-08-05T18:52:33.137918",
     "status": "completed"
    },
    "tags": []
   },
   "outputs": [
    {
     "name": "stdout",
     "output_type": "stream",
     "text": [
      "[2025-08-05 : Tue : Provided(values=('2025-08-05 : Tue',), complete=False)\n",
      " 2025-08-06 : Wed : Provided(values=('2025-08-06 : Wed',), complete=False)\n",
      " 2025-08-07 : Thu : Provided(values=('2025-08-07 : Thu',), complete=False)\n",
      " 2025-08-08 : Fri : Provided(values=('2025-08-08 : Fri',), complete=False)\n",
      " 2025-08-09 : Sat : Provided(values=('2025-08-09 : Sat',), complete=False)\n",
      " 2025-08-10 : Sun : Provided(values=('2025-08-10 : Sun',), complete=False)\n",
      " 2025-08-11 : Mon : Provided(values=('2025-08-11 : Mon',), complete=False)\n",
      " 2025-08-12 : Tue : Provided(values=('2025-08-12 : Tue',), complete=False)\n",
      " 2025-08-13 : Wed : Provided(values=('2025-08-13 : Wed',), complete=True)\n",
      " 2025-08-14 : Thu : Provided(values=(), complete=True)]\n"
     ]
    }
   ],
   "source": [
    "days = [START_DATE + timedelta(days=i) for i in range(10)]\n",
    "sequence_days = [START_DATE + timedelta(days=i) for i in range(9)]\n",
    "values = zip(days, map(create_sequence_provider({day: format_day(day)\n",
    "                                                 for day in sequence_days}).get, days))\n",
    "print(format_values(values))"
   ]
  }
 ],
 "metadata": {
  "kernelspec": {
   "display_name": "Python 3",
   "language": "python",
   "name": "python3"
  },
  "language_info": {
   "codemirror_mode": {
    "name": "ipython",
    "version": 3
   },
   "file_extension": ".py",
   "mimetype": "text/x-python",
   "name": "python",
   "nbconvert_exporter": "python",
   "pygments_lexer": "ipython3",
   "version": "3.12.11"
  },
  "papermill": {
   "default_parameters": {},
   "duration": 1.092,
   "end_time": "2025-08-05T18:52:33.259480",
   "environment_variables": {},
   "exception": null,
   "input_path": "./lib/providers/README.ipynb",
   "output_path": "./lib/providers/README.ipynb",
   "parameters": {},
   "start_time": "2025-08-05T18:52:32.167480",
   "version": "2.6.0"
  }
 },
 "nbformat": 4,
 "nbformat_minor": 5
}