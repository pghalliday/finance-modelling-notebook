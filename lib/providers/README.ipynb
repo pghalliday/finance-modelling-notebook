{
 "cells": [
  {
   "cell_type": "markdown",
   "id": "fe92965f5481891",
   "metadata": {
    "papermill": {
     "duration": 0.008136,
     "end_time": "2025-08-05T20:43:40.191726",
     "exception": false,
     "start_time": "2025-08-05T20:43:40.183590",
     "status": "completed"
    },
    "tags": []
   },
   "source": [
    "# Providers\n",
    "\n",
    "A collection of Provider implementations that will take the current date and provide sequences of values\n",
    "valid for that date. The sequence will be wrapped in an instance `Provided` that will also indicate if the\n",
    "provider has completed (i.e., it will not provide any more values)."
   ]
  },
  {
   "cell_type": "code",
   "execution_count": 1,
   "id": "initial_id",
   "metadata": {
    "ExecuteTime": {
     "end_time": "2025-08-05T18:36:03.759714Z",
     "start_time": "2025-08-05T18:36:03.728001Z"
    },
    "collapsed": true,
    "execution": {
     "iopub.execute_input": "2025-08-05T20:43:40.202715Z",
     "iopub.status.busy": "2025-08-05T20:43:40.202403Z",
     "iopub.status.idle": "2025-08-05T20:43:40.230207Z",
     "shell.execute_reply": "2025-08-05T20:43:40.229776Z"
    },
    "papermill": {
     "duration": 0.034521,
     "end_time": "2025-08-05T20:43:40.231314",
     "exception": false,
     "start_time": "2025-08-05T20:43:40.196793",
     "status": "completed"
    },
    "tags": []
   },
   "outputs": [
    {
     "name": "stdout",
     "output_type": "stream",
     "text": [
      "Start Date: 2025-08-05 : Tue\n"
     ]
    }
   ],
   "source": [
    "from calendar import TUESDAY, THURSDAY\n",
    "from datetime import date, timedelta\n",
    "\n",
    "from lib.providers import \\\n",
    "    NeverProvider, \\\n",
    "    AlwaysProvider, \\\n",
    "    ScheduledProvider, \\\n",
    "    NextProvider, \\\n",
    "    MergeProvider, \\\n",
    "    FunctionProvider, \\\n",
    "    MapProvider, \\\n",
    "    FlatMapProvider, \\\n",
    "    MergeMapProvider, \\\n",
    "    Provided, \\\n",
    "    create_sequence_provider\n",
    "from lib.schedules import \\\n",
    "    WeeklySchedule, \\\n",
    "    AnySchedule, \\\n",
    "    UntilSchedule\n",
    "from lib.utils.format import \\\n",
    "    format_day, \\\n",
    "    format_values\n",
    "\n",
    "START_DATE = date.today()\n",
    "\n",
    "print(f'Start Date: {format_day(START_DATE)}')"
   ]
  },
  {
   "cell_type": "markdown",
   "id": "d4c1c5f73c56c950",
   "metadata": {
    "papermill": {
     "duration": 0.002675,
     "end_time": "2025-08-05T20:43:40.236915",
     "exception": false,
     "start_time": "2025-08-05T20:43:40.234240",
     "status": "completed"
    },
    "tags": []
   },
   "source": [
    "## NeverProvider\n",
    "\n",
    "This is a trivial provider that always provides an empty sequence."
   ]
  },
  {
   "cell_type": "code",
   "execution_count": 2,
   "id": "31d15be478105fb",
   "metadata": {
    "ExecuteTime": {
     "end_time": "2025-08-05T18:36:03.779243Z",
     "start_time": "2025-08-05T18:36:03.773676Z"
    },
    "execution": {
     "iopub.execute_input": "2025-08-05T20:43:40.242332Z",
     "iopub.status.busy": "2025-08-05T20:43:40.242171Z",
     "iopub.status.idle": "2025-08-05T20:43:40.244861Z",
     "shell.execute_reply": "2025-08-05T20:43:40.244534Z"
    },
    "papermill": {
     "duration": 0.006416,
     "end_time": "2025-08-05T20:43:40.245706",
     "exception": false,
     "start_time": "2025-08-05T20:43:40.239290",
     "status": "completed"
    },
    "tags": []
   },
   "outputs": [
    {
     "name": "stdout",
     "output_type": "stream",
     "text": [
      "[2025-08-05 : Tue : Provided(values=(), complete=True)\n",
      " 2025-08-06 : Wed : Provided(values=(), complete=True)\n",
      " 2025-08-07 : Thu : Provided(values=(), complete=True)\n",
      " 2025-08-08 : Fri : Provided(values=(), complete=True)\n",
      " 2025-08-09 : Sat : Provided(values=(), complete=True)\n",
      " 2025-08-10 : Sun : Provided(values=(), complete=True)\n",
      " 2025-08-11 : Mon : Provided(values=(), complete=True)\n",
      " 2025-08-12 : Tue : Provided(values=(), complete=True)\n",
      " 2025-08-13 : Wed : Provided(values=(), complete=True)\n",
      " 2025-08-14 : Thu : Provided(values=(), complete=True)]\n"
     ]
    }
   ],
   "source": [
    "days = [START_DATE + timedelta(days=i) for i in range(10)]\n",
    "values = zip(days, map(NeverProvider[str]().get, days))\n",
    "print(format_values(values))"
   ]
  },
  {
   "cell_type": "markdown",
   "id": "533be8092240d073",
   "metadata": {
    "papermill": {
     "duration": 0.002013,
     "end_time": "2025-08-05T20:43:40.249885",
     "exception": false,
     "start_time": "2025-08-05T20:43:40.247872",
     "status": "completed"
    },
    "tags": []
   },
   "source": [
    "## AlwaysProvider\n",
    "\n",
    "This is a trivial provider that always provides a single value sequence."
   ]
  },
  {
   "cell_type": "code",
   "execution_count": 3,
   "id": "c22e59cd690a96ad",
   "metadata": {
    "ExecuteTime": {
     "end_time": "2025-08-05T18:36:03.890520Z",
     "start_time": "2025-08-05T18:36:03.885249Z"
    },
    "execution": {
     "iopub.execute_input": "2025-08-05T20:43:40.254291Z",
     "iopub.status.busy": "2025-08-05T20:43:40.254075Z",
     "iopub.status.idle": "2025-08-05T20:43:40.256341Z",
     "shell.execute_reply": "2025-08-05T20:43:40.256076Z"
    },
    "papermill": {
     "duration": 0.005169,
     "end_time": "2025-08-05T20:43:40.257030",
     "exception": false,
     "start_time": "2025-08-05T20:43:40.251861",
     "status": "completed"
    },
    "tags": []
   },
   "outputs": [
    {
     "name": "stdout",
     "output_type": "stream",
     "text": [
      "[2025-08-05 : Tue : Provided(values=('My value',), complete=False)\n",
      " 2025-08-06 : Wed : Provided(values=('My value',), complete=False)\n",
      " 2025-08-07 : Thu : Provided(values=('My value',), complete=False)\n",
      " 2025-08-08 : Fri : Provided(values=('My value',), complete=False)\n",
      " 2025-08-09 : Sat : Provided(values=('My value',), complete=False)\n",
      " 2025-08-10 : Sun : Provided(values=('My value',), complete=False)\n",
      " 2025-08-11 : Mon : Provided(values=('My value',), complete=False)\n",
      " 2025-08-12 : Tue : Provided(values=('My value',), complete=False)\n",
      " 2025-08-13 : Wed : Provided(values=('My value',), complete=False)\n",
      " 2025-08-14 : Thu : Provided(values=('My value',), complete=False)]\n"
     ]
    }
   ],
   "source": [
    "days = [START_DATE + timedelta(days=i) for i in range(10)]\n",
    "values = zip(days, map(AlwaysProvider('My value').get, days))\n",
    "print(format_values(values))"
   ]
  },
  {
   "cell_type": "markdown",
   "id": "9438000ff7296003",
   "metadata": {
    "papermill": {
     "duration": 0.001883,
     "end_time": "2025-08-05T20:43:40.261717",
     "exception": false,
     "start_time": "2025-08-05T20:43:40.259834",
     "status": "completed"
    },
    "tags": []
   },
   "source": [
    "## ScheduledProvider\n",
    "\n",
    "This provider provides a single value sequence according to the specified schedule. If not scheduled it\n",
    "provides an empty sequence."
   ]
  },
  {
   "cell_type": "code",
   "execution_count": 4,
   "id": "4c1dc048def50421",
   "metadata": {
    "ExecuteTime": {
     "end_time": "2025-08-05T18:36:03.924950Z",
     "start_time": "2025-08-05T18:36:03.922161Z"
    },
    "execution": {
     "iopub.execute_input": "2025-08-05T20:43:40.265897Z",
     "iopub.status.busy": "2025-08-05T20:43:40.265783Z",
     "iopub.status.idle": "2025-08-05T20:43:40.268025Z",
     "shell.execute_reply": "2025-08-05T20:43:40.267752Z"
    },
    "papermill": {
     "duration": 0.005194,
     "end_time": "2025-08-05T20:43:40.268669",
     "exception": false,
     "start_time": "2025-08-05T20:43:40.263475",
     "status": "completed"
    },
    "tags": []
   },
   "outputs": [
    {
     "name": "stdout",
     "output_type": "stream",
     "text": [
      "[2025-08-05 : Tue : Provided(values=('My value',), complete=False)\n",
      " 2025-08-06 : Wed : Provided(values=(), complete=False)\n",
      " 2025-08-07 : Thu : Provided(values=('My value',), complete=False)\n",
      " 2025-08-08 : Fri : Provided(values=(), complete=False)\n",
      " 2025-08-09 : Sat : Provided(values=(), complete=False)\n",
      " 2025-08-10 : Sun : Provided(values=(), complete=False)\n",
      " 2025-08-11 : Mon : Provided(values=(), complete=False)\n",
      " 2025-08-12 : Tue : Provided(values=('My value',), complete=False)\n",
      " 2025-08-13 : Wed : Provided(values=(), complete=False)\n",
      " 2025-08-14 : Thu : Provided(values=('My value',), complete=False)]\n"
     ]
    }
   ],
   "source": [
    "days = [START_DATE + timedelta(days=i) for i in range(10)]\n",
    "values = zip(days, map(ScheduledProvider('My value',\n",
    "                                         AnySchedule((WeeklySchedule(TUESDAY),\n",
    "                                                      WeeklySchedule(THURSDAY)))).get, days))\n",
    "print(format_values(values))"
   ]
  },
  {
   "cell_type": "markdown",
   "id": "8455c53a0b137c63",
   "metadata": {
    "papermill": {
     "duration": 0.001666,
     "end_time": "2025-08-05T20:43:40.272104",
     "exception": false,
     "start_time": "2025-08-05T20:43:40.270438",
     "status": "completed"
    },
    "tags": []
   },
   "source": [
    "## FunctionProvider\n",
    "\n",
    "This provider uses the specified function to map the current date to an instance of `Provided`."
   ]
  },
  {
   "cell_type": "code",
   "execution_count": 5,
   "id": "7466d848235f73b1",
   "metadata": {
    "ExecuteTime": {
     "end_time": "2025-08-05T18:36:03.953409Z",
     "start_time": "2025-08-05T18:36:03.948626Z"
    },
    "execution": {
     "iopub.execute_input": "2025-08-05T20:43:40.275847Z",
     "iopub.status.busy": "2025-08-05T20:43:40.275747Z",
     "iopub.status.idle": "2025-08-05T20:43:40.277751Z",
     "shell.execute_reply": "2025-08-05T20:43:40.277552Z"
    },
    "papermill": {
     "duration": 0.004689,
     "end_time": "2025-08-05T20:43:40.278429",
     "exception": false,
     "start_time": "2025-08-05T20:43:40.273740",
     "status": "completed"
    },
    "tags": []
   },
   "outputs": [
    {
     "name": "stdout",
     "output_type": "stream",
     "text": [
      "[2025-08-05 : Tue : Provided(values=(1,), complete=False)\n",
      " 2025-08-06 : Wed : Provided(values=(2,), complete=False)\n",
      " 2025-08-07 : Thu : Provided(values=(3,), complete=False)\n",
      " 2025-08-08 : Fri : Provided(values=(4,), complete=False)\n",
      " 2025-08-09 : Sat : Provided(values=(5,), complete=False)\n",
      " 2025-08-10 : Sun : Provided(values=(6,), complete=False)\n",
      " 2025-08-11 : Mon : Provided(values=(0,), complete=False)\n",
      " 2025-08-12 : Tue : Provided(values=(1,), complete=False)\n",
      " 2025-08-13 : Wed : Provided(values=(2,), complete=False)\n",
      " 2025-08-14 : Thu : Provided(values=(3,), complete=False)]\n"
     ]
    }
   ],
   "source": [
    "days = [START_DATE + timedelta(days=i) for i in range(10)]\n",
    "values = zip(days, map(FunctionProvider(lambda current_date: Provided(values=(current_date.weekday(),),\n",
    "                                                                      complete=False)).get, days))\n",
    "print(format_values(values))"
   ]
  },
  {
   "cell_type": "markdown",
   "id": "9415a1ec450ff23f",
   "metadata": {
    "papermill": {
     "duration": 0.001546,
     "end_time": "2025-08-05T20:43:40.281599",
     "exception": false,
     "start_time": "2025-08-05T20:43:40.280053",
     "status": "completed"
    },
    "tags": []
   },
   "source": [
    "## NextProvider\n",
    "\n",
    "This provider takes a sequence of providers and provides the values from the first provider that provides\n",
    "a non-empty sequence of values."
   ]
  },
  {
   "cell_type": "code",
   "execution_count": 6,
   "id": "2b530da5752cfc68",
   "metadata": {
    "ExecuteTime": {
     "end_time": "2025-08-05T18:36:03.990776Z",
     "start_time": "2025-08-05T18:36:03.985156Z"
    },
    "execution": {
     "iopub.execute_input": "2025-08-05T20:43:40.285087Z",
     "iopub.status.busy": "2025-08-05T20:43:40.284993Z",
     "iopub.status.idle": "2025-08-05T20:43:40.287067Z",
     "shell.execute_reply": "2025-08-05T20:43:40.286866Z"
    },
    "papermill": {
     "duration": 0.004482,
     "end_time": "2025-08-05T20:43:40.287624",
     "exception": false,
     "start_time": "2025-08-05T20:43:40.283142",
     "status": "completed"
    },
    "tags": []
   },
   "outputs": [
    {
     "name": "stdout",
     "output_type": "stream",
     "text": [
      "[2025-08-05 : Tue : Provided(values=('Value 1',), complete=False)\n",
      " 2025-08-06 : Wed : Provided(values=('Value 1',), complete=False)\n",
      " 2025-08-07 : Thu : Provided(values=('Value 1',), complete=False)\n",
      " 2025-08-08 : Fri : Provided(values=('Value 2',), complete=False)\n",
      " 2025-08-09 : Sat : Provided(values=('Value 2',), complete=False)\n",
      " 2025-08-10 : Sun : Provided(values=('Value 2',), complete=False)\n",
      " 2025-08-11 : Mon : Provided(values=('Value 2',), complete=False)\n",
      " 2025-08-12 : Tue : Provided(values=('Value 3',), complete=False)\n",
      " 2025-08-13 : Wed : Provided(values=('Value 3',), complete=True)\n",
      " 2025-08-14 : Thu : Provided(values=(), complete=True)]\n"
     ]
    }
   ],
   "source": [
    "days = [START_DATE + timedelta(days=i) for i in range(10)]\n",
    "values = zip(days, map(NextProvider(\n",
    "    (ScheduledProvider('Value 1', UntilSchedule(START_DATE + timedelta(days=3))),\n",
    "     ScheduledProvider('Value 2', UntilSchedule(START_DATE + timedelta(days=7))),\n",
    "     ScheduledProvider('Value 3', UntilSchedule(START_DATE + timedelta(days=9))))).get,\n",
    "                       days))\n",
    "print(format_values(values))"
   ]
  },
  {
   "cell_type": "markdown",
   "id": "a7b3bd5dd232502d",
   "metadata": {
    "papermill": {
     "duration": 0.001601,
     "end_time": "2025-08-05T20:43:40.290941",
     "exception": false,
     "start_time": "2025-08-05T20:43:40.289340",
     "status": "completed"
    },
    "tags": []
   },
   "source": [
    "## MergeProvider\n",
    "\n",
    "This provider takes a sequence of providers and provides a corresponding sequence of the merged values provided\n",
    "by those providers."
   ]
  },
  {
   "cell_type": "code",
   "execution_count": 7,
   "id": "d8bfc055aedbf4b7",
   "metadata": {
    "ExecuteTime": {
     "end_time": "2025-08-05T18:36:04.009692Z",
     "start_time": "2025-08-05T18:36:04.006077Z"
    },
    "execution": {
     "iopub.execute_input": "2025-08-05T20:43:40.294404Z",
     "iopub.status.busy": "2025-08-05T20:43:40.294316Z",
     "iopub.status.idle": "2025-08-05T20:43:40.296614Z",
     "shell.execute_reply": "2025-08-05T20:43:40.296418Z"
    },
    "papermill": {
     "duration": 0.00471,
     "end_time": "2025-08-05T20:43:40.297216",
     "exception": false,
     "start_time": "2025-08-05T20:43:40.292506",
     "status": "completed"
    },
    "tags": []
   },
   "outputs": [
    {
     "name": "stdout",
     "output_type": "stream",
     "text": [
      "[2025-08-05 : Tue : Provided(values=('Always value', 'Sometimes value', 'Value 1'), complete=False)\n",
      " 2025-08-06 : Wed : Provided(values=('Always value', 'Value 1'), complete=False)\n",
      " 2025-08-07 : Thu : Provided(values=('Always value', 'Sometimes value', 'Value 1'), complete=False)\n",
      " 2025-08-08 : Fri : Provided(values=('Always value', 'Value 2'), complete=False)\n",
      " 2025-08-09 : Sat : Provided(values=('Always value', 'Value 2'), complete=False)\n",
      " 2025-08-10 : Sun : Provided(values=('Always value', 'Value 2'), complete=False)\n",
      " 2025-08-11 : Mon : Provided(values=('Always value', 'Value 2'), complete=False)\n",
      " 2025-08-12 : Tue : Provided(values=('Always value', 'Sometimes value', 'Value 3'), complete=False)\n",
      " 2025-08-13 : Wed : Provided(values=('Always value', 'Value 3'), complete=False)\n",
      " 2025-08-14 : Thu : Provided(values=('Always value', 'Sometimes value'), complete=False)]\n"
     ]
    }
   ],
   "source": [
    "days = [START_DATE + timedelta(days=i) for i in range(10)]\n",
    "values = zip(days, map(MergeProvider((AlwaysProvider('Always value'),\n",
    "                                      ScheduledProvider('Sometimes value', AnySchedule((WeeklySchedule(TUESDAY),\n",
    "                                                                                        WeeklySchedule(THURSDAY)))),\n",
    "                                      NextProvider(\n",
    "                                          (ScheduledProvider('Value 1', UntilSchedule(START_DATE + timedelta(days=3))),\n",
    "                                           ScheduledProvider('Value 2', UntilSchedule(START_DATE + timedelta(days=7))),\n",
    "                                           ScheduledProvider('Value 3',\n",
    "                                                             UntilSchedule(START_DATE + timedelta(days=9))))))).get,\n",
    "                       days))\n",
    "print(format_values(values))"
   ]
  },
  {
   "cell_type": "markdown",
   "id": "bec08f537882b95f",
   "metadata": {
    "papermill": {
     "duration": 0.001859,
     "end_time": "2025-08-05T20:43:40.300860",
     "exception": false,
     "start_time": "2025-08-05T20:43:40.299001",
     "status": "completed"
    },
    "tags": []
   },
   "source": [
    "## MapProvider\n",
    "\n",
    "This provider uses the specified transform function to transform the values provided by the specified provider"
   ]
  },
  {
   "cell_type": "code",
   "execution_count": 8,
   "id": "eb4cc20e24a0eecd",
   "metadata": {
    "ExecuteTime": {
     "end_time": "2025-08-05T18:36:04.026305Z",
     "start_time": "2025-08-05T18:36:04.022166Z"
    },
    "execution": {
     "iopub.execute_input": "2025-08-05T20:43:40.304588Z",
     "iopub.status.busy": "2025-08-05T20:43:40.304474Z",
     "iopub.status.idle": "2025-08-05T20:43:40.306947Z",
     "shell.execute_reply": "2025-08-05T20:43:40.306723Z"
    },
    "papermill": {
     "duration": 0.005096,
     "end_time": "2025-08-05T20:43:40.307576",
     "exception": false,
     "start_time": "2025-08-05T20:43:40.302480",
     "status": "completed"
    },
    "tags": []
   },
   "outputs": [
    {
     "name": "stdout",
     "output_type": "stream",
     "text": [
      "[2025-08-05 : Tue : Provided(values=(('MY VALUE', 'my value'),), complete=False)\n",
      " 2025-08-06 : Wed : Provided(values=(), complete=False)\n",
      " 2025-08-07 : Thu : Provided(values=(('MY VALUE', 'my value'),), complete=False)\n",
      " 2025-08-08 : Fri : Provided(values=(), complete=False)\n",
      " 2025-08-09 : Sat : Provided(values=(), complete=False)\n",
      " 2025-08-10 : Sun : Provided(values=(), complete=False)\n",
      " 2025-08-11 : Mon : Provided(values=(), complete=False)\n",
      " 2025-08-12 : Tue : Provided(values=(('MY VALUE', 'my value'),), complete=False)\n",
      " 2025-08-13 : Wed : Provided(values=(), complete=False)\n",
      " 2025-08-14 : Thu : Provided(values=(('MY VALUE', 'my value'),), complete=False)]\n"
     ]
    }
   ],
   "source": [
    "days = [START_DATE + timedelta(days=i) for i in range(10)]\n",
    "values = zip(days, map(MapProvider(transform=lambda value: (value.upper(), value.lower()),\n",
    "                                   provider=ScheduledProvider(value='My value',\n",
    "                                                              schedule=AnySchedule((WeeklySchedule(TUESDAY),\n",
    "                                                                                    WeeklySchedule(\n",
    "                                                                                        THURSDAY))))).get, days))\n",
    "print(format_values(values))"
   ]
  },
  {
   "cell_type": "markdown",
   "id": "12d8fe0ac72d31a8",
   "metadata": {
    "papermill": {
     "duration": 0.001543,
     "end_time": "2025-08-05T20:43:40.310825",
     "exception": false,
     "start_time": "2025-08-05T20:43:40.309282",
     "status": "completed"
    },
    "tags": []
   },
   "source": [
    "## FlatMapProvider\n",
    "\n",
    "This provider, like the `MapProvider`, uses the specified transform function to transform the values provided\n",
    "by the specified provider. However, in this case the transform function should return a sequence and these\n",
    "sequences will be flattened in the resulting `Provided` instance."
   ]
  },
  {
   "cell_type": "code",
   "execution_count": 9,
   "id": "e3a90fa30827bec1",
   "metadata": {
    "ExecuteTime": {
     "end_time": "2025-08-05T18:36:04.040416Z",
     "start_time": "2025-08-05T18:36:04.036766Z"
    },
    "execution": {
     "iopub.execute_input": "2025-08-05T20:43:40.314391Z",
     "iopub.status.busy": "2025-08-05T20:43:40.314294Z",
     "iopub.status.idle": "2025-08-05T20:43:40.316382Z",
     "shell.execute_reply": "2025-08-05T20:43:40.316184Z"
    },
    "papermill": {
     "duration": 0.004595,
     "end_time": "2025-08-05T20:43:40.316988",
     "exception": false,
     "start_time": "2025-08-05T20:43:40.312393",
     "status": "completed"
    },
    "tags": []
   },
   "outputs": [
    {
     "name": "stdout",
     "output_type": "stream",
     "text": [
      "[2025-08-05 : Tue : Provided(values=('MY VALUE', 'my value'), complete=False)\n",
      " 2025-08-06 : Wed : Provided(values=(), complete=False)\n",
      " 2025-08-07 : Thu : Provided(values=('MY VALUE', 'my value'), complete=False)\n",
      " 2025-08-08 : Fri : Provided(values=(), complete=False)\n",
      " 2025-08-09 : Sat : Provided(values=(), complete=False)\n",
      " 2025-08-10 : Sun : Provided(values=(), complete=False)\n",
      " 2025-08-11 : Mon : Provided(values=(), complete=False)\n",
      " 2025-08-12 : Tue : Provided(values=('MY VALUE', 'my value'), complete=False)\n",
      " 2025-08-13 : Wed : Provided(values=(), complete=False)\n",
      " 2025-08-14 : Thu : Provided(values=('MY VALUE', 'my value'), complete=False)]\n"
     ]
    }
   ],
   "source": [
    "days = [START_DATE + timedelta(days=i) for i in range(10)]\n",
    "values = zip(days, map(FlatMapProvider(transform=lambda value: (value.upper(), value.lower()),\n",
    "                                       provider=ScheduledProvider(value='My value',\n",
    "                                                                  schedule=AnySchedule((WeeklySchedule(TUESDAY),\n",
    "                                                                                        WeeklySchedule(\n",
    "                                                                                            THURSDAY))))).get, days))\n",
    "print(format_values(values))"
   ]
  },
  {
   "cell_type": "markdown",
   "id": "eb21455656dbdedd",
   "metadata": {
    "papermill": {
     "duration": 0.001552,
     "end_time": "2025-08-05T20:43:40.320260",
     "exception": false,
     "start_time": "2025-08-05T20:43:40.318708",
     "status": "completed"
    },
    "tags": []
   },
   "source": [
    "## MergeMapProvider\n",
    "\n",
    "This provider, like the `MapProvider`, uses the specified transform function to transform the values provided\n",
    "by the specified provider. However, in this case, the transform function should return a new `Provider` instance.\n",
    "The values from these providers will be merged in future resulting `Provided` instances."
   ]
  },
  {
   "cell_type": "code",
   "execution_count": 10,
   "id": "67b65a6d191c9ab5",
   "metadata": {
    "ExecuteTime": {
     "end_time": "2025-08-05T18:40:37.314456Z",
     "start_time": "2025-08-05T18:40:37.301152Z"
    },
    "execution": {
     "iopub.execute_input": "2025-08-05T20:43:40.323818Z",
     "iopub.status.busy": "2025-08-05T20:43:40.323726Z",
     "iopub.status.idle": "2025-08-05T20:43:40.326711Z",
     "shell.execute_reply": "2025-08-05T20:43:40.326506Z"
    },
    "papermill": {
     "duration": 0.005562,
     "end_time": "2025-08-05T20:43:40.327356",
     "exception": false,
     "start_time": "2025-08-05T20:43:40.321794",
     "status": "completed"
    },
    "tags": []
   },
   "outputs": [
    {
     "name": "stdout",
     "output_type": "stream",
     "text": [
      "[2025-08-05 : Tue : Provided(values=(), complete=False)\n",
      " 2025-08-06 : Wed : Provided(values=('1-1',), complete=False)\n",
      " 2025-08-07 : Thu : Provided(values=('1-2', '2-1'), complete=False)\n",
      " 2025-08-08 : Fri : Provided(values=('1-3', '2-2', '3-1'), complete=False)\n",
      " 2025-08-09 : Sat : Provided(values=('1-4', '2-3', '3-2', '4-1'), complete=False)\n",
      " 2025-08-10 : Sun : Provided(values=('2-4', '3-3', '4-2', '5-1'), complete=False)\n",
      " 2025-08-11 : Mon : Provided(values=('3-4', '4-3', '5-2', '6-1'), complete=False)\n",
      " 2025-08-12 : Tue : Provided(values=('4-4', '5-3', '6-2', '0-1'), complete=False)\n",
      " 2025-08-13 : Wed : Provided(values=('5-4', '6-3', '0-2', '1-1'), complete=False)\n",
      " 2025-08-14 : Thu : Provided(values=('6-4', '0-3', '1-2', '2-1'), complete=False)\n",
      " 2025-08-15 : Fri : Provided(values=('0-4', '1-3', '2-2', '3-1'), complete=False)\n",
      " 2025-08-16 : Sat : Provided(values=('1-4', '2-3', '3-2'), complete=False)\n",
      " 2025-08-17 : Sun : Provided(values=('2-4', '3-3'), complete=False)\n",
      " 2025-08-18 : Mon : Provided(values=('3-4',), complete=True)\n",
      " 2025-08-19 : Tue : Provided(values=(), complete=True)]\n"
     ]
    }
   ],
   "source": [
    "days = [START_DATE + timedelta(days=i) for i in range(15)]\n",
    "sequence_days = [START_DATE + timedelta(days=i) for i in range(10)]\n",
    "values = zip(days, map(MergeMapProvider(\n",
    "    transform=lambda current_date, value: create_sequence_provider({current_date + timedelta(days=1): f'{value}-1',\n",
    "                                                                    current_date + timedelta(days=2): f'{value}-2',\n",
    "                                                                    current_date + timedelta(days=3): f'{value}-3',\n",
    "                                                                    current_date + timedelta(days=4): f'{value}-4'}),\n",
    "    provider=create_sequence_provider({day: day.weekday() for day in sequence_days})).get, days))\n",
    "print(format_values(values))"
   ]
  },
  {
   "cell_type": "markdown",
   "id": "2cbff25bb5657ea",
   "metadata": {
    "papermill": {
     "duration": 0.001599,
     "end_time": "2025-08-05T20:43:40.330711",
     "exception": false,
     "start_time": "2025-08-05T20:43:40.329112",
     "status": "completed"
    },
    "tags": []
   },
   "source": [
    "## Factories\n",
    "\n",
    "The following factory methods are available to construct combinations of providers to implement common patterns."
   ]
  },
  {
   "cell_type": "markdown",
   "id": "2fa95d7345700f11",
   "metadata": {
    "papermill": {
     "duration": 0.001613,
     "end_time": "2025-08-05T20:43:40.333908",
     "exception": false,
     "start_time": "2025-08-05T20:43:40.332295",
     "status": "completed"
    },
    "tags": []
   },
   "source": [
    "### create_sequence_provider\n",
    "\n",
    "This factory takes a mapping of days to values and returns a `Provider` that will provide the given values on the specified days."
   ]
  },
  {
   "cell_type": "code",
   "execution_count": 11,
   "id": "3704ae70ab57ad01",
   "metadata": {
    "ExecuteTime": {
     "end_time": "2025-08-05T18:47:17.987390Z",
     "start_time": "2025-08-05T18:47:17.974385Z"
    },
    "execution": {
     "iopub.execute_input": "2025-08-05T20:43:40.337513Z",
     "iopub.status.busy": "2025-08-05T20:43:40.337411Z",
     "iopub.status.idle": "2025-08-05T20:43:40.339583Z",
     "shell.execute_reply": "2025-08-05T20:43:40.339371Z"
    },
    "papermill": {
     "duration": 0.004643,
     "end_time": "2025-08-05T20:43:40.340168",
     "exception": false,
     "start_time": "2025-08-05T20:43:40.335525",
     "status": "completed"
    },
    "tags": []
   },
   "outputs": [
    {
     "name": "stdout",
     "output_type": "stream",
     "text": [
      "[2025-08-05 : Tue : Provided(values=('2025-08-05 : Tue',), complete=False)\n",
      " 2025-08-06 : Wed : Provided(values=('2025-08-06 : Wed',), complete=False)\n",
      " 2025-08-07 : Thu : Provided(values=('2025-08-07 : Thu',), complete=False)\n",
      " 2025-08-08 : Fri : Provided(values=('2025-08-08 : Fri',), complete=False)\n",
      " 2025-08-09 : Sat : Provided(values=('2025-08-09 : Sat',), complete=False)\n",
      " 2025-08-10 : Sun : Provided(values=('2025-08-10 : Sun',), complete=False)\n",
      " 2025-08-11 : Mon : Provided(values=('2025-08-11 : Mon',), complete=False)\n",
      " 2025-08-12 : Tue : Provided(values=('2025-08-12 : Tue',), complete=False)\n",
      " 2025-08-13 : Wed : Provided(values=('2025-08-13 : Wed',), complete=True)\n",
      " 2025-08-14 : Thu : Provided(values=(), complete=True)]\n"
     ]
    }
   ],
   "source": [
    "days = [START_DATE + timedelta(days=i) for i in range(10)]\n",
    "sequence_days = [START_DATE + timedelta(days=i) for i in range(9)]\n",
    "values = zip(days, map(create_sequence_provider({day: format_day(day)\n",
    "                                                 for day in sequence_days}).get, days))\n",
    "print(format_values(values))"
   ]
  }
 ],
 "metadata": {
  "kernelspec": {
   "display_name": "Python 3",
   "language": "python",
   "name": "python3"
  },
  "language_info": {
   "codemirror_mode": {
    "name": "ipython",
    "version": 3
   },
   "file_extension": ".py",
   "mimetype": "text/x-python",
   "name": "python",
   "nbconvert_exporter": "python",
   "pygments_lexer": "ipython3",
   "version": "3.12.11"
  },
  "papermill": {
   "default_parameters": {},
   "duration": 1.107134,
   "end_time": "2025-08-05T20:43:40.456557",
   "environment_variables": {},
   "exception": null,
   "input_path": "./lib/providers/README.ipynb",
   "output_path": "./lib/providers/README.ipynb",
   "parameters": {},
   "start_time": "2025-08-05T20:43:39.349423",
   "version": "2.6.0"
  }
 },
 "nbformat": 4,
 "nbformat_minor": 5
}