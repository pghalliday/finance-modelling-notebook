{
 "cells": [
  {
   "cell_type": "markdown",
   "id": "fe92965f5481891",
   "metadata": {
    "papermill": {
     "duration": 0.007599,
     "end_time": "2025-08-05T15:15:34.970806",
     "exception": false,
     "start_time": "2025-08-05T15:15:34.963207",
     "status": "completed"
    },
    "tags": []
   },
   "source": [
    "# Providers\n",
    "\n",
    "A collection of Provider implementations that will take the current date and provide sequences of values\n",
    "valid for that date. The sequence will be wrapped in an instance `Provided` that will also indicate if the\n",
    "provider has completed (i.e., it will not provide any more values)."
   ]
  },
  {
   "cell_type": "code",
   "id": "initial_id",
   "metadata": {
    "collapsed": true,
    "execution": {
     "iopub.execute_input": "2025-08-05T15:15:34.979155Z",
     "iopub.status.busy": "2025-08-05T15:15:34.978863Z",
     "iopub.status.idle": "2025-08-05T15:15:35.122706Z",
     "shell.execute_reply": "2025-08-05T15:15:35.121401Z"
    },
    "papermill": {
     "duration": 0.149183,
     "end_time": "2025-08-05T15:15:35.124298",
     "exception": false,
     "start_time": "2025-08-05T15:15:34.975115",
     "status": "completed"
    },
    "tags": [],
    "ExecuteTime": {
     "end_time": "2025-08-05T15:16:03.770222Z",
     "start_time": "2025-08-05T15:16:03.664350Z"
    }
   },
   "source": [
    "from calendar import TUESDAY, THURSDAY\n",
    "from datetime import date, timedelta\n",
    "\n",
    "from lib.providers import \\\n",
    "    NeverProvider, \\\n",
    "    AlwaysProvider, \\\n",
    "    ScheduledProvider, \\\n",
    "    NextProvider, \\\n",
    "    MergeProvider, \\\n",
    "    SequenceProvider, \\\n",
    "    FunctionProvider, \\\n",
    "    MapProvider, \\\n",
    "    FlatMapProvider, \\\n",
    "    MergeMapProvider, \\\n",
    "    Provided\n",
    "from lib.schedules import \\\n",
    "    WeeklySchedule, \\\n",
    "    AnySchedule, \\\n",
    "    UntilSchedule\n",
    "from lib.utils.format import \\\n",
    "    format_day, \\\n",
    "    format_values\n",
    "\n",
    "START_DATE = date.today()\n",
    "\n",
    "print(f'Start Date: {format_day(START_DATE)}')"
   ],
   "outputs": [
    {
     "name": "stdout",
     "output_type": "stream",
     "text": [
      "Start Date: 2025-08-05 : Tue\n"
     ]
    }
   ],
   "execution_count": 1
  },
  {
   "cell_type": "markdown",
   "id": "d4c1c5f73c56c950",
   "metadata": {
    "papermill": {
     "duration": 0.005192,
     "end_time": "2025-08-05T15:15:35.134692",
     "exception": false,
     "start_time": "2025-08-05T15:15:35.129500",
     "status": "completed"
    },
    "tags": []
   },
   "source": [
    "## NeverProvider\n",
    "\n",
    "This is a trivial provider that always provides an empty sequence."
   ]
  },
  {
   "cell_type": "code",
   "id": "31d15be478105fb",
   "metadata": {
    "execution": {
     "iopub.execute_input": "2025-08-05T15:15:35.147342Z",
     "iopub.status.busy": "2025-08-05T15:15:35.146834Z",
     "iopub.status.idle": "2025-08-05T15:15:35.151476Z",
     "shell.execute_reply": "2025-08-05T15:15:35.150808Z"
    },
    "papermill": {
     "duration": 0.0135,
     "end_time": "2025-08-05T15:15:35.152946",
     "exception": false,
     "start_time": "2025-08-05T15:15:35.139446",
     "status": "completed"
    },
    "tags": [],
    "ExecuteTime": {
     "end_time": "2025-08-05T15:16:03.793847Z",
     "start_time": "2025-08-05T15:16:03.789127Z"
    }
   },
   "source": [
    "days = [START_DATE + timedelta(days=i) for i in range(10)]\n",
    "values = zip(days, map(NeverProvider[str]().get, days))\n",
    "print(format_values(values))"
   ],
   "outputs": [
    {
     "name": "stdout",
     "output_type": "stream",
     "text": [
      "[2025-08-05 : Tue : Provided(values=(), complete=True)\n",
      " 2025-08-06 : Wed : Provided(values=(), complete=True)\n",
      " 2025-08-07 : Thu : Provided(values=(), complete=True)\n",
      " 2025-08-08 : Fri : Provided(values=(), complete=True)\n",
      " 2025-08-09 : Sat : Provided(values=(), complete=True)\n",
      " 2025-08-10 : Sun : Provided(values=(), complete=True)\n",
      " 2025-08-11 : Mon : Provided(values=(), complete=True)\n",
      " 2025-08-12 : Tue : Provided(values=(), complete=True)\n",
      " 2025-08-13 : Wed : Provided(values=(), complete=True)\n",
      " 2025-08-14 : Thu : Provided(values=(), complete=True)]\n"
     ]
    }
   ],
   "execution_count": 2
  },
  {
   "cell_type": "markdown",
   "id": "533be8092240d073",
   "metadata": {
    "papermill": {
     "duration": 0.004662,
     "end_time": "2025-08-05T15:15:35.162670",
     "exception": false,
     "start_time": "2025-08-05T15:15:35.158008",
     "status": "completed"
    },
    "tags": []
   },
   "source": [
    "## AlwaysProvider\n",
    "\n",
    "This is a trivial provider that always provides a single value sequence."
   ]
  },
  {
   "cell_type": "code",
   "id": "c22e59cd690a96ad",
   "metadata": {
    "execution": {
     "iopub.execute_input": "2025-08-05T15:15:35.171351Z",
     "iopub.status.busy": "2025-08-05T15:15:35.171022Z",
     "iopub.status.idle": "2025-08-05T15:15:35.175306Z",
     "shell.execute_reply": "2025-08-05T15:15:35.174626Z"
    },
    "papermill": {
     "duration": 0.009393,
     "end_time": "2025-08-05T15:15:35.176679",
     "exception": false,
     "start_time": "2025-08-05T15:15:35.167286",
     "status": "completed"
    },
    "tags": [],
    "ExecuteTime": {
     "end_time": "2025-08-05T15:16:03.913175Z",
     "start_time": "2025-08-05T15:16:03.898479Z"
    }
   },
   "source": [
    "days = [START_DATE + timedelta(days=i) for i in range(10)]\n",
    "values = zip(days, map(AlwaysProvider('My value').get, days))\n",
    "print(format_values(values))"
   ],
   "outputs": [
    {
     "name": "stdout",
     "output_type": "stream",
     "text": [
      "[2025-08-05 : Tue : Provided(values=('My value',), complete=False)\n",
      " 2025-08-06 : Wed : Provided(values=('My value',), complete=False)\n",
      " 2025-08-07 : Thu : Provided(values=('My value',), complete=False)\n",
      " 2025-08-08 : Fri : Provided(values=('My value',), complete=False)\n",
      " 2025-08-09 : Sat : Provided(values=('My value',), complete=False)\n",
      " 2025-08-10 : Sun : Provided(values=('My value',), complete=False)\n",
      " 2025-08-11 : Mon : Provided(values=('My value',), complete=False)\n",
      " 2025-08-12 : Tue : Provided(values=('My value',), complete=False)\n",
      " 2025-08-13 : Wed : Provided(values=('My value',), complete=False)\n",
      " 2025-08-14 : Thu : Provided(values=('My value',), complete=False)]\n"
     ]
    }
   ],
   "execution_count": 3
  },
  {
   "cell_type": "markdown",
   "id": "9ccdd9e65b1af09b",
   "metadata": {
    "papermill": {
     "duration": 0.004756,
     "end_time": "2025-08-05T15:15:35.186292",
     "exception": false,
     "start_time": "2025-08-05T15:15:35.181536",
     "status": "completed"
    },
    "tags": []
   },
   "source": [
    "## SequenceProvider\n",
    "\n",
    "This provider takes a mapping of dates to values and provides the value associated with the current date\n",
    "in a single value sequence. If no value is associated with the current date then it provides an empty sequence."
   ]
  },
  {
   "cell_type": "code",
   "id": "65638c7a6481919a",
   "metadata": {
    "execution": {
     "iopub.execute_input": "2025-08-05T15:15:35.198979Z",
     "iopub.status.busy": "2025-08-05T15:15:35.198644Z",
     "iopub.status.idle": "2025-08-05T15:15:35.204037Z",
     "shell.execute_reply": "2025-08-05T15:15:35.203415Z"
    },
    "papermill": {
     "duration": 0.014758,
     "end_time": "2025-08-05T15:15:35.206186",
     "exception": false,
     "start_time": "2025-08-05T15:15:35.191428",
     "status": "completed"
    },
    "tags": [],
    "ExecuteTime": {
     "end_time": "2025-08-05T15:16:03.948206Z",
     "start_time": "2025-08-05T15:16:03.933328Z"
    }
   },
   "source": [
    "days = [START_DATE + timedelta(days=i) for i in range(10)]\n",
    "sequence = tuple((day, day.weekday()) for day in days if day.weekday() % 2 == 0)\n",
    "values = zip(days, map(SequenceProvider(sequence).get, days))\n",
    "print(format_values(values))"
   ],
   "outputs": [
    {
     "name": "stdout",
     "output_type": "stream",
     "text": [
      "[2025-08-05 : Tue : Provided(values=(), complete=False)\n",
      " 2025-08-06 : Wed : Provided(values=(2,), complete=False)\n",
      " 2025-08-07 : Thu : Provided(values=(), complete=False)\n",
      " 2025-08-08 : Fri : Provided(values=(4,), complete=False)\n",
      " 2025-08-09 : Sat : Provided(values=(), complete=False)\n",
      " 2025-08-10 : Sun : Provided(values=(6,), complete=False)\n",
      " 2025-08-11 : Mon : Provided(values=(0,), complete=False)\n",
      " 2025-08-12 : Tue : Provided(values=(), complete=False)\n",
      " 2025-08-13 : Wed : Provided(values=(2,), complete=True)\n",
      " 2025-08-14 : Thu : Provided(values=(), complete=True)]\n"
     ]
    }
   ],
   "execution_count": 4
  },
  {
   "cell_type": "markdown",
   "id": "9438000ff7296003",
   "metadata": {
    "papermill": {
     "duration": 0.006208,
     "end_time": "2025-08-05T15:15:35.217583",
     "exception": false,
     "start_time": "2025-08-05T15:15:35.211375",
     "status": "completed"
    },
    "tags": []
   },
   "source": [
    "## ScheduledProvider\n",
    "\n",
    "This provider provides a single value sequence according to the specified schedule. If not scheduled it\n",
    "provides an empty sequence."
   ]
  },
  {
   "cell_type": "code",
   "id": "4c1dc048def50421",
   "metadata": {
    "execution": {
     "iopub.execute_input": "2025-08-05T15:15:35.226797Z",
     "iopub.status.busy": "2025-08-05T15:15:35.226383Z",
     "iopub.status.idle": "2025-08-05T15:15:35.240288Z",
     "shell.execute_reply": "2025-08-05T15:15:35.236021Z"
    },
    "papermill": {
     "duration": 0.027483,
     "end_time": "2025-08-05T15:15:35.249204",
     "exception": false,
     "start_time": "2025-08-05T15:15:35.221721",
     "status": "completed"
    },
    "tags": [],
    "ExecuteTime": {
     "end_time": "2025-08-05T15:16:03.969246Z",
     "start_time": "2025-08-05T15:16:03.959943Z"
    }
   },
   "source": [
    "days = [START_DATE + timedelta(days=i) for i in range(10)]\n",
    "values = zip(days, map(ScheduledProvider('My value',\n",
    "                                         AnySchedule((WeeklySchedule(TUESDAY),\n",
    "                                                      WeeklySchedule(THURSDAY)))).get, days))\n",
    "print(format_values(values))"
   ],
   "outputs": [
    {
     "name": "stdout",
     "output_type": "stream",
     "text": [
      "[2025-08-05 : Tue : Provided(values=('My value',), complete=False)\n",
      " 2025-08-06 : Wed : Provided(values=(), complete=False)\n",
      " 2025-08-07 : Thu : Provided(values=('My value',), complete=False)\n",
      " 2025-08-08 : Fri : Provided(values=(), complete=False)\n",
      " 2025-08-09 : Sat : Provided(values=(), complete=False)\n",
      " 2025-08-10 : Sun : Provided(values=(), complete=False)\n",
      " 2025-08-11 : Mon : Provided(values=(), complete=False)\n",
      " 2025-08-12 : Tue : Provided(values=('My value',), complete=False)\n",
      " 2025-08-13 : Wed : Provided(values=(), complete=False)\n",
      " 2025-08-14 : Thu : Provided(values=('My value',), complete=False)]\n"
     ]
    }
   ],
   "execution_count": 5
  },
  {
   "cell_type": "markdown",
   "id": "8455c53a0b137c63",
   "metadata": {
    "papermill": {
     "duration": 0.001723,
     "end_time": "2025-08-05T15:15:35.257007",
     "exception": false,
     "start_time": "2025-08-05T15:15:35.255284",
     "status": "completed"
    },
    "tags": []
   },
   "source": [
    "## FunctionProvider\n",
    "\n",
    "This provider uses the specified function to map the current date to an instance of `Provided`."
   ]
  },
  {
   "cell_type": "code",
   "id": "7466d848235f73b1",
   "metadata": {
    "execution": {
     "iopub.execute_input": "2025-08-05T15:15:35.267668Z",
     "iopub.status.busy": "2025-08-05T15:15:35.267535Z",
     "iopub.status.idle": "2025-08-05T15:15:35.270101Z",
     "shell.execute_reply": "2025-08-05T15:15:35.269706Z"
    },
    "papermill": {
     "duration": 0.008755,
     "end_time": "2025-08-05T15:15:35.271001",
     "exception": false,
     "start_time": "2025-08-05T15:15:35.262246",
     "status": "completed"
    },
    "tags": [],
    "ExecuteTime": {
     "end_time": "2025-08-05T15:16:03.986643Z",
     "start_time": "2025-08-05T15:16:03.978747Z"
    }
   },
   "source": [
    "days = [START_DATE + timedelta(days=i) for i in range(10)]\n",
    "values = zip(days, map(FunctionProvider(lambda current_date: Provided(values=(current_date.weekday(),),\n",
    "                                                                      complete=False)).get, days))\n",
    "print(format_values(values))"
   ],
   "outputs": [
    {
     "name": "stdout",
     "output_type": "stream",
     "text": [
      "[2025-08-05 : Tue : Provided(values=(1,), complete=False)\n",
      " 2025-08-06 : Wed : Provided(values=(2,), complete=False)\n",
      " 2025-08-07 : Thu : Provided(values=(3,), complete=False)\n",
      " 2025-08-08 : Fri : Provided(values=(4,), complete=False)\n",
      " 2025-08-09 : Sat : Provided(values=(5,), complete=False)\n",
      " 2025-08-10 : Sun : Provided(values=(6,), complete=False)\n",
      " 2025-08-11 : Mon : Provided(values=(0,), complete=False)\n",
      " 2025-08-12 : Tue : Provided(values=(1,), complete=False)\n",
      " 2025-08-13 : Wed : Provided(values=(2,), complete=False)\n",
      " 2025-08-14 : Thu : Provided(values=(3,), complete=False)]\n"
     ]
    }
   ],
   "execution_count": 6
  },
  {
   "cell_type": "markdown",
   "id": "9415a1ec450ff23f",
   "metadata": {
    "papermill": {
     "duration": 0.001473,
     "end_time": "2025-08-05T15:15:35.274239",
     "exception": false,
     "start_time": "2025-08-05T15:15:35.272766",
     "status": "completed"
    },
    "tags": []
   },
   "source": [
    "## NextProvider\n",
    "\n",
    "This provider takes a sequence of providers and provides the values from the first provider that provides\n",
    "a non-empty sequence of values."
   ]
  },
  {
   "cell_type": "code",
   "id": "2b530da5752cfc68",
   "metadata": {
    "execution": {
     "iopub.execute_input": "2025-08-05T15:15:35.277672Z",
     "iopub.status.busy": "2025-08-05T15:15:35.277558Z",
     "iopub.status.idle": "2025-08-05T15:15:35.279721Z",
     "shell.execute_reply": "2025-08-05T15:15:35.279510Z"
    },
    "papermill": {
     "duration": 0.004614,
     "end_time": "2025-08-05T15:15:35.280319",
     "exception": false,
     "start_time": "2025-08-05T15:15:35.275705",
     "status": "completed"
    },
    "tags": [],
    "ExecuteTime": {
     "end_time": "2025-08-05T15:16:04.005870Z",
     "start_time": "2025-08-05T15:16:04.002569Z"
    }
   },
   "source": [
    "days = [START_DATE + timedelta(days=i) for i in range(10)]\n",
    "values = zip(days, map(NextProvider(\n",
    "    (ScheduledProvider('Value 1', UntilSchedule(START_DATE + timedelta(days=3))),\n",
    "     ScheduledProvider('Value 2', UntilSchedule(START_DATE + timedelta(days=7))),\n",
    "     ScheduledProvider('Value 3', UntilSchedule(START_DATE + timedelta(days=9))))).get,\n",
    "                       days))\n",
    "print(format_values(values))"
   ],
   "outputs": [
    {
     "name": "stdout",
     "output_type": "stream",
     "text": [
      "[2025-08-05 : Tue : Provided(values=('Value 1',), complete=False)\n",
      " 2025-08-06 : Wed : Provided(values=('Value 1',), complete=False)\n",
      " 2025-08-07 : Thu : Provided(values=('Value 1',), complete=False)\n",
      " 2025-08-08 : Fri : Provided(values=('Value 2',), complete=False)\n",
      " 2025-08-09 : Sat : Provided(values=('Value 2',), complete=False)\n",
      " 2025-08-10 : Sun : Provided(values=('Value 2',), complete=False)\n",
      " 2025-08-11 : Mon : Provided(values=('Value 2',), complete=False)\n",
      " 2025-08-12 : Tue : Provided(values=('Value 3',), complete=False)\n",
      " 2025-08-13 : Wed : Provided(values=('Value 3',), complete=False)\n",
      " 2025-08-14 : Thu : Provided(values=(), complete=False)]\n"
     ]
    }
   ],
   "execution_count": 7
  },
  {
   "cell_type": "markdown",
   "id": "a7b3bd5dd232502d",
   "metadata": {
    "papermill": {
     "duration": 0.001765,
     "end_time": "2025-08-05T15:15:35.283712",
     "exception": false,
     "start_time": "2025-08-05T15:15:35.281947",
     "status": "completed"
    },
    "tags": []
   },
   "source": [
    "## MergeProvider\n",
    "\n",
    "This provider takes a sequence of providers and provides a corresponding sequence of the merged values provided\n",
    "by those providers."
   ]
  },
  {
   "cell_type": "code",
   "id": "d8bfc055aedbf4b7",
   "metadata": {
    "execution": {
     "iopub.execute_input": "2025-08-05T15:15:35.287067Z",
     "iopub.status.busy": "2025-08-05T15:15:35.286971Z",
     "iopub.status.idle": "2025-08-05T15:15:35.289409Z",
     "shell.execute_reply": "2025-08-05T15:15:35.289175Z"
    },
    "papermill": {
     "duration": 0.004816,
     "end_time": "2025-08-05T15:15:35.289990",
     "exception": false,
     "start_time": "2025-08-05T15:15:35.285174",
     "status": "completed"
    },
    "tags": [],
    "ExecuteTime": {
     "end_time": "2025-08-05T15:16:04.042944Z",
     "start_time": "2025-08-05T15:16:04.033237Z"
    }
   },
   "source": [
    "days = [START_DATE + timedelta(days=i) for i in range(10)]\n",
    "values = zip(days, map(MergeProvider((AlwaysProvider('Always value'),\n",
    "                                      ScheduledProvider('Sometimes value', AnySchedule((WeeklySchedule(TUESDAY),\n",
    "                                                                                        WeeklySchedule(THURSDAY)))),\n",
    "                                      NextProvider(\n",
    "                                          (ScheduledProvider('Value 1', UntilSchedule(START_DATE + timedelta(days=3))),\n",
    "                                           ScheduledProvider('Value 2', UntilSchedule(START_DATE + timedelta(days=7))),\n",
    "                                           ScheduledProvider('Value 3',\n",
    "                                                             UntilSchedule(START_DATE + timedelta(days=9))))))).get,\n",
    "                       days))\n",
    "print(format_values(values))"
   ],
   "outputs": [
    {
     "name": "stdout",
     "output_type": "stream",
     "text": [
      "[2025-08-05 : Tue : Provided(values=('Always value', 'Sometimes value', 'Value 1'), complete=False)\n",
      " 2025-08-06 : Wed : Provided(values=('Always value', 'Value 1'), complete=False)\n",
      " 2025-08-07 : Thu : Provided(values=('Always value', 'Sometimes value', 'Value 1'), complete=False)\n",
      " 2025-08-08 : Fri : Provided(values=('Always value', 'Value 2'), complete=False)\n",
      " 2025-08-09 : Sat : Provided(values=('Always value', 'Value 2'), complete=False)\n",
      " 2025-08-10 : Sun : Provided(values=('Always value', 'Value 2'), complete=False)\n",
      " 2025-08-11 : Mon : Provided(values=('Always value', 'Value 2'), complete=False)\n",
      " 2025-08-12 : Tue : Provided(values=('Always value', 'Sometimes value', 'Value 3'), complete=False)\n",
      " 2025-08-13 : Wed : Provided(values=('Always value', 'Value 3'), complete=False)\n",
      " 2025-08-14 : Thu : Provided(values=('Always value', 'Sometimes value'), complete=False)]\n"
     ]
    }
   ],
   "execution_count": 8
  },
  {
   "cell_type": "markdown",
   "id": "bec08f537882b95f",
   "metadata": {
    "papermill": {
     "duration": 0.001521,
     "end_time": "2025-08-05T15:15:35.293202",
     "exception": false,
     "start_time": "2025-08-05T15:15:35.291681",
     "status": "completed"
    },
    "tags": []
   },
   "source": [
    "## MapProvider\n",
    "\n",
    "This provider uses the specified transform function to transform the values provided by the specified provider"
   ]
  },
  {
   "cell_type": "code",
   "id": "eb4cc20e24a0eecd",
   "metadata": {
    "execution": {
     "iopub.execute_input": "2025-08-05T15:15:35.296994Z",
     "iopub.status.busy": "2025-08-05T15:15:35.296885Z",
     "iopub.status.idle": "2025-08-05T15:15:35.299078Z",
     "shell.execute_reply": "2025-08-05T15:15:35.298873Z"
    },
    "papermill": {
     "duration": 0.004874,
     "end_time": "2025-08-05T15:15:35.299684",
     "exception": false,
     "start_time": "2025-08-05T15:15:35.294810",
     "status": "completed"
    },
    "tags": [],
    "ExecuteTime": {
     "end_time": "2025-08-05T15:16:04.059636Z",
     "start_time": "2025-08-05T15:16:04.052561Z"
    }
   },
   "source": [
    "days = [START_DATE + timedelta(days=i) for i in range(10)]\n",
    "values = zip(days, map(MapProvider(transform=lambda value: (value.upper(), value.lower()),\n",
    "                                   provider=ScheduledProvider(value='My value',\n",
    "                                                              schedule=AnySchedule((WeeklySchedule(TUESDAY),\n",
    "                                                                                    WeeklySchedule(\n",
    "                                                                                        THURSDAY))))).get, days))\n",
    "print(format_values(values))"
   ],
   "outputs": [
    {
     "name": "stdout",
     "output_type": "stream",
     "text": [
      "[2025-08-05 : Tue : Provided(values=(('MY VALUE', 'my value'),), complete=False)\n",
      " 2025-08-06 : Wed : Provided(values=(), complete=False)\n",
      " 2025-08-07 : Thu : Provided(values=(('MY VALUE', 'my value'),), complete=False)\n",
      " 2025-08-08 : Fri : Provided(values=(), complete=False)\n",
      " 2025-08-09 : Sat : Provided(values=(), complete=False)\n",
      " 2025-08-10 : Sun : Provided(values=(), complete=False)\n",
      " 2025-08-11 : Mon : Provided(values=(), complete=False)\n",
      " 2025-08-12 : Tue : Provided(values=(('MY VALUE', 'my value'),), complete=False)\n",
      " 2025-08-13 : Wed : Provided(values=(), complete=False)\n",
      " 2025-08-14 : Thu : Provided(values=(('MY VALUE', 'my value'),), complete=False)]\n"
     ]
    }
   ],
   "execution_count": 9
  },
  {
   "cell_type": "markdown",
   "id": "12d8fe0ac72d31a8",
   "metadata": {
    "papermill": {
     "duration": 0.001589,
     "end_time": "2025-08-05T15:15:35.302982",
     "exception": false,
     "start_time": "2025-08-05T15:15:35.301393",
     "status": "completed"
    },
    "tags": []
   },
   "source": [
    "## FlatMapProvider\n",
    "\n",
    "This provider, like the `MapProvider`, uses the specified transform function to transform the values provided\n",
    "by the specified provider. However, in this case the transform function should return a sequence and these\n",
    "sequences will be flattened in the resulting `Provided` instance."
   ]
  },
  {
   "cell_type": "code",
   "id": "e3a90fa30827bec1",
   "metadata": {
    "execution": {
     "iopub.execute_input": "2025-08-05T15:15:35.306624Z",
     "iopub.status.busy": "2025-08-05T15:15:35.306526Z",
     "iopub.status.idle": "2025-08-05T15:15:35.308595Z",
     "shell.execute_reply": "2025-08-05T15:15:35.308377Z"
    },
    "papermill": {
     "duration": 0.004646,
     "end_time": "2025-08-05T15:15:35.309204",
     "exception": false,
     "start_time": "2025-08-05T15:15:35.304558",
     "status": "completed"
    },
    "tags": [],
    "ExecuteTime": {
     "end_time": "2025-08-05T15:16:04.088711Z",
     "start_time": "2025-08-05T15:16:04.075132Z"
    }
   },
   "source": [
    "days = [START_DATE + timedelta(days=i) for i in range(10)]\n",
    "values = zip(days, map(FlatMapProvider(transform=lambda value: (value.upper(), value.lower()),\n",
    "                                       provider=ScheduledProvider(value='My value',\n",
    "                                                                  schedule=AnySchedule((WeeklySchedule(TUESDAY),\n",
    "                                                                                        WeeklySchedule(\n",
    "                                                                                            THURSDAY))))).get, days))\n",
    "print(format_values(values))"
   ],
   "outputs": [
    {
     "name": "stdout",
     "output_type": "stream",
     "text": [
      "[2025-08-05 : Tue : Provided(values=('MY VALUE', 'my value'), complete=False)\n",
      " 2025-08-06 : Wed : Provided(values=(), complete=False)\n",
      " 2025-08-07 : Thu : Provided(values=('MY VALUE', 'my value'), complete=False)\n",
      " 2025-08-08 : Fri : Provided(values=(), complete=False)\n",
      " 2025-08-09 : Sat : Provided(values=(), complete=False)\n",
      " 2025-08-10 : Sun : Provided(values=(), complete=False)\n",
      " 2025-08-11 : Mon : Provided(values=(), complete=False)\n",
      " 2025-08-12 : Tue : Provided(values=('MY VALUE', 'my value'), complete=False)\n",
      " 2025-08-13 : Wed : Provided(values=(), complete=False)\n",
      " 2025-08-14 : Thu : Provided(values=('MY VALUE', 'my value'), complete=False)]\n"
     ]
    }
   ],
   "execution_count": 10
  },
  {
   "cell_type": "markdown",
   "id": "eb21455656dbdedd",
   "metadata": {
    "papermill": {
     "duration": 0.001578,
     "end_time": "2025-08-05T15:15:35.312417",
     "exception": false,
     "start_time": "2025-08-05T15:15:35.310839",
     "status": "completed"
    },
    "tags": []
   },
   "source": [
    "## MergeMapProvider\n",
    "\n",
    "This provider, like the `MapProvider`, uses the specified transform function to transform the values provided\n",
    "by the specified provider. However, in this case, the transform function should return a new `Provider` instance.\n",
    "The values from these providers will be merged in future resulting `Provided` instances."
   ]
  },
  {
   "cell_type": "code",
   "id": "67b65a6d191c9ab5",
   "metadata": {
    "execution": {
     "iopub.execute_input": "2025-08-05T15:15:35.315955Z",
     "iopub.status.busy": "2025-08-05T15:15:35.315851Z",
     "iopub.status.idle": "2025-08-05T15:15:35.318202Z",
     "shell.execute_reply": "2025-08-05T15:15:35.317985Z"
    },
    "papermill": {
     "duration": 0.004833,
     "end_time": "2025-08-05T15:15:35.318815",
     "exception": false,
     "start_time": "2025-08-05T15:15:35.313982",
     "status": "completed"
    },
    "tags": [],
    "ExecuteTime": {
     "end_time": "2025-08-05T15:16:04.104879Z",
     "start_time": "2025-08-05T15:16:04.099613Z"
    }
   },
   "source": [
    "days = [START_DATE + timedelta(days=i) for i in range(15)]\n",
    "values = zip(days, map(MergeMapProvider(\n",
    "    transform=lambda current_date, value: SequenceProvider(((current_date + timedelta(days=1), f'{value}-1'),\n",
    "                                                            (current_date + timedelta(days=2), f'{value}-2'),\n",
    "                                                            (current_date + timedelta(days=3), f'{value}-3'))),\n",
    "    provider=SequenceProvider([(day, day.weekday()) for day in days])).get, days))\n",
    "print(format_values(values))"
   ],
   "outputs": [
    {
     "name": "stdout",
     "output_type": "stream",
     "text": [
      "[2025-08-05 : Tue : Provided(values=(), complete=False)\n",
      " 2025-08-06 : Wed : Provided(values=('1-1',), complete=False)\n",
      " 2025-08-07 : Thu : Provided(values=('1-2', '2-1'), complete=False)\n",
      " 2025-08-08 : Fri : Provided(values=('1-3', '2-2', '3-1'), complete=False)\n",
      " 2025-08-09 : Sat : Provided(values=('2-3', '3-2', '4-1'), complete=False)\n",
      " 2025-08-10 : Sun : Provided(values=('3-3', '4-2', '5-1'), complete=False)\n",
      " 2025-08-11 : Mon : Provided(values=('4-3', '5-2', '6-1'), complete=False)\n",
      " 2025-08-12 : Tue : Provided(values=('5-3', '6-2', '0-1'), complete=False)\n",
      " 2025-08-13 : Wed : Provided(values=('6-3', '0-2', '1-1'), complete=False)\n",
      " 2025-08-14 : Thu : Provided(values=('0-3', '1-2', '2-1'), complete=False)\n",
      " 2025-08-15 : Fri : Provided(values=('1-3', '2-2', '3-1'), complete=False)\n",
      " 2025-08-16 : Sat : Provided(values=('2-3', '3-2', '4-1'), complete=False)\n",
      " 2025-08-17 : Sun : Provided(values=('3-3', '4-2', '5-1'), complete=False)\n",
      " 2025-08-18 : Mon : Provided(values=('4-3', '5-2', '6-1'), complete=False)\n",
      " 2025-08-19 : Tue : Provided(values=('5-3', '6-2', '0-1'), complete=False)]\n"
     ]
    }
   ],
   "execution_count": 11
  }
 ],
 "metadata": {
  "kernelspec": {
   "display_name": "Python 3",
   "language": "python",
   "name": "python3"
  },
  "language_info": {
   "codemirror_mode": {
    "name": "ipython",
    "version": 3
   },
   "file_extension": ".py",
   "mimetype": "text/x-python",
   "name": "python",
   "nbconvert_exporter": "python",
   "pygments_lexer": "ipython3",
   "version": "3.12.11"
  },
  "papermill": {
   "default_parameters": {},
   "duration": 1.296383,
   "end_time": "2025-08-05T15:15:35.435261",
   "environment_variables": {},
   "exception": null,
   "input_path": "./lib/providers/README.ipynb",
   "output_path": "./lib/providers/README.ipynb",
   "parameters": {},
   "start_time": "2025-08-05T15:15:34.138878",
   "version": "2.6.0"
  }
 },
 "nbformat": 4,
 "nbformat_minor": 5
}
