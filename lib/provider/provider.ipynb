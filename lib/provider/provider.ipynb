{
 "cells": [
  {
   "metadata": {},
   "cell_type": "markdown",
   "source": [
    "# Provider\n",
    "\n",
    "A collection of Provider implementations that will take the current date and provide an\n",
    "item valid for that date."
   ],
   "id": "fe92965f5481891"
  },
  {
   "metadata": {
    "collapsed": true,
    "ExecuteTime": {
     "end_time": "2025-07-31T20:58:14.331596Z",
     "start_time": "2025-07-31T20:58:14.234118Z"
    }
   },
   "cell_type": "code",
   "source": [
    "from calendar import TUESDAY, THURSDAY\n",
    "from datetime import date, timedelta\n",
    "from typing import List, Tuple\n",
    "\n",
    "from lib.provider import \\\n",
    "    NeverProvider, \\\n",
    "    AlwaysProvider, \\\n",
    "    ScheduledProvider, \\\n",
    "    AnyProvider, \\\n",
    "    AllProvider\n",
    "from lib.schedule import \\\n",
    "    WeeklySchedule, \\\n",
    "    AnySchedule, \\\n",
    "    UntilSchedule\n",
    "\n",
    "START_DATE = date.today()\n",
    "\n",
    "\n",
    "def print_value_list(values: List[Tuple[date, str]]) -> None:\n",
    "    print('[', end='')\n",
    "    print(*[d.strftime(f'%Y-%m-%d : %a : {v}') for d, v in values], end='', sep='\\n ')\n",
    "    print(*values, end='', sep='\\n ')\n",
    "    print(']')"
   ],
   "id": "initial_id",
   "outputs": [],
   "execution_count": 13
  },
  {
   "metadata": {},
   "cell_type": "markdown",
   "source": [
    "## NeverProvider\n",
    "\n",
    "This is a trivial provider that always provides `None`"
   ],
   "id": "d4c1c5f73c56c950"
  },
  {
   "metadata": {
    "ExecuteTime": {
     "end_time": "2025-07-31T20:58:14.361853Z",
     "start_time": "2025-07-31T20:58:14.353455Z"
    }
   },
   "cell_type": "code",
   "source": [
    "days = [START_DATE + timedelta(days=i) for i in range(10)]\n",
    "items = zip(days, map(NeverProvider[str]().get, days))\n",
    "print_value_list(items)"
   ],
   "id": "31d15be478105fb",
   "outputs": [
    {
     "name": "stdout",
     "output_type": "stream",
     "text": [
      "[2025-07-31 : Thu : None\n",
      " 2025-08-01 : Fri : None\n",
      " 2025-08-02 : Sat : None\n",
      " 2025-08-03 : Sun : None\n",
      " 2025-08-04 : Mon : None\n",
      " 2025-08-05 : Tue : None\n",
      " 2025-08-06 : Wed : None\n",
      " 2025-08-07 : Thu : None\n",
      " 2025-08-08 : Fri : None\n",
      " 2025-08-09 : Sat : None]\n"
     ]
    }
   ],
   "execution_count": 14
  },
  {
   "metadata": {},
   "cell_type": "markdown",
   "source": [
    "## AlwaysProvider\n",
    "\n",
    "This is a trivial provider that always provides the given value"
   ],
   "id": "533be8092240d073"
  },
  {
   "metadata": {
    "ExecuteTime": {
     "end_time": "2025-07-31T20:58:14.399381Z",
     "start_time": "2025-07-31T20:58:14.392573Z"
    }
   },
   "cell_type": "code",
   "source": [
    "days = [START_DATE + timedelta(days=i) for i in range(10)]\n",
    "items = zip(days, map(AlwaysProvider('My value').get, days))\n",
    "print_value_list(items)"
   ],
   "id": "c22e59cd690a96ad",
   "outputs": [
    {
     "name": "stdout",
     "output_type": "stream",
     "text": [
      "[2025-07-31 : Thu : My value\n",
      " 2025-08-01 : Fri : My value\n",
      " 2025-08-02 : Sat : My value\n",
      " 2025-08-03 : Sun : My value\n",
      " 2025-08-04 : Mon : My value\n",
      " 2025-08-05 : Tue : My value\n",
      " 2025-08-06 : Wed : My value\n",
      " 2025-08-07 : Thu : My value\n",
      " 2025-08-08 : Fri : My value\n",
      " 2025-08-09 : Sat : My value]\n"
     ]
    }
   ],
   "execution_count": 15
  },
  {
   "metadata": {},
   "cell_type": "markdown",
   "source": [
    "## ScheduledProvider\n",
    "\n",
    "This provider provides its value according to the specified schedule. If not scheduled it provides `None`."
   ],
   "id": "9438000ff7296003"
  },
  {
   "metadata": {
    "ExecuteTime": {
     "end_time": "2025-07-31T20:58:14.428379Z",
     "start_time": "2025-07-31T20:58:14.422936Z"
    }
   },
   "cell_type": "code",
   "source": [
    "days = [START_DATE + timedelta(days=i) for i in range(10)]\n",
    "items = zip(days, map(ScheduledProvider('My value',\n",
    "                                        AnySchedule({'Tuesdays': WeeklySchedule(TUESDAY),\n",
    "                                                     'Thursdays': WeeklySchedule(THURSDAY)})).get, days))\n",
    "print_value_list(items)"
   ],
   "id": "4c1dc048def50421",
   "outputs": [
    {
     "name": "stdout",
     "output_type": "stream",
     "text": [
      "[2025-07-31 : Thu : My value\n",
      " 2025-08-01 : Fri : None\n",
      " 2025-08-02 : Sat : None\n",
      " 2025-08-03 : Sun : None\n",
      " 2025-08-04 : Mon : None\n",
      " 2025-08-05 : Tue : My value\n",
      " 2025-08-06 : Wed : None\n",
      " 2025-08-07 : Thu : My value\n",
      " 2025-08-08 : Fri : None\n",
      " 2025-08-09 : Sat : None]\n"
     ]
    }
   ],
   "execution_count": 16
  },
  {
   "metadata": {},
   "cell_type": "markdown",
   "source": [
    "## AnyProvider\n",
    "\n",
    "This provider takes a list of providers and provides the value from the first provider that provides a not `None` value. If all\n",
    "the providers provide `None` then `None` will be provided."
   ],
   "id": "9415a1ec450ff23f"
  },
  {
   "metadata": {
    "ExecuteTime": {
     "end_time": "2025-07-31T20:58:14.451339Z",
     "start_time": "2025-07-31T20:58:14.447423Z"
    }
   },
   "cell_type": "code",
   "source": [
    "days = [START_DATE + timedelta(days=i) for i in range(10)]\n",
    "items = zip(days, map(AnyProvider([ScheduledProvider('Value 1', UntilSchedule(START_DATE + timedelta(days=3))),\n",
    "                                   ScheduledProvider('Value 2', UntilSchedule(START_DATE + timedelta(days=7))),\n",
    "                                   ScheduledProvider('Value 3', UntilSchedule(START_DATE + timedelta(days=9)))]).get,\n",
    "                      days))\n",
    "print_value_list(items)"
   ],
   "id": "2b530da5752cfc68",
   "outputs": [
    {
     "name": "stdout",
     "output_type": "stream",
     "text": [
      "[2025-07-31 : Thu : Value 1\n",
      " 2025-08-01 : Fri : Value 1\n",
      " 2025-08-02 : Sat : Value 1\n",
      " 2025-08-03 : Sun : Value 2\n",
      " 2025-08-04 : Mon : Value 2\n",
      " 2025-08-05 : Tue : Value 2\n",
      " 2025-08-06 : Wed : Value 2\n",
      " 2025-08-07 : Thu : Value 3\n",
      " 2025-08-08 : Fri : Value 3\n",
      " 2025-08-09 : Sat : None]\n"
     ]
    }
   ],
   "execution_count": 17
  },
  {
   "metadata": {},
   "cell_type": "markdown",
   "source": [
    "## AllProvider\n",
    "\n",
    "This provider takes a dictionary of providers and provides a corresponding dictionary of the values provided by each provider"
   ],
   "id": "a7b3bd5dd232502d"
  },
  {
   "metadata": {
    "ExecuteTime": {
     "end_time": "2025-07-31T20:58:14.471917Z",
     "start_time": "2025-07-31T20:58:14.465482Z"
    }
   },
   "cell_type": "code",
   "source": [
    "days = [START_DATE + timedelta(days=i) for i in range(10)]\n",
    "items = zip(days, map(AllProvider({'Always': AlwaysProvider('My value'),\n",
    "                                   'Scheduled': ScheduledProvider('My value',\n",
    "                                                                  AnySchedule({'Tuesdays': WeeklySchedule(TUESDAY),\n",
    "                                                                               'Thursdays': WeeklySchedule(THURSDAY)})),\n",
    "                                   'Any': AnyProvider(\n",
    "                                       [ScheduledProvider('Value 1', UntilSchedule(START_DATE + timedelta(days=3))),\n",
    "                                        ScheduledProvider('Value 2', UntilSchedule(START_DATE + timedelta(days=7))),\n",
    "                                        ScheduledProvider('Value 3',\n",
    "                                                          UntilSchedule(START_DATE + timedelta(days=9)))])}).get, days))\n",
    "print_value_list(items)"
   ],
   "id": "d8bfc055aedbf4b7",
   "outputs": [
    {
     "name": "stdout",
     "output_type": "stream",
     "text": [
      "[2025-07-31 : Thu : {'Always': 'My value', 'Scheduled': 'My value', 'Any': 'Value 1'}\n",
      " 2025-08-01 : Fri : {'Always': 'My value', 'Scheduled': None, 'Any': 'Value 1'}\n",
      " 2025-08-02 : Sat : {'Always': 'My value', 'Scheduled': None, 'Any': 'Value 1'}\n",
      " 2025-08-03 : Sun : {'Always': 'My value', 'Scheduled': None, 'Any': 'Value 2'}\n",
      " 2025-08-04 : Mon : {'Always': 'My value', 'Scheduled': None, 'Any': 'Value 2'}\n",
      " 2025-08-05 : Tue : {'Always': 'My value', 'Scheduled': 'My value', 'Any': 'Value 2'}\n",
      " 2025-08-06 : Wed : {'Always': 'My value', 'Scheduled': None, 'Any': 'Value 2'}\n",
      " 2025-08-07 : Thu : {'Always': 'My value', 'Scheduled': 'My value', 'Any': 'Value 3'}\n",
      " 2025-08-08 : Fri : {'Always': 'My value', 'Scheduled': None, 'Any': 'Value 3'}\n",
      " 2025-08-09 : Sat : {'Always': 'My value', 'Scheduled': None, 'Any': None}]\n"
     ]
    }
   ],
   "execution_count": 18
  }
 ],
 "metadata": {
  "kernelspec": {
   "display_name": "Python 3",
   "language": "python",
   "name": "python3"
  },
  "language_info": {
   "codemirror_mode": {
    "name": "ipython",
    "version": 2
   },
   "file_extension": ".py",
   "mimetype": "text/x-python",
   "name": "python",
   "nbconvert_exporter": "python",
   "pygments_lexer": "ipython2",
   "version": "2.7.6"
  }
 },
 "nbformat": 4,
 "nbformat_minor": 5
}
