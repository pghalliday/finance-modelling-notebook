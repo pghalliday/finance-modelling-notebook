{
 "cells": [
  {
   "cell_type": "markdown",
   "id": "fe92965f5481891",
   "metadata": {
    "papermill": {
     "duration": 0.005051,
     "end_time": "2025-08-01T08:48:37.361488",
     "exception": false,
     "start_time": "2025-08-01T08:48:37.356437",
     "status": "completed"
    },
    "tags": []
   },
   "source": [
    "# Provider\n",
    "\n",
    "A collection of Provider implementations that will take the current date and provide an\n",
    "item valid for that date."
   ]
  },
  {
   "cell_type": "code",
   "execution_count": 1,
   "id": "initial_id",
   "metadata": {
    "ExecuteTime": {
     "end_time": "2025-08-01T08:39:00.534899Z",
     "start_time": "2025-08-01T08:39:00.522781Z"
    },
    "collapsed": true,
    "execution": {
     "iopub.execute_input": "2025-08-01T08:48:37.368227Z",
     "iopub.status.busy": "2025-08-01T08:48:37.368085Z",
     "iopub.status.idle": "2025-08-01T08:48:37.375639Z",
     "shell.execute_reply": "2025-08-01T08:48:37.375417Z"
    },
    "papermill": {
     "duration": 0.010529,
     "end_time": "2025-08-01T08:48:37.376333",
     "exception": false,
     "start_time": "2025-08-01T08:48:37.365804",
     "status": "completed"
    },
    "tags": []
   },
   "outputs": [
    {
     "name": "stdout",
     "output_type": "stream",
     "text": [
      "Start Date: 2025-08-01 : Fri\n"
     ]
    }
   ],
   "source": [
    "from calendar import TUESDAY, THURSDAY\n",
    "from datetime import date, timedelta\n",
    "\n",
    "from lib.provider import \\\n",
    "    NeverProvider, \\\n",
    "    AlwaysProvider, \\\n",
    "    ScheduledProvider, \\\n",
    "    AnyProvider, \\\n",
    "    AllProvider\n",
    "from lib.schedule import \\\n",
    "    WeeklySchedule, \\\n",
    "    AnySchedule, \\\n",
    "    UntilSchedule\n",
    "from lib.utils.print import \\\n",
    "    format_day, \\\n",
    "    print_values\n",
    "\n",
    "START_DATE = date.today()\n",
    "\n",
    "print(f'Start Date: {format_day(START_DATE)}')"
   ]
  },
  {
   "cell_type": "markdown",
   "id": "d4c1c5f73c56c950",
   "metadata": {
    "papermill": {
     "duration": 0.000953,
     "end_time": "2025-08-01T08:48:37.378439",
     "exception": false,
     "start_time": "2025-08-01T08:48:37.377486",
     "status": "completed"
    },
    "tags": []
   },
   "source": [
    "## NeverProvider\n",
    "\n",
    "This is a trivial provider that always provides `None`"
   ]
  },
  {
   "cell_type": "code",
   "execution_count": 2,
   "id": "31d15be478105fb",
   "metadata": {
    "ExecuteTime": {
     "end_time": "2025-08-01T08:39:00.546335Z",
     "start_time": "2025-08-01T08:39:00.543299Z"
    },
    "execution": {
     "iopub.execute_input": "2025-08-01T08:48:37.381418Z",
     "iopub.status.busy": "2025-08-01T08:48:37.381290Z",
     "iopub.status.idle": "2025-08-01T08:48:37.383952Z",
     "shell.execute_reply": "2025-08-01T08:48:37.383521Z"
    },
    "papermill": {
     "duration": 0.005159,
     "end_time": "2025-08-01T08:48:37.384764",
     "exception": false,
     "start_time": "2025-08-01T08:48:37.379605",
     "status": "completed"
    },
    "tags": []
   },
   "outputs": [
    {
     "name": "stdout",
     "output_type": "stream",
     "text": [
      "[2025-08-01 : Fri : None\n",
      " 2025-08-02 : Sat : None\n",
      " 2025-08-03 : Sun : None\n",
      " 2025-08-04 : Mon : None\n",
      " 2025-08-05 : Tue : None\n",
      " 2025-08-06 : Wed : None\n",
      " 2025-08-07 : Thu : None\n",
      " 2025-08-08 : Fri : None\n",
      " 2025-08-09 : Sat : None\n",
      " 2025-08-10 : Sun : None]\n"
     ]
    }
   ],
   "source": [
    "days = [START_DATE + timedelta(days=i) for i in range(10)]\n",
    "values = zip(days, map(NeverProvider[str]().get, days))\n",
    "print_values(values)"
   ]
  },
  {
   "cell_type": "markdown",
   "id": "533be8092240d073",
   "metadata": {
    "papermill": {
     "duration": 0.001239,
     "end_time": "2025-08-01T08:48:37.387472",
     "exception": false,
     "start_time": "2025-08-01T08:48:37.386233",
     "status": "completed"
    },
    "tags": []
   },
   "source": [
    "## AlwaysProvider\n",
    "\n",
    "This is a trivial provider that always provides the given value"
   ]
  },
  {
   "cell_type": "code",
   "execution_count": 3,
   "id": "c22e59cd690a96ad",
   "metadata": {
    "ExecuteTime": {
     "end_time": "2025-08-01T08:39:00.629525Z",
     "start_time": "2025-08-01T08:39:00.624643Z"
    },
    "execution": {
     "iopub.execute_input": "2025-08-01T08:48:37.391687Z",
     "iopub.status.busy": "2025-08-01T08:48:37.391449Z",
     "iopub.status.idle": "2025-08-01T08:48:37.394196Z",
     "shell.execute_reply": "2025-08-01T08:48:37.393888Z"
    },
    "papermill": {
     "duration": 0.006597,
     "end_time": "2025-08-01T08:48:37.395554",
     "exception": false,
     "start_time": "2025-08-01T08:48:37.388957",
     "status": "completed"
    },
    "tags": []
   },
   "outputs": [
    {
     "name": "stdout",
     "output_type": "stream",
     "text": [
      "[2025-08-01 : Fri : My value\n",
      " 2025-08-02 : Sat : My value\n",
      " 2025-08-03 : Sun : My value\n",
      " 2025-08-04 : Mon : My value\n",
      " 2025-08-05 : Tue : My value\n",
      " 2025-08-06 : Wed : My value\n",
      " 2025-08-07 : Thu : My value\n",
      " 2025-08-08 : Fri : My value\n",
      " 2025-08-09 : Sat : My value\n",
      " 2025-08-10 : Sun : My value]\n"
     ]
    }
   ],
   "source": [
    "days = [START_DATE + timedelta(days=i) for i in range(10)]\n",
    "values = zip(days, map(AlwaysProvider('My value').get, days))\n",
    "print_values(values)"
   ]
  },
  {
   "cell_type": "markdown",
   "id": "9438000ff7296003",
   "metadata": {
    "papermill": {
     "duration": 0.001554,
     "end_time": "2025-08-01T08:48:37.399275",
     "exception": false,
     "start_time": "2025-08-01T08:48:37.397721",
     "status": "completed"
    },
    "tags": []
   },
   "source": [
    "## ScheduledProvider\n",
    "\n",
    "This provider provides its value according to the specified schedule. If not scheduled it provides `None`."
   ]
  },
  {
   "cell_type": "code",
   "execution_count": 4,
   "id": "4c1dc048def50421",
   "metadata": {
    "ExecuteTime": {
     "end_time": "2025-08-01T08:39:00.660626Z",
     "start_time": "2025-08-01T08:39:00.655531Z"
    },
    "execution": {
     "iopub.execute_input": "2025-08-01T08:48:37.403582Z",
     "iopub.status.busy": "2025-08-01T08:48:37.403302Z",
     "iopub.status.idle": "2025-08-01T08:48:37.406564Z",
     "shell.execute_reply": "2025-08-01T08:48:37.406198Z"
    },
    "papermill": {
     "duration": 0.006935,
     "end_time": "2025-08-01T08:48:37.407725",
     "exception": false,
     "start_time": "2025-08-01T08:48:37.400790",
     "status": "completed"
    },
    "tags": []
   },
   "outputs": [
    {
     "name": "stdout",
     "output_type": "stream",
     "text": [
      "[2025-08-01 : Fri : None\n",
      " 2025-08-02 : Sat : None\n",
      " 2025-08-03 : Sun : None\n",
      " 2025-08-04 : Mon : None\n",
      " 2025-08-05 : Tue : My value\n",
      " 2025-08-06 : Wed : None\n",
      " 2025-08-07 : Thu : My value\n",
      " 2025-08-08 : Fri : None\n",
      " 2025-08-09 : Sat : None\n",
      " 2025-08-10 : Sun : None]\n"
     ]
    }
   ],
   "source": [
    "days = [START_DATE + timedelta(days=i) for i in range(10)]\n",
    "values = zip(days, map(ScheduledProvider('My value',\n",
    "                                         AnySchedule({'Tuesdays': WeeklySchedule(TUESDAY),\n",
    "                                                      'Thursdays': WeeklySchedule(THURSDAY)})).get, days))\n",
    "print_values(values)"
   ]
  },
  {
   "cell_type": "markdown",
   "id": "9415a1ec450ff23f",
   "metadata": {
    "papermill": {
     "duration": 0.002251,
     "end_time": "2025-08-01T08:48:37.412184",
     "exception": false,
     "start_time": "2025-08-01T08:48:37.409933",
     "status": "completed"
    },
    "tags": []
   },
   "source": [
    "## AnyProvider\n",
    "\n",
    "This provider takes a list of providers and provides the value from the first provider that provides a not `None` value. If all\n",
    "the providers provide `None` then `None` will be provided."
   ]
  },
  {
   "cell_type": "code",
   "execution_count": 5,
   "id": "2b530da5752cfc68",
   "metadata": {
    "ExecuteTime": {
     "end_time": "2025-08-01T08:39:00.679550Z",
     "start_time": "2025-08-01T08:39:00.676480Z"
    },
    "execution": {
     "iopub.execute_input": "2025-08-01T08:48:37.419648Z",
     "iopub.status.busy": "2025-08-01T08:48:37.419263Z",
     "iopub.status.idle": "2025-08-01T08:48:37.424024Z",
     "shell.execute_reply": "2025-08-01T08:48:37.423180Z"
    },
    "papermill": {
     "duration": 0.009443,
     "end_time": "2025-08-01T08:48:37.425501",
     "exception": false,
     "start_time": "2025-08-01T08:48:37.416058",
     "status": "completed"
    },
    "tags": []
   },
   "outputs": [
    {
     "name": "stdout",
     "output_type": "stream",
     "text": [
      "[2025-08-01 : Fri : Value 1\n",
      " 2025-08-02 : Sat : Value 1\n",
      " 2025-08-03 : Sun : Value 1\n",
      " 2025-08-04 : Mon : Value 2\n",
      " 2025-08-05 : Tue : Value 2\n",
      " 2025-08-06 : Wed : Value 2\n",
      " 2025-08-07 : Thu : Value 2\n",
      " 2025-08-08 : Fri : Value 3\n",
      " 2025-08-09 : Sat : Value 3\n",
      " 2025-08-10 : Sun : None]\n"
     ]
    }
   ],
   "source": [
    "days = [START_DATE + timedelta(days=i) for i in range(10)]\n",
    "values = zip(days, map(AnyProvider([ScheduledProvider('Value 1', UntilSchedule(START_DATE + timedelta(days=3))),\n",
    "                                    ScheduledProvider('Value 2', UntilSchedule(START_DATE + timedelta(days=7))),\n",
    "                                    ScheduledProvider('Value 3', UntilSchedule(START_DATE + timedelta(days=9)))]).get,\n",
    "                       days))\n",
    "print_values(values)"
   ]
  },
  {
   "cell_type": "markdown",
   "id": "a7b3bd5dd232502d",
   "metadata": {
    "papermill": {
     "duration": 0.003443,
     "end_time": "2025-08-01T08:48:37.433419",
     "exception": false,
     "start_time": "2025-08-01T08:48:37.429976",
     "status": "completed"
    },
    "tags": []
   },
   "source": [
    "## AllProvider\n",
    "\n",
    "This provider takes a dictionary of providers and provides a corresponding dictionary of the values provided by each provider"
   ]
  },
  {
   "cell_type": "code",
   "execution_count": 6,
   "id": "d8bfc055aedbf4b7",
   "metadata": {
    "ExecuteTime": {
     "end_time": "2025-08-01T08:39:00.700650Z",
     "start_time": "2025-08-01T08:39:00.695662Z"
    },
    "execution": {
     "iopub.execute_input": "2025-08-01T08:48:37.442212Z",
     "iopub.status.busy": "2025-08-01T08:48:37.441788Z",
     "iopub.status.idle": "2025-08-01T08:48:37.446495Z",
     "shell.execute_reply": "2025-08-01T08:48:37.446223Z"
    },
    "papermill": {
     "duration": 0.011568,
     "end_time": "2025-08-01T08:48:37.447170",
     "exception": false,
     "start_time": "2025-08-01T08:48:37.435602",
     "status": "completed"
    },
    "tags": []
   },
   "outputs": [
    {
     "name": "stdout",
     "output_type": "stream",
     "text": [
      "[2025-08-01 : Fri : {'Always': 'My value', 'Scheduled': None, 'Any': 'Value 1'}\n",
      " 2025-08-02 : Sat : {'Always': 'My value', 'Scheduled': None, 'Any': 'Value 1'}\n",
      " 2025-08-03 : Sun : {'Always': 'My value', 'Scheduled': None, 'Any': 'Value 1'}\n",
      " 2025-08-04 : Mon : {'Always': 'My value', 'Scheduled': None, 'Any': 'Value 2'}\n",
      " 2025-08-05 : Tue : {'Always': 'My value', 'Scheduled': 'My value', 'Any': 'Value 2'}\n",
      " 2025-08-06 : Wed : {'Always': 'My value', 'Scheduled': None, 'Any': 'Value 2'}\n",
      " 2025-08-07 : Thu : {'Always': 'My value', 'Scheduled': 'My value', 'Any': 'Value 2'}\n",
      " 2025-08-08 : Fri : {'Always': 'My value', 'Scheduled': None, 'Any': 'Value 3'}\n",
      " 2025-08-09 : Sat : {'Always': 'My value', 'Scheduled': None, 'Any': 'Value 3'}\n",
      " 2025-08-10 : Sun : {'Always': 'My value', 'Scheduled': None, 'Any': None}]\n"
     ]
    }
   ],
   "source": [
    "days = [START_DATE + timedelta(days=i) for i in range(10)]\n",
    "values = zip(days, map(AllProvider({'Always': AlwaysProvider('My value'),\n",
    "                                    'Scheduled': ScheduledProvider('My value',\n",
    "                                                                   AnySchedule({'Tuesdays': WeeklySchedule(TUESDAY),\n",
    "                                                                                'Thursdays': WeeklySchedule(\n",
    "                                                                                    THURSDAY)})),\n",
    "                                    'Any': AnyProvider(\n",
    "                                        [ScheduledProvider('Value 1', UntilSchedule(START_DATE + timedelta(days=3))),\n",
    "                                         ScheduledProvider('Value 2', UntilSchedule(START_DATE + timedelta(days=7))),\n",
    "                                         ScheduledProvider('Value 3',\n",
    "                                                           UntilSchedule(START_DATE + timedelta(days=9)))])}).get,\n",
    "                       days))\n",
    "print_values(values)"
   ]
  }
 ],
 "metadata": {
  "kernelspec": {
   "display_name": "Python 3",
   "language": "python",
   "name": "python3"
  },
  "language_info": {
   "codemirror_mode": {
    "name": "ipython",
    "version": 3
   },
   "file_extension": ".py",
   "mimetype": "text/x-python",
   "name": "python",
   "nbconvert_exporter": "python",
   "pygments_lexer": "ipython3",
   "version": "3.12.11"
  },
  "papermill": {
   "default_parameters": {},
   "duration": 1.050552,
   "end_time": "2025-08-01T08:48:37.564150",
   "environment_variables": {},
   "exception": null,
   "input_path": "./lib/provider/README.ipynb",
   "output_path": "./lib/provider/README.ipynb",
   "parameters": {},
   "start_time": "2025-08-01T08:48:36.513598",
   "version": "2.6.0"
  }
 },
 "nbformat": 4,
 "nbformat_minor": 5
}