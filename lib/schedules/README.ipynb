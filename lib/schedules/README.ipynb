{
 "cells": [
  {
   "cell_type": "markdown",
   "id": "86d255fd9c1132ac",
   "metadata": {
    "papermill": {
     "duration": 0.009695,
     "end_time": "2025-08-05T11:56:05.561993",
     "exception": false,
     "start_time": "2025-08-05T11:56:05.552298",
     "status": "completed"
    },
    "tags": []
   },
   "source": [
    "# Schedules\n",
    "\n",
    "A collection of schedule implementations that will take the current date and check if that day\n",
    "is in the schedule."
   ]
  },
  {
   "cell_type": "code",
   "execution_count": 1,
   "id": "bf95de8ad60d9354",
   "metadata": {
    "ExecuteTime": {
     "end_time": "2025-08-05T11:25:39.856082Z",
     "start_time": "2025-08-05T11:25:39.773374Z"
    },
    "execution": {
     "iopub.execute_input": "2025-08-05T11:56:05.573738Z",
     "iopub.status.busy": "2025-08-05T11:56:05.573448Z",
     "iopub.status.idle": "2025-08-05T11:56:05.666519Z",
     "shell.execute_reply": "2025-08-05T11:56:05.665782Z"
    },
    "papermill": {
     "duration": 0.101074,
     "end_time": "2025-08-05T11:56:05.668863",
     "exception": false,
     "start_time": "2025-08-05T11:56:05.567789",
     "status": "completed"
    },
    "tags": []
   },
   "outputs": [
    {
     "name": "stdout",
     "output_type": "stream",
     "text": [
      "Start Date: 2025-08-05 : Tue\n"
     ]
    }
   ],
   "source": [
    "from calendar import TUESDAY, SATURDAY, JANUARY, FEBRUARY, APRIL, JULY, OCTOBER\n",
    "from datetime import date, timedelta\n",
    "\n",
    "from lib.schedules import \\\n",
    "    NeverSchedule, \\\n",
    "    DailySchedule, \\\n",
    "    DaySchedule, \\\n",
    "    FromSchedule, \\\n",
    "    UntilSchedule, \\\n",
    "    RangeSchedule, \\\n",
    "    WeeklySchedule, \\\n",
    "    MonthlySchedule, \\\n",
    "    YearlySchedule, \\\n",
    "    FilterSchedule, \\\n",
    "    AnySchedule, \\\n",
    "    AllSchedule\n",
    "from lib.utils.format import \\\n",
    "    format_day, \\\n",
    "    format_days\n",
    "\n",
    "START_DATE = date.today()\n",
    "\n",
    "print(f'Start Date: {format_day(START_DATE)}')"
   ]
  },
  {
   "cell_type": "markdown",
   "id": "b375883e0aef0abe",
   "metadata": {
    "papermill": {
     "duration": 0.005832,
     "end_time": "2025-08-05T11:56:05.682050",
     "exception": false,
     "start_time": "2025-08-05T11:56:05.676218",
     "status": "completed"
    },
    "tags": []
   },
   "source": [
    "## Primitive schedules\n",
    "\n",
    "The following schedules are the basic building blocks of schedules."
   ]
  },
  {
   "cell_type": "markdown",
   "id": "24b2f20432708dd4",
   "metadata": {
    "papermill": {
     "duration": 0.007714,
     "end_time": "2025-08-05T11:56:05.696505",
     "exception": false,
     "start_time": "2025-08-05T11:56:05.688791",
     "status": "completed"
    },
    "tags": []
   },
   "source": [
    "### NeverSchedule\n",
    "\n",
    "This is a trivial schedule in that it always returns False"
   ]
  },
  {
   "cell_type": "code",
   "execution_count": 2,
   "id": "155acd03e1e6e439",
   "metadata": {
    "ExecuteTime": {
     "end_time": "2025-08-05T11:25:40.002979Z",
     "start_time": "2025-08-05T11:25:39.979413Z"
    },
    "execution": {
     "iopub.execute_input": "2025-08-05T11:56:05.713296Z",
     "iopub.status.busy": "2025-08-05T11:56:05.712716Z",
     "iopub.status.idle": "2025-08-05T11:56:05.720916Z",
     "shell.execute_reply": "2025-08-05T11:56:05.719425Z"
    },
    "papermill": {
     "duration": 0.020828,
     "end_time": "2025-08-05T11:56:05.722983",
     "exception": false,
     "start_time": "2025-08-05T11:56:05.702155",
     "status": "completed"
    },
    "tags": []
   },
   "outputs": [
    {
     "name": "stdout",
     "output_type": "stream",
     "text": [
      "[]\n"
     ]
    }
   ],
   "source": [
    "days = [START_DATE + timedelta(days=i) for i in range(1000)]\n",
    "matches = filter(NeverSchedule().check, days)\n",
    "print(format_days(matches))"
   ]
  },
  {
   "cell_type": "markdown",
   "id": "a6c95b36a4777e3b",
   "metadata": {
    "papermill": {
     "duration": 0.004444,
     "end_time": "2025-08-05T11:56:05.733895",
     "exception": false,
     "start_time": "2025-08-05T11:56:05.729451",
     "status": "completed"
    },
    "tags": []
   },
   "source": [
    "### DailySchedule\n",
    "\n",
    "This is a trivial schedule in that it always returns True"
   ]
  },
  {
   "cell_type": "code",
   "execution_count": 3,
   "id": "143ee0c99bef08f5",
   "metadata": {
    "ExecuteTime": {
     "end_time": "2025-08-05T11:25:40.027229Z",
     "start_time": "2025-08-05T11:25:40.017876Z"
    },
    "execution": {
     "iopub.execute_input": "2025-08-05T11:56:05.743837Z",
     "iopub.status.busy": "2025-08-05T11:56:05.743525Z",
     "iopub.status.idle": "2025-08-05T11:56:05.747699Z",
     "shell.execute_reply": "2025-08-05T11:56:05.747092Z"
    },
    "papermill": {
     "duration": 0.008583,
     "end_time": "2025-08-05T11:56:05.749177",
     "exception": false,
     "start_time": "2025-08-05T11:56:05.740594",
     "status": "completed"
    },
    "tags": []
   },
   "outputs": [
    {
     "name": "stdout",
     "output_type": "stream",
     "text": [
      "[2025-08-05 : Tue\n",
      " 2025-08-06 : Wed\n",
      " 2025-08-07 : Thu\n",
      " 2025-08-08 : Fri\n",
      " 2025-08-09 : Sat\n",
      " 2025-08-10 : Sun\n",
      " 2025-08-11 : Mon\n",
      " 2025-08-12 : Tue\n",
      " 2025-08-13 : Wed\n",
      " 2025-08-14 : Thu]\n"
     ]
    }
   ],
   "source": [
    "days = [START_DATE + timedelta(days=i) for i in range(10)]\n",
    "matches = filter(DailySchedule().check, days)\n",
    "print(format_days(matches))"
   ]
  },
  {
   "cell_type": "markdown",
   "id": "c881833ea29fbb9f",
   "metadata": {
    "papermill": {
     "duration": 0.005568,
     "end_time": "2025-08-05T11:56:05.760361",
     "exception": false,
     "start_time": "2025-08-05T11:56:05.754793",
     "status": "completed"
    },
    "tags": []
   },
   "source": [
    "### DaySchedule\n",
    "\n",
    "This schedule will only match on the specified day"
   ]
  },
  {
   "cell_type": "code",
   "execution_count": 4,
   "id": "906f3fdcd1986f5e",
   "metadata": {
    "ExecuteTime": {
     "end_time": "2025-08-05T11:25:40.050186Z",
     "start_time": "2025-08-05T11:25:40.039556Z"
    },
    "execution": {
     "iopub.execute_input": "2025-08-05T11:56:05.773918Z",
     "iopub.status.busy": "2025-08-05T11:56:05.773624Z",
     "iopub.status.idle": "2025-08-05T11:56:05.778725Z",
     "shell.execute_reply": "2025-08-05T11:56:05.778179Z"
    },
    "papermill": {
     "duration": 0.013984,
     "end_time": "2025-08-05T11:56:05.780851",
     "exception": false,
     "start_time": "2025-08-05T11:56:05.766867",
     "status": "completed"
    },
    "tags": []
   },
   "outputs": [
    {
     "name": "stdout",
     "output_type": "stream",
     "text": [
      "[2025-09-24 : Wed]\n"
     ]
    }
   ],
   "source": [
    "days = [START_DATE + timedelta(days=i) for i in range(1000)]\n",
    "matches = filter(DaySchedule(START_DATE + timedelta(days=50)).check, days)\n",
    "print(format_days(matches))"
   ]
  },
  {
   "cell_type": "markdown",
   "id": "dacb67fc16fe79cb",
   "metadata": {
    "papermill": {
     "duration": 0.004804,
     "end_time": "2025-08-05T11:56:05.793357",
     "exception": false,
     "start_time": "2025-08-05T11:56:05.788553",
     "status": "completed"
    },
    "tags": []
   },
   "source": [
    "### FromSchedule\n",
    "\n",
    "This schedule will match on all dates after and including the specified day"
   ]
  },
  {
   "cell_type": "code",
   "execution_count": 5,
   "id": "cd1f77cd06a1c4fe",
   "metadata": {
    "ExecuteTime": {
     "end_time": "2025-08-05T11:25:40.070818Z",
     "start_time": "2025-08-05T11:25:40.061744Z"
    },
    "execution": {
     "iopub.execute_input": "2025-08-05T11:56:05.808665Z",
     "iopub.status.busy": "2025-08-05T11:56:05.808370Z",
     "iopub.status.idle": "2025-08-05T11:56:05.812849Z",
     "shell.execute_reply": "2025-08-05T11:56:05.812092Z"
    },
    "papermill": {
     "duration": 0.016979,
     "end_time": "2025-08-05T11:56:05.818398",
     "exception": false,
     "start_time": "2025-08-05T11:56:05.801419",
     "status": "completed"
    },
    "tags": []
   },
   "outputs": [
    {
     "name": "stdout",
     "output_type": "stream",
     "text": [
      "[2025-08-15 : Fri\n",
      " 2025-08-16 : Sat\n",
      " 2025-08-17 : Sun\n",
      " 2025-08-18 : Mon\n",
      " 2025-08-19 : Tue\n",
      " 2025-08-20 : Wed\n",
      " 2025-08-21 : Thu\n",
      " 2025-08-22 : Fri\n",
      " 2025-08-23 : Sat\n",
      " 2025-08-24 : Sun]\n"
     ]
    }
   ],
   "source": [
    "days = [START_DATE + timedelta(days=i) for i in range(20)]\n",
    "matches = filter(FromSchedule(START_DATE + timedelta(days=10)).check, days)\n",
    "print(format_days(matches))"
   ]
  },
  {
   "cell_type": "markdown",
   "id": "91a29fed9500151c",
   "metadata": {
    "papermill": {
     "duration": 0.004738,
     "end_time": "2025-08-05T11:56:05.829112",
     "exception": false,
     "start_time": "2025-08-05T11:56:05.824374",
     "status": "completed"
    },
    "tags": []
   },
   "source": [
    "### UntilSchedule\n",
    "\n",
    "This schedule will match on all dates up to but not including the specified day"
   ]
  },
  {
   "cell_type": "code",
   "execution_count": 6,
   "id": "3ac26fb8744eb83",
   "metadata": {
    "ExecuteTime": {
     "end_time": "2025-08-05T11:25:40.093681Z",
     "start_time": "2025-08-05T11:25:40.083252Z"
    },
    "execution": {
     "iopub.execute_input": "2025-08-05T11:56:05.841231Z",
     "iopub.status.busy": "2025-08-05T11:56:05.840778Z",
     "iopub.status.idle": "2025-08-05T11:56:05.850368Z",
     "shell.execute_reply": "2025-08-05T11:56:05.848488Z"
    },
    "papermill": {
     "duration": 0.017597,
     "end_time": "2025-08-05T11:56:05.852490",
     "exception": false,
     "start_time": "2025-08-05T11:56:05.834893",
     "status": "completed"
    },
    "tags": []
   },
   "outputs": [
    {
     "name": "stdout",
     "output_type": "stream",
     "text": [
      "[2025-08-05 : Tue\n",
      " 2025-08-06 : Wed\n",
      " 2025-08-07 : Thu\n",
      " 2025-08-08 : Fri\n",
      " 2025-08-09 : Sat\n",
      " 2025-08-10 : Sun\n",
      " 2025-08-11 : Mon\n",
      " 2025-08-12 : Tue\n",
      " 2025-08-13 : Wed\n",
      " 2025-08-14 : Thu]\n"
     ]
    }
   ],
   "source": [
    "days = [START_DATE + timedelta(days=i) for i in range(20)]\n",
    "matches = filter(UntilSchedule(START_DATE + timedelta(days=10)).check, days)\n",
    "print(format_days(matches))"
   ]
  },
  {
   "cell_type": "markdown",
   "id": "6fc05568787e8cdb",
   "metadata": {
    "papermill": {
     "duration": 0.001931,
     "end_time": "2025-08-05T11:56:05.859637",
     "exception": false,
     "start_time": "2025-08-05T11:56:05.857706",
     "status": "completed"
    },
    "tags": []
   },
   "source": [
    "### RangeSchedule\n",
    "\n",
    "This schedule will match on all dates after and including the `from_date` up to but not including\n",
    "the `until_date`"
   ]
  },
  {
   "cell_type": "code",
   "execution_count": 7,
   "id": "22627d6ed8970f75",
   "metadata": {
    "ExecuteTime": {
     "end_time": "2025-08-05T11:25:40.111591Z",
     "start_time": "2025-08-05T11:25:40.104750Z"
    },
    "execution": {
     "iopub.execute_input": "2025-08-05T11:56:05.863613Z",
     "iopub.status.busy": "2025-08-05T11:56:05.863490Z",
     "iopub.status.idle": "2025-08-05T11:56:05.865433Z",
     "shell.execute_reply": "2025-08-05T11:56:05.865217Z"
    },
    "papermill": {
     "duration": 0.004591,
     "end_time": "2025-08-05T11:56:05.866062",
     "exception": false,
     "start_time": "2025-08-05T11:56:05.861471",
     "status": "completed"
    },
    "tags": []
   },
   "outputs": [
    {
     "name": "stdout",
     "output_type": "stream",
     "text": [
      "[2025-08-15 : Fri\n",
      " 2025-08-16 : Sat\n",
      " 2025-08-17 : Sun\n",
      " 2025-08-18 : Mon\n",
      " 2025-08-19 : Tue\n",
      " 2025-08-20 : Wed\n",
      " 2025-08-21 : Thu\n",
      " 2025-08-22 : Fri\n",
      " 2025-08-23 : Sat\n",
      " 2025-08-24 : Sun]\n"
     ]
    }
   ],
   "source": [
    "days = [START_DATE + timedelta(days=i) for i in range(30)]\n",
    "matches = filter(RangeSchedule(from_date=START_DATE + timedelta(days=10),\n",
    "                               until_date=START_DATE + timedelta(days=20)).check, days)\n",
    "print(format_days(matches))"
   ]
  },
  {
   "cell_type": "markdown",
   "id": "7b9ebdf63a827652",
   "metadata": {
    "papermill": {
     "duration": 0.001705,
     "end_time": "2025-08-05T11:56:05.869586",
     "exception": false,
     "start_time": "2025-08-05T11:56:05.867881",
     "status": "completed"
    },
    "tags": []
   },
   "source": [
    "### WeeklySchedule\n",
    "\n",
    "This schedule will match on the specified day of the week"
   ]
  },
  {
   "cell_type": "code",
   "execution_count": 8,
   "id": "8337dcfb7faf8c47",
   "metadata": {
    "ExecuteTime": {
     "end_time": "2025-08-05T11:25:40.129864Z",
     "start_time": "2025-08-05T11:25:40.126226Z"
    },
    "execution": {
     "iopub.execute_input": "2025-08-05T11:56:05.873418Z",
     "iopub.status.busy": "2025-08-05T11:56:05.873293Z",
     "iopub.status.idle": "2025-08-05T11:56:05.875125Z",
     "shell.execute_reply": "2025-08-05T11:56:05.874901Z"
    },
    "papermill": {
     "duration": 0.004391,
     "end_time": "2025-08-05T11:56:05.875717",
     "exception": false,
     "start_time": "2025-08-05T11:56:05.871326",
     "status": "completed"
    },
    "tags": []
   },
   "outputs": [
    {
     "name": "stdout",
     "output_type": "stream",
     "text": [
      "[2025-08-05 : Tue\n",
      " 2025-08-12 : Tue\n",
      " 2025-08-19 : Tue\n",
      " 2025-08-26 : Tue\n",
      " 2025-09-02 : Tue\n",
      " 2025-09-09 : Tue\n",
      " 2025-09-16 : Tue\n",
      " 2025-09-23 : Tue]\n"
     ]
    }
   ],
   "source": [
    "days = [START_DATE + timedelta(days=i) for i in range(50)]\n",
    "matches = filter(WeeklySchedule(TUESDAY).check, days)\n",
    "print(format_days(matches))"
   ]
  },
  {
   "cell_type": "markdown",
   "id": "1bddb1513f8eac3c",
   "metadata": {
    "papermill": {
     "duration": 0.001751,
     "end_time": "2025-08-05T11:56:05.879320",
     "exception": false,
     "start_time": "2025-08-05T11:56:05.877569",
     "status": "completed"
    },
    "tags": []
   },
   "source": [
    "### MonthlySchedule\n",
    "\n",
    "This schedule will match on the specified day of the month.\n",
    "\n",
    "> **_NB._** If the current month does not have the specified day (e.g., there is no 30th of February in any year)\n",
    "then the last day of the month will match."
   ]
  },
  {
   "cell_type": "code",
   "execution_count": 9,
   "id": "76f2f172fda2c5b8",
   "metadata": {
    "ExecuteTime": {
     "end_time": "2025-08-05T11:25:40.149228Z",
     "start_time": "2025-08-05T11:25:40.146442Z"
    },
    "execution": {
     "iopub.execute_input": "2025-08-05T11:56:05.883234Z",
     "iopub.status.busy": "2025-08-05T11:56:05.883132Z",
     "iopub.status.idle": "2025-08-05T11:56:05.885225Z",
     "shell.execute_reply": "2025-08-05T11:56:05.885053Z"
    },
    "papermill": {
     "duration": 0.004727,
     "end_time": "2025-08-05T11:56:05.885827",
     "exception": false,
     "start_time": "2025-08-05T11:56:05.881100",
     "status": "completed"
    },
    "tags": []
   },
   "outputs": [
    {
     "name": "stdout",
     "output_type": "stream",
     "text": [
      "[2025-08-30 : Sat\n",
      " 2025-09-30 : Tue\n",
      " 2025-10-30 : Thu\n",
      " 2025-11-30 : Sun\n",
      " 2025-12-30 : Tue\n",
      " 2026-01-30 : Fri\n",
      " 2026-02-28 : Sat\n",
      " 2026-03-30 : Mon\n",
      " 2026-04-30 : Thu\n",
      " 2026-05-30 : Sat\n",
      " 2026-06-30 : Tue\n",
      " 2026-07-30 : Thu\n",
      " 2026-08-30 : Sun\n",
      " 2026-09-30 : Wed\n",
      " 2026-10-30 : Fri\n",
      " 2026-11-30 : Mon]\n"
     ]
    }
   ],
   "source": [
    "days = [START_DATE + timedelta(days=i) for i in range(500)]\n",
    "matches = filter(MonthlySchedule(30).check, days)\n",
    "print(format_days(matches))"
   ]
  },
  {
   "cell_type": "markdown",
   "id": "fe7200e9208b0cb3",
   "metadata": {
    "papermill": {
     "duration": 0.001773,
     "end_time": "2025-08-05T11:56:05.889465",
     "exception": false,
     "start_time": "2025-08-05T11:56:05.887692",
     "status": "completed"
    },
    "tags": []
   },
   "source": [
    "### YearlySchedule\n",
    "\n",
    "This schedule will match on the specified day of specified month.\n",
    "\n",
    "> **_NB._** If the current month does not have the specified day (e.g., there is no 30th of February in any year)\n",
    "then the last day of the month will match."
   ]
  },
  {
   "cell_type": "code",
   "execution_count": 10,
   "id": "ce50c3ac5cd812ae",
   "metadata": {
    "ExecuteTime": {
     "end_time": "2025-08-05T11:25:40.179094Z",
     "start_time": "2025-08-05T11:25:40.174156Z"
    },
    "execution": {
     "iopub.execute_input": "2025-08-05T11:56:05.893659Z",
     "iopub.status.busy": "2025-08-05T11:56:05.893552Z",
     "iopub.status.idle": "2025-08-05T11:56:05.897230Z",
     "shell.execute_reply": "2025-08-05T11:56:05.897018Z"
    },
    "papermill": {
     "duration": 0.006478,
     "end_time": "2025-08-05T11:56:05.897830",
     "exception": false,
     "start_time": "2025-08-05T11:56:05.891352",
     "status": "completed"
    },
    "tags": []
   },
   "outputs": [
    {
     "name": "stdout",
     "output_type": "stream",
     "text": [
      "[2026-02-28 : Sat\n",
      " 2027-02-28 : Sun\n",
      " 2028-02-29 : Tue\n",
      " 2029-02-28 : Wed\n",
      " 2030-02-28 : Thu\n",
      " 2031-02-28 : Fri\n",
      " 2032-02-29 : Sun\n",
      " 2033-02-28 : Mon\n",
      " 2034-02-28 : Tue\n",
      " 2035-02-28 : Wed\n",
      " 2036-02-29 : Fri\n",
      " 2037-02-28 : Sat\n",
      " 2038-02-28 : Sun\n",
      " 2039-02-28 : Mon]\n"
     ]
    }
   ],
   "source": [
    "days = [START_DATE + timedelta(days=i) for i in range(5000)]\n",
    "matches = filter(YearlySchedule(FEBRUARY, 30).check, days)\n",
    "print(format_days(matches))"
   ]
  },
  {
   "cell_type": "markdown",
   "id": "231710f92f799dfa",
   "metadata": {
    "papermill": {
     "duration": 0.001789,
     "end_time": "2025-08-05T11:56:05.901466",
     "exception": false,
     "start_time": "2025-08-05T11:56:05.899677",
     "status": "completed"
    },
    "tags": []
   },
   "source": [
    "### FilterSchedule\n",
    "\n",
    "This is a generic schedule that takes a callback function that will be used to check the supplied date"
   ]
  },
  {
   "cell_type": "code",
   "execution_count": 11,
   "id": "e8e7d0477ac7deb1",
   "metadata": {
    "ExecuteTime": {
     "end_time": "2025-08-05T11:25:40.215376Z",
     "start_time": "2025-08-05T11:25:40.206181Z"
    },
    "execution": {
     "iopub.execute_input": "2025-08-05T11:56:05.905435Z",
     "iopub.status.busy": "2025-08-05T11:56:05.905338Z",
     "iopub.status.idle": "2025-08-05T11:56:05.907275Z",
     "shell.execute_reply": "2025-08-05T11:56:05.907032Z"
    },
    "papermill": {
     "duration": 0.004628,
     "end_time": "2025-08-05T11:56:05.907882",
     "exception": false,
     "start_time": "2025-08-05T11:56:05.903254",
     "status": "completed"
    },
    "tags": []
   },
   "outputs": [
    {
     "name": "stdout",
     "output_type": "stream",
     "text": [
      "[2025-08-05 : Tue\n",
      " 2025-08-06 : Wed\n",
      " 2025-08-07 : Thu\n",
      " 2025-08-08 : Fri\n",
      " 2025-08-11 : Mon\n",
      " 2025-08-12 : Tue\n",
      " 2025-08-13 : Wed\n",
      " 2025-08-14 : Thu\n",
      " 2025-08-15 : Fri\n",
      " 2025-08-18 : Mon\n",
      " 2025-08-19 : Tue\n",
      " 2025-08-20 : Wed\n",
      " 2025-08-21 : Thu\n",
      " 2025-08-22 : Fri]\n"
     ]
    }
   ],
   "source": [
    "days = [START_DATE + timedelta(days=i) for i in range(20)]\n",
    "\n",
    "\n",
    "def filter_func(current_date: date) -> bool:\n",
    "    return current_date.weekday() < SATURDAY\n",
    "\n",
    "\n",
    "matches = filter(FilterSchedule(filter_func).check, days)\n",
    "print(format_days(matches))"
   ]
  },
  {
   "cell_type": "markdown",
   "id": "7045591371c57f8d",
   "metadata": {
    "papermill": {
     "duration": 0.001905,
     "end_time": "2025-08-05T11:56:05.911851",
     "exception": false,
     "start_time": "2025-08-05T11:56:05.909946",
     "status": "completed"
    },
    "tags": []
   },
   "source": [
    "## Schedule operators\n",
    "\n",
    "The following schedules take other schedules and apply an operator to them."
   ]
  },
  {
   "cell_type": "markdown",
   "id": "d2caa297c71f9604",
   "metadata": {
    "papermill": {
     "duration": 0.001786,
     "end_time": "2025-08-05T11:56:05.915482",
     "exception": false,
     "start_time": "2025-08-05T11:56:05.913696",
     "status": "completed"
    },
    "tags": []
   },
   "source": [
    "### AnySchedule\n",
    "\n",
    "This represents a boolean `OR` operator for schedules. If any of the child schedules match the current date,\n",
    "then this schedule will match.\n",
    "\n",
    "For example, to get a quarterly schedule, you could create four Yearly schedules and Any them together."
   ]
  },
  {
   "cell_type": "code",
   "execution_count": 12,
   "id": "5afc9afcab53a588",
   "metadata": {
    "ExecuteTime": {
     "end_time": "2025-08-05T11:25:40.236730Z",
     "start_time": "2025-08-05T11:25:40.224709Z"
    },
    "execution": {
     "iopub.execute_input": "2025-08-05T11:56:05.919680Z",
     "iopub.status.busy": "2025-08-05T11:56:05.919469Z",
     "iopub.status.idle": "2025-08-05T11:56:05.922502Z",
     "shell.execute_reply": "2025-08-05T11:56:05.922281Z"
    },
    "papermill": {
     "duration": 0.005845,
     "end_time": "2025-08-05T11:56:05.923106",
     "exception": false,
     "start_time": "2025-08-05T11:56:05.917261",
     "status": "completed"
    },
    "tags": []
   },
   "outputs": [
    {
     "name": "stdout",
     "output_type": "stream",
     "text": [
      "[2025-10-01 : Wed\n",
      " 2026-01-01 : Thu\n",
      " 2026-04-01 : Wed\n",
      " 2026-07-01 : Wed\n",
      " 2026-10-01 : Thu\n",
      " 2027-01-01 : Fri\n",
      " 2027-04-01 : Thu\n",
      " 2027-07-01 : Thu\n",
      " 2027-10-01 : Fri\n",
      " 2028-01-01 : Sat\n",
      " 2028-04-01 : Sat]\n"
     ]
    }
   ],
   "source": [
    "days = [START_DATE + timedelta(days=i) for i in range(1000)]\n",
    "matches = filter(AnySchedule((YearlySchedule(JANUARY, 1),\n",
    "                              YearlySchedule(APRIL, 1),\n",
    "                              YearlySchedule(JULY, 1),\n",
    "                              YearlySchedule(OCTOBER, 1))).check, days)\n",
    "print(format_days(matches))"
   ]
  },
  {
   "cell_type": "markdown",
   "id": "b31fae2015c167c3",
   "metadata": {
    "papermill": {
     "duration": 0.00193,
     "end_time": "2025-08-05T11:56:05.927114",
     "exception": false,
     "start_time": "2025-08-05T11:56:05.925184",
     "status": "completed"
    },
    "tags": []
   },
   "source": [
    "### AllSchedule\n",
    "\n",
    "This represents a boolean `AND` operator for schedules. Only if all the child schedules match the current date,\n",
    "will this schedule match.\n",
    "\n",
    "For example, to get a weekly schedule but only from a certain date."
   ]
  },
  {
   "cell_type": "code",
   "execution_count": 13,
   "id": "98f5ebc725d6e6dc",
   "metadata": {
    "ExecuteTime": {
     "end_time": "2025-08-05T11:25:40.256145Z",
     "start_time": "2025-08-05T11:25:40.247277Z"
    },
    "execution": {
     "iopub.execute_input": "2025-08-05T11:56:05.931347Z",
     "iopub.status.busy": "2025-08-05T11:56:05.931245Z",
     "iopub.status.idle": "2025-08-05T11:56:05.933230Z",
     "shell.execute_reply": "2025-08-05T11:56:05.933006Z"
    },
    "papermill": {
     "duration": 0.004803,
     "end_time": "2025-08-05T11:56:05.933838",
     "exception": false,
     "start_time": "2025-08-05T11:56:05.929035",
     "status": "completed"
    },
    "tags": []
   },
   "outputs": [
    {
     "name": "stdout",
     "output_type": "stream",
     "text": [
      "[2025-08-19 : Tue\n",
      " 2025-08-26 : Tue\n",
      " 2025-09-02 : Tue\n",
      " 2025-09-09 : Tue\n",
      " 2025-09-16 : Tue\n",
      " 2025-09-23 : Tue]\n"
     ]
    }
   ],
   "source": [
    "days = [START_DATE + timedelta(days=i) for i in range(50)]\n",
    "matches = filter(AllSchedule((WeeklySchedule(TUESDAY),\n",
    "                              FromSchedule(START_DATE + timedelta(days=10)))).check, days)\n",
    "print(format_days(matches))"
   ]
  }
 ],
 "metadata": {
  "kernelspec": {
   "display_name": "Python 3",
   "language": "python",
   "name": "python3"
  },
  "language_info": {
   "codemirror_mode": {
    "name": "ipython",
    "version": 3
   },
   "file_extension": ".py",
   "mimetype": "text/x-python",
   "name": "python",
   "nbconvert_exporter": "python",
   "pygments_lexer": "ipython3",
   "version": "3.12.11"
  },
  "papermill": {
   "default_parameters": {},
   "duration": 1.351995,
   "end_time": "2025-08-05T11:56:06.050577",
   "environment_variables": {},
   "exception": null,
   "input_path": "./lib/schedules/README.ipynb",
   "output_path": "./lib/schedules/README.ipynb",
   "parameters": {},
   "start_time": "2025-08-05T11:56:04.698582",
   "version": "2.6.0"
  }
 },
 "nbformat": 4,
 "nbformat_minor": 5
}