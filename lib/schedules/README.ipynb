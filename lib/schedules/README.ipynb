{
 "cells": [
  {
   "cell_type": "markdown",
   "id": "86d255fd9c1132ac",
   "metadata": {
    "papermill": {
     "duration": 0.015527,
     "end_time": "2025-08-05T20:43:44.404859",
     "exception": false,
     "start_time": "2025-08-05T20:43:44.389332",
     "status": "completed"
    },
    "tags": []
   },
   "source": [
    "# Schedules\n",
    "\n",
    "A collection of schedule implementations that will take the current date and check if that day\n",
    "is in the schedule. The returned `Scheduled` instance will also indicate if the schedule is complete."
   ]
  },
  {
   "cell_type": "code",
   "execution_count": 1,
   "id": "b4313d25d2b57c89",
   "metadata": {
    "ExecuteTime": {
     "end_time": "2025-08-05T17:07:34.511971Z",
     "start_time": "2025-08-05T17:07:34.498428Z"
    },
    "execution": {
     "iopub.execute_input": "2025-08-05T20:43:44.416834Z",
     "iopub.status.busy": "2025-08-05T20:43:44.416543Z",
     "iopub.status.idle": "2025-08-05T20:43:44.435595Z",
     "shell.execute_reply": "2025-08-05T20:43:44.435125Z"
    },
    "papermill": {
     "duration": 0.026027,
     "end_time": "2025-08-05T20:43:44.436609",
     "exception": false,
     "start_time": "2025-08-05T20:43:44.410582",
     "status": "completed"
    },
    "tags": []
   },
   "outputs": [
    {
     "name": "stdout",
     "output_type": "stream",
     "text": [
      "Start Date: 2025-08-05 : Tue\n"
     ]
    }
   ],
   "source": [
    "from calendar import TUESDAY, SATURDAY, JANUARY, FEBRUARY, APRIL, JULY, OCTOBER\n",
    "from datetime import date, timedelta\n",
    "\n",
    "from lib.schedules import \\\n",
    "    NeverSchedule, \\\n",
    "    DailySchedule, \\\n",
    "    DaySchedule, \\\n",
    "    FromSchedule, \\\n",
    "    UntilSchedule, \\\n",
    "    RangeSchedule, \\\n",
    "    WeeklySchedule, \\\n",
    "    MonthlySchedule, \\\n",
    "    YearlySchedule, \\\n",
    "    FilterSchedule, \\\n",
    "    AnySchedule, \\\n",
    "    AllSchedule, \\\n",
    "    Scheduled\n",
    "from lib.utils.format import \\\n",
    "    format_day, \\\n",
    "    format_days\n",
    "\n",
    "START_DATE = date.today()\n",
    "\n",
    "print(f'Start Date: {format_day(START_DATE)}')"
   ]
  },
  {
   "cell_type": "markdown",
   "id": "b375883e0aef0abe",
   "metadata": {
    "papermill": {
     "duration": 0.003028,
     "end_time": "2025-08-05T20:43:44.443112",
     "exception": false,
     "start_time": "2025-08-05T20:43:44.440084",
     "status": "completed"
    },
    "tags": []
   },
   "source": [
    "## Primitive schedules\n",
    "\n",
    "The following schedules are the basic building blocks of schedules."
   ]
  },
  {
   "cell_type": "markdown",
   "id": "24b2f20432708dd4",
   "metadata": {
    "papermill": {
     "duration": 0.002691,
     "end_time": "2025-08-05T20:43:44.448925",
     "exception": false,
     "start_time": "2025-08-05T20:43:44.446234",
     "status": "completed"
    },
    "tags": []
   },
   "source": [
    "### NeverSchedule\n",
    "\n",
    "This is a trivial schedule in that it always returns False"
   ]
  },
  {
   "cell_type": "code",
   "execution_count": 2,
   "id": "155acd03e1e6e439",
   "metadata": {
    "ExecuteTime": {
     "end_time": "2025-08-05T17:07:34.598597Z",
     "start_time": "2025-08-05T17:07:34.593920Z"
    },
    "execution": {
     "iopub.execute_input": "2025-08-05T20:43:44.454970Z",
     "iopub.status.busy": "2025-08-05T20:43:44.454697Z",
     "iopub.status.idle": "2025-08-05T20:43:44.458899Z",
     "shell.execute_reply": "2025-08-05T20:43:44.458631Z"
    },
    "papermill": {
     "duration": 0.008143,
     "end_time": "2025-08-05T20:43:44.459708",
     "exception": false,
     "start_time": "2025-08-05T20:43:44.451565",
     "status": "completed"
    },
    "tags": []
   },
   "outputs": [
    {
     "name": "stdout",
     "output_type": "stream",
     "text": [
      "[]\n",
      "Completed: 2025-08-05 : Tue\n"
     ]
    }
   ],
   "source": [
    "days = [START_DATE + timedelta(days=i) for i in range(1000)]\n",
    "days_and_scheduled = [(day, NeverSchedule().check(day)) for day in days]\n",
    "matches = [day for day, scheduled in days_and_scheduled if scheduled.match]\n",
    "completed = next((format_day(day) for day, scheduled in days_and_scheduled if scheduled.complete), 'Not completed')\n",
    "print(format_days(matches))\n",
    "print(f'Completed: {completed}')"
   ]
  },
  {
   "cell_type": "markdown",
   "id": "a6c95b36a4777e3b",
   "metadata": {
    "papermill": {
     "duration": 0.002279,
     "end_time": "2025-08-05T20:43:44.464538",
     "exception": false,
     "start_time": "2025-08-05T20:43:44.462259",
     "status": "completed"
    },
    "tags": []
   },
   "source": [
    "### DailySchedule\n",
    "\n",
    "This is a trivial schedule in that it always returns True"
   ]
  },
  {
   "cell_type": "code",
   "execution_count": 3,
   "id": "143ee0c99bef08f5",
   "metadata": {
    "ExecuteTime": {
     "end_time": "2025-08-05T17:07:34.609286Z",
     "start_time": "2025-08-05T17:07:34.606481Z"
    },
    "execution": {
     "iopub.execute_input": "2025-08-05T20:43:44.469470Z",
     "iopub.status.busy": "2025-08-05T20:43:44.469248Z",
     "iopub.status.idle": "2025-08-05T20:43:44.471861Z",
     "shell.execute_reply": "2025-08-05T20:43:44.471614Z"
    },
    "papermill": {
     "duration": 0.005774,
     "end_time": "2025-08-05T20:43:44.472497",
     "exception": false,
     "start_time": "2025-08-05T20:43:44.466723",
     "status": "completed"
    },
    "tags": []
   },
   "outputs": [
    {
     "name": "stdout",
     "output_type": "stream",
     "text": [
      "[2025-08-05 : Tue\n",
      " 2025-08-06 : Wed\n",
      " 2025-08-07 : Thu\n",
      " 2025-08-08 : Fri\n",
      " 2025-08-09 : Sat\n",
      " 2025-08-10 : Sun\n",
      " 2025-08-11 : Mon\n",
      " 2025-08-12 : Tue\n",
      " 2025-08-13 : Wed\n",
      " 2025-08-14 : Thu]\n",
      "Completed: Not completed\n"
     ]
    }
   ],
   "source": [
    "days = [START_DATE + timedelta(days=i) for i in range(10)]\n",
    "days_and_scheduled = [(day, DailySchedule().check(day)) for day in days]\n",
    "matches = [day for day, scheduled in days_and_scheduled if scheduled.match]\n",
    "completed = next((format_day(day) for day, scheduled in days_and_scheduled if scheduled.complete), 'Not completed')\n",
    "print(format_days(matches))\n",
    "print(f'Completed: {completed}')"
   ]
  },
  {
   "cell_type": "markdown",
   "id": "c881833ea29fbb9f",
   "metadata": {
    "papermill": {
     "duration": 0.002022,
     "end_time": "2025-08-05T20:43:44.476726",
     "exception": false,
     "start_time": "2025-08-05T20:43:44.474704",
     "status": "completed"
    },
    "tags": []
   },
   "source": [
    "### DaySchedule\n",
    "\n",
    "This schedule will only match on the specified day"
   ]
  },
  {
   "cell_type": "code",
   "execution_count": 4,
   "id": "906f3fdcd1986f5e",
   "metadata": {
    "ExecuteTime": {
     "end_time": "2025-08-05T17:07:34.627650Z",
     "start_time": "2025-08-05T17:07:34.620664Z"
    },
    "execution": {
     "iopub.execute_input": "2025-08-05T20:43:44.481061Z",
     "iopub.status.busy": "2025-08-05T20:43:44.480963Z",
     "iopub.status.idle": "2025-08-05T20:43:44.484378Z",
     "shell.execute_reply": "2025-08-05T20:43:44.484145Z"
    },
    "papermill": {
     "duration": 0.006258,
     "end_time": "2025-08-05T20:43:44.485014",
     "exception": false,
     "start_time": "2025-08-05T20:43:44.478756",
     "status": "completed"
    },
    "tags": []
   },
   "outputs": [
    {
     "name": "stdout",
     "output_type": "stream",
     "text": [
      "[2025-09-24 : Wed]\n",
      "Completed: 2025-09-24 : Wed\n"
     ]
    }
   ],
   "source": [
    "days = [START_DATE + timedelta(days=i) for i in range(1000)]\n",
    "days_and_scheduled = [(day, DaySchedule(START_DATE + timedelta(days=50)).check(day)) for day in days]\n",
    "matches = [day for day, scheduled in days_and_scheduled if scheduled.match]\n",
    "completed = next((format_day(day) for day, scheduled in days_and_scheduled if scheduled.complete), 'Not completed')\n",
    "print(format_days(matches))\n",
    "print(f'Completed: {completed}')"
   ]
  },
  {
   "cell_type": "markdown",
   "id": "dacb67fc16fe79cb",
   "metadata": {
    "papermill": {
     "duration": 0.001901,
     "end_time": "2025-08-05T20:43:44.488914",
     "exception": false,
     "start_time": "2025-08-05T20:43:44.487013",
     "status": "completed"
    },
    "tags": []
   },
   "source": [
    "### FromSchedule\n",
    "\n",
    "This schedule will match on all dates after and including the specified day"
   ]
  },
  {
   "cell_type": "code",
   "execution_count": 5,
   "id": "cd1f77cd06a1c4fe",
   "metadata": {
    "ExecuteTime": {
     "end_time": "2025-08-05T17:07:34.649314Z",
     "start_time": "2025-08-05T17:07:34.645739Z"
    },
    "execution": {
     "iopub.execute_input": "2025-08-05T20:43:44.493108Z",
     "iopub.status.busy": "2025-08-05T20:43:44.493009Z",
     "iopub.status.idle": "2025-08-05T20:43:44.495260Z",
     "shell.execute_reply": "2025-08-05T20:43:44.495067Z"
    },
    "papermill": {
     "duration": 0.00493,
     "end_time": "2025-08-05T20:43:44.495860",
     "exception": false,
     "start_time": "2025-08-05T20:43:44.490930",
     "status": "completed"
    },
    "tags": []
   },
   "outputs": [
    {
     "name": "stdout",
     "output_type": "stream",
     "text": [
      "[2025-08-15 : Fri\n",
      " 2025-08-16 : Sat\n",
      " 2025-08-17 : Sun\n",
      " 2025-08-18 : Mon\n",
      " 2025-08-19 : Tue\n",
      " 2025-08-20 : Wed\n",
      " 2025-08-21 : Thu\n",
      " 2025-08-22 : Fri\n",
      " 2025-08-23 : Sat\n",
      " 2025-08-24 : Sun]\n",
      "Completed: Not completed\n"
     ]
    }
   ],
   "source": [
    "days = [START_DATE + timedelta(days=i) for i in range(20)]\n",
    "days_and_scheduled = [(day, FromSchedule(START_DATE + timedelta(days=10)).check(day)) for day in days]\n",
    "matches = [day for day, scheduled in days_and_scheduled if scheduled.match]\n",
    "completed = next((format_day(day) for day, scheduled in days_and_scheduled if scheduled.complete), 'Not completed')\n",
    "print(format_days(matches))\n",
    "print(f'Completed: {completed}')"
   ]
  },
  {
   "cell_type": "markdown",
   "id": "91a29fed9500151c",
   "metadata": {
    "papermill": {
     "duration": 0.001784,
     "end_time": "2025-08-05T20:43:44.499481",
     "exception": false,
     "start_time": "2025-08-05T20:43:44.497697",
     "status": "completed"
    },
    "tags": []
   },
   "source": [
    "### UntilSchedule\n",
    "\n",
    "This schedule will match on all dates up to but not including the specified day"
   ]
  },
  {
   "cell_type": "code",
   "execution_count": 6,
   "id": "3ac26fb8744eb83",
   "metadata": {
    "ExecuteTime": {
     "end_time": "2025-08-05T17:07:34.669565Z",
     "start_time": "2025-08-05T17:07:34.667169Z"
    },
    "execution": {
     "iopub.execute_input": "2025-08-05T20:43:44.503466Z",
     "iopub.status.busy": "2025-08-05T20:43:44.503379Z",
     "iopub.status.idle": "2025-08-05T20:43:44.505478Z",
     "shell.execute_reply": "2025-08-05T20:43:44.505283Z"
    },
    "papermill": {
     "duration": 0.004721,
     "end_time": "2025-08-05T20:43:44.506032",
     "exception": false,
     "start_time": "2025-08-05T20:43:44.501311",
     "status": "completed"
    },
    "tags": []
   },
   "outputs": [
    {
     "name": "stdout",
     "output_type": "stream",
     "text": [
      "[2025-08-05 : Tue\n",
      " 2025-08-06 : Wed\n",
      " 2025-08-07 : Thu\n",
      " 2025-08-08 : Fri\n",
      " 2025-08-09 : Sat\n",
      " 2025-08-10 : Sun\n",
      " 2025-08-11 : Mon\n",
      " 2025-08-12 : Tue\n",
      " 2025-08-13 : Wed\n",
      " 2025-08-14 : Thu]\n",
      "Completed: 2025-08-14 : Thu\n"
     ]
    }
   ],
   "source": [
    "days = [START_DATE + timedelta(days=i) for i in range(20)]\n",
    "days_and_scheduled = [(day, UntilSchedule(START_DATE + timedelta(days=10)).check(day)) for day in days]\n",
    "matches = [day for day, scheduled in days_and_scheduled if scheduled.match]\n",
    "completed = next((format_day(day) for day, scheduled in days_and_scheduled if scheduled.complete), 'Not completed')\n",
    "print(format_days(matches))\n",
    "print(f'Completed: {completed}')"
   ]
  },
  {
   "cell_type": "markdown",
   "id": "6fc05568787e8cdb",
   "metadata": {
    "papermill": {
     "duration": 0.001752,
     "end_time": "2025-08-05T20:43:44.509619",
     "exception": false,
     "start_time": "2025-08-05T20:43:44.507867",
     "status": "completed"
    },
    "tags": []
   },
   "source": [
    "### RangeSchedule\n",
    "\n",
    "This schedule will match on all dates after and including the `from_date` up to but not including\n",
    "the `until_date`"
   ]
  },
  {
   "cell_type": "code",
   "execution_count": 7,
   "id": "22627d6ed8970f75",
   "metadata": {
    "ExecuteTime": {
     "end_time": "2025-08-05T17:07:34.687874Z",
     "start_time": "2025-08-05T17:07:34.684809Z"
    },
    "execution": {
     "iopub.execute_input": "2025-08-05T20:43:44.513754Z",
     "iopub.status.busy": "2025-08-05T20:43:44.513658Z",
     "iopub.status.idle": "2025-08-05T20:43:44.515959Z",
     "shell.execute_reply": "2025-08-05T20:43:44.515694Z"
    },
    "papermill": {
     "duration": 0.005069,
     "end_time": "2025-08-05T20:43:44.516615",
     "exception": false,
     "start_time": "2025-08-05T20:43:44.511546",
     "status": "completed"
    },
    "tags": []
   },
   "outputs": [
    {
     "name": "stdout",
     "output_type": "stream",
     "text": [
      "[2025-08-15 : Fri\n",
      " 2025-08-16 : Sat\n",
      " 2025-08-17 : Sun\n",
      " 2025-08-18 : Mon\n",
      " 2025-08-19 : Tue\n",
      " 2025-08-20 : Wed\n",
      " 2025-08-21 : Thu\n",
      " 2025-08-22 : Fri\n",
      " 2025-08-23 : Sat\n",
      " 2025-08-24 : Sun]\n",
      "Completed: 2025-08-24 : Sun\n"
     ]
    }
   ],
   "source": [
    "days = [START_DATE + timedelta(days=i) for i in range(30)]\n",
    "days_and_scheduled = [(day, RangeSchedule(from_date=START_DATE + timedelta(days=10),\n",
    "                                          until_date=START_DATE + timedelta(days=20)).check(day)) for day in days]\n",
    "matches = [day for day, scheduled in days_and_scheduled if scheduled.match]\n",
    "completed = next((format_day(day) for day, scheduled in days_and_scheduled if scheduled.complete), 'Not completed')\n",
    "print(format_days(matches))\n",
    "print(f'Completed: {completed}')"
   ]
  },
  {
   "cell_type": "markdown",
   "id": "7b9ebdf63a827652",
   "metadata": {
    "papermill": {
     "duration": 0.001781,
     "end_time": "2025-08-05T20:43:44.520535",
     "exception": false,
     "start_time": "2025-08-05T20:43:44.518754",
     "status": "completed"
    },
    "tags": []
   },
   "source": [
    "### WeeklySchedule\n",
    "\n",
    "This schedule will match on the specified day of the week"
   ]
  },
  {
   "cell_type": "code",
   "execution_count": 8,
   "id": "8337dcfb7faf8c47",
   "metadata": {
    "ExecuteTime": {
     "end_time": "2025-08-05T17:07:34.712445Z",
     "start_time": "2025-08-05T17:07:34.707370Z"
    },
    "execution": {
     "iopub.execute_input": "2025-08-05T20:43:44.524648Z",
     "iopub.status.busy": "2025-08-05T20:43:44.524524Z",
     "iopub.status.idle": "2025-08-05T20:43:44.526854Z",
     "shell.execute_reply": "2025-08-05T20:43:44.526621Z"
    },
    "papermill": {
     "duration": 0.005163,
     "end_time": "2025-08-05T20:43:44.527468",
     "exception": false,
     "start_time": "2025-08-05T20:43:44.522305",
     "status": "completed"
    },
    "tags": []
   },
   "outputs": [
    {
     "name": "stdout",
     "output_type": "stream",
     "text": [
      "[2025-08-05 : Tue\n",
      " 2025-08-12 : Tue\n",
      " 2025-08-19 : Tue\n",
      " 2025-08-26 : Tue\n",
      " 2025-09-02 : Tue\n",
      " 2025-09-09 : Tue\n",
      " 2025-09-16 : Tue\n",
      " 2025-09-23 : Tue]\n",
      "Completed: Not completed\n"
     ]
    }
   ],
   "source": [
    "days = [START_DATE + timedelta(days=i) for i in range(50)]\n",
    "days_and_scheduled = [(day, WeeklySchedule(TUESDAY).check(day)) for day in days]\n",
    "matches = [day for day, scheduled in days_and_scheduled if scheduled.match]\n",
    "completed = next((format_day(day) for day, scheduled in days_and_scheduled if scheduled.complete), 'Not completed')\n",
    "print(format_days(matches))\n",
    "print(f'Completed: {completed}')"
   ]
  },
  {
   "cell_type": "markdown",
   "id": "1bddb1513f8eac3c",
   "metadata": {
    "papermill": {
     "duration": 0.001749,
     "end_time": "2025-08-05T20:43:44.531043",
     "exception": false,
     "start_time": "2025-08-05T20:43:44.529294",
     "status": "completed"
    },
    "tags": []
   },
   "source": [
    "### MonthlySchedule\n",
    "\n",
    "This schedule will match on the specified day of the month.\n",
    "\n",
    "> **_NB._** If the current month does not have the specified day (e.g., there is no 30th of February in any year)\n",
    "then the last day of the month will match."
   ]
  },
  {
   "cell_type": "code",
   "execution_count": 9,
   "id": "76f2f172fda2c5b8",
   "metadata": {
    "ExecuteTime": {
     "end_time": "2025-08-05T17:07:34.731401Z",
     "start_time": "2025-08-05T17:07:34.727252Z"
    },
    "execution": {
     "iopub.execute_input": "2025-08-05T20:43:44.535093Z",
     "iopub.status.busy": "2025-08-05T20:43:44.534906Z",
     "iopub.status.idle": "2025-08-05T20:43:44.537866Z",
     "shell.execute_reply": "2025-08-05T20:43:44.537650Z"
    },
    "papermill": {
     "duration": 0.005637,
     "end_time": "2025-08-05T20:43:44.538443",
     "exception": false,
     "start_time": "2025-08-05T20:43:44.532806",
     "status": "completed"
    },
    "tags": []
   },
   "outputs": [
    {
     "name": "stdout",
     "output_type": "stream",
     "text": [
      "[2025-08-30 : Sat\n",
      " 2025-09-30 : Tue\n",
      " 2025-10-30 : Thu\n",
      " 2025-11-30 : Sun\n",
      " 2025-12-30 : Tue\n",
      " 2026-01-30 : Fri\n",
      " 2026-02-28 : Sat\n",
      " 2026-03-30 : Mon\n",
      " 2026-04-30 : Thu\n",
      " 2026-05-30 : Sat\n",
      " 2026-06-30 : Tue\n",
      " 2026-07-30 : Thu\n",
      " 2026-08-30 : Sun\n",
      " 2026-09-30 : Wed\n",
      " 2026-10-30 : Fri\n",
      " 2026-11-30 : Mon]\n",
      "Completed: Not completed\n"
     ]
    }
   ],
   "source": [
    "days = [START_DATE + timedelta(days=i) for i in range(500)]\n",
    "days_and_scheduled = [(day, MonthlySchedule(30).check(day)) for day in days]\n",
    "matches = [day for day, scheduled in days_and_scheduled if scheduled.match]\n",
    "completed = next((format_day(day) for day, scheduled in days_and_scheduled if scheduled.complete), 'Not completed')\n",
    "print(format_days(matches))\n",
    "print(f'Completed: {completed}')"
   ]
  },
  {
   "cell_type": "markdown",
   "id": "fe7200e9208b0cb3",
   "metadata": {
    "papermill": {
     "duration": 0.001799,
     "end_time": "2025-08-05T20:43:44.542152",
     "exception": false,
     "start_time": "2025-08-05T20:43:44.540353",
     "status": "completed"
    },
    "tags": []
   },
   "source": [
    "### YearlySchedule\n",
    "\n",
    "This schedule will match on the specified day of specified month.\n",
    "\n",
    "> **_NB._** If the current month does not have the specified day (e.g., there is no 30th of February in any year)\n",
    "then the last day of the month will match."
   ]
  },
  {
   "cell_type": "code",
   "execution_count": 10,
   "id": "ce50c3ac5cd812ae",
   "metadata": {
    "ExecuteTime": {
     "end_time": "2025-08-05T17:07:34.759481Z",
     "start_time": "2025-08-05T17:07:34.750697Z"
    },
    "execution": {
     "iopub.execute_input": "2025-08-05T20:43:44.546331Z",
     "iopub.status.busy": "2025-08-05T20:43:44.546233Z",
     "iopub.status.idle": "2025-08-05T20:43:44.554062Z",
     "shell.execute_reply": "2025-08-05T20:43:44.553863Z"
    },
    "papermill": {
     "duration": 0.010553,
     "end_time": "2025-08-05T20:43:44.554622",
     "exception": false,
     "start_time": "2025-08-05T20:43:44.544069",
     "status": "completed"
    },
    "tags": []
   },
   "outputs": [
    {
     "name": "stdout",
     "output_type": "stream",
     "text": [
      "[2026-02-28 : Sat\n",
      " 2027-02-28 : Sun\n",
      " 2028-02-29 : Tue\n",
      " 2029-02-28 : Wed\n",
      " 2030-02-28 : Thu\n",
      " 2031-02-28 : Fri\n",
      " 2032-02-29 : Sun\n",
      " 2033-02-28 : Mon\n",
      " 2034-02-28 : Tue\n",
      " 2035-02-28 : Wed\n",
      " 2036-02-29 : Fri\n",
      " 2037-02-28 : Sat\n",
      " 2038-02-28 : Sun\n",
      " 2039-02-28 : Mon]\n",
      "Completed: Not completed\n"
     ]
    }
   ],
   "source": [
    "days = [START_DATE + timedelta(days=i) for i in range(5000)]\n",
    "days_and_scheduled = [(day, YearlySchedule(FEBRUARY, 30).check(day)) for day in days]\n",
    "matches = [day for day, scheduled in days_and_scheduled if scheduled.match]\n",
    "completed = next((format_day(day) for day, scheduled in days_and_scheduled if scheduled.complete), 'Not completed')\n",
    "print(format_days(matches))\n",
    "print(f'Completed: {completed}')"
   ]
  },
  {
   "cell_type": "markdown",
   "id": "231710f92f799dfa",
   "metadata": {
    "papermill": {
     "duration": 0.001792,
     "end_time": "2025-08-05T20:43:44.558311",
     "exception": false,
     "start_time": "2025-08-05T20:43:44.556519",
     "status": "completed"
    },
    "tags": []
   },
   "source": [
    "### FilterSchedule\n",
    "\n",
    "This is a generic schedule that takes a callback function that will be used to check the supplied date"
   ]
  },
  {
   "cell_type": "code",
   "execution_count": 11,
   "id": "e8e7d0477ac7deb1",
   "metadata": {
    "ExecuteTime": {
     "end_time": "2025-08-05T17:07:34.771903Z",
     "start_time": "2025-08-05T17:07:34.768227Z"
    },
    "execution": {
     "iopub.execute_input": "2025-08-05T20:43:44.562403Z",
     "iopub.status.busy": "2025-08-05T20:43:44.562308Z",
     "iopub.status.idle": "2025-08-05T20:43:44.564672Z",
     "shell.execute_reply": "2025-08-05T20:43:44.564464Z"
    },
    "papermill": {
     "duration": 0.005104,
     "end_time": "2025-08-05T20:43:44.565288",
     "exception": false,
     "start_time": "2025-08-05T20:43:44.560184",
     "status": "completed"
    },
    "tags": []
   },
   "outputs": [
    {
     "name": "stdout",
     "output_type": "stream",
     "text": [
      "[2025-08-05 : Tue\n",
      " 2025-08-06 : Wed\n",
      " 2025-08-07 : Thu\n",
      " 2025-08-08 : Fri\n",
      " 2025-08-11 : Mon\n",
      " 2025-08-12 : Tue\n",
      " 2025-08-13 : Wed\n",
      " 2025-08-14 : Thu\n",
      " 2025-08-15 : Fri\n",
      " 2025-08-18 : Mon\n",
      " 2025-08-19 : Tue\n",
      " 2025-08-20 : Wed\n",
      " 2025-08-21 : Thu\n",
      " 2025-08-22 : Fri]\n",
      "Completed: Not completed\n"
     ]
    }
   ],
   "source": [
    "days = [START_DATE + timedelta(days=i) for i in range(20)]\n",
    "\n",
    "\n",
    "def filter_func(current_date: date) -> Scheduled:\n",
    "    return Scheduled(match=current_date.weekday() < SATURDAY,\n",
    "                     complete=False)\n",
    "\n",
    "\n",
    "days_and_scheduled = [(day, FilterSchedule(filter_func).check(day)) for day in days]\n",
    "matches = [day for day, scheduled in days_and_scheduled if scheduled.match]\n",
    "completed = next((format_day(day) for day, scheduled in days_and_scheduled if scheduled.complete), 'Not completed')\n",
    "print(format_days(matches))\n",
    "print(f'Completed: {completed}')"
   ]
  },
  {
   "cell_type": "markdown",
   "id": "7045591371c57f8d",
   "metadata": {
    "papermill": {
     "duration": 0.001922,
     "end_time": "2025-08-05T20:43:44.569173",
     "exception": false,
     "start_time": "2025-08-05T20:43:44.567251",
     "status": "completed"
    },
    "tags": []
   },
   "source": [
    "## Schedule operators\n",
    "\n",
    "The following schedules take other schedules and apply an operator to them."
   ]
  },
  {
   "cell_type": "markdown",
   "id": "d2caa297c71f9604",
   "metadata": {
    "papermill": {
     "duration": 0.001808,
     "end_time": "2025-08-05T20:43:44.572844",
     "exception": false,
     "start_time": "2025-08-05T20:43:44.571036",
     "status": "completed"
    },
    "tags": []
   },
   "source": [
    "### AnySchedule\n",
    "\n",
    "This represents a boolean `OR` operator for schedules. If any of the child schedules match the current date,\n",
    "then this schedule will match.\n",
    "\n",
    "For example, to get a quarterly schedule, you could create four Yearly schedules and Any them together."
   ]
  },
  {
   "cell_type": "code",
   "execution_count": 12,
   "id": "5afc9afcab53a588",
   "metadata": {
    "ExecuteTime": {
     "end_time": "2025-08-05T17:07:34.793854Z",
     "start_time": "2025-08-05T17:07:34.781619Z"
    },
    "execution": {
     "iopub.execute_input": "2025-08-05T20:43:44.576886Z",
     "iopub.status.busy": "2025-08-05T20:43:44.576789Z",
     "iopub.status.idle": "2025-08-05T20:43:44.583667Z",
     "shell.execute_reply": "2025-08-05T20:43:44.583458Z"
    },
    "papermill": {
     "duration": 0.009689,
     "end_time": "2025-08-05T20:43:44.584312",
     "exception": false,
     "start_time": "2025-08-05T20:43:44.574623",
     "status": "completed"
    },
    "tags": []
   },
   "outputs": [
    {
     "name": "stdout",
     "output_type": "stream",
     "text": [
      "[2025-10-01 : Wed\n",
      " 2026-01-01 : Thu\n",
      " 2026-04-01 : Wed\n",
      " 2026-07-01 : Wed\n",
      " 2026-10-01 : Thu\n",
      " 2027-01-01 : Fri\n",
      " 2027-04-01 : Thu\n",
      " 2027-07-01 : Thu\n",
      " 2027-10-01 : Fri\n",
      " 2028-01-01 : Sat\n",
      " 2028-04-01 : Sat]\n",
      "Completed: Not completed\n"
     ]
    }
   ],
   "source": [
    "days = [START_DATE + timedelta(days=i) for i in range(1000)]\n",
    "days_and_scheduled = [(day, AnySchedule((YearlySchedule(JANUARY, 1),\n",
    "                                         YearlySchedule(APRIL, 1),\n",
    "                                         YearlySchedule(JULY, 1),\n",
    "                                         YearlySchedule(OCTOBER, 1))).check(day)) for day in days]\n",
    "matches = [day for day, scheduled in days_and_scheduled if scheduled.match]\n",
    "completed = next((format_day(day) for day, scheduled in days_and_scheduled if scheduled.complete), 'Not completed')\n",
    "print(format_days(matches))\n",
    "print(f'Completed: {completed}')"
   ]
  },
  {
   "cell_type": "markdown",
   "id": "b31fae2015c167c3",
   "metadata": {
    "papermill": {
     "duration": 0.001852,
     "end_time": "2025-08-05T20:43:44.588159",
     "exception": false,
     "start_time": "2025-08-05T20:43:44.586307",
     "status": "completed"
    },
    "tags": []
   },
   "source": [
    "### AllSchedule\n",
    "\n",
    "This represents a boolean `AND` operator for schedules. Only if all the child schedules match the current date,\n",
    "will this schedule match.\n",
    "\n",
    "For example, to get a weekly schedule but only until a certain date."
   ]
  },
  {
   "cell_type": "code",
   "execution_count": 13,
   "id": "98f5ebc725d6e6dc",
   "metadata": {
    "ExecuteTime": {
     "end_time": "2025-08-05T17:07:34.814426Z",
     "start_time": "2025-08-05T17:07:34.809785Z"
    },
    "execution": {
     "iopub.execute_input": "2025-08-05T20:43:44.592217Z",
     "iopub.status.busy": "2025-08-05T20:43:44.592123Z",
     "iopub.status.idle": "2025-08-05T20:43:44.594468Z",
     "shell.execute_reply": "2025-08-05T20:43:44.594266Z"
    },
    "papermill": {
     "duration": 0.005037,
     "end_time": "2025-08-05T20:43:44.595025",
     "exception": false,
     "start_time": "2025-08-05T20:43:44.589988",
     "status": "completed"
    },
    "tags": []
   },
   "outputs": [
    {
     "name": "stdout",
     "output_type": "stream",
     "text": [
      "[2025-08-05 : Tue\n",
      " 2025-08-12 : Tue\n",
      " 2025-08-19 : Tue\n",
      " 2025-08-26 : Tue\n",
      " 2025-09-02 : Tue]\n",
      "Completed: 2025-09-03 : Wed\n"
     ]
    }
   ],
   "source": [
    "days = [START_DATE + timedelta(days=i) for i in range(50)]\n",
    "days_and_scheduled = [(day, AllSchedule((WeeklySchedule(TUESDAY),\n",
    "                                         UntilSchedule(START_DATE + timedelta(days=30)))).check(day)) for day in days]\n",
    "matches = [day for day, scheduled in days_and_scheduled if scheduled.match]\n",
    "completed = next((format_day(day) for day, scheduled in days_and_scheduled if scheduled.complete), 'Not completed')\n",
    "print(format_days(matches))\n",
    "print(f'Completed: {completed}')"
   ]
  }
 ],
 "metadata": {
  "kernelspec": {
   "display_name": "Python 3",
   "language": "python",
   "name": "python3"
  },
  "language_info": {
   "codemirror_mode": {
    "name": "ipython",
    "version": 3
   },
   "file_extension": ".py",
   "mimetype": "text/x-python",
   "name": "python",
   "nbconvert_exporter": "python",
   "pygments_lexer": "ipython3",
   "version": "3.12.11"
  },
  "papermill": {
   "default_parameters": {},
   "duration": 1.163112,
   "end_time": "2025-08-05T20:43:44.711830",
   "environment_variables": {},
   "exception": null,
   "input_path": "./lib/schedules/README.ipynb",
   "output_path": "./lib/schedules/README.ipynb",
   "parameters": {},
   "start_time": "2025-08-05T20:43:43.548718",
   "version": "2.6.0"
  }
 },
 "nbformat": 4,
 "nbformat_minor": 5
}