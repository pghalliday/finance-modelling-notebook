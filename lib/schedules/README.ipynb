{
 "cells": [
  {
   "cell_type": "markdown",
   "id": "86d255fd9c1132ac",
   "metadata": {
    "papermill": {
     "duration": 0.010713,
     "end_time": "2025-08-05T10:46:37.701200",
     "exception": false,
     "start_time": "2025-08-05T10:46:37.690487",
     "status": "completed"
    },
    "tags": []
   },
   "source": [
    "# Schedules\n",
    "\n",
    "A collection of schedule implementations that will take the current date and check if that day\n",
    "is in the schedule."
   ]
  },
  {
   "cell_type": "code",
   "execution_count": 1,
   "id": "20836eec6dbb9973",
   "metadata": {
    "ExecuteTime": {
     "end_time": "2025-08-04T17:35:08.245515Z",
     "start_time": "2025-08-04T17:35:08.238391Z"
    },
    "execution": {
     "iopub.execute_input": "2025-08-05T10:46:37.713948Z",
     "iopub.status.busy": "2025-08-05T10:46:37.713478Z",
     "iopub.status.idle": "2025-08-05T10:46:37.731322Z",
     "shell.execute_reply": "2025-08-05T10:46:37.730884Z"
    },
    "papermill": {
     "duration": 0.025362,
     "end_time": "2025-08-05T10:46:37.732671",
     "exception": false,
     "start_time": "2025-08-05T10:46:37.707309",
     "status": "completed"
    },
    "tags": []
   },
   "outputs": [
    {
     "name": "stdout",
     "output_type": "stream",
     "text": [
      "Start Date: 2025-08-05 : Tue\n"
     ]
    }
   ],
   "source": [
    "from calendar import TUESDAY, SATURDAY, JANUARY, FEBRUARY, APRIL, JULY, OCTOBER\n",
    "from datetime import date, timedelta\n",
    "\n",
    "from lib.schedules import \\\n",
    "    NeverSchedule, \\\n",
    "    DailySchedule, \\\n",
    "    DaySchedule, \\\n",
    "    FromSchedule, \\\n",
    "    UntilSchedule, \\\n",
    "    RangeSchedule, \\\n",
    "    WeeklySchedule, \\\n",
    "    MonthlySchedule, \\\n",
    "    YearlySchedule, \\\n",
    "    FilterSchedule, \\\n",
    "    AnySchedule, \\\n",
    "    AllSchedule\n",
    "from lib.utils.format import \\\n",
    "    format_day, \\\n",
    "    format_days\n",
    "\n",
    "START_DATE = date.today()\n",
    "\n",
    "print(f'Start Date: {format_day(START_DATE)}')"
   ]
  },
  {
   "cell_type": "markdown",
   "id": "b375883e0aef0abe",
   "metadata": {
    "papermill": {
     "duration": 0.003737,
     "end_time": "2025-08-05T10:46:37.739829",
     "exception": false,
     "start_time": "2025-08-05T10:46:37.736092",
     "status": "completed"
    },
    "tags": []
   },
   "source": [
    "## Primitive schedules\n",
    "\n",
    "The following schedules are the basic building blocks of schedules."
   ]
  },
  {
   "cell_type": "markdown",
   "id": "24b2f20432708dd4",
   "metadata": {
    "papermill": {
     "duration": 0.002519,
     "end_time": "2025-08-05T10:46:37.745121",
     "exception": false,
     "start_time": "2025-08-05T10:46:37.742602",
     "status": "completed"
    },
    "tags": []
   },
   "source": [
    "### NeverSchedule\n",
    "\n",
    "This is a trivial schedule in that it always returns False"
   ]
  },
  {
   "cell_type": "code",
   "execution_count": 2,
   "id": "155acd03e1e6e439",
   "metadata": {
    "ExecuteTime": {
     "end_time": "2025-08-04T17:35:08.276928Z",
     "start_time": "2025-08-04T17:35:08.272926Z"
    },
    "execution": {
     "iopub.execute_input": "2025-08-05T10:46:37.751077Z",
     "iopub.status.busy": "2025-08-05T10:46:37.750897Z",
     "iopub.status.idle": "2025-08-05T10:46:37.753741Z",
     "shell.execute_reply": "2025-08-05T10:46:37.753442Z"
    },
    "papermill": {
     "duration": 0.006854,
     "end_time": "2025-08-05T10:46:37.754547",
     "exception": false,
     "start_time": "2025-08-05T10:46:37.747693",
     "status": "completed"
    },
    "tags": []
   },
   "outputs": [
    {
     "name": "stdout",
     "output_type": "stream",
     "text": [
      "[]\n"
     ]
    }
   ],
   "source": [
    "days = [START_DATE + timedelta(days=i) for i in range(1000)]\n",
    "matches = filter(NeverSchedule().check, days)\n",
    "print(format_days(matches))"
   ]
  },
  {
   "cell_type": "markdown",
   "id": "a6c95b36a4777e3b",
   "metadata": {
    "papermill": {
     "duration": 0.002358,
     "end_time": "2025-08-05T10:46:37.759646",
     "exception": false,
     "start_time": "2025-08-05T10:46:37.757288",
     "status": "completed"
    },
    "tags": []
   },
   "source": [
    "### DailySchedule\n",
    "\n",
    "This is a trivial schedule in that it always returns True"
   ]
  },
  {
   "cell_type": "code",
   "execution_count": 3,
   "id": "143ee0c99bef08f5",
   "metadata": {
    "ExecuteTime": {
     "end_time": "2025-08-04T17:35:08.306521Z",
     "start_time": "2025-08-04T17:35:08.303620Z"
    },
    "execution": {
     "iopub.execute_input": "2025-08-05T10:46:37.764704Z",
     "iopub.status.busy": "2025-08-05T10:46:37.764456Z",
     "iopub.status.idle": "2025-08-05T10:46:37.766795Z",
     "shell.execute_reply": "2025-08-05T10:46:37.766504Z"
    },
    "papermill": {
     "duration": 0.005661,
     "end_time": "2025-08-05T10:46:37.767510",
     "exception": false,
     "start_time": "2025-08-05T10:46:37.761849",
     "status": "completed"
    },
    "tags": []
   },
   "outputs": [
    {
     "name": "stdout",
     "output_type": "stream",
     "text": [
      "[2025-08-05 : Tue\n",
      " 2025-08-06 : Wed\n",
      " 2025-08-07 : Thu\n",
      " 2025-08-08 : Fri\n",
      " 2025-08-09 : Sat\n",
      " 2025-08-10 : Sun\n",
      " 2025-08-11 : Mon\n",
      " 2025-08-12 : Tue\n",
      " 2025-08-13 : Wed\n",
      " 2025-08-14 : Thu]\n"
     ]
    }
   ],
   "source": [
    "days = [START_DATE + timedelta(days=i) for i in range(10)]\n",
    "matches = filter(DailySchedule().check, days)\n",
    "print(format_days(matches))"
   ]
  },
  {
   "cell_type": "markdown",
   "id": "c881833ea29fbb9f",
   "metadata": {
    "papermill": {
     "duration": 0.00204,
     "end_time": "2025-08-05T10:46:37.771746",
     "exception": false,
     "start_time": "2025-08-05T10:46:37.769706",
     "status": "completed"
    },
    "tags": []
   },
   "source": [
    "### DaySchedule\n",
    "\n",
    "This schedule will only match on the specified day"
   ]
  },
  {
   "cell_type": "code",
   "execution_count": 4,
   "id": "906f3fdcd1986f5e",
   "metadata": {
    "ExecuteTime": {
     "end_time": "2025-08-04T17:35:08.325710Z",
     "start_time": "2025-08-04T17:35:08.321285Z"
    },
    "execution": {
     "iopub.execute_input": "2025-08-05T10:46:37.776232Z",
     "iopub.status.busy": "2025-08-05T10:46:37.776115Z",
     "iopub.status.idle": "2025-08-05T10:46:37.778446Z",
     "shell.execute_reply": "2025-08-05T10:46:37.778215Z"
    },
    "papermill": {
     "duration": 0.005283,
     "end_time": "2025-08-05T10:46:37.779120",
     "exception": false,
     "start_time": "2025-08-05T10:46:37.773837",
     "status": "completed"
    },
    "tags": []
   },
   "outputs": [
    {
     "name": "stdout",
     "output_type": "stream",
     "text": [
      "[2025-09-24 : Wed]\n"
     ]
    }
   ],
   "source": [
    "days = [START_DATE + timedelta(days=i) for i in range(1000)]\n",
    "matches = filter(DaySchedule(START_DATE + timedelta(days=50)).check, days)\n",
    "print(format_days(matches))"
   ]
  },
  {
   "cell_type": "markdown",
   "id": "dacb67fc16fe79cb",
   "metadata": {
    "papermill": {
     "duration": 0.001872,
     "end_time": "2025-08-05T10:46:37.782943",
     "exception": false,
     "start_time": "2025-08-05T10:46:37.781071",
     "status": "completed"
    },
    "tags": []
   },
   "source": [
    "### FromSchedule\n",
    "\n",
    "This schedule will match on all dates after and including the specified day"
   ]
  },
  {
   "cell_type": "code",
   "execution_count": 5,
   "id": "cd1f77cd06a1c4fe",
   "metadata": {
    "ExecuteTime": {
     "end_time": "2025-08-04T17:35:08.344938Z",
     "start_time": "2025-08-04T17:35:08.341804Z"
    },
    "execution": {
     "iopub.execute_input": "2025-08-05T10:46:37.787226Z",
     "iopub.status.busy": "2025-08-05T10:46:37.787058Z",
     "iopub.status.idle": "2025-08-05T10:46:37.788898Z",
     "shell.execute_reply": "2025-08-05T10:46:37.788688Z"
    },
    "papermill": {
     "duration": 0.004467,
     "end_time": "2025-08-05T10:46:37.789513",
     "exception": false,
     "start_time": "2025-08-05T10:46:37.785046",
     "status": "completed"
    },
    "tags": []
   },
   "outputs": [
    {
     "name": "stdout",
     "output_type": "stream",
     "text": [
      "[2025-08-15 : Fri\n",
      " 2025-08-16 : Sat\n",
      " 2025-08-17 : Sun\n",
      " 2025-08-18 : Mon\n",
      " 2025-08-19 : Tue\n",
      " 2025-08-20 : Wed\n",
      " 2025-08-21 : Thu\n",
      " 2025-08-22 : Fri\n",
      " 2025-08-23 : Sat\n",
      " 2025-08-24 : Sun]\n"
     ]
    }
   ],
   "source": [
    "days = [START_DATE + timedelta(days=i) for i in range(20)]\n",
    "matches = filter(FromSchedule(START_DATE + timedelta(days=10)).check, days)\n",
    "print(format_days(matches))"
   ]
  },
  {
   "cell_type": "markdown",
   "id": "91a29fed9500151c",
   "metadata": {
    "papermill": {
     "duration": 0.001773,
     "end_time": "2025-08-05T10:46:37.793184",
     "exception": false,
     "start_time": "2025-08-05T10:46:37.791411",
     "status": "completed"
    },
    "tags": []
   },
   "source": [
    "### UntilSchedule\n",
    "\n",
    "This schedule will match on all dates up to but not including the specified day"
   ]
  },
  {
   "cell_type": "code",
   "execution_count": 6,
   "id": "3ac26fb8744eb83",
   "metadata": {
    "ExecuteTime": {
     "end_time": "2025-08-04T17:35:08.370226Z",
     "start_time": "2025-08-04T17:35:08.367096Z"
    },
    "execution": {
     "iopub.execute_input": "2025-08-05T10:46:37.797438Z",
     "iopub.status.busy": "2025-08-05T10:46:37.797322Z",
     "iopub.status.idle": "2025-08-05T10:46:37.799305Z",
     "shell.execute_reply": "2025-08-05T10:46:37.799076Z"
    },
    "papermill": {
     "duration": 0.004929,
     "end_time": "2025-08-05T10:46:37.799973",
     "exception": false,
     "start_time": "2025-08-05T10:46:37.795044",
     "status": "completed"
    },
    "tags": []
   },
   "outputs": [
    {
     "name": "stdout",
     "output_type": "stream",
     "text": [
      "[2025-08-05 : Tue\n",
      " 2025-08-06 : Wed\n",
      " 2025-08-07 : Thu\n",
      " 2025-08-08 : Fri\n",
      " 2025-08-09 : Sat\n",
      " 2025-08-10 : Sun\n",
      " 2025-08-11 : Mon\n",
      " 2025-08-12 : Tue\n",
      " 2025-08-13 : Wed\n",
      " 2025-08-14 : Thu]\n"
     ]
    }
   ],
   "source": [
    "days = [START_DATE + timedelta(days=i) for i in range(20)]\n",
    "matches = filter(UntilSchedule(START_DATE + timedelta(days=10)).check, days)\n",
    "print(format_days(matches))"
   ]
  },
  {
   "cell_type": "markdown",
   "id": "6fc05568787e8cdb",
   "metadata": {
    "papermill": {
     "duration": 0.001839,
     "end_time": "2025-08-05T10:46:37.803990",
     "exception": false,
     "start_time": "2025-08-05T10:46:37.802151",
     "status": "completed"
    },
    "tags": []
   },
   "source": [
    "### RangeSchedule\n",
    "\n",
    "This schedule will match on all dates after and including the `from_date` up to but not including\n",
    "the `until_date`"
   ]
  },
  {
   "cell_type": "code",
   "execution_count": 7,
   "id": "22627d6ed8970f75",
   "metadata": {
    "ExecuteTime": {
     "end_time": "2025-08-04T17:35:08.390645Z",
     "start_time": "2025-08-04T17:35:08.387678Z"
    },
    "execution": {
     "iopub.execute_input": "2025-08-05T10:46:37.808126Z",
     "iopub.status.busy": "2025-08-05T10:46:37.808006Z",
     "iopub.status.idle": "2025-08-05T10:46:37.810067Z",
     "shell.execute_reply": "2025-08-05T10:46:37.809857Z"
    },
    "papermill": {
     "duration": 0.004811,
     "end_time": "2025-08-05T10:46:37.810648",
     "exception": false,
     "start_time": "2025-08-05T10:46:37.805837",
     "status": "completed"
    },
    "tags": []
   },
   "outputs": [
    {
     "name": "stdout",
     "output_type": "stream",
     "text": [
      "[2025-08-15 : Fri\n",
      " 2025-08-16 : Sat\n",
      " 2025-08-17 : Sun\n",
      " 2025-08-18 : Mon\n",
      " 2025-08-19 : Tue\n",
      " 2025-08-20 : Wed\n",
      " 2025-08-21 : Thu\n",
      " 2025-08-22 : Fri\n",
      " 2025-08-23 : Sat\n",
      " 2025-08-24 : Sun]\n"
     ]
    }
   ],
   "source": [
    "days = [START_DATE + timedelta(days=i) for i in range(30)]\n",
    "matches = filter(RangeSchedule(from_date=START_DATE + timedelta(days=10),\n",
    "                               until_date=START_DATE + timedelta(days=20)).check, days)\n",
    "print(format_days(matches))"
   ]
  },
  {
   "cell_type": "markdown",
   "id": "7b9ebdf63a827652",
   "metadata": {
    "papermill": {
     "duration": 0.001836,
     "end_time": "2025-08-05T10:46:37.814479",
     "exception": false,
     "start_time": "2025-08-05T10:46:37.812643",
     "status": "completed"
    },
    "tags": []
   },
   "source": [
    "### WeeklySchedule\n",
    "\n",
    "This schedule will match on the specified day of the week"
   ]
  },
  {
   "cell_type": "code",
   "execution_count": 8,
   "id": "8337dcfb7faf8c47",
   "metadata": {
    "ExecuteTime": {
     "end_time": "2025-08-04T17:35:08.410235Z",
     "start_time": "2025-08-04T17:35:08.406463Z"
    },
    "execution": {
     "iopub.execute_input": "2025-08-05T10:46:37.818590Z",
     "iopub.status.busy": "2025-08-05T10:46:37.818486Z",
     "iopub.status.idle": "2025-08-05T10:46:37.820381Z",
     "shell.execute_reply": "2025-08-05T10:46:37.820171Z"
    },
    "papermill": {
     "duration": 0.004657,
     "end_time": "2025-08-05T10:46:37.820983",
     "exception": false,
     "start_time": "2025-08-05T10:46:37.816326",
     "status": "completed"
    },
    "tags": []
   },
   "outputs": [
    {
     "name": "stdout",
     "output_type": "stream",
     "text": [
      "[2025-08-05 : Tue\n",
      " 2025-08-12 : Tue\n",
      " 2025-08-19 : Tue\n",
      " 2025-08-26 : Tue\n",
      " 2025-09-02 : Tue\n",
      " 2025-09-09 : Tue\n",
      " 2025-09-16 : Tue\n",
      " 2025-09-23 : Tue]\n"
     ]
    }
   ],
   "source": [
    "days = [START_DATE + timedelta(days=i) for i in range(50)]\n",
    "matches = filter(WeeklySchedule(TUESDAY).check, days)\n",
    "print(format_days(matches))"
   ]
  },
  {
   "cell_type": "markdown",
   "id": "1bddb1513f8eac3c",
   "metadata": {
    "papermill": {
     "duration": 0.002059,
     "end_time": "2025-08-05T10:46:37.825049",
     "exception": false,
     "start_time": "2025-08-05T10:46:37.822990",
     "status": "completed"
    },
    "tags": []
   },
   "source": [
    "### MonthlySchedule\n",
    "\n",
    "This schedule will match on the specified day of the month.\n",
    "\n",
    "> **_NB._** If the current month does not have the specified day (e.g., there is no 30th of February in any year)\n",
    "then the last day of the month will match."
   ]
  },
  {
   "cell_type": "code",
   "execution_count": 9,
   "id": "76f2f172fda2c5b8",
   "metadata": {
    "ExecuteTime": {
     "end_time": "2025-08-04T17:35:08.430939Z",
     "start_time": "2025-08-04T17:35:08.427205Z"
    },
    "execution": {
     "iopub.execute_input": "2025-08-05T10:46:37.829560Z",
     "iopub.status.busy": "2025-08-05T10:46:37.829431Z",
     "iopub.status.idle": "2025-08-05T10:46:37.831851Z",
     "shell.execute_reply": "2025-08-05T10:46:37.831614Z"
    },
    "papermill": {
     "duration": 0.005421,
     "end_time": "2025-08-05T10:46:37.832517",
     "exception": false,
     "start_time": "2025-08-05T10:46:37.827096",
     "status": "completed"
    },
    "tags": []
   },
   "outputs": [
    {
     "name": "stdout",
     "output_type": "stream",
     "text": [
      "[2025-08-30 : Sat\n",
      " 2025-09-30 : Tue\n",
      " 2025-10-30 : Thu\n",
      " 2025-11-30 : Sun\n",
      " 2025-12-30 : Tue\n",
      " 2026-01-30 : Fri\n",
      " 2026-02-28 : Sat\n",
      " 2026-03-30 : Mon\n",
      " 2026-04-30 : Thu\n",
      " 2026-05-30 : Sat\n",
      " 2026-06-30 : Tue\n",
      " 2026-07-30 : Thu\n",
      " 2026-08-30 : Sun\n",
      " 2026-09-30 : Wed\n",
      " 2026-10-30 : Fri\n",
      " 2026-11-30 : Mon]\n"
     ]
    }
   ],
   "source": [
    "days = [START_DATE + timedelta(days=i) for i in range(500)]\n",
    "matches = filter(MonthlySchedule(30).check, days)\n",
    "print(format_days(matches))"
   ]
  },
  {
   "cell_type": "markdown",
   "id": "fe7200e9208b0cb3",
   "metadata": {
    "papermill": {
     "duration": 0.001909,
     "end_time": "2025-08-05T10:46:37.836646",
     "exception": false,
     "start_time": "2025-08-05T10:46:37.834737",
     "status": "completed"
    },
    "tags": []
   },
   "source": [
    "### YearlySchedule\n",
    "\n",
    "This schedule will match on the specified day of specified month.\n",
    "\n",
    "> **_NB._** If the current month does not have the specified day (e.g., there is no 30th of February in any year)\n",
    "then the last day of the month will match."
   ]
  },
  {
   "cell_type": "code",
   "execution_count": 10,
   "id": "ce50c3ac5cd812ae",
   "metadata": {
    "ExecuteTime": {
     "end_time": "2025-08-04T17:35:08.474324Z",
     "start_time": "2025-08-04T17:35:08.451428Z"
    },
    "execution": {
     "iopub.execute_input": "2025-08-05T10:46:37.841078Z",
     "iopub.status.busy": "2025-08-05T10:46:37.840944Z",
     "iopub.status.idle": "2025-08-05T10:46:37.845028Z",
     "shell.execute_reply": "2025-08-05T10:46:37.844806Z"
    },
    "papermill": {
     "duration": 0.007125,
     "end_time": "2025-08-05T10:46:37.845679",
     "exception": false,
     "start_time": "2025-08-05T10:46:37.838554",
     "status": "completed"
    },
    "tags": []
   },
   "outputs": [
    {
     "name": "stdout",
     "output_type": "stream",
     "text": [
      "[2026-02-28 : Sat\n",
      " 2027-02-28 : Sun\n",
      " 2028-02-29 : Tue\n",
      " 2029-02-28 : Wed\n",
      " 2030-02-28 : Thu\n",
      " 2031-02-28 : Fri\n",
      " 2032-02-29 : Sun\n",
      " 2033-02-28 : Mon\n",
      " 2034-02-28 : Tue\n",
      " 2035-02-28 : Wed\n",
      " 2036-02-29 : Fri\n",
      " 2037-02-28 : Sat\n",
      " 2038-02-28 : Sun\n",
      " 2039-02-28 : Mon]\n"
     ]
    }
   ],
   "source": [
    "days = [START_DATE + timedelta(days=i) for i in range(5000)]\n",
    "matches = filter(YearlySchedule(FEBRUARY, 30).check, days)\n",
    "print(format_days(matches))"
   ]
  },
  {
   "cell_type": "markdown",
   "id": "231710f92f799dfa",
   "metadata": {
    "papermill": {
     "duration": 0.001945,
     "end_time": "2025-08-05T10:46:37.850295",
     "exception": false,
     "start_time": "2025-08-05T10:46:37.848350",
     "status": "completed"
    },
    "tags": []
   },
   "source": [
    "### FilterSchedule\n",
    "\n",
    "This is a generic schedule that takes a callback function that will be used to check the supplied date"
   ]
  },
  {
   "cell_type": "code",
   "execution_count": 11,
   "id": "e8e7d0477ac7deb1",
   "metadata": {
    "ExecuteTime": {
     "end_time": "2025-08-04T17:35:08.500729Z",
     "start_time": "2025-08-04T17:35:08.497464Z"
    },
    "execution": {
     "iopub.execute_input": "2025-08-05T10:46:37.854877Z",
     "iopub.status.busy": "2025-08-05T10:46:37.854761Z",
     "iopub.status.idle": "2025-08-05T10:46:37.856912Z",
     "shell.execute_reply": "2025-08-05T10:46:37.856679Z"
    },
    "papermill": {
     "duration": 0.005179,
     "end_time": "2025-08-05T10:46:37.857557",
     "exception": false,
     "start_time": "2025-08-05T10:46:37.852378",
     "status": "completed"
    },
    "tags": []
   },
   "outputs": [
    {
     "name": "stdout",
     "output_type": "stream",
     "text": [
      "[2025-08-05 : Tue\n",
      " 2025-08-06 : Wed\n",
      " 2025-08-07 : Thu\n",
      " 2025-08-08 : Fri\n",
      " 2025-08-11 : Mon\n",
      " 2025-08-12 : Tue\n",
      " 2025-08-13 : Wed\n",
      " 2025-08-14 : Thu\n",
      " 2025-08-15 : Fri\n",
      " 2025-08-18 : Mon\n",
      " 2025-08-19 : Tue\n",
      " 2025-08-20 : Wed\n",
      " 2025-08-21 : Thu\n",
      " 2025-08-22 : Fri]\n"
     ]
    }
   ],
   "source": [
    "days = [START_DATE + timedelta(days=i) for i in range(20)]\n",
    "\n",
    "\n",
    "def filter_func(current_date: date) -> bool:\n",
    "    return current_date.weekday() < SATURDAY\n",
    "\n",
    "\n",
    "matches = filter(FilterSchedule(filter_func).check, days)\n",
    "print(format_days(matches))"
   ]
  },
  {
   "cell_type": "markdown",
   "id": "7045591371c57f8d",
   "metadata": {
    "papermill": {
     "duration": 0.002055,
     "end_time": "2025-08-05T10:46:37.861729",
     "exception": false,
     "start_time": "2025-08-05T10:46:37.859674",
     "status": "completed"
    },
    "tags": []
   },
   "source": [
    "## Schedule operators\n",
    "\n",
    "The following schedules take other schedules and apply an operator to them."
   ]
  },
  {
   "cell_type": "markdown",
   "id": "d2caa297c71f9604",
   "metadata": {
    "papermill": {
     "duration": 0.001928,
     "end_time": "2025-08-05T10:46:37.865684",
     "exception": false,
     "start_time": "2025-08-05T10:46:37.863756",
     "status": "completed"
    },
    "tags": []
   },
   "source": [
    "### AnySchedule\n",
    "\n",
    "This represents a boolean `OR` operator for schedules. If any of the child schedules match the current date,\n",
    "then this schedule will match.\n",
    "\n",
    "For example, to get a quarterly schedule, you could create four Yearly schedules and Any them together."
   ]
  },
  {
   "cell_type": "code",
   "execution_count": 12,
   "id": "71f905ff00962efe",
   "metadata": {
    "ExecuteTime": {
     "end_time": "2025-08-04T17:35:08.518159Z",
     "start_time": "2025-08-04T17:35:08.513094Z"
    },
    "execution": {
     "iopub.execute_input": "2025-08-05T10:46:37.870514Z",
     "iopub.status.busy": "2025-08-05T10:46:37.870368Z",
     "iopub.status.idle": "2025-08-05T10:46:37.873564Z",
     "shell.execute_reply": "2025-08-05T10:46:37.873256Z"
    },
    "papermill": {
     "duration": 0.006518,
     "end_time": "2025-08-05T10:46:37.874235",
     "exception": false,
     "start_time": "2025-08-05T10:46:37.867717",
     "status": "completed"
    },
    "tags": []
   },
   "outputs": [
    {
     "name": "stdout",
     "output_type": "stream",
     "text": [
      "[2025-10-01 : Wed\n",
      " 2026-01-01 : Thu\n",
      " 2026-04-01 : Wed\n",
      " 2026-07-01 : Wed\n",
      " 2026-10-01 : Thu\n",
      " 2027-01-01 : Fri\n",
      " 2027-04-01 : Thu\n",
      " 2027-07-01 : Thu\n",
      " 2027-10-01 : Fri\n",
      " 2028-01-01 : Sat\n",
      " 2028-04-01 : Sat]\n"
     ]
    }
   ],
   "source": [
    "days = [START_DATE + timedelta(days=i) for i in range(1000)]\n",
    "matches = filter(AnySchedule({\n",
    "    'Every January 1': YearlySchedule(JANUARY, 1),\n",
    "    'Every April 1': YearlySchedule(APRIL, 1),\n",
    "    'Every July 1': YearlySchedule(JULY, 1),\n",
    "    'Every October 1': YearlySchedule(OCTOBER, 1)}).check, days)\n",
    "print(format_days(matches))"
   ]
  },
  {
   "cell_type": "markdown",
   "id": "b31fae2015c167c3",
   "metadata": {
    "papermill": {
     "duration": 0.002042,
     "end_time": "2025-08-05T10:46:37.878500",
     "exception": false,
     "start_time": "2025-08-05T10:46:37.876458",
     "status": "completed"
    },
    "tags": []
   },
   "source": [
    "### AllSchedule\n",
    "\n",
    "This represents a boolean `AND` operator for schedules. Only if all the child schedules match the current date,\n",
    "will this schedule match.\n",
    "\n",
    "For example, to get a weekly schedule but only from a certain date."
   ]
  },
  {
   "cell_type": "code",
   "execution_count": 13,
   "id": "2e0cdcce1e258b7c",
   "metadata": {
    "ExecuteTime": {
     "end_time": "2025-08-04T17:35:08.534910Z",
     "start_time": "2025-08-04T17:35:08.529452Z"
    },
    "execution": {
     "iopub.execute_input": "2025-08-05T10:46:37.882843Z",
     "iopub.status.busy": "2025-08-05T10:46:37.882723Z",
     "iopub.status.idle": "2025-08-05T10:46:37.884772Z",
     "shell.execute_reply": "2025-08-05T10:46:37.884540Z"
    },
    "papermill": {
     "duration": 0.004932,
     "end_time": "2025-08-05T10:46:37.885393",
     "exception": false,
     "start_time": "2025-08-05T10:46:37.880461",
     "status": "completed"
    },
    "tags": []
   },
   "outputs": [
    {
     "name": "stdout",
     "output_type": "stream",
     "text": [
      "[2025-08-19 : Tue\n",
      " 2025-08-26 : Tue\n",
      " 2025-09-02 : Tue\n",
      " 2025-09-09 : Tue\n",
      " 2025-09-16 : Tue\n",
      " 2025-09-23 : Tue]\n"
     ]
    }
   ],
   "source": [
    "days = [START_DATE + timedelta(days=i) for i in range(50)]\n",
    "matches = filter(AllSchedule({\n",
    "    'Every Tuesday': WeeklySchedule(TUESDAY),\n",
    "    'From 10 days from now': FromSchedule(START_DATE + timedelta(days=10))}).check, days)\n",
    "print(format_days(matches))"
   ]
  }
 ],
 "metadata": {
  "kernelspec": {
   "display_name": "Python 3",
   "language": "python",
   "name": "python3"
  },
  "language_info": {
   "codemirror_mode": {
    "name": "ipython",
    "version": 3
   },
   "file_extension": ".py",
   "mimetype": "text/x-python",
   "name": "python",
   "nbconvert_exporter": "python",
   "pygments_lexer": "ipython3",
   "version": "3.12.11"
  },
  "papermill": {
   "default_parameters": {},
   "duration": 1.142133,
   "end_time": "2025-08-05T10:46:38.002111",
   "environment_variables": {},
   "exception": null,
   "input_path": "./lib/schedules/README.ipynb",
   "output_path": "./lib/schedules/README.ipynb",
   "parameters": {},
   "start_time": "2025-08-05T10:46:36.859978",
   "version": "2.6.0"
  }
 },
 "nbformat": 4,
 "nbformat_minor": 5
}