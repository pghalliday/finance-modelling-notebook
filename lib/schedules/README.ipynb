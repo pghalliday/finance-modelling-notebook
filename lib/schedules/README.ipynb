{
 "cells": [
  {
   "cell_type": "markdown",
   "id": "86d255fd9c1132ac",
   "metadata": {
    "papermill": {
     "duration": 0.007907,
     "end_time": "2025-08-05T08:48:11.650496",
     "exception": false,
     "start_time": "2025-08-05T08:48:11.642589",
     "status": "completed"
    },
    "tags": []
   },
   "source": [
    "# Schedules\n",
    "\n",
    "A collection of schedule implementations that will take the current date and check if that day\n",
    "is in the schedule."
   ]
  },
  {
   "cell_type": "code",
   "execution_count": 1,
   "id": "20836eec6dbb9973",
   "metadata": {
    "ExecuteTime": {
     "end_time": "2025-08-04T17:35:08.245515Z",
     "start_time": "2025-08-04T17:35:08.238391Z"
    },
    "execution": {
     "iopub.execute_input": "2025-08-05T08:48:11.656387Z",
     "iopub.status.busy": "2025-08-05T08:48:11.656231Z",
     "iopub.status.idle": "2025-08-05T08:48:11.666817Z",
     "shell.execute_reply": "2025-08-05T08:48:11.666492Z"
    },
    "papermill": {
     "duration": 0.016064,
     "end_time": "2025-08-05T08:48:11.669445",
     "exception": false,
     "start_time": "2025-08-05T08:48:11.653381",
     "status": "completed"
    },
    "tags": []
   },
   "outputs": [
    {
     "name": "stdout",
     "output_type": "stream",
     "text": [
      "Start Date: 2025-08-05 : Tue\n"
     ]
    }
   ],
   "source": [
    "from calendar import TUESDAY, SATURDAY, JANUARY, FEBRUARY, APRIL, JULY, OCTOBER\n",
    "from datetime import date, timedelta\n",
    "\n",
    "from lib.schedules import \\\n",
    "    NeverSchedule, \\\n",
    "    DailySchedule, \\\n",
    "    DaySchedule, \\\n",
    "    FromSchedule, \\\n",
    "    UntilSchedule, \\\n",
    "    RangeSchedule, \\\n",
    "    WeeklySchedule, \\\n",
    "    MonthlySchedule, \\\n",
    "    YearlySchedule, \\\n",
    "    FilterSchedule, \\\n",
    "    AnySchedule, \\\n",
    "    AllSchedule\n",
    "from lib.utils.format import \\\n",
    "    format_day, \\\n",
    "    format_days\n",
    "\n",
    "START_DATE = date.today()\n",
    "\n",
    "print(f'Start Date: {format_day(START_DATE)}')"
   ]
  },
  {
   "cell_type": "markdown",
   "id": "b375883e0aef0abe",
   "metadata": {
    "papermill": {
     "duration": 0.001789,
     "end_time": "2025-08-05T08:48:11.673330",
     "exception": false,
     "start_time": "2025-08-05T08:48:11.671541",
     "status": "completed"
    },
    "tags": []
   },
   "source": [
    "## Primitive schedules\n",
    "\n",
    "The following schedules are the basic building blocks of schedules."
   ]
  },
  {
   "cell_type": "markdown",
   "id": "24b2f20432708dd4",
   "metadata": {
    "papermill": {
     "duration": 0.001678,
     "end_time": "2025-08-05T08:48:11.676716",
     "exception": false,
     "start_time": "2025-08-05T08:48:11.675038",
     "status": "completed"
    },
    "tags": []
   },
   "source": [
    "### NeverSchedule\n",
    "\n",
    "This is a trivial schedule in that it always returns False"
   ]
  },
  {
   "cell_type": "code",
   "execution_count": 2,
   "id": "155acd03e1e6e439",
   "metadata": {
    "ExecuteTime": {
     "end_time": "2025-08-04T17:35:08.276928Z",
     "start_time": "2025-08-04T17:35:08.272926Z"
    },
    "execution": {
     "iopub.execute_input": "2025-08-05T08:48:11.680890Z",
     "iopub.status.busy": "2025-08-05T08:48:11.680671Z",
     "iopub.status.idle": "2025-08-05T08:48:11.682997Z",
     "shell.execute_reply": "2025-08-05T08:48:11.682755Z"
    },
    "papermill": {
     "duration": 0.005249,
     "end_time": "2025-08-05T08:48:11.683691",
     "exception": false,
     "start_time": "2025-08-05T08:48:11.678442",
     "status": "completed"
    },
    "tags": []
   },
   "outputs": [
    {
     "name": "stdout",
     "output_type": "stream",
     "text": [
      "[]\n"
     ]
    }
   ],
   "source": [
    "days = [START_DATE + timedelta(days=i) for i in range(1000)]\n",
    "matches = filter(NeverSchedule().check, days)\n",
    "print(format_days(matches))"
   ]
  },
  {
   "cell_type": "markdown",
   "id": "a6c95b36a4777e3b",
   "metadata": {
    "papermill": {
     "duration": 0.001809,
     "end_time": "2025-08-05T08:48:11.687902",
     "exception": false,
     "start_time": "2025-08-05T08:48:11.686093",
     "status": "completed"
    },
    "tags": []
   },
   "source": [
    "### DailySchedule\n",
    "\n",
    "This is a trivial schedule in that it always returns True"
   ]
  },
  {
   "cell_type": "code",
   "execution_count": 3,
   "id": "143ee0c99bef08f5",
   "metadata": {
    "ExecuteTime": {
     "end_time": "2025-08-04T17:35:08.306521Z",
     "start_time": "2025-08-04T17:35:08.303620Z"
    },
    "execution": {
     "iopub.execute_input": "2025-08-05T08:48:11.692448Z",
     "iopub.status.busy": "2025-08-05T08:48:11.692322Z",
     "iopub.status.idle": "2025-08-05T08:48:11.694355Z",
     "shell.execute_reply": "2025-08-05T08:48:11.694106Z"
    },
    "papermill": {
     "duration": 0.005272,
     "end_time": "2025-08-05T08:48:11.694964",
     "exception": false,
     "start_time": "2025-08-05T08:48:11.689692",
     "status": "completed"
    },
    "tags": []
   },
   "outputs": [
    {
     "name": "stdout",
     "output_type": "stream",
     "text": [
      "[2025-08-05 : Tue\n",
      " 2025-08-06 : Wed\n",
      " 2025-08-07 : Thu\n",
      " 2025-08-08 : Fri\n",
      " 2025-08-09 : Sat\n",
      " 2025-08-10 : Sun\n",
      " 2025-08-11 : Mon\n",
      " 2025-08-12 : Tue\n",
      " 2025-08-13 : Wed\n",
      " 2025-08-14 : Thu]\n"
     ]
    }
   ],
   "source": [
    "days = [START_DATE + timedelta(days=i) for i in range(10)]\n",
    "matches = filter(DailySchedule().check, days)\n",
    "print(format_days(matches))"
   ]
  },
  {
   "cell_type": "markdown",
   "id": "c881833ea29fbb9f",
   "metadata": {
    "papermill": {
     "duration": 0.001741,
     "end_time": "2025-08-05T08:48:11.698617",
     "exception": false,
     "start_time": "2025-08-05T08:48:11.696876",
     "status": "completed"
    },
    "tags": []
   },
   "source": [
    "### DaySchedule\n",
    "\n",
    "This schedule will only match on the specified day"
   ]
  },
  {
   "cell_type": "code",
   "execution_count": 4,
   "id": "906f3fdcd1986f5e",
   "metadata": {
    "ExecuteTime": {
     "end_time": "2025-08-04T17:35:08.325710Z",
     "start_time": "2025-08-04T17:35:08.321285Z"
    },
    "execution": {
     "iopub.execute_input": "2025-08-05T08:48:11.703266Z",
     "iopub.status.busy": "2025-08-05T08:48:11.703071Z",
     "iopub.status.idle": "2025-08-05T08:48:11.705631Z",
     "shell.execute_reply": "2025-08-05T08:48:11.705396Z"
    },
    "papermill": {
     "duration": 0.005576,
     "end_time": "2025-08-05T08:48:11.706199",
     "exception": false,
     "start_time": "2025-08-05T08:48:11.700623",
     "status": "completed"
    },
    "tags": []
   },
   "outputs": [
    {
     "name": "stdout",
     "output_type": "stream",
     "text": [
      "[2025-09-24 : Wed]\n"
     ]
    }
   ],
   "source": [
    "days = [START_DATE + timedelta(days=i) for i in range(1000)]\n",
    "matches = filter(DaySchedule(START_DATE + timedelta(days=50)).check, days)\n",
    "print(format_days(matches))"
   ]
  },
  {
   "cell_type": "markdown",
   "id": "dacb67fc16fe79cb",
   "metadata": {
    "papermill": {
     "duration": 0.001641,
     "end_time": "2025-08-05T08:48:11.709613",
     "exception": false,
     "start_time": "2025-08-05T08:48:11.707972",
     "status": "completed"
    },
    "tags": []
   },
   "source": [
    "### FromSchedule\n",
    "\n",
    "This schedule will match on all dates after and including the specified day"
   ]
  },
  {
   "cell_type": "code",
   "execution_count": 5,
   "id": "cd1f77cd06a1c4fe",
   "metadata": {
    "ExecuteTime": {
     "end_time": "2025-08-04T17:35:08.344938Z",
     "start_time": "2025-08-04T17:35:08.341804Z"
    },
    "execution": {
     "iopub.execute_input": "2025-08-05T08:48:11.713620Z",
     "iopub.status.busy": "2025-08-05T08:48:11.713523Z",
     "iopub.status.idle": "2025-08-05T08:48:11.715433Z",
     "shell.execute_reply": "2025-08-05T08:48:11.715221Z"
    },
    "papermill": {
     "duration": 0.004613,
     "end_time": "2025-08-05T08:48:11.716171",
     "exception": false,
     "start_time": "2025-08-05T08:48:11.711558",
     "status": "completed"
    },
    "tags": []
   },
   "outputs": [
    {
     "name": "stdout",
     "output_type": "stream",
     "text": [
      "[2025-08-15 : Fri\n",
      " 2025-08-16 : Sat\n",
      " 2025-08-17 : Sun\n",
      " 2025-08-18 : Mon\n",
      " 2025-08-19 : Tue\n",
      " 2025-08-20 : Wed\n",
      " 2025-08-21 : Thu\n",
      " 2025-08-22 : Fri\n",
      " 2025-08-23 : Sat\n",
      " 2025-08-24 : Sun]\n"
     ]
    }
   ],
   "source": [
    "days = [START_DATE + timedelta(days=i) for i in range(20)]\n",
    "matches = filter(FromSchedule(START_DATE + timedelta(days=10)).check, days)\n",
    "print(format_days(matches))"
   ]
  },
  {
   "cell_type": "markdown",
   "id": "91a29fed9500151c",
   "metadata": {
    "papermill": {
     "duration": 0.002237,
     "end_time": "2025-08-05T08:48:11.720473",
     "exception": false,
     "start_time": "2025-08-05T08:48:11.718236",
     "status": "completed"
    },
    "tags": []
   },
   "source": [
    "### UntilSchedule\n",
    "\n",
    "This schedule will match on all dates up to but not including the specified day"
   ]
  },
  {
   "cell_type": "code",
   "execution_count": 6,
   "id": "3ac26fb8744eb83",
   "metadata": {
    "ExecuteTime": {
     "end_time": "2025-08-04T17:35:08.370226Z",
     "start_time": "2025-08-04T17:35:08.367096Z"
    },
    "execution": {
     "iopub.execute_input": "2025-08-05T08:48:11.724960Z",
     "iopub.status.busy": "2025-08-05T08:48:11.724752Z",
     "iopub.status.idle": "2025-08-05T08:48:11.726763Z",
     "shell.execute_reply": "2025-08-05T08:48:11.726545Z"
    },
    "papermill": {
     "duration": 0.004815,
     "end_time": "2025-08-05T08:48:11.727375",
     "exception": false,
     "start_time": "2025-08-05T08:48:11.722560",
     "status": "completed"
    },
    "tags": []
   },
   "outputs": [
    {
     "name": "stdout",
     "output_type": "stream",
     "text": [
      "[2025-08-05 : Tue\n",
      " 2025-08-06 : Wed\n",
      " 2025-08-07 : Thu\n",
      " 2025-08-08 : Fri\n",
      " 2025-08-09 : Sat\n",
      " 2025-08-10 : Sun\n",
      " 2025-08-11 : Mon\n",
      " 2025-08-12 : Tue\n",
      " 2025-08-13 : Wed\n",
      " 2025-08-14 : Thu]\n"
     ]
    }
   ],
   "source": [
    "days = [START_DATE + timedelta(days=i) for i in range(20)]\n",
    "matches = filter(UntilSchedule(START_DATE + timedelta(days=10)).check, days)\n",
    "print(format_days(matches))"
   ]
  },
  {
   "cell_type": "markdown",
   "id": "6fc05568787e8cdb",
   "metadata": {
    "papermill": {
     "duration": 0.001734,
     "end_time": "2025-08-05T08:48:11.730951",
     "exception": false,
     "start_time": "2025-08-05T08:48:11.729217",
     "status": "completed"
    },
    "tags": []
   },
   "source": [
    "### RangeSchedule\n",
    "\n",
    "This schedule will match on all dates after and including the `from_date` up to but not including\n",
    "the `until_date`"
   ]
  },
  {
   "cell_type": "code",
   "execution_count": 7,
   "id": "22627d6ed8970f75",
   "metadata": {
    "ExecuteTime": {
     "end_time": "2025-08-04T17:35:08.390645Z",
     "start_time": "2025-08-04T17:35:08.387678Z"
    },
    "execution": {
     "iopub.execute_input": "2025-08-05T08:48:11.736185Z",
     "iopub.status.busy": "2025-08-05T08:48:11.736001Z",
     "iopub.status.idle": "2025-08-05T08:48:11.738380Z",
     "shell.execute_reply": "2025-08-05T08:48:11.738167Z"
    },
    "papermill": {
     "duration": 0.005718,
     "end_time": "2025-08-05T08:48:11.739012",
     "exception": false,
     "start_time": "2025-08-05T08:48:11.733294",
     "status": "completed"
    },
    "tags": []
   },
   "outputs": [
    {
     "name": "stdout",
     "output_type": "stream",
     "text": [
      "[2025-08-15 : Fri\n",
      " 2025-08-16 : Sat\n",
      " 2025-08-17 : Sun\n",
      " 2025-08-18 : Mon\n",
      " 2025-08-19 : Tue\n",
      " 2025-08-20 : Wed\n",
      " 2025-08-21 : Thu\n",
      " 2025-08-22 : Fri\n",
      " 2025-08-23 : Sat\n",
      " 2025-08-24 : Sun]\n"
     ]
    }
   ],
   "source": [
    "days = [START_DATE + timedelta(days=i) for i in range(30)]\n",
    "matches = filter(RangeSchedule(from_date=START_DATE + timedelta(days=10),\n",
    "                               until_date=START_DATE + timedelta(days=20)).check, days)\n",
    "print(format_days(matches))"
   ]
  },
  {
   "cell_type": "markdown",
   "id": "7b9ebdf63a827652",
   "metadata": {
    "papermill": {
     "duration": 0.001739,
     "end_time": "2025-08-05T08:48:11.742700",
     "exception": false,
     "start_time": "2025-08-05T08:48:11.740961",
     "status": "completed"
    },
    "tags": []
   },
   "source": [
    "### WeeklySchedule\n",
    "\n",
    "This schedule will match on the specified day of the week"
   ]
  },
  {
   "cell_type": "code",
   "execution_count": 8,
   "id": "8337dcfb7faf8c47",
   "metadata": {
    "ExecuteTime": {
     "end_time": "2025-08-04T17:35:08.410235Z",
     "start_time": "2025-08-04T17:35:08.406463Z"
    },
    "execution": {
     "iopub.execute_input": "2025-08-05T08:48:11.746653Z",
     "iopub.status.busy": "2025-08-05T08:48:11.746552Z",
     "iopub.status.idle": "2025-08-05T08:48:11.748399Z",
     "shell.execute_reply": "2025-08-05T08:48:11.748172Z"
    },
    "papermill": {
     "duration": 0.004684,
     "end_time": "2025-08-05T08:48:11.749137",
     "exception": false,
     "start_time": "2025-08-05T08:48:11.744453",
     "status": "completed"
    },
    "tags": []
   },
   "outputs": [
    {
     "name": "stdout",
     "output_type": "stream",
     "text": [
      "[2025-08-05 : Tue\n",
      " 2025-08-12 : Tue\n",
      " 2025-08-19 : Tue\n",
      " 2025-08-26 : Tue\n",
      " 2025-09-02 : Tue\n",
      " 2025-09-09 : Tue\n",
      " 2025-09-16 : Tue\n",
      " 2025-09-23 : Tue]\n"
     ]
    }
   ],
   "source": [
    "days = [START_DATE + timedelta(days=i) for i in range(50)]\n",
    "matches = filter(WeeklySchedule(TUESDAY).check, days)\n",
    "print(format_days(matches))"
   ]
  },
  {
   "cell_type": "markdown",
   "id": "1bddb1513f8eac3c",
   "metadata": {
    "papermill": {
     "duration": 0.00218,
     "end_time": "2025-08-05T08:48:11.753522",
     "exception": false,
     "start_time": "2025-08-05T08:48:11.751342",
     "status": "completed"
    },
    "tags": []
   },
   "source": [
    "### MonthlySchedule\n",
    "\n",
    "This schedule will match on the specified day of the month.\n",
    "\n",
    "> **_NB._** If the current month does not have the specified day (e.g., there is no 30th of February in any year)\n",
    "then the last day of the month will match."
   ]
  },
  {
   "cell_type": "code",
   "execution_count": 9,
   "id": "76f2f172fda2c5b8",
   "metadata": {
    "ExecuteTime": {
     "end_time": "2025-08-04T17:35:08.430939Z",
     "start_time": "2025-08-04T17:35:08.427205Z"
    },
    "execution": {
     "iopub.execute_input": "2025-08-05T08:48:11.758322Z",
     "iopub.status.busy": "2025-08-05T08:48:11.758183Z",
     "iopub.status.idle": "2025-08-05T08:48:11.760678Z",
     "shell.execute_reply": "2025-08-05T08:48:11.760455Z"
    },
    "papermill": {
     "duration": 0.005651,
     "end_time": "2025-08-05T08:48:11.761306",
     "exception": false,
     "start_time": "2025-08-05T08:48:11.755655",
     "status": "completed"
    },
    "tags": []
   },
   "outputs": [
    {
     "name": "stdout",
     "output_type": "stream",
     "text": [
      "[2025-08-30 : Sat\n",
      " 2025-09-30 : Tue\n",
      " 2025-10-30 : Thu\n",
      " 2025-11-30 : Sun\n",
      " 2025-12-30 : Tue\n",
      " 2026-01-30 : Fri\n",
      " 2026-02-28 : Sat\n",
      " 2026-03-30 : Mon\n",
      " 2026-04-30 : Thu\n",
      " 2026-05-30 : Sat\n",
      " 2026-06-30 : Tue\n",
      " 2026-07-30 : Thu\n",
      " 2026-08-30 : Sun\n",
      " 2026-09-30 : Wed\n",
      " 2026-10-30 : Fri\n",
      " 2026-11-30 : Mon]\n"
     ]
    }
   ],
   "source": [
    "days = [START_DATE + timedelta(days=i) for i in range(500)]\n",
    "matches = filter(MonthlySchedule(30).check, days)\n",
    "print(format_days(matches))"
   ]
  },
  {
   "cell_type": "markdown",
   "id": "fe7200e9208b0cb3",
   "metadata": {
    "papermill": {
     "duration": 0.001861,
     "end_time": "2025-08-05T08:48:11.765103",
     "exception": false,
     "start_time": "2025-08-05T08:48:11.763242",
     "status": "completed"
    },
    "tags": []
   },
   "source": [
    "### YearlySchedule\n",
    "\n",
    "This schedule will match on the specified day of specified month.\n",
    "\n",
    "> **_NB._** If the current month does not have the specified day (e.g., there is no 30th of February in any year)\n",
    "then the last day of the month will match."
   ]
  },
  {
   "cell_type": "code",
   "execution_count": 10,
   "id": "ce50c3ac5cd812ae",
   "metadata": {
    "ExecuteTime": {
     "end_time": "2025-08-04T17:35:08.474324Z",
     "start_time": "2025-08-04T17:35:08.451428Z"
    },
    "execution": {
     "iopub.execute_input": "2025-08-05T08:48:11.770308Z",
     "iopub.status.busy": "2025-08-05T08:48:11.770165Z",
     "iopub.status.idle": "2025-08-05T08:48:11.774700Z",
     "shell.execute_reply": "2025-08-05T08:48:11.774452Z"
    },
    "papermill": {
     "duration": 0.008084,
     "end_time": "2025-08-05T08:48:11.775338",
     "exception": false,
     "start_time": "2025-08-05T08:48:11.767254",
     "status": "completed"
    },
    "tags": []
   },
   "outputs": [
    {
     "name": "stdout",
     "output_type": "stream",
     "text": [
      "[2026-02-28 : Sat\n",
      " 2027-02-28 : Sun\n",
      " 2028-02-29 : Tue\n",
      " 2029-02-28 : Wed\n",
      " 2030-02-28 : Thu\n",
      " 2031-02-28 : Fri\n",
      " 2032-02-29 : Sun\n",
      " 2033-02-28 : Mon\n",
      " 2034-02-28 : Tue\n",
      " 2035-02-28 : Wed\n",
      " 2036-02-29 : Fri\n",
      " 2037-02-28 : Sat\n",
      " 2038-02-28 : Sun\n",
      " 2039-02-28 : Mon]\n"
     ]
    }
   ],
   "source": [
    "days = [START_DATE + timedelta(days=i) for i in range(5000)]\n",
    "matches = filter(YearlySchedule(FEBRUARY, 30).check, days)\n",
    "print(format_days(matches))"
   ]
  },
  {
   "cell_type": "markdown",
   "id": "231710f92f799dfa",
   "metadata": {
    "papermill": {
     "duration": 0.001971,
     "end_time": "2025-08-05T08:48:11.779383",
     "exception": false,
     "start_time": "2025-08-05T08:48:11.777412",
     "status": "completed"
    },
    "tags": []
   },
   "source": [
    "### FilterSchedule\n",
    "\n",
    "This is a generic schedule that takes a callback function that will be used to check the supplied date"
   ]
  },
  {
   "cell_type": "code",
   "execution_count": 11,
   "id": "e8e7d0477ac7deb1",
   "metadata": {
    "ExecuteTime": {
     "end_time": "2025-08-04T17:35:08.500729Z",
     "start_time": "2025-08-04T17:35:08.497464Z"
    },
    "execution": {
     "iopub.execute_input": "2025-08-05T08:48:11.783879Z",
     "iopub.status.busy": "2025-08-05T08:48:11.783642Z",
     "iopub.status.idle": "2025-08-05T08:48:11.786317Z",
     "shell.execute_reply": "2025-08-05T08:48:11.786008Z"
    },
    "papermill": {
     "duration": 0.005765,
     "end_time": "2025-08-05T08:48:11.787010",
     "exception": false,
     "start_time": "2025-08-05T08:48:11.781245",
     "status": "completed"
    },
    "tags": []
   },
   "outputs": [
    {
     "name": "stdout",
     "output_type": "stream",
     "text": [
      "[2025-08-05 : Tue\n",
      " 2025-08-06 : Wed\n",
      " 2025-08-07 : Thu\n",
      " 2025-08-08 : Fri\n",
      " 2025-08-11 : Mon\n",
      " 2025-08-12 : Tue\n",
      " 2025-08-13 : Wed\n",
      " 2025-08-14 : Thu\n",
      " 2025-08-15 : Fri\n",
      " 2025-08-18 : Mon\n",
      " 2025-08-19 : Tue\n",
      " 2025-08-20 : Wed\n",
      " 2025-08-21 : Thu\n",
      " 2025-08-22 : Fri]\n"
     ]
    }
   ],
   "source": [
    "days = [START_DATE + timedelta(days=i) for i in range(20)]\n",
    "\n",
    "\n",
    "def filter_func(current_date: date) -> bool:\n",
    "    return current_date.weekday() < SATURDAY\n",
    "\n",
    "\n",
    "matches = filter(FilterSchedule(filter_func).check, days)\n",
    "print(format_days(matches))"
   ]
  },
  {
   "cell_type": "markdown",
   "id": "7045591371c57f8d",
   "metadata": {
    "papermill": {
     "duration": 0.001851,
     "end_time": "2025-08-05T08:48:11.790902",
     "exception": false,
     "start_time": "2025-08-05T08:48:11.789051",
     "status": "completed"
    },
    "tags": []
   },
   "source": [
    "## Schedule operators\n",
    "\n",
    "The following schedules take other schedules and apply an operator to them."
   ]
  },
  {
   "cell_type": "markdown",
   "id": "d2caa297c71f9604",
   "metadata": {
    "papermill": {
     "duration": 0.001792,
     "end_time": "2025-08-05T08:48:11.794573",
     "exception": false,
     "start_time": "2025-08-05T08:48:11.792781",
     "status": "completed"
    },
    "tags": []
   },
   "source": [
    "### AnySchedule\n",
    "\n",
    "This represents a boolean `OR` operator for schedules. If any of the child schedules match the current date,\n",
    "then this schedule will match.\n",
    "\n",
    "For example, to get a quarterly schedule, you could create four Yearly schedules and Any them together."
   ]
  },
  {
   "cell_type": "code",
   "execution_count": 12,
   "id": "71f905ff00962efe",
   "metadata": {
    "ExecuteTime": {
     "end_time": "2025-08-04T17:35:08.518159Z",
     "start_time": "2025-08-04T17:35:08.513094Z"
    },
    "execution": {
     "iopub.execute_input": "2025-08-05T08:48:11.798669Z",
     "iopub.status.busy": "2025-08-05T08:48:11.798558Z",
     "iopub.status.idle": "2025-08-05T08:48:11.802142Z",
     "shell.execute_reply": "2025-08-05T08:48:11.801834Z"
    },
    "papermill": {
     "duration": 0.006459,
     "end_time": "2025-08-05T08:48:11.802827",
     "exception": false,
     "start_time": "2025-08-05T08:48:11.796368",
     "status": "completed"
    },
    "tags": []
   },
   "outputs": [
    {
     "name": "stdout",
     "output_type": "stream",
     "text": [
      "[2025-10-01 : Wed\n",
      " 2026-01-01 : Thu\n",
      " 2026-04-01 : Wed\n",
      " 2026-07-01 : Wed\n",
      " 2026-10-01 : Thu\n",
      " 2027-01-01 : Fri\n",
      " 2027-04-01 : Thu\n",
      " 2027-07-01 : Thu\n",
      " 2027-10-01 : Fri\n",
      " 2028-01-01 : Sat\n",
      " 2028-04-01 : Sat]\n"
     ]
    }
   ],
   "source": [
    "days = [START_DATE + timedelta(days=i) for i in range(1000)]\n",
    "matches = filter(AnySchedule({\n",
    "    'Every January 1': YearlySchedule(JANUARY, 1),\n",
    "    'Every April 1': YearlySchedule(APRIL, 1),\n",
    "    'Every July 1': YearlySchedule(JULY, 1),\n",
    "    'Every October 1': YearlySchedule(OCTOBER, 1)}).check, days)\n",
    "print(format_days(matches))"
   ]
  },
  {
   "cell_type": "markdown",
   "id": "b31fae2015c167c3",
   "metadata": {
    "papermill": {
     "duration": 0.001864,
     "end_time": "2025-08-05T08:48:11.806899",
     "exception": false,
     "start_time": "2025-08-05T08:48:11.805035",
     "status": "completed"
    },
    "tags": []
   },
   "source": [
    "### AllSchedule\n",
    "\n",
    "This represents a boolean `AND` operator for schedules. Only if all the child schedules match the current date,\n",
    "will this schedule match.\n",
    "\n",
    "For example, to get a weekly schedule but only from a certain date."
   ]
  },
  {
   "cell_type": "code",
   "execution_count": 13,
   "id": "2e0cdcce1e258b7c",
   "metadata": {
    "ExecuteTime": {
     "end_time": "2025-08-04T17:35:08.534910Z",
     "start_time": "2025-08-04T17:35:08.529452Z"
    },
    "execution": {
     "iopub.execute_input": "2025-08-05T08:48:11.811102Z",
     "iopub.status.busy": "2025-08-05T08:48:11.810954Z",
     "iopub.status.idle": "2025-08-05T08:48:11.813091Z",
     "shell.execute_reply": "2025-08-05T08:48:11.812899Z"
    },
    "papermill": {
     "duration": 0.004996,
     "end_time": "2025-08-05T08:48:11.813726",
     "exception": false,
     "start_time": "2025-08-05T08:48:11.808730",
     "status": "completed"
    },
    "tags": []
   },
   "outputs": [
    {
     "name": "stdout",
     "output_type": "stream",
     "text": [
      "[2025-08-19 : Tue\n",
      " 2025-08-26 : Tue\n",
      " 2025-09-02 : Tue\n",
      " 2025-09-09 : Tue\n",
      " 2025-09-16 : Tue\n",
      " 2025-09-23 : Tue]\n"
     ]
    }
   ],
   "source": [
    "days = [START_DATE + timedelta(days=i) for i in range(50)]\n",
    "matches = filter(AllSchedule({\n",
    "    'Every Tuesday': WeeklySchedule(TUESDAY),\n",
    "    'From 10 days from now': FromSchedule(START_DATE + timedelta(days=10))}).check, days)\n",
    "print(format_days(matches))"
   ]
  }
 ],
 "metadata": {
  "kernelspec": {
   "display_name": "Python 3",
   "language": "python",
   "name": "python3"
  },
  "language_info": {
   "codemirror_mode": {
    "name": "ipython",
    "version": 3
   },
   "file_extension": ".py",
   "mimetype": "text/x-python",
   "name": "python",
   "nbconvert_exporter": "python",
   "pygments_lexer": "ipython3",
   "version": "3.12.11"
  },
  "papermill": {
   "default_parameters": {},
   "duration": 1.141647,
   "end_time": "2025-08-05T08:48:11.931118",
   "environment_variables": {},
   "exception": null,
   "input_path": "./lib/schedules/README.ipynb",
   "output_path": "./lib/schedules/README.ipynb",
   "parameters": {},
   "start_time": "2025-08-05T08:48:10.789471",
   "version": "2.6.0"
  }
 },
 "nbformat": 4,
 "nbformat_minor": 5
}