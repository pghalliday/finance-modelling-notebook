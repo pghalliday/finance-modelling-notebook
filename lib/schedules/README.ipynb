{
 "cells": [
  {
   "cell_type": "markdown",
   "id": "86d255fd9c1132ac",
   "metadata": {
    "papermill": {
     "duration": 0.00848,
     "end_time": "2025-08-04T14:07:32.260091",
     "exception": false,
     "start_time": "2025-08-04T14:07:32.251611",
     "status": "completed"
    },
    "tags": []
   },
   "source": [
    "# Schedules\n",
    "\n",
    "A collection of schedule implementations that will take the current date and check if that day\n",
    "is in the schedule."
   ]
  },
  {
   "metadata": {
    "ExecuteTime": {
     "end_time": "2025-08-04T17:35:08.245515Z",
     "start_time": "2025-08-04T17:35:08.238391Z"
    }
   },
   "cell_type": "code",
   "source": [
    "from calendar import TUESDAY, SATURDAY, JANUARY, FEBRUARY, APRIL, JULY, OCTOBER\n",
    "from datetime import date, timedelta\n",
    "\n",
    "from lib.schedules import \\\n",
    "    NeverSchedule, \\\n",
    "    DailySchedule, \\\n",
    "    DaySchedule, \\\n",
    "    FromSchedule, \\\n",
    "    UntilSchedule, \\\n",
    "    RangeSchedule, \\\n",
    "    WeeklySchedule, \\\n",
    "    MonthlySchedule, \\\n",
    "    YearlySchedule, \\\n",
    "    FilterSchedule, \\\n",
    "    AnySchedule, \\\n",
    "    AllSchedule\n",
    "from lib.utils.format import \\\n",
    "    format_day, \\\n",
    "    format_days\n",
    "\n",
    "START_DATE = date.today()\n",
    "\n",
    "print(f'Start Date: {format_day(START_DATE)}')"
   ],
   "id": "20836eec6dbb9973",
   "outputs": [
    {
     "name": "stdout",
     "output_type": "stream",
     "text": [
      "Start Date: 2025-08-04 : Mon\n"
     ]
    }
   ],
   "execution_count": 14
  },
  {
   "cell_type": "markdown",
   "id": "b375883e0aef0abe",
   "metadata": {
    "papermill": {
     "duration": 0.00425,
     "end_time": "2025-08-04T14:07:32.296628",
     "exception": false,
     "start_time": "2025-08-04T14:07:32.292378",
     "status": "completed"
    },
    "tags": []
   },
   "source": [
    "## Primitive schedules\n",
    "\n",
    "The following schedules are the basic building blocks of schedules."
   ]
  },
  {
   "cell_type": "markdown",
   "id": "24b2f20432708dd4",
   "metadata": {
    "papermill": {
     "duration": 0.003137,
     "end_time": "2025-08-04T14:07:32.303268",
     "exception": false,
     "start_time": "2025-08-04T14:07:32.300131",
     "status": "completed"
    },
    "tags": []
   },
   "source": [
    "### NeverSchedule\n",
    "\n",
    "This is a trivial schedule in that it always returns False"
   ]
  },
  {
   "cell_type": "code",
   "id": "155acd03e1e6e439",
   "metadata": {
    "execution": {
     "iopub.execute_input": "2025-08-04T14:07:32.310352Z",
     "iopub.status.busy": "2025-08-04T14:07:32.310146Z",
     "iopub.status.idle": "2025-08-04T14:07:32.314957Z",
     "shell.execute_reply": "2025-08-04T14:07:32.314562Z"
    },
    "papermill": {
     "duration": 0.009302,
     "end_time": "2025-08-04T14:07:32.315803",
     "exception": false,
     "start_time": "2025-08-04T14:07:32.306501",
     "status": "completed"
    },
    "tags": [],
    "ExecuteTime": {
     "end_time": "2025-08-04T17:35:08.276928Z",
     "start_time": "2025-08-04T17:35:08.272926Z"
    }
   },
   "source": [
    "days = [START_DATE + timedelta(days=i) for i in range(1000)]\n",
    "matches = filter(NeverSchedule().check, days)\n",
    "print(format_days(matches))"
   ],
   "outputs": [
    {
     "name": "stdout",
     "output_type": "stream",
     "text": [
      "[]\n"
     ]
    }
   ],
   "execution_count": 15
  },
  {
   "cell_type": "markdown",
   "id": "a6c95b36a4777e3b",
   "metadata": {
    "papermill": {
     "duration": 0.002567,
     "end_time": "2025-08-04T14:07:32.321303",
     "exception": false,
     "start_time": "2025-08-04T14:07:32.318736",
     "status": "completed"
    },
    "tags": []
   },
   "source": [
    "### DailySchedule\n",
    "\n",
    "This is a trivial schedule in that it always returns True"
   ]
  },
  {
   "cell_type": "code",
   "id": "143ee0c99bef08f5",
   "metadata": {
    "execution": {
     "iopub.execute_input": "2025-08-04T14:07:32.327072Z",
     "iopub.status.busy": "2025-08-04T14:07:32.326914Z",
     "iopub.status.idle": "2025-08-04T14:07:32.329244Z",
     "shell.execute_reply": "2025-08-04T14:07:32.328987Z"
    },
    "papermill": {
     "duration": 0.00621,
     "end_time": "2025-08-04T14:07:32.329921",
     "exception": false,
     "start_time": "2025-08-04T14:07:32.323711",
     "status": "completed"
    },
    "tags": [],
    "ExecuteTime": {
     "end_time": "2025-08-04T17:35:08.306521Z",
     "start_time": "2025-08-04T17:35:08.303620Z"
    }
   },
   "source": [
    "days = [START_DATE + timedelta(days=i) for i in range(10)]\n",
    "matches = filter(DailySchedule().check, days)\n",
    "print(format_days(matches))"
   ],
   "outputs": [
    {
     "name": "stdout",
     "output_type": "stream",
     "text": [
      "[2025-08-04 : Mon\n",
      " 2025-08-05 : Tue\n",
      " 2025-08-06 : Wed\n",
      " 2025-08-07 : Thu\n",
      " 2025-08-08 : Fri\n",
      " 2025-08-09 : Sat\n",
      " 2025-08-10 : Sun\n",
      " 2025-08-11 : Mon\n",
      " 2025-08-12 : Tue\n",
      " 2025-08-13 : Wed]\n"
     ]
    }
   ],
   "execution_count": 16
  },
  {
   "cell_type": "markdown",
   "id": "c881833ea29fbb9f",
   "metadata": {
    "papermill": {
     "duration": 0.002301,
     "end_time": "2025-08-04T14:07:32.334607",
     "exception": false,
     "start_time": "2025-08-04T14:07:32.332306",
     "status": "completed"
    },
    "tags": []
   },
   "source": [
    "### DaySchedule\n",
    "\n",
    "This schedule will only match on the specified day"
   ]
  },
  {
   "cell_type": "code",
   "id": "906f3fdcd1986f5e",
   "metadata": {
    "execution": {
     "iopub.execute_input": "2025-08-04T14:07:32.339449Z",
     "iopub.status.busy": "2025-08-04T14:07:32.339301Z",
     "iopub.status.idle": "2025-08-04T14:07:32.341845Z",
     "shell.execute_reply": "2025-08-04T14:07:32.341576Z"
    },
    "papermill": {
     "duration": 0.005844,
     "end_time": "2025-08-04T14:07:32.342569",
     "exception": false,
     "start_time": "2025-08-04T14:07:32.336725",
     "status": "completed"
    },
    "tags": [],
    "ExecuteTime": {
     "end_time": "2025-08-04T17:35:08.325710Z",
     "start_time": "2025-08-04T17:35:08.321285Z"
    }
   },
   "source": [
    "days = [START_DATE + timedelta(days=i) for i in range(1000)]\n",
    "matches = filter(DaySchedule(START_DATE + timedelta(days=50)).check, days)\n",
    "print(format_days(matches))"
   ],
   "outputs": [
    {
     "name": "stdout",
     "output_type": "stream",
     "text": [
      "[2025-09-23 : Tue]\n"
     ]
    }
   ],
   "execution_count": 17
  },
  {
   "cell_type": "markdown",
   "id": "dacb67fc16fe79cb",
   "metadata": {
    "papermill": {
     "duration": 0.002332,
     "end_time": "2025-08-04T14:07:32.347824",
     "exception": false,
     "start_time": "2025-08-04T14:07:32.345492",
     "status": "completed"
    },
    "tags": []
   },
   "source": [
    "### FromSchedule\n",
    "\n",
    "This schedule will match on all dates after and including the specified day"
   ]
  },
  {
   "cell_type": "code",
   "id": "cd1f77cd06a1c4fe",
   "metadata": {
    "execution": {
     "iopub.execute_input": "2025-08-04T14:07:32.353414Z",
     "iopub.status.busy": "2025-08-04T14:07:32.353199Z",
     "iopub.status.idle": "2025-08-04T14:07:32.356259Z",
     "shell.execute_reply": "2025-08-04T14:07:32.355538Z"
    },
    "papermill": {
     "duration": 0.008066,
     "end_time": "2025-08-04T14:07:32.358067",
     "exception": false,
     "start_time": "2025-08-04T14:07:32.350001",
     "status": "completed"
    },
    "tags": [],
    "ExecuteTime": {
     "end_time": "2025-08-04T17:35:08.344938Z",
     "start_time": "2025-08-04T17:35:08.341804Z"
    }
   },
   "source": [
    "days = [START_DATE + timedelta(days=i) for i in range(20)]\n",
    "matches = filter(FromSchedule(START_DATE + timedelta(days=10)).check, days)\n",
    "print(format_days(matches))"
   ],
   "outputs": [
    {
     "name": "stdout",
     "output_type": "stream",
     "text": [
      "[2025-08-14 : Thu\n",
      " 2025-08-15 : Fri\n",
      " 2025-08-16 : Sat\n",
      " 2025-08-17 : Sun\n",
      " 2025-08-18 : Mon\n",
      " 2025-08-19 : Tue\n",
      " 2025-08-20 : Wed\n",
      " 2025-08-21 : Thu\n",
      " 2025-08-22 : Fri\n",
      " 2025-08-23 : Sat]\n"
     ]
    }
   ],
   "execution_count": 18
  },
  {
   "cell_type": "markdown",
   "id": "91a29fed9500151c",
   "metadata": {
    "papermill": {
     "duration": 0.002679,
     "end_time": "2025-08-04T14:07:32.371817",
     "exception": false,
     "start_time": "2025-08-04T14:07:32.369138",
     "status": "completed"
    },
    "tags": []
   },
   "source": [
    "### UntilSchedule\n",
    "\n",
    "This schedule will match on all dates up to but not including the specified day"
   ]
  },
  {
   "cell_type": "code",
   "id": "3ac26fb8744eb83",
   "metadata": {
    "execution": {
     "iopub.execute_input": "2025-08-04T14:07:32.380122Z",
     "iopub.status.busy": "2025-08-04T14:07:32.379839Z",
     "iopub.status.idle": "2025-08-04T14:07:32.382730Z",
     "shell.execute_reply": "2025-08-04T14:07:32.382195Z"
    },
    "papermill": {
     "duration": 0.009389,
     "end_time": "2025-08-04T14:07:32.383562",
     "exception": false,
     "start_time": "2025-08-04T14:07:32.374173",
     "status": "completed"
    },
    "tags": [],
    "ExecuteTime": {
     "end_time": "2025-08-04T17:35:08.370226Z",
     "start_time": "2025-08-04T17:35:08.367096Z"
    }
   },
   "source": [
    "days = [START_DATE + timedelta(days=i) for i in range(20)]\n",
    "matches = filter(UntilSchedule(START_DATE + timedelta(days=10)).check, days)\n",
    "print(format_days(matches))"
   ],
   "outputs": [
    {
     "name": "stdout",
     "output_type": "stream",
     "text": [
      "[2025-08-04 : Mon\n",
      " 2025-08-05 : Tue\n",
      " 2025-08-06 : Wed\n",
      " 2025-08-07 : Thu\n",
      " 2025-08-08 : Fri\n",
      " 2025-08-09 : Sat\n",
      " 2025-08-10 : Sun\n",
      " 2025-08-11 : Mon\n",
      " 2025-08-12 : Tue\n",
      " 2025-08-13 : Wed]\n"
     ]
    }
   ],
   "execution_count": 19
  },
  {
   "cell_type": "markdown",
   "id": "6fc05568787e8cdb",
   "metadata": {
    "papermill": {
     "duration": 0.002395,
     "end_time": "2025-08-04T14:07:32.388228",
     "exception": false,
     "start_time": "2025-08-04T14:07:32.385833",
     "status": "completed"
    },
    "tags": []
   },
   "source": [
    "### RangeSchedule\n",
    "\n",
    "This schedule will match on all dates after and including the `from_date` up to but not including\n",
    "the `until_date`"
   ]
  },
  {
   "cell_type": "code",
   "id": "22627d6ed8970f75",
   "metadata": {
    "execution": {
     "iopub.execute_input": "2025-08-04T14:07:32.399702Z",
     "iopub.status.busy": "2025-08-04T14:07:32.399428Z",
     "iopub.status.idle": "2025-08-04T14:07:32.402569Z",
     "shell.execute_reply": "2025-08-04T14:07:32.402268Z"
    },
    "papermill": {
     "duration": 0.012706,
     "end_time": "2025-08-04T14:07:32.403443",
     "exception": false,
     "start_time": "2025-08-04T14:07:32.390737",
     "status": "completed"
    },
    "tags": [],
    "ExecuteTime": {
     "end_time": "2025-08-04T17:35:08.390645Z",
     "start_time": "2025-08-04T17:35:08.387678Z"
    }
   },
   "source": [
    "days = [START_DATE + timedelta(days=i) for i in range(30)]\n",
    "matches = filter(RangeSchedule(from_date=START_DATE + timedelta(days=10),\n",
    "                               until_date=START_DATE + timedelta(days=20)).check, days)\n",
    "print(format_days(matches))"
   ],
   "outputs": [
    {
     "name": "stdout",
     "output_type": "stream",
     "text": [
      "[2025-08-14 : Thu\n",
      " 2025-08-15 : Fri\n",
      " 2025-08-16 : Sat\n",
      " 2025-08-17 : Sun\n",
      " 2025-08-18 : Mon\n",
      " 2025-08-19 : Tue\n",
      " 2025-08-20 : Wed\n",
      " 2025-08-21 : Thu\n",
      " 2025-08-22 : Fri\n",
      " 2025-08-23 : Sat]\n"
     ]
    }
   ],
   "execution_count": 20
  },
  {
   "cell_type": "markdown",
   "id": "7b9ebdf63a827652",
   "metadata": {
    "papermill": {
     "duration": 0.002201,
     "end_time": "2025-08-04T14:07:32.408067",
     "exception": false,
     "start_time": "2025-08-04T14:07:32.405866",
     "status": "completed"
    },
    "tags": []
   },
   "source": [
    "### WeeklySchedule\n",
    "\n",
    "This schedule will match on the specified day of the week"
   ]
  },
  {
   "cell_type": "code",
   "id": "8337dcfb7faf8c47",
   "metadata": {
    "execution": {
     "iopub.execute_input": "2025-08-04T14:07:32.413298Z",
     "iopub.status.busy": "2025-08-04T14:07:32.413156Z",
     "iopub.status.idle": "2025-08-04T14:07:32.415284Z",
     "shell.execute_reply": "2025-08-04T14:07:32.415046Z"
    },
    "papermill": {
     "duration": 0.005606,
     "end_time": "2025-08-04T14:07:32.415956",
     "exception": false,
     "start_time": "2025-08-04T14:07:32.410350",
     "status": "completed"
    },
    "tags": [],
    "ExecuteTime": {
     "end_time": "2025-08-04T17:35:08.410235Z",
     "start_time": "2025-08-04T17:35:08.406463Z"
    }
   },
   "source": [
    "days = [START_DATE + timedelta(days=i) for i in range(50)]\n",
    "matches = filter(WeeklySchedule(TUESDAY).check, days)\n",
    "print(format_days(matches))"
   ],
   "outputs": [
    {
     "name": "stdout",
     "output_type": "stream",
     "text": [
      "[2025-08-05 : Tue\n",
      " 2025-08-12 : Tue\n",
      " 2025-08-19 : Tue\n",
      " 2025-08-26 : Tue\n",
      " 2025-09-02 : Tue\n",
      " 2025-09-09 : Tue\n",
      " 2025-09-16 : Tue]\n"
     ]
    }
   ],
   "execution_count": 21
  },
  {
   "cell_type": "markdown",
   "id": "1bddb1513f8eac3c",
   "metadata": {
    "papermill": {
     "duration": 0.002788,
     "end_time": "2025-08-04T14:07:32.421083",
     "exception": false,
     "start_time": "2025-08-04T14:07:32.418295",
     "status": "completed"
    },
    "tags": []
   },
   "source": [
    "### MonthlySchedule\n",
    "\n",
    "This schedule will match on the specified day of the month.\n",
    "\n",
    "> **_NB._** If the current month does not have the specified day (e.g., there is no 30th of February in any year)\n",
    "then the last day of the month will match."
   ]
  },
  {
   "cell_type": "code",
   "id": "76f2f172fda2c5b8",
   "metadata": {
    "execution": {
     "iopub.execute_input": "2025-08-04T14:07:32.425574Z",
     "iopub.status.busy": "2025-08-04T14:07:32.425439Z",
     "iopub.status.idle": "2025-08-04T14:07:32.427819Z",
     "shell.execute_reply": "2025-08-04T14:07:32.427609Z"
    },
    "papermill": {
     "duration": 0.005367,
     "end_time": "2025-08-04T14:07:32.428469",
     "exception": false,
     "start_time": "2025-08-04T14:07:32.423102",
     "status": "completed"
    },
    "tags": [],
    "ExecuteTime": {
     "end_time": "2025-08-04T17:35:08.430939Z",
     "start_time": "2025-08-04T17:35:08.427205Z"
    }
   },
   "source": [
    "days = [START_DATE + timedelta(days=i) for i in range(500)]\n",
    "matches = filter(MonthlySchedule(30).check, days)\n",
    "print(format_days(matches))"
   ],
   "outputs": [
    {
     "name": "stdout",
     "output_type": "stream",
     "text": [
      "[2025-08-30 : Sat\n",
      " 2025-09-30 : Tue\n",
      " 2025-10-30 : Thu\n",
      " 2025-11-30 : Sun\n",
      " 2025-12-30 : Tue\n",
      " 2026-01-30 : Fri\n",
      " 2026-02-28 : Sat\n",
      " 2026-03-30 : Mon\n",
      " 2026-04-30 : Thu\n",
      " 2026-05-30 : Sat\n",
      " 2026-06-30 : Tue\n",
      " 2026-07-30 : Thu\n",
      " 2026-08-30 : Sun\n",
      " 2026-09-30 : Wed\n",
      " 2026-10-30 : Fri\n",
      " 2026-11-30 : Mon]\n"
     ]
    }
   ],
   "execution_count": 22
  },
  {
   "cell_type": "markdown",
   "id": "fe7200e9208b0cb3",
   "metadata": {
    "papermill": {
     "duration": 0.001949,
     "end_time": "2025-08-04T14:07:32.432453",
     "exception": false,
     "start_time": "2025-08-04T14:07:32.430504",
     "status": "completed"
    },
    "tags": []
   },
   "source": [
    "### YearlySchedule\n",
    "\n",
    "This schedule will match on the specified day of specified month.\n",
    "\n",
    "> **_NB._** If the current month does not have the specified day (e.g., there is no 30th of February in any year)\n",
    "then the last day of the month will match."
   ]
  },
  {
   "cell_type": "code",
   "id": "ce50c3ac5cd812ae",
   "metadata": {
    "execution": {
     "iopub.execute_input": "2025-08-04T14:07:32.436751Z",
     "iopub.status.busy": "2025-08-04T14:07:32.436644Z",
     "iopub.status.idle": "2025-08-04T14:07:32.440301Z",
     "shell.execute_reply": "2025-08-04T14:07:32.440058Z"
    },
    "papermill": {
     "duration": 0.006581,
     "end_time": "2025-08-04T14:07:32.440947",
     "exception": false,
     "start_time": "2025-08-04T14:07:32.434366",
     "status": "completed"
    },
    "tags": [],
    "ExecuteTime": {
     "end_time": "2025-08-04T17:35:08.474324Z",
     "start_time": "2025-08-04T17:35:08.451428Z"
    }
   },
   "source": [
    "days = [START_DATE + timedelta(days=i) for i in range(5000)]\n",
    "matches = filter(YearlySchedule(FEBRUARY, 30).check, days)\n",
    "print(format_days(matches))"
   ],
   "outputs": [
    {
     "name": "stdout",
     "output_type": "stream",
     "text": [
      "[2026-02-28 : Sat\n",
      " 2027-02-28 : Sun\n",
      " 2028-02-29 : Tue\n",
      " 2029-02-28 : Wed\n",
      " 2030-02-28 : Thu\n",
      " 2031-02-28 : Fri\n",
      " 2032-02-29 : Sun\n",
      " 2033-02-28 : Mon\n",
      " 2034-02-28 : Tue\n",
      " 2035-02-28 : Wed\n",
      " 2036-02-29 : Fri\n",
      " 2037-02-28 : Sat\n",
      " 2038-02-28 : Sun\n",
      " 2039-02-28 : Mon]\n"
     ]
    }
   ],
   "execution_count": 23
  },
  {
   "cell_type": "markdown",
   "id": "231710f92f799dfa",
   "metadata": {
    "papermill": {
     "duration": 0.001926,
     "end_time": "2025-08-04T14:07:32.445004",
     "exception": false,
     "start_time": "2025-08-04T14:07:32.443078",
     "status": "completed"
    },
    "tags": []
   },
   "source": [
    "### FilterSchedule\n",
    "\n",
    "This is a generic schedule that takes a callback function that will be used to check the supplied date"
   ]
  },
  {
   "cell_type": "code",
   "id": "e8e7d0477ac7deb1",
   "metadata": {
    "execution": {
     "iopub.execute_input": "2025-08-04T14:07:32.449391Z",
     "iopub.status.busy": "2025-08-04T14:07:32.449248Z",
     "iopub.status.idle": "2025-08-04T14:07:32.451371Z",
     "shell.execute_reply": "2025-08-04T14:07:32.451147Z"
    },
    "papermill": {
     "duration": 0.005024,
     "end_time": "2025-08-04T14:07:32.451968",
     "exception": false,
     "start_time": "2025-08-04T14:07:32.446944",
     "status": "completed"
    },
    "tags": [],
    "ExecuteTime": {
     "end_time": "2025-08-04T17:35:08.500729Z",
     "start_time": "2025-08-04T17:35:08.497464Z"
    }
   },
   "source": [
    "days = [START_DATE + timedelta(days=i) for i in range(20)]\n",
    "\n",
    "\n",
    "def filter_func(current_date: date) -> bool:\n",
    "    return current_date.weekday() < SATURDAY\n",
    "\n",
    "\n",
    "matches = filter(FilterSchedule(filter_func).check, days)\n",
    "print(format_days(matches))"
   ],
   "outputs": [
    {
     "name": "stdout",
     "output_type": "stream",
     "text": [
      "[2025-08-04 : Mon\n",
      " 2025-08-05 : Tue\n",
      " 2025-08-06 : Wed\n",
      " 2025-08-07 : Thu\n",
      " 2025-08-08 : Fri\n",
      " 2025-08-11 : Mon\n",
      " 2025-08-12 : Tue\n",
      " 2025-08-13 : Wed\n",
      " 2025-08-14 : Thu\n",
      " 2025-08-15 : Fri\n",
      " 2025-08-18 : Mon\n",
      " 2025-08-19 : Tue\n",
      " 2025-08-20 : Wed\n",
      " 2025-08-21 : Thu\n",
      " 2025-08-22 : Fri]\n"
     ]
    }
   ],
   "execution_count": 24
  },
  {
   "cell_type": "markdown",
   "id": "7045591371c57f8d",
   "metadata": {
    "papermill": {
     "duration": 0.002021,
     "end_time": "2025-08-04T14:07:32.456099",
     "exception": false,
     "start_time": "2025-08-04T14:07:32.454078",
     "status": "completed"
    },
    "tags": []
   },
   "source": [
    "## Schedule operators\n",
    "\n",
    "The following schedules take other schedules and apply an operator to them."
   ]
  },
  {
   "cell_type": "markdown",
   "id": "d2caa297c71f9604",
   "metadata": {
    "papermill": {
     "duration": 0.001975,
     "end_time": "2025-08-04T14:07:32.460125",
     "exception": false,
     "start_time": "2025-08-04T14:07:32.458150",
     "status": "completed"
    },
    "tags": []
   },
   "source": [
    "### AnySchedule\n",
    "\n",
    "This represents a boolean `OR` operator for schedules. If any of the child schedules match the current date,\n",
    "then this schedule will match.\n",
    "\n",
    "For example, to get a quarterly schedule, you could create four Yearly schedules and Any them together."
   ]
  },
  {
   "cell_type": "code",
   "id": "71f905ff00962efe",
   "metadata": {
    "execution": {
     "iopub.execute_input": "2025-08-04T14:07:32.464597Z",
     "iopub.status.busy": "2025-08-04T14:07:32.464482Z",
     "iopub.status.idle": "2025-08-04T14:07:32.467446Z",
     "shell.execute_reply": "2025-08-04T14:07:32.467214Z"
    },
    "papermill": {
     "duration": 0.006096,
     "end_time": "2025-08-04T14:07:32.468136",
     "exception": false,
     "start_time": "2025-08-04T14:07:32.462040",
     "status": "completed"
    },
    "tags": [],
    "ExecuteTime": {
     "end_time": "2025-08-04T17:35:08.518159Z",
     "start_time": "2025-08-04T17:35:08.513094Z"
    }
   },
   "source": [
    "days = [START_DATE + timedelta(days=i) for i in range(1000)]\n",
    "matches = filter(AnySchedule({\n",
    "    'Every January 1': YearlySchedule(JANUARY, 1),\n",
    "    'Every April 1': YearlySchedule(APRIL, 1),\n",
    "    'Every July 1': YearlySchedule(JULY, 1),\n",
    "    'Every October 1': YearlySchedule(OCTOBER, 1)}).check, days)\n",
    "print(format_days(matches))"
   ],
   "outputs": [
    {
     "name": "stdout",
     "output_type": "stream",
     "text": [
      "[2025-10-01 : Wed\n",
      " 2026-01-01 : Thu\n",
      " 2026-04-01 : Wed\n",
      " 2026-07-01 : Wed\n",
      " 2026-10-01 : Thu\n",
      " 2027-01-01 : Fri\n",
      " 2027-04-01 : Thu\n",
      " 2027-07-01 : Thu\n",
      " 2027-10-01 : Fri\n",
      " 2028-01-01 : Sat\n",
      " 2028-04-01 : Sat]\n"
     ]
    }
   ],
   "execution_count": 25
  },
  {
   "cell_type": "markdown",
   "id": "b31fae2015c167c3",
   "metadata": {
    "papermill": {
     "duration": 0.003764,
     "end_time": "2025-08-04T14:07:32.474208",
     "exception": false,
     "start_time": "2025-08-04T14:07:32.470444",
     "status": "completed"
    },
    "tags": []
   },
   "source": [
    "### AllSchedule\n",
    "\n",
    "This represents a boolean `AND` operator for schedules. Only if all the child schedules match the current date,\n",
    "will this schedule match.\n",
    "\n",
    "For example, to get a weekly schedule but only from a certain date."
   ]
  },
  {
   "cell_type": "code",
   "id": "2e0cdcce1e258b7c",
   "metadata": {
    "execution": {
     "iopub.execute_input": "2025-08-04T14:07:32.479942Z",
     "iopub.status.busy": "2025-08-04T14:07:32.479785Z",
     "iopub.status.idle": "2025-08-04T14:07:32.482250Z",
     "shell.execute_reply": "2025-08-04T14:07:32.482005Z"
    },
    "papermill": {
     "duration": 0.005903,
     "end_time": "2025-08-04T14:07:32.482923",
     "exception": false,
     "start_time": "2025-08-04T14:07:32.477020",
     "status": "completed"
    },
    "tags": [],
    "ExecuteTime": {
     "end_time": "2025-08-04T17:35:08.534910Z",
     "start_time": "2025-08-04T17:35:08.529452Z"
    }
   },
   "source": [
    "days = [START_DATE + timedelta(days=i) for i in range(50)]\n",
    "matches = filter(AllSchedule({\n",
    "    'Every Tuesday': WeeklySchedule(TUESDAY),\n",
    "    'From 10 days from now': FromSchedule(START_DATE + timedelta(days=10))}).check, days)\n",
    "print(format_days(matches))"
   ],
   "outputs": [
    {
     "name": "stdout",
     "output_type": "stream",
     "text": [
      "[2025-08-19 : Tue\n",
      " 2025-08-26 : Tue\n",
      " 2025-09-02 : Tue\n",
      " 2025-09-09 : Tue\n",
      " 2025-09-16 : Tue]\n"
     ]
    }
   ],
   "execution_count": 26
  }
 ],
 "metadata": {
  "kernelspec": {
   "display_name": "Python 3",
   "language": "python",
   "name": "python3"
  },
  "language_info": {
   "codemirror_mode": {
    "name": "ipython",
    "version": 3
   },
   "file_extension": ".py",
   "mimetype": "text/x-python",
   "name": "python",
   "nbconvert_exporter": "python",
   "pygments_lexer": "ipython3",
   "version": "3.12.11"
  },
  "papermill": {
   "default_parameters": {},
   "duration": 1.22729,
   "end_time": "2025-08-04T14:07:32.624146",
   "environment_variables": {},
   "exception": null,
   "input_path": "./lib/schedules/README.ipynb",
   "output_path": "./lib/schedules/README.ipynb",
   "parameters": {},
   "start_time": "2025-08-04T14:07:31.396856",
   "version": "2.6.0"
  }
 },
 "nbformat": 4,
 "nbformat_minor": 5
}
