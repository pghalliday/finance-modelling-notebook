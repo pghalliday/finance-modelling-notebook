{
 "cells": [
  {
   "cell_type": "markdown",
   "id": "86d255fd9c1132ac",
   "metadata": {
    "papermill": {
     "duration": 0.00403,
     "end_time": "2025-08-03T15:00:47.786664",
     "exception": false,
     "start_time": "2025-08-03T15:00:47.782634",
     "status": "completed"
    },
    "tags": []
   },
   "source": [
    "# Schedules\n",
    "\n",
    "A collection of schedule implementations that will take the current date and check if that day\n",
    "is in the schedule."
   ]
  },
  {
   "cell_type": "code",
   "execution_count": 1,
   "id": "initial_id",
   "metadata": {
    "ExecuteTime": {
     "end_time": "2025-08-01T08:47:17.837475Z",
     "start_time": "2025-08-01T08:47:17.817786Z"
    },
    "collapsed": true,
    "execution": {
     "iopub.execute_input": "2025-08-03T15:00:47.793577Z",
     "iopub.status.busy": "2025-08-03T15:00:47.793323Z",
     "iopub.status.idle": "2025-08-03T15:00:47.800183Z",
     "shell.execute_reply": "2025-08-03T15:00:47.799386Z"
    },
    "papermill": {
     "duration": 0.011476,
     "end_time": "2025-08-03T15:00:47.801567",
     "exception": false,
     "start_time": "2025-08-03T15:00:47.790091",
     "status": "completed"
    },
    "tags": []
   },
   "outputs": [
    {
     "name": "stdout",
     "output_type": "stream",
     "text": [
      "Start Date: 2025-08-03 : Sun\n"
     ]
    }
   ],
   "source": [
    "from calendar import TUESDAY, SATURDAY, JANUARY, FEBRUARY, APRIL, JULY, OCTOBER\n",
    "from datetime import date, timedelta\n",
    "\n",
    "from lib.schedules import \\\n",
    "    NeverSchedule, \\\n",
    "    DailySchedule, \\\n",
    "    DaySchedule, \\\n",
    "    FromSchedule, \\\n",
    "    UntilSchedule, \\\n",
    "    RangeSchedule, \\\n",
    "    WeeklySchedule, \\\n",
    "    MonthlySchedule, \\\n",
    "    YearlySchedule, \\\n",
    "    FilterSchedule, \\\n",
    "    AnySchedule, \\\n",
    "    AllSchedule, \\\n",
    "    ModuloSchedule\n",
    "from lib.utils.print import \\\n",
    "    format_day, \\\n",
    "    print_days\n",
    "\n",
    "START_DATE = date.today()\n",
    "\n",
    "print(f'Start Date: {format_day(START_DATE)}')"
   ]
  },
  {
   "cell_type": "markdown",
   "id": "b375883e0aef0abe",
   "metadata": {
    "papermill": {
     "duration": 0.003475,
     "end_time": "2025-08-03T15:00:47.809096",
     "exception": false,
     "start_time": "2025-08-03T15:00:47.805621",
     "status": "completed"
    },
    "tags": []
   },
   "source": [
    "## Primitive schedules\n",
    "\n",
    "The following schedules are the basic building blocks of schedules."
   ]
  },
  {
   "cell_type": "markdown",
   "id": "24b2f20432708dd4",
   "metadata": {
    "papermill": {
     "duration": 0.002106,
     "end_time": "2025-08-03T15:00:47.813500",
     "exception": false,
     "start_time": "2025-08-03T15:00:47.811394",
     "status": "completed"
    },
    "tags": []
   },
   "source": [
    "### NeverSchedule\n",
    "\n",
    "This is a trivial schedule in that it always returns False"
   ]
  },
  {
   "cell_type": "code",
   "execution_count": 2,
   "id": "155acd03e1e6e439",
   "metadata": {
    "ExecuteTime": {
     "end_time": "2025-08-01T08:47:17.916987Z",
     "start_time": "2025-08-01T08:47:17.907735Z"
    },
    "execution": {
     "iopub.execute_input": "2025-08-03T15:00:47.819420Z",
     "iopub.status.busy": "2025-08-03T15:00:47.819261Z",
     "iopub.status.idle": "2025-08-03T15:00:47.821778Z",
     "shell.execute_reply": "2025-08-03T15:00:47.821542Z"
    },
    "papermill": {
     "duration": 0.006448,
     "end_time": "2025-08-03T15:00:47.822428",
     "exception": false,
     "start_time": "2025-08-03T15:00:47.815980",
     "status": "completed"
    },
    "tags": []
   },
   "outputs": [
    {
     "name": "stdout",
     "output_type": "stream",
     "text": [
      "[]\n"
     ]
    }
   ],
   "source": [
    "days = [START_DATE + timedelta(days=i) for i in range(1000)]\n",
    "matches = filter(NeverSchedule().check, days)\n",
    "print_days(matches)"
   ]
  },
  {
   "cell_type": "markdown",
   "id": "a6c95b36a4777e3b",
   "metadata": {
    "papermill": {
     "duration": 0.001937,
     "end_time": "2025-08-03T15:00:47.826587",
     "exception": false,
     "start_time": "2025-08-03T15:00:47.824650",
     "status": "completed"
    },
    "tags": []
   },
   "source": [
    "### DailySchedule\n",
    "\n",
    "This is a trivial schedule in that it always returns True"
   ]
  },
  {
   "cell_type": "code",
   "execution_count": 3,
   "id": "143ee0c99bef08f5",
   "metadata": {
    "ExecuteTime": {
     "end_time": "2025-08-01T08:47:17.974549Z",
     "start_time": "2025-08-01T08:47:17.970157Z"
    },
    "execution": {
     "iopub.execute_input": "2025-08-03T15:00:47.831007Z",
     "iopub.status.busy": "2025-08-03T15:00:47.830874Z",
     "iopub.status.idle": "2025-08-03T15:00:47.833007Z",
     "shell.execute_reply": "2025-08-03T15:00:47.832770Z"
    },
    "papermill": {
     "duration": 0.005156,
     "end_time": "2025-08-03T15:00:47.833668",
     "exception": false,
     "start_time": "2025-08-03T15:00:47.828512",
     "status": "completed"
    },
    "tags": []
   },
   "outputs": [
    {
     "name": "stdout",
     "output_type": "stream",
     "text": [
      "[2025-08-03 : Sun\n",
      " 2025-08-04 : Mon\n",
      " 2025-08-05 : Tue\n",
      " 2025-08-06 : Wed\n",
      " 2025-08-07 : Thu\n",
      " 2025-08-08 : Fri\n",
      " 2025-08-09 : Sat\n",
      " 2025-08-10 : Sun\n",
      " 2025-08-11 : Mon\n",
      " 2025-08-12 : Tue]\n"
     ]
    }
   ],
   "source": [
    "days = [START_DATE + timedelta(days=i) for i in range(10)]\n",
    "matches = filter(DailySchedule().check, days)\n",
    "print_days(matches)"
   ]
  },
  {
   "cell_type": "markdown",
   "id": "c881833ea29fbb9f",
   "metadata": {
    "papermill": {
     "duration": 0.001959,
     "end_time": "2025-08-03T15:00:47.837757",
     "exception": false,
     "start_time": "2025-08-03T15:00:47.835798",
     "status": "completed"
    },
    "tags": []
   },
   "source": [
    "### DaySchedule\n",
    "\n",
    "This schedule will only match on the specified day"
   ]
  },
  {
   "cell_type": "code",
   "execution_count": 4,
   "id": "906f3fdcd1986f5e",
   "metadata": {
    "ExecuteTime": {
     "end_time": "2025-08-01T08:47:18.014557Z",
     "start_time": "2025-08-01T08:47:18.007238Z"
    },
    "execution": {
     "iopub.execute_input": "2025-08-03T15:00:47.842178Z",
     "iopub.status.busy": "2025-08-03T15:00:47.841973Z",
     "iopub.status.idle": "2025-08-03T15:00:47.844513Z",
     "shell.execute_reply": "2025-08-03T15:00:47.844258Z"
    },
    "papermill": {
     "duration": 0.005485,
     "end_time": "2025-08-03T15:00:47.845173",
     "exception": false,
     "start_time": "2025-08-03T15:00:47.839688",
     "status": "completed"
    },
    "tags": []
   },
   "outputs": [
    {
     "name": "stdout",
     "output_type": "stream",
     "text": [
      "[2025-09-22 : Mon]\n"
     ]
    }
   ],
   "source": [
    "days = [START_DATE + timedelta(days=i) for i in range(1000)]\n",
    "matches = filter(DaySchedule(START_DATE + timedelta(days=50)).check, days)\n",
    "print_days(matches)"
   ]
  },
  {
   "cell_type": "markdown",
   "id": "dacb67fc16fe79cb",
   "metadata": {
    "papermill": {
     "duration": 0.002206,
     "end_time": "2025-08-03T15:00:47.850339",
     "exception": false,
     "start_time": "2025-08-03T15:00:47.848133",
     "status": "completed"
    },
    "tags": []
   },
   "source": [
    "### FromSchedule\n",
    "\n",
    "This schedule will match on all dates after and including the specified day"
   ]
  },
  {
   "cell_type": "code",
   "execution_count": 5,
   "id": "cd1f77cd06a1c4fe",
   "metadata": {
    "ExecuteTime": {
     "end_time": "2025-08-01T08:47:18.074418Z",
     "start_time": "2025-08-01T08:47:18.065857Z"
    },
    "execution": {
     "iopub.execute_input": "2025-08-03T15:00:47.854816Z",
     "iopub.status.busy": "2025-08-03T15:00:47.854678Z",
     "iopub.status.idle": "2025-08-03T15:00:47.856785Z",
     "shell.execute_reply": "2025-08-03T15:00:47.856551Z"
    },
    "papermill": {
     "duration": 0.005145,
     "end_time": "2025-08-03T15:00:47.857411",
     "exception": false,
     "start_time": "2025-08-03T15:00:47.852266",
     "status": "completed"
    },
    "tags": []
   },
   "outputs": [
    {
     "name": "stdout",
     "output_type": "stream",
     "text": [
      "[2025-08-13 : Wed\n",
      " 2025-08-14 : Thu\n",
      " 2025-08-15 : Fri\n",
      " 2025-08-16 : Sat\n",
      " 2025-08-17 : Sun\n",
      " 2025-08-18 : Mon\n",
      " 2025-08-19 : Tue\n",
      " 2025-08-20 : Wed\n",
      " 2025-08-21 : Thu\n",
      " 2025-08-22 : Fri]\n"
     ]
    }
   ],
   "source": [
    "days = [START_DATE + timedelta(days=i) for i in range(20)]\n",
    "matches = filter(FromSchedule(START_DATE + timedelta(days=10)).check, days)\n",
    "print_days(matches)"
   ]
  },
  {
   "cell_type": "markdown",
   "id": "91a29fed9500151c",
   "metadata": {
    "papermill": {
     "duration": 0.001874,
     "end_time": "2025-08-03T15:00:47.861277",
     "exception": false,
     "start_time": "2025-08-03T15:00:47.859403",
     "status": "completed"
    },
    "tags": []
   },
   "source": [
    "### UntilSchedule\n",
    "\n",
    "This schedule will match on all dates up to but not including the specified day"
   ]
  },
  {
   "cell_type": "code",
   "execution_count": 6,
   "id": "3ac26fb8744eb83",
   "metadata": {
    "ExecuteTime": {
     "end_time": "2025-08-01T08:47:18.101696Z",
     "start_time": "2025-08-01T08:47:18.098361Z"
    },
    "execution": {
     "iopub.execute_input": "2025-08-03T15:00:47.866239Z",
     "iopub.status.busy": "2025-08-03T15:00:47.866055Z",
     "iopub.status.idle": "2025-08-03T15:00:47.868117Z",
     "shell.execute_reply": "2025-08-03T15:00:47.867891Z"
    },
    "papermill": {
     "duration": 0.005566,
     "end_time": "2025-08-03T15:00:47.868836",
     "exception": false,
     "start_time": "2025-08-03T15:00:47.863270",
     "status": "completed"
    },
    "tags": []
   },
   "outputs": [
    {
     "name": "stdout",
     "output_type": "stream",
     "text": [
      "[2025-08-03 : Sun\n",
      " 2025-08-04 : Mon\n",
      " 2025-08-05 : Tue\n",
      " 2025-08-06 : Wed\n",
      " 2025-08-07 : Thu\n",
      " 2025-08-08 : Fri\n",
      " 2025-08-09 : Sat\n",
      " 2025-08-10 : Sun\n",
      " 2025-08-11 : Mon\n",
      " 2025-08-12 : Tue]\n"
     ]
    }
   ],
   "source": [
    "days = [START_DATE + timedelta(days=i) for i in range(20)]\n",
    "matches = filter(UntilSchedule(START_DATE + timedelta(days=10)).check, days)\n",
    "print_days(matches)"
   ]
  },
  {
   "cell_type": "markdown",
   "id": "6fc05568787e8cdb",
   "metadata": {
    "papermill": {
     "duration": 0.002339,
     "end_time": "2025-08-03T15:00:47.873609",
     "exception": false,
     "start_time": "2025-08-03T15:00:47.871270",
     "status": "completed"
    },
    "tags": []
   },
   "source": [
    "### RangeSchedule\n",
    "\n",
    "This schedule will match on all dates after and including the `from_date` up to but not including\n",
    "the `until_date`"
   ]
  },
  {
   "cell_type": "code",
   "execution_count": 7,
   "id": "22627d6ed8970f75",
   "metadata": {
    "ExecuteTime": {
     "end_time": "2025-08-01T08:47:18.137412Z",
     "start_time": "2025-08-01T08:47:18.134086Z"
    },
    "execution": {
     "iopub.execute_input": "2025-08-03T15:00:47.877762Z",
     "iopub.status.busy": "2025-08-03T15:00:47.877649Z",
     "iopub.status.idle": "2025-08-03T15:00:47.879624Z",
     "shell.execute_reply": "2025-08-03T15:00:47.879423Z"
    },
    "papermill": {
     "duration": 0.004767,
     "end_time": "2025-08-03T15:00:47.880237",
     "exception": false,
     "start_time": "2025-08-03T15:00:47.875470",
     "status": "completed"
    },
    "tags": []
   },
   "outputs": [
    {
     "name": "stdout",
     "output_type": "stream",
     "text": [
      "[2025-08-13 : Wed\n",
      " 2025-08-14 : Thu\n",
      " 2025-08-15 : Fri\n",
      " 2025-08-16 : Sat\n",
      " 2025-08-17 : Sun\n",
      " 2025-08-18 : Mon\n",
      " 2025-08-19 : Tue\n",
      " 2025-08-20 : Wed\n",
      " 2025-08-21 : Thu\n",
      " 2025-08-22 : Fri]\n"
     ]
    }
   ],
   "source": [
    "days = [START_DATE + timedelta(days=i) for i in range(30)]\n",
    "matches = filter(RangeSchedule(from_date=START_DATE + timedelta(days=10),\n",
    "                               until_date=START_DATE + timedelta(days=20)).check, days)\n",
    "print_days(matches)"
   ]
  },
  {
   "cell_type": "markdown",
   "id": "7b9ebdf63a827652",
   "metadata": {
    "papermill": {
     "duration": 0.001878,
     "end_time": "2025-08-03T15:00:47.884170",
     "exception": false,
     "start_time": "2025-08-03T15:00:47.882292",
     "status": "completed"
    },
    "tags": []
   },
   "source": [
    "### WeeklySchedule\n",
    "\n",
    "This schedule will match on the specified day of the week"
   ]
  },
  {
   "cell_type": "code",
   "execution_count": 8,
   "id": "8337dcfb7faf8c47",
   "metadata": {
    "ExecuteTime": {
     "end_time": "2025-08-01T08:47:18.181540Z",
     "start_time": "2025-08-01T08:47:18.174623Z"
    },
    "execution": {
     "iopub.execute_input": "2025-08-03T15:00:47.888487Z",
     "iopub.status.busy": "2025-08-03T15:00:47.888380Z",
     "iopub.status.idle": "2025-08-03T15:00:47.890311Z",
     "shell.execute_reply": "2025-08-03T15:00:47.890097Z"
    },
    "papermill": {
     "duration": 0.004836,
     "end_time": "2025-08-03T15:00:47.890933",
     "exception": false,
     "start_time": "2025-08-03T15:00:47.886097",
     "status": "completed"
    },
    "tags": []
   },
   "outputs": [
    {
     "name": "stdout",
     "output_type": "stream",
     "text": [
      "[2025-08-05 : Tue\n",
      " 2025-08-12 : Tue\n",
      " 2025-08-19 : Tue\n",
      " 2025-08-26 : Tue\n",
      " 2025-09-02 : Tue\n",
      " 2025-09-09 : Tue\n",
      " 2025-09-16 : Tue]\n"
     ]
    }
   ],
   "source": [
    "days = [START_DATE + timedelta(days=i) for i in range(50)]\n",
    "matches = filter(WeeklySchedule(TUESDAY).check, days)\n",
    "print_days(matches)"
   ]
  },
  {
   "cell_type": "markdown",
   "id": "1bddb1513f8eac3c",
   "metadata": {
    "papermill": {
     "duration": 0.002042,
     "end_time": "2025-08-03T15:00:47.895371",
     "exception": false,
     "start_time": "2025-08-03T15:00:47.893329",
     "status": "completed"
    },
    "tags": []
   },
   "source": [
    "### MonthlySchedule\n",
    "\n",
    "This schedule will match on the specified day of the month.\n",
    "\n",
    "> **_NB._** If the current month does not have the specified day (e.g., there is no 30th of February in any year)\n",
    "then the last day of the month will match."
   ]
  },
  {
   "cell_type": "code",
   "execution_count": 9,
   "id": "76f2f172fda2c5b8",
   "metadata": {
    "ExecuteTime": {
     "end_time": "2025-08-01T08:47:18.222861Z",
     "start_time": "2025-08-01T08:47:18.212089Z"
    },
    "execution": {
     "iopub.execute_input": "2025-08-03T15:00:47.900099Z",
     "iopub.status.busy": "2025-08-03T15:00:47.899986Z",
     "iopub.status.idle": "2025-08-03T15:00:47.902382Z",
     "shell.execute_reply": "2025-08-03T15:00:47.902125Z"
    },
    "papermill": {
     "duration": 0.005375,
     "end_time": "2025-08-03T15:00:47.903041",
     "exception": false,
     "start_time": "2025-08-03T15:00:47.897666",
     "status": "completed"
    },
    "tags": []
   },
   "outputs": [
    {
     "name": "stdout",
     "output_type": "stream",
     "text": [
      "[2025-08-30 : Sat\n",
      " 2025-09-30 : Tue\n",
      " 2025-10-30 : Thu\n",
      " 2025-11-30 : Sun\n",
      " 2025-12-30 : Tue\n",
      " 2026-01-30 : Fri\n",
      " 2026-02-28 : Sat\n",
      " 2026-03-30 : Mon\n",
      " 2026-04-30 : Thu\n",
      " 2026-05-30 : Sat\n",
      " 2026-06-30 : Tue\n",
      " 2026-07-30 : Thu\n",
      " 2026-08-30 : Sun\n",
      " 2026-09-30 : Wed\n",
      " 2026-10-30 : Fri\n",
      " 2026-11-30 : Mon]\n"
     ]
    }
   ],
   "source": [
    "days = [START_DATE + timedelta(days=i) for i in range(500)]\n",
    "matches = filter(MonthlySchedule(30).check, days)\n",
    "print_days(matches)"
   ]
  },
  {
   "cell_type": "markdown",
   "id": "fe7200e9208b0cb3",
   "metadata": {
    "papermill": {
     "duration": 0.002044,
     "end_time": "2025-08-03T15:00:47.907608",
     "exception": false,
     "start_time": "2025-08-03T15:00:47.905564",
     "status": "completed"
    },
    "tags": []
   },
   "source": [
    "### YearlySchedule\n",
    "\n",
    "This schedule will match on the specified day of specified month.\n",
    "\n",
    "> **_NB._** If the current month does not have the specified day (e.g., there is no 30th of February in any year)\n",
    "then the last day of the month will match."
   ]
  },
  {
   "cell_type": "code",
   "execution_count": 10,
   "id": "ce50c3ac5cd812ae",
   "metadata": {
    "ExecuteTime": {
     "end_time": "2025-08-01T08:47:18.268219Z",
     "start_time": "2025-08-01T08:47:18.244291Z"
    },
    "execution": {
     "iopub.execute_input": "2025-08-03T15:00:47.912690Z",
     "iopub.status.busy": "2025-08-03T15:00:47.912548Z",
     "iopub.status.idle": "2025-08-03T15:00:47.916764Z",
     "shell.execute_reply": "2025-08-03T15:00:47.916516Z"
    },
    "papermill": {
     "duration": 0.007843,
     "end_time": "2025-08-03T15:00:47.917399",
     "exception": false,
     "start_time": "2025-08-03T15:00:47.909556",
     "status": "completed"
    },
    "tags": []
   },
   "outputs": [
    {
     "name": "stdout",
     "output_type": "stream",
     "text": [
      "[2026-02-28 : Sat\n",
      " 2027-02-28 : Sun\n",
      " 2028-02-29 : Tue\n",
      " 2029-02-28 : Wed\n",
      " 2030-02-28 : Thu\n",
      " 2031-02-28 : Fri\n",
      " 2032-02-29 : Sun\n",
      " 2033-02-28 : Mon\n",
      " 2034-02-28 : Tue\n",
      " 2035-02-28 : Wed\n",
      " 2036-02-29 : Fri\n",
      " 2037-02-28 : Sat\n",
      " 2038-02-28 : Sun\n",
      " 2039-02-28 : Mon]\n"
     ]
    }
   ],
   "source": [
    "days = [START_DATE + timedelta(days=i) for i in range(5000)]\n",
    "matches = filter(YearlySchedule(FEBRUARY, 30).check, days)\n",
    "print_days(matches)"
   ]
  },
  {
   "cell_type": "markdown",
   "id": "231710f92f799dfa",
   "metadata": {
    "papermill": {
     "duration": 0.003398,
     "end_time": "2025-08-03T15:00:47.923076",
     "exception": false,
     "start_time": "2025-08-03T15:00:47.919678",
     "status": "completed"
    },
    "tags": []
   },
   "source": [
    "### FilterSchedule\n",
    "\n",
    "This is a generic schedule that takes a callback function that will be used to check the supplied date"
   ]
  },
  {
   "cell_type": "code",
   "execution_count": 11,
   "id": "e8e7d0477ac7deb1",
   "metadata": {
    "ExecuteTime": {
     "end_time": "2025-08-01T08:47:18.312505Z",
     "start_time": "2025-08-01T08:47:18.308012Z"
    },
    "execution": {
     "iopub.execute_input": "2025-08-03T15:00:47.929188Z",
     "iopub.status.busy": "2025-08-03T15:00:47.928952Z",
     "iopub.status.idle": "2025-08-03T15:00:47.931361Z",
     "shell.execute_reply": "2025-08-03T15:00:47.931115Z"
    },
    "papermill": {
     "duration": 0.006547,
     "end_time": "2025-08-03T15:00:47.932010",
     "exception": false,
     "start_time": "2025-08-03T15:00:47.925463",
     "status": "completed"
    },
    "tags": []
   },
   "outputs": [
    {
     "name": "stdout",
     "output_type": "stream",
     "text": [
      "[2025-08-04 : Mon\n",
      " 2025-08-05 : Tue\n",
      " 2025-08-06 : Wed\n",
      " 2025-08-07 : Thu\n",
      " 2025-08-08 : Fri\n",
      " 2025-08-11 : Mon\n",
      " 2025-08-12 : Tue\n",
      " 2025-08-13 : Wed\n",
      " 2025-08-14 : Thu\n",
      " 2025-08-15 : Fri\n",
      " 2025-08-18 : Mon\n",
      " 2025-08-19 : Tue\n",
      " 2025-08-20 : Wed\n",
      " 2025-08-21 : Thu\n",
      " 2025-08-22 : Fri]\n"
     ]
    }
   ],
   "source": [
    "days = [START_DATE + timedelta(days=i) for i in range(20)]\n",
    "\n",
    "\n",
    "def filter_func(current_date: date) -> bool:\n",
    "    return current_date.weekday() < SATURDAY\n",
    "\n",
    "\n",
    "matches = filter(FilterSchedule(filter_func).check, days)\n",
    "print_days(matches)"
   ]
  },
  {
   "cell_type": "markdown",
   "id": "7045591371c57f8d",
   "metadata": {
    "papermill": {
     "duration": 0.005425,
     "end_time": "2025-08-03T15:00:47.940009",
     "exception": false,
     "start_time": "2025-08-03T15:00:47.934584",
     "status": "completed"
    },
    "tags": []
   },
   "source": [
    "## Schedule operators\n",
    "\n",
    "The following schedules take other schedules and apply an operator to them."
   ]
  },
  {
   "cell_type": "markdown",
   "id": "d2caa297c71f9604",
   "metadata": {
    "papermill": {
     "duration": 0.002602,
     "end_time": "2025-08-03T15:00:47.945618",
     "exception": false,
     "start_time": "2025-08-03T15:00:47.943016",
     "status": "completed"
    },
    "tags": []
   },
   "source": [
    "### AnySchedule\n",
    "\n",
    "This represents a boolean `OR` operator for schedules. If any of the child schedules match the current date,\n",
    "then this schedule will match.\n",
    "\n",
    "For example, to get a quarterly schedule, you could create four Yearly schedules and Any them together."
   ]
  },
  {
   "cell_type": "code",
   "execution_count": 12,
   "id": "71f905ff00962efe",
   "metadata": {
    "ExecuteTime": {
     "end_time": "2025-08-01T08:47:18.349376Z",
     "start_time": "2025-08-01T08:47:18.344640Z"
    },
    "execution": {
     "iopub.execute_input": "2025-08-03T15:00:47.951368Z",
     "iopub.status.busy": "2025-08-03T15:00:47.951193Z",
     "iopub.status.idle": "2025-08-03T15:00:47.956552Z",
     "shell.execute_reply": "2025-08-03T15:00:47.955703Z"
    },
    "papermill": {
     "duration": 0.009489,
     "end_time": "2025-08-03T15:00:47.957776",
     "exception": false,
     "start_time": "2025-08-03T15:00:47.948287",
     "status": "completed"
    },
    "tags": []
   },
   "outputs": [
    {
     "name": "stdout",
     "output_type": "stream",
     "text": [
      "[2025-10-01 : Wed\n",
      " 2026-01-01 : Thu\n",
      " 2026-04-01 : Wed\n",
      " 2026-07-01 : Wed\n",
      " 2026-10-01 : Thu\n",
      " 2027-01-01 : Fri\n",
      " 2027-04-01 : Thu\n",
      " 2027-07-01 : Thu\n",
      " 2027-10-01 : Fri\n",
      " 2028-01-01 : Sat\n",
      " 2028-04-01 : Sat]\n"
     ]
    }
   ],
   "source": [
    "days = [START_DATE + timedelta(days=i) for i in range(1000)]\n",
    "matches = filter(AnySchedule({\n",
    "    'Every January 1': YearlySchedule(JANUARY, 1),\n",
    "    'Every April 1': YearlySchedule(APRIL, 1),\n",
    "    'Every July 1': YearlySchedule(JULY, 1),\n",
    "    'Every October 1': YearlySchedule(OCTOBER, 1)}).check, days)\n",
    "print_days(matches)"
   ]
  },
  {
   "cell_type": "markdown",
   "id": "b31fae2015c167c3",
   "metadata": {
    "papermill": {
     "duration": 0.002232,
     "end_time": "2025-08-03T15:00:47.962451",
     "exception": false,
     "start_time": "2025-08-03T15:00:47.960219",
     "status": "completed"
    },
    "tags": []
   },
   "source": [
    "### AllSchedule\n",
    "\n",
    "This represents a boolean `AND` operator for schedules. Only if all the child schedules match the current date,\n",
    "will this schedule match.\n",
    "\n",
    "For example, to get a weekly schedule but only from a certain date."
   ]
  },
  {
   "cell_type": "code",
   "execution_count": 13,
   "id": "2e0cdcce1e258b7c",
   "metadata": {
    "ExecuteTime": {
     "end_time": "2025-08-01T08:47:18.382409Z",
     "start_time": "2025-08-01T08:47:18.377958Z"
    },
    "execution": {
     "iopub.execute_input": "2025-08-03T15:00:47.968096Z",
     "iopub.status.busy": "2025-08-03T15:00:47.967971Z",
     "iopub.status.idle": "2025-08-03T15:00:47.971588Z",
     "shell.execute_reply": "2025-08-03T15:00:47.970639Z"
    },
    "papermill": {
     "duration": 0.007893,
     "end_time": "2025-08-03T15:00:47.972661",
     "exception": false,
     "start_time": "2025-08-03T15:00:47.964768",
     "status": "completed"
    },
    "tags": []
   },
   "outputs": [
    {
     "name": "stdout",
     "output_type": "stream",
     "text": [
      "[2025-08-19 : Tue\n",
      " 2025-08-26 : Tue\n",
      " 2025-09-02 : Tue\n",
      " 2025-09-09 : Tue\n",
      " 2025-09-16 : Tue]\n"
     ]
    }
   ],
   "source": [
    "days = [START_DATE + timedelta(days=i) for i in range(50)]\n",
    "matches = filter(AllSchedule({\n",
    "    'Every Tuesday': WeeklySchedule(TUESDAY),\n",
    "    'From 10 days from now': FromSchedule(START_DATE + timedelta(days=10))}).check, days)\n",
    "print_days(matches)"
   ]
  },
  {
   "cell_type": "markdown",
   "id": "2264bbaf8cda7e64",
   "metadata": {
    "papermill": {
     "duration": 0.002783,
     "end_time": "2025-08-03T15:00:47.978178",
     "exception": false,
     "start_time": "2025-08-03T15:00:47.975395",
     "status": "completed"
    },
    "tags": []
   },
   "source": [
    "### ModuloSchedule\n",
    "\n",
    "This represents a `MODULO` operator for schedules.\n",
    "\n",
    "The `start_date` specifies the first date on or after which a match from the child schedule will\n",
    "result in the Modulo matching.\n",
    "\n",
    "The `modulo` specifies the number of child matches after each Modulo match before the Modulo will\n",
    "match again.\n",
    "\n",
    "For example, to get a schedule for every 4 years, you could use a YearlySchedule for the required date.\n",
    "Then, apply a ModuloSchedule starting on the first of January and matching every fourth child match.\n",
    "\n",
    "> **_NB._** A ModuloSchedule will assert if a date before the `start_date` is checked.\n",
    "\n",
    "> **_NBB._** This is a complicated schedule that may be removed in the future. Any use case may well be achievable\n",
    "using a combination of the other schedules. Particularly the FilterSchedule and another schedule combined\n",
    "with an AllSchedule."
   ]
  },
  {
   "cell_type": "code",
   "execution_count": 14,
   "id": "3caacd6e5bd7c495",
   "metadata": {
    "ExecuteTime": {
     "end_time": "2025-08-01T08:47:18.422081Z",
     "start_time": "2025-08-01T08:47:18.409930Z"
    },
    "execution": {
     "iopub.execute_input": "2025-08-03T15:00:47.984478Z",
     "iopub.status.busy": "2025-08-03T15:00:47.984136Z",
     "iopub.status.idle": "2025-08-03T15:00:47.995486Z",
     "shell.execute_reply": "2025-08-03T15:00:47.995159Z"
    },
    "papermill": {
     "duration": 0.015493,
     "end_time": "2025-08-03T15:00:47.996217",
     "exception": false,
     "start_time": "2025-08-03T15:00:47.980724",
     "status": "completed"
    },
    "tags": []
   },
   "outputs": [
    {
     "name": "stdout",
     "output_type": "stream",
     "text": [
      "[2029-04-15 : Sun\n",
      " 2033-04-15 : Fri\n",
      " 2037-04-15 : Wed]\n"
     ]
    }
   ],
   "source": [
    "days = [START_DATE + timedelta(days=i) for i in range(5000)]\n",
    "matches = filter(ModuloSchedule(YearlySchedule(APRIL, 15),\n",
    "                                start_date=date(START_DATE.year, JANUARY, 1),\n",
    "                                modulo=4).check, days)\n",
    "print_days(matches)"
   ]
  },
  {
   "cell_type": "markdown",
   "id": "1b71c5ddfd8392b9",
   "metadata": {
    "papermill": {
     "duration": 0.002575,
     "end_time": "2025-08-03T15:00:48.001442",
     "exception": false,
     "start_time": "2025-08-03T15:00:47.998867",
     "status": "completed"
    },
    "tags": []
   },
   "source": [
    "## Implementation notes\n",
    "\n",
    "Schedule checks should be pure functions. That is, any call with the same input should return the\n",
    "same result.\n",
    "\n",
    "For most of the implementations, this is true as they are stateless.\n",
    "\n",
    "However, for the ModuloSchedule to work efficiently, it does implement a cache of dates that have been\n",
    "checked. Even so, the ModuloSchedule check will always return the same value for the same input as long\n",
    "as the child schedule check is also a pure function."
   ]
  }
 ],
 "metadata": {
  "kernelspec": {
   "display_name": "Python 3",
   "language": "python",
   "name": "python3"
  },
  "language_info": {
   "codemirror_mode": {
    "name": "ipython",
    "version": 3
   },
   "file_extension": ".py",
   "mimetype": "text/x-python",
   "name": "python",
   "nbconvert_exporter": "python",
   "pygments_lexer": "ipython3",
   "version": "3.12.11"
  },
  "papermill": {
   "default_parameters": {},
   "duration": 1.289196,
   "end_time": "2025-08-03T15:00:48.229488",
   "environment_variables": {},
   "exception": null,
   "input_path": "./lib/schedules/README.ipynb",
   "output_path": "./lib/schedules/README.ipynb",
   "parameters": {},
   "start_time": "2025-08-03T15:00:46.940292",
   "version": "2.6.0"
  }
 },
 "nbformat": 4,
 "nbformat_minor": 5
}