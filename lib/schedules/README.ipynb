{
 "cells": [
  {
   "cell_type": "markdown",
   "id": "86d255fd9c1132ac",
   "metadata": {
    "papermill": {
     "duration": 0.010318,
     "end_time": "2025-08-05T09:07:36.611590",
     "exception": false,
     "start_time": "2025-08-05T09:07:36.601272",
     "status": "completed"
    },
    "tags": []
   },
   "source": [
    "# Schedules\n",
    "\n",
    "A collection of schedule implementations that will take the current date and check if that day\n",
    "is in the schedule."
   ]
  },
  {
   "cell_type": "code",
   "execution_count": 1,
   "id": "20836eec6dbb9973",
   "metadata": {
    "ExecuteTime": {
     "end_time": "2025-08-04T17:35:08.245515Z",
     "start_time": "2025-08-04T17:35:08.238391Z"
    },
    "execution": {
     "iopub.execute_input": "2025-08-05T09:07:36.623536Z",
     "iopub.status.busy": "2025-08-05T09:07:36.623253Z",
     "iopub.status.idle": "2025-08-05T09:07:36.640795Z",
     "shell.execute_reply": "2025-08-05T09:07:36.640330Z"
    },
    "papermill": {
     "duration": 0.024639,
     "end_time": "2025-08-05T09:07:36.641853",
     "exception": false,
     "start_time": "2025-08-05T09:07:36.617214",
     "status": "completed"
    },
    "tags": []
   },
   "outputs": [
    {
     "name": "stdout",
     "output_type": "stream",
     "text": [
      "Start Date: 2025-08-05 : Tue\n"
     ]
    }
   ],
   "source": [
    "from calendar import TUESDAY, SATURDAY, JANUARY, FEBRUARY, APRIL, JULY, OCTOBER\n",
    "from datetime import date, timedelta\n",
    "\n",
    "from lib.schedules import \\\n",
    "    NeverSchedule, \\\n",
    "    DailySchedule, \\\n",
    "    DaySchedule, \\\n",
    "    FromSchedule, \\\n",
    "    UntilSchedule, \\\n",
    "    RangeSchedule, \\\n",
    "    WeeklySchedule, \\\n",
    "    MonthlySchedule, \\\n",
    "    YearlySchedule, \\\n",
    "    FilterSchedule, \\\n",
    "    AnySchedule, \\\n",
    "    AllSchedule\n",
    "from lib.utils.format import \\\n",
    "    format_day, \\\n",
    "    format_days\n",
    "\n",
    "START_DATE = date.today()\n",
    "\n",
    "print(f'Start Date: {format_day(START_DATE)}')"
   ]
  },
  {
   "cell_type": "markdown",
   "id": "b375883e0aef0abe",
   "metadata": {
    "papermill": {
     "duration": 0.003265,
     "end_time": "2025-08-05T09:07:36.648411",
     "exception": false,
     "start_time": "2025-08-05T09:07:36.645146",
     "status": "completed"
    },
    "tags": []
   },
   "source": [
    "## Primitive schedules\n",
    "\n",
    "The following schedules are the basic building blocks of schedules."
   ]
  },
  {
   "cell_type": "markdown",
   "id": "24b2f20432708dd4",
   "metadata": {
    "papermill": {
     "duration": 0.002577,
     "end_time": "2025-08-05T09:07:36.654680",
     "exception": false,
     "start_time": "2025-08-05T09:07:36.652103",
     "status": "completed"
    },
    "tags": []
   },
   "source": [
    "### NeverSchedule\n",
    "\n",
    "This is a trivial schedule in that it always returns False"
   ]
  },
  {
   "cell_type": "code",
   "execution_count": 2,
   "id": "155acd03e1e6e439",
   "metadata": {
    "ExecuteTime": {
     "end_time": "2025-08-04T17:35:08.276928Z",
     "start_time": "2025-08-04T17:35:08.272926Z"
    },
    "execution": {
     "iopub.execute_input": "2025-08-05T09:07:36.660439Z",
     "iopub.status.busy": "2025-08-05T09:07:36.660289Z",
     "iopub.status.idle": "2025-08-05T09:07:36.662985Z",
     "shell.execute_reply": "2025-08-05T09:07:36.662683Z"
    },
    "papermill": {
     "duration": 0.006518,
     "end_time": "2025-08-05T09:07:36.663823",
     "exception": false,
     "start_time": "2025-08-05T09:07:36.657305",
     "status": "completed"
    },
    "tags": []
   },
   "outputs": [
    {
     "name": "stdout",
     "output_type": "stream",
     "text": [
      "[]\n"
     ]
    }
   ],
   "source": [
    "days = [START_DATE + timedelta(days=i) for i in range(1000)]\n",
    "matches = filter(NeverSchedule().check, days)\n",
    "print(format_days(matches))"
   ]
  },
  {
   "cell_type": "markdown",
   "id": "a6c95b36a4777e3b",
   "metadata": {
    "papermill": {
     "duration": 0.00235,
     "end_time": "2025-08-05T09:07:36.668760",
     "exception": false,
     "start_time": "2025-08-05T09:07:36.666410",
     "status": "completed"
    },
    "tags": []
   },
   "source": [
    "### DailySchedule\n",
    "\n",
    "This is a trivial schedule in that it always returns True"
   ]
  },
  {
   "cell_type": "code",
   "execution_count": 3,
   "id": "143ee0c99bef08f5",
   "metadata": {
    "ExecuteTime": {
     "end_time": "2025-08-04T17:35:08.306521Z",
     "start_time": "2025-08-04T17:35:08.303620Z"
    },
    "execution": {
     "iopub.execute_input": "2025-08-05T09:07:36.673768Z",
     "iopub.status.busy": "2025-08-05T09:07:36.673643Z",
     "iopub.status.idle": "2025-08-05T09:07:36.675762Z",
     "shell.execute_reply": "2025-08-05T09:07:36.675508Z"
    },
    "papermill": {
     "duration": 0.005386,
     "end_time": "2025-08-05T09:07:36.676491",
     "exception": false,
     "start_time": "2025-08-05T09:07:36.671105",
     "status": "completed"
    },
    "tags": []
   },
   "outputs": [
    {
     "name": "stdout",
     "output_type": "stream",
     "text": [
      "[2025-08-05 : Tue\n",
      " 2025-08-06 : Wed\n",
      " 2025-08-07 : Thu\n",
      " 2025-08-08 : Fri\n",
      " 2025-08-09 : Sat\n",
      " 2025-08-10 : Sun\n",
      " 2025-08-11 : Mon\n",
      " 2025-08-12 : Tue\n",
      " 2025-08-13 : Wed\n",
      " 2025-08-14 : Thu]\n"
     ]
    }
   ],
   "source": [
    "days = [START_DATE + timedelta(days=i) for i in range(10)]\n",
    "matches = filter(DailySchedule().check, days)\n",
    "print(format_days(matches))"
   ]
  },
  {
   "cell_type": "markdown",
   "id": "c881833ea29fbb9f",
   "metadata": {
    "papermill": {
     "duration": 0.00197,
     "end_time": "2025-08-05T09:07:36.680662",
     "exception": false,
     "start_time": "2025-08-05T09:07:36.678692",
     "status": "completed"
    },
    "tags": []
   },
   "source": [
    "### DaySchedule\n",
    "\n",
    "This schedule will only match on the specified day"
   ]
  },
  {
   "cell_type": "code",
   "execution_count": 4,
   "id": "906f3fdcd1986f5e",
   "metadata": {
    "ExecuteTime": {
     "end_time": "2025-08-04T17:35:08.325710Z",
     "start_time": "2025-08-04T17:35:08.321285Z"
    },
    "execution": {
     "iopub.execute_input": "2025-08-05T09:07:36.684997Z",
     "iopub.status.busy": "2025-08-05T09:07:36.684887Z",
     "iopub.status.idle": "2025-08-05T09:07:36.687270Z",
     "shell.execute_reply": "2025-08-05T09:07:36.687082Z"
    },
    "papermill": {
     "duration": 0.00521,
     "end_time": "2025-08-05T09:07:36.687861",
     "exception": false,
     "start_time": "2025-08-05T09:07:36.682651",
     "status": "completed"
    },
    "tags": []
   },
   "outputs": [
    {
     "name": "stdout",
     "output_type": "stream",
     "text": [
      "[2025-09-24 : Wed]\n"
     ]
    }
   ],
   "source": [
    "days = [START_DATE + timedelta(days=i) for i in range(1000)]\n",
    "matches = filter(DaySchedule(START_DATE + timedelta(days=50)).check, days)\n",
    "print(format_days(matches))"
   ]
  },
  {
   "cell_type": "markdown",
   "id": "dacb67fc16fe79cb",
   "metadata": {
    "papermill": {
     "duration": 0.001903,
     "end_time": "2025-08-05T09:07:36.691800",
     "exception": false,
     "start_time": "2025-08-05T09:07:36.689897",
     "status": "completed"
    },
    "tags": []
   },
   "source": [
    "### FromSchedule\n",
    "\n",
    "This schedule will match on all dates after and including the specified day"
   ]
  },
  {
   "cell_type": "code",
   "execution_count": 5,
   "id": "cd1f77cd06a1c4fe",
   "metadata": {
    "ExecuteTime": {
     "end_time": "2025-08-04T17:35:08.344938Z",
     "start_time": "2025-08-04T17:35:08.341804Z"
    },
    "execution": {
     "iopub.execute_input": "2025-08-05T09:07:36.696100Z",
     "iopub.status.busy": "2025-08-05T09:07:36.696001Z",
     "iopub.status.idle": "2025-08-05T09:07:36.697853Z",
     "shell.execute_reply": "2025-08-05T09:07:36.697649Z"
    },
    "papermill": {
     "duration": 0.00454,
     "end_time": "2025-08-05T09:07:36.698462",
     "exception": false,
     "start_time": "2025-08-05T09:07:36.693922",
     "status": "completed"
    },
    "tags": []
   },
   "outputs": [
    {
     "name": "stdout",
     "output_type": "stream",
     "text": [
      "[2025-08-15 : Fri\n",
      " 2025-08-16 : Sat\n",
      " 2025-08-17 : Sun\n",
      " 2025-08-18 : Mon\n",
      " 2025-08-19 : Tue\n",
      " 2025-08-20 : Wed\n",
      " 2025-08-21 : Thu\n",
      " 2025-08-22 : Fri\n",
      " 2025-08-23 : Sat\n",
      " 2025-08-24 : Sun]\n"
     ]
    }
   ],
   "source": [
    "days = [START_DATE + timedelta(days=i) for i in range(20)]\n",
    "matches = filter(FromSchedule(START_DATE + timedelta(days=10)).check, days)\n",
    "print(format_days(matches))"
   ]
  },
  {
   "cell_type": "markdown",
   "id": "91a29fed9500151c",
   "metadata": {
    "papermill": {
     "duration": 0.00177,
     "end_time": "2025-08-05T09:07:36.702107",
     "exception": false,
     "start_time": "2025-08-05T09:07:36.700337",
     "status": "completed"
    },
    "tags": []
   },
   "source": [
    "### UntilSchedule\n",
    "\n",
    "This schedule will match on all dates up to but not including the specified day"
   ]
  },
  {
   "cell_type": "code",
   "execution_count": 6,
   "id": "3ac26fb8744eb83",
   "metadata": {
    "ExecuteTime": {
     "end_time": "2025-08-04T17:35:08.370226Z",
     "start_time": "2025-08-04T17:35:08.367096Z"
    },
    "execution": {
     "iopub.execute_input": "2025-08-05T09:07:36.706049Z",
     "iopub.status.busy": "2025-08-05T09:07:36.705954Z",
     "iopub.status.idle": "2025-08-05T09:07:36.707737Z",
     "shell.execute_reply": "2025-08-05T09:07:36.707544Z"
    },
    "papermill": {
     "duration": 0.004432,
     "end_time": "2025-08-05T09:07:36.708351",
     "exception": false,
     "start_time": "2025-08-05T09:07:36.703919",
     "status": "completed"
    },
    "tags": []
   },
   "outputs": [
    {
     "name": "stdout",
     "output_type": "stream",
     "text": [
      "[2025-08-05 : Tue\n",
      " 2025-08-06 : Wed\n",
      " 2025-08-07 : Thu\n",
      " 2025-08-08 : Fri\n",
      " 2025-08-09 : Sat\n",
      " 2025-08-10 : Sun\n",
      " 2025-08-11 : Mon\n",
      " 2025-08-12 : Tue\n",
      " 2025-08-13 : Wed\n",
      " 2025-08-14 : Thu]\n"
     ]
    }
   ],
   "source": [
    "days = [START_DATE + timedelta(days=i) for i in range(20)]\n",
    "matches = filter(UntilSchedule(START_DATE + timedelta(days=10)).check, days)\n",
    "print(format_days(matches))"
   ]
  },
  {
   "cell_type": "markdown",
   "id": "6fc05568787e8cdb",
   "metadata": {
    "papermill": {
     "duration": 0.001716,
     "end_time": "2025-08-05T09:07:36.711844",
     "exception": false,
     "start_time": "2025-08-05T09:07:36.710128",
     "status": "completed"
    },
    "tags": []
   },
   "source": [
    "### RangeSchedule\n",
    "\n",
    "This schedule will match on all dates after and including the `from_date` up to but not including\n",
    "the `until_date`"
   ]
  },
  {
   "cell_type": "code",
   "execution_count": 7,
   "id": "22627d6ed8970f75",
   "metadata": {
    "ExecuteTime": {
     "end_time": "2025-08-04T17:35:08.390645Z",
     "start_time": "2025-08-04T17:35:08.387678Z"
    },
    "execution": {
     "iopub.execute_input": "2025-08-05T09:07:36.715643Z",
     "iopub.status.busy": "2025-08-05T09:07:36.715551Z",
     "iopub.status.idle": "2025-08-05T09:07:36.717297Z",
     "shell.execute_reply": "2025-08-05T09:07:36.717095Z"
    },
    "papermill": {
     "duration": 0.004273,
     "end_time": "2025-08-05T09:07:36.717860",
     "exception": false,
     "start_time": "2025-08-05T09:07:36.713587",
     "status": "completed"
    },
    "tags": []
   },
   "outputs": [
    {
     "name": "stdout",
     "output_type": "stream",
     "text": [
      "[2025-08-15 : Fri\n",
      " 2025-08-16 : Sat\n",
      " 2025-08-17 : Sun\n",
      " 2025-08-18 : Mon\n",
      " 2025-08-19 : Tue\n",
      " 2025-08-20 : Wed\n",
      " 2025-08-21 : Thu\n",
      " 2025-08-22 : Fri\n",
      " 2025-08-23 : Sat\n",
      " 2025-08-24 : Sun]\n"
     ]
    }
   ],
   "source": [
    "days = [START_DATE + timedelta(days=i) for i in range(30)]\n",
    "matches = filter(RangeSchedule(from_date=START_DATE + timedelta(days=10),\n",
    "                               until_date=START_DATE + timedelta(days=20)).check, days)\n",
    "print(format_days(matches))"
   ]
  },
  {
   "cell_type": "markdown",
   "id": "7b9ebdf63a827652",
   "metadata": {
    "papermill": {
     "duration": 0.001814,
     "end_time": "2025-08-05T09:07:36.721583",
     "exception": false,
     "start_time": "2025-08-05T09:07:36.719769",
     "status": "completed"
    },
    "tags": []
   },
   "source": [
    "### WeeklySchedule\n",
    "\n",
    "This schedule will match on the specified day of the week"
   ]
  },
  {
   "cell_type": "code",
   "execution_count": 8,
   "id": "8337dcfb7faf8c47",
   "metadata": {
    "ExecuteTime": {
     "end_time": "2025-08-04T17:35:08.410235Z",
     "start_time": "2025-08-04T17:35:08.406463Z"
    },
    "execution": {
     "iopub.execute_input": "2025-08-05T09:07:36.725569Z",
     "iopub.status.busy": "2025-08-05T09:07:36.725471Z",
     "iopub.status.idle": "2025-08-05T09:07:36.727258Z",
     "shell.execute_reply": "2025-08-05T09:07:36.727030Z"
    },
    "papermill": {
     "duration": 0.00447,
     "end_time": "2025-08-05T09:07:36.727904",
     "exception": false,
     "start_time": "2025-08-05T09:07:36.723434",
     "status": "completed"
    },
    "tags": []
   },
   "outputs": [
    {
     "name": "stdout",
     "output_type": "stream",
     "text": [
      "[2025-08-05 : Tue\n",
      " 2025-08-12 : Tue\n",
      " 2025-08-19 : Tue\n",
      " 2025-08-26 : Tue\n",
      " 2025-09-02 : Tue\n",
      " 2025-09-09 : Tue\n",
      " 2025-09-16 : Tue\n",
      " 2025-09-23 : Tue]\n"
     ]
    }
   ],
   "source": [
    "days = [START_DATE + timedelta(days=i) for i in range(50)]\n",
    "matches = filter(WeeklySchedule(TUESDAY).check, days)\n",
    "print(format_days(matches))"
   ]
  },
  {
   "cell_type": "markdown",
   "id": "1bddb1513f8eac3c",
   "metadata": {
    "papermill": {
     "duration": 0.001718,
     "end_time": "2025-08-05T09:07:36.731588",
     "exception": false,
     "start_time": "2025-08-05T09:07:36.729870",
     "status": "completed"
    },
    "tags": []
   },
   "source": [
    "### MonthlySchedule\n",
    "\n",
    "This schedule will match on the specified day of the month.\n",
    "\n",
    "> **_NB._** If the current month does not have the specified day (e.g., there is no 30th of February in any year)\n",
    "then the last day of the month will match."
   ]
  },
  {
   "cell_type": "code",
   "execution_count": 9,
   "id": "76f2f172fda2c5b8",
   "metadata": {
    "ExecuteTime": {
     "end_time": "2025-08-04T17:35:08.430939Z",
     "start_time": "2025-08-04T17:35:08.427205Z"
    },
    "execution": {
     "iopub.execute_input": "2025-08-05T09:07:36.735457Z",
     "iopub.status.busy": "2025-08-05T09:07:36.735358Z",
     "iopub.status.idle": "2025-08-05T09:07:36.737600Z",
     "shell.execute_reply": "2025-08-05T09:07:36.737378Z"
    },
    "papermill": {
     "duration": 0.00487,
     "end_time": "2025-08-05T09:07:36.738203",
     "exception": false,
     "start_time": "2025-08-05T09:07:36.733333",
     "status": "completed"
    },
    "tags": []
   },
   "outputs": [
    {
     "name": "stdout",
     "output_type": "stream",
     "text": [
      "[2025-08-30 : Sat\n",
      " 2025-09-30 : Tue\n",
      " 2025-10-30 : Thu\n",
      " 2025-11-30 : Sun\n",
      " 2025-12-30 : Tue\n",
      " 2026-01-30 : Fri\n",
      " 2026-02-28 : Sat\n",
      " 2026-03-30 : Mon\n",
      " 2026-04-30 : Thu\n",
      " 2026-05-30 : Sat\n",
      " 2026-06-30 : Tue\n",
      " 2026-07-30 : Thu\n",
      " 2026-08-30 : Sun\n",
      " 2026-09-30 : Wed\n",
      " 2026-10-30 : Fri\n",
      " 2026-11-30 : Mon]\n"
     ]
    }
   ],
   "source": [
    "days = [START_DATE + timedelta(days=i) for i in range(500)]\n",
    "matches = filter(MonthlySchedule(30).check, days)\n",
    "print(format_days(matches))"
   ]
  },
  {
   "cell_type": "markdown",
   "id": "fe7200e9208b0cb3",
   "metadata": {
    "papermill": {
     "duration": 0.001807,
     "end_time": "2025-08-05T09:07:36.741876",
     "exception": false,
     "start_time": "2025-08-05T09:07:36.740069",
     "status": "completed"
    },
    "tags": []
   },
   "source": [
    "### YearlySchedule\n",
    "\n",
    "This schedule will match on the specified day of specified month.\n",
    "\n",
    "> **_NB._** If the current month does not have the specified day (e.g., there is no 30th of February in any year)\n",
    "then the last day of the month will match."
   ]
  },
  {
   "cell_type": "code",
   "execution_count": 10,
   "id": "ce50c3ac5cd812ae",
   "metadata": {
    "ExecuteTime": {
     "end_time": "2025-08-04T17:35:08.474324Z",
     "start_time": "2025-08-04T17:35:08.451428Z"
    },
    "execution": {
     "iopub.execute_input": "2025-08-05T09:07:36.745847Z",
     "iopub.status.busy": "2025-08-05T09:07:36.745747Z",
     "iopub.status.idle": "2025-08-05T09:07:36.749437Z",
     "shell.execute_reply": "2025-08-05T09:07:36.749238Z"
    },
    "papermill": {
     "duration": 0.006316,
     "end_time": "2025-08-05T09:07:36.750017",
     "exception": false,
     "start_time": "2025-08-05T09:07:36.743701",
     "status": "completed"
    },
    "tags": []
   },
   "outputs": [
    {
     "name": "stdout",
     "output_type": "stream",
     "text": [
      "[2026-02-28 : Sat\n",
      " 2027-02-28 : Sun\n",
      " 2028-02-29 : Tue\n",
      " 2029-02-28 : Wed\n",
      " 2030-02-28 : Thu\n",
      " 2031-02-28 : Fri\n",
      " 2032-02-29 : Sun\n",
      " 2033-02-28 : Mon\n",
      " 2034-02-28 : Tue\n",
      " 2035-02-28 : Wed\n",
      " 2036-02-29 : Fri\n",
      " 2037-02-28 : Sat\n",
      " 2038-02-28 : Sun\n",
      " 2039-02-28 : Mon]\n"
     ]
    }
   ],
   "source": [
    "days = [START_DATE + timedelta(days=i) for i in range(5000)]\n",
    "matches = filter(YearlySchedule(FEBRUARY, 30).check, days)\n",
    "print(format_days(matches))"
   ]
  },
  {
   "cell_type": "markdown",
   "id": "231710f92f799dfa",
   "metadata": {
    "papermill": {
     "duration": 0.001799,
     "end_time": "2025-08-05T09:07:36.753678",
     "exception": false,
     "start_time": "2025-08-05T09:07:36.751879",
     "status": "completed"
    },
    "tags": []
   },
   "source": [
    "### FilterSchedule\n",
    "\n",
    "This is a generic schedule that takes a callback function that will be used to check the supplied date"
   ]
  },
  {
   "cell_type": "code",
   "execution_count": 11,
   "id": "e8e7d0477ac7deb1",
   "metadata": {
    "ExecuteTime": {
     "end_time": "2025-08-04T17:35:08.500729Z",
     "start_time": "2025-08-04T17:35:08.497464Z"
    },
    "execution": {
     "iopub.execute_input": "2025-08-05T09:07:36.757856Z",
     "iopub.status.busy": "2025-08-05T09:07:36.757714Z",
     "iopub.status.idle": "2025-08-05T09:07:36.759739Z",
     "shell.execute_reply": "2025-08-05T09:07:36.759537Z"
    },
    "papermill": {
     "duration": 0.004698,
     "end_time": "2025-08-05T09:07:36.760296",
     "exception": false,
     "start_time": "2025-08-05T09:07:36.755598",
     "status": "completed"
    },
    "tags": []
   },
   "outputs": [
    {
     "name": "stdout",
     "output_type": "stream",
     "text": [
      "[2025-08-05 : Tue\n",
      " 2025-08-06 : Wed\n",
      " 2025-08-07 : Thu\n",
      " 2025-08-08 : Fri\n",
      " 2025-08-11 : Mon\n",
      " 2025-08-12 : Tue\n",
      " 2025-08-13 : Wed\n",
      " 2025-08-14 : Thu\n",
      " 2025-08-15 : Fri\n",
      " 2025-08-18 : Mon\n",
      " 2025-08-19 : Tue\n",
      " 2025-08-20 : Wed\n",
      " 2025-08-21 : Thu\n",
      " 2025-08-22 : Fri]\n"
     ]
    }
   ],
   "source": [
    "days = [START_DATE + timedelta(days=i) for i in range(20)]\n",
    "\n",
    "\n",
    "def filter_func(current_date: date) -> bool:\n",
    "    return current_date.weekday() < SATURDAY\n",
    "\n",
    "\n",
    "matches = filter(FilterSchedule(filter_func).check, days)\n",
    "print(format_days(matches))"
   ]
  },
  {
   "cell_type": "markdown",
   "id": "7045591371c57f8d",
   "metadata": {
    "papermill": {
     "duration": 0.001805,
     "end_time": "2025-08-05T09:07:36.763965",
     "exception": false,
     "start_time": "2025-08-05T09:07:36.762160",
     "status": "completed"
    },
    "tags": []
   },
   "source": [
    "## Schedule operators\n",
    "\n",
    "The following schedules take other schedules and apply an operator to them."
   ]
  },
  {
   "cell_type": "markdown",
   "id": "d2caa297c71f9604",
   "metadata": {
    "papermill": {
     "duration": 0.001814,
     "end_time": "2025-08-05T09:07:36.767692",
     "exception": false,
     "start_time": "2025-08-05T09:07:36.765878",
     "status": "completed"
    },
    "tags": []
   },
   "source": [
    "### AnySchedule\n",
    "\n",
    "This represents a boolean `OR` operator for schedules. If any of the child schedules match the current date,\n",
    "then this schedule will match.\n",
    "\n",
    "For example, to get a quarterly schedule, you could create four Yearly schedules and Any them together."
   ]
  },
  {
   "cell_type": "code",
   "execution_count": 12,
   "id": "71f905ff00962efe",
   "metadata": {
    "ExecuteTime": {
     "end_time": "2025-08-04T17:35:08.518159Z",
     "start_time": "2025-08-04T17:35:08.513094Z"
    },
    "execution": {
     "iopub.execute_input": "2025-08-05T09:07:36.771668Z",
     "iopub.status.busy": "2025-08-05T09:07:36.771574Z",
     "iopub.status.idle": "2025-08-05T09:07:36.774344Z",
     "shell.execute_reply": "2025-08-05T09:07:36.774105Z"
    },
    "papermill": {
     "duration": 0.005438,
     "end_time": "2025-08-05T09:07:36.774896",
     "exception": false,
     "start_time": "2025-08-05T09:07:36.769458",
     "status": "completed"
    },
    "tags": []
   },
   "outputs": [
    {
     "name": "stdout",
     "output_type": "stream",
     "text": [
      "[2025-10-01 : Wed\n",
      " 2026-01-01 : Thu\n",
      " 2026-04-01 : Wed\n",
      " 2026-07-01 : Wed\n",
      " 2026-10-01 : Thu\n",
      " 2027-01-01 : Fri\n",
      " 2027-04-01 : Thu\n",
      " 2027-07-01 : Thu\n",
      " 2027-10-01 : Fri\n",
      " 2028-01-01 : Sat\n",
      " 2028-04-01 : Sat]\n"
     ]
    }
   ],
   "source": [
    "days = [START_DATE + timedelta(days=i) for i in range(1000)]\n",
    "matches = filter(AnySchedule({\n",
    "    'Every January 1': YearlySchedule(JANUARY, 1),\n",
    "    'Every April 1': YearlySchedule(APRIL, 1),\n",
    "    'Every July 1': YearlySchedule(JULY, 1),\n",
    "    'Every October 1': YearlySchedule(OCTOBER, 1)}).check, days)\n",
    "print(format_days(matches))"
   ]
  },
  {
   "cell_type": "markdown",
   "id": "b31fae2015c167c3",
   "metadata": {
    "papermill": {
     "duration": 0.001811,
     "end_time": "2025-08-05T09:07:36.778682",
     "exception": false,
     "start_time": "2025-08-05T09:07:36.776871",
     "status": "completed"
    },
    "tags": []
   },
   "source": [
    "### AllSchedule\n",
    "\n",
    "This represents a boolean `AND` operator for schedules. Only if all the child schedules match the current date,\n",
    "will this schedule match.\n",
    "\n",
    "For example, to get a weekly schedule but only from a certain date."
   ]
  },
  {
   "cell_type": "code",
   "execution_count": 13,
   "id": "2e0cdcce1e258b7c",
   "metadata": {
    "ExecuteTime": {
     "end_time": "2025-08-04T17:35:08.534910Z",
     "start_time": "2025-08-04T17:35:08.529452Z"
    },
    "execution": {
     "iopub.execute_input": "2025-08-05T09:07:36.782738Z",
     "iopub.status.busy": "2025-08-05T09:07:36.782642Z",
     "iopub.status.idle": "2025-08-05T09:07:36.784512Z",
     "shell.execute_reply": "2025-08-05T09:07:36.784298Z"
    },
    "papermill": {
     "duration": 0.00461,
     "end_time": "2025-08-05T09:07:36.785089",
     "exception": false,
     "start_time": "2025-08-05T09:07:36.780479",
     "status": "completed"
    },
    "tags": []
   },
   "outputs": [
    {
     "name": "stdout",
     "output_type": "stream",
     "text": [
      "[2025-08-19 : Tue\n",
      " 2025-08-26 : Tue\n",
      " 2025-09-02 : Tue\n",
      " 2025-09-09 : Tue\n",
      " 2025-09-16 : Tue\n",
      " 2025-09-23 : Tue]\n"
     ]
    }
   ],
   "source": [
    "days = [START_DATE + timedelta(days=i) for i in range(50)]\n",
    "matches = filter(AllSchedule({\n",
    "    'Every Tuesday': WeeklySchedule(TUESDAY),\n",
    "    'From 10 days from now': FromSchedule(START_DATE + timedelta(days=10))}).check, days)\n",
    "print(format_days(matches))"
   ]
  }
 ],
 "metadata": {
  "kernelspec": {
   "display_name": "Python 3",
   "language": "python",
   "name": "python3"
  },
  "language_info": {
   "codemirror_mode": {
    "name": "ipython",
    "version": 3
   },
   "file_extension": ".py",
   "mimetype": "text/x-python",
   "name": "python",
   "nbconvert_exporter": "python",
   "pygments_lexer": "ipython3",
   "version": "3.12.11"
  },
  "papermill": {
   "default_parameters": {},
   "duration": 1.168157,
   "end_time": "2025-08-05T09:07:36.901698",
   "environment_variables": {},
   "exception": null,
   "input_path": "./lib/schedules/README.ipynb",
   "output_path": "./lib/schedules/README.ipynb",
   "parameters": {},
   "start_time": "2025-08-05T09:07:35.733541",
   "version": "2.6.0"
  }
 },
 "nbformat": 4,
 "nbformat_minor": 5
}