{
 "cells": [
  {
   "cell_type": "markdown",
   "id": "86d255fd9c1132ac",
   "metadata": {
    "papermill": {
     "duration": 0.00783,
     "end_time": "2025-08-05T11:02:08.850973",
     "exception": false,
     "start_time": "2025-08-05T11:02:08.843143",
     "status": "completed"
    },
    "tags": []
   },
   "source": [
    "# Schedules\n",
    "\n",
    "A collection of schedule implementations that will take the current date and check if that day\n",
    "is in the schedule."
   ]
  },
  {
   "cell_type": "code",
   "execution_count": 1,
   "id": "20836eec6dbb9973",
   "metadata": {
    "ExecuteTime": {
     "end_time": "2025-08-04T17:35:08.245515Z",
     "start_time": "2025-08-04T17:35:08.238391Z"
    },
    "execution": {
     "iopub.execute_input": "2025-08-05T11:02:08.855777Z",
     "iopub.status.busy": "2025-08-05T11:02:08.855627Z",
     "iopub.status.idle": "2025-08-05T11:02:08.865932Z",
     "shell.execute_reply": "2025-08-05T11:02:08.865513Z"
    },
    "papermill": {
     "duration": 0.013694,
     "end_time": "2025-08-05T11:02:08.866888",
     "exception": false,
     "start_time": "2025-08-05T11:02:08.853194",
     "status": "completed"
    },
    "tags": []
   },
   "outputs": [
    {
     "name": "stdout",
     "output_type": "stream",
     "text": [
      "Start Date: 2025-08-05 : Tue\n"
     ]
    }
   ],
   "source": [
    "from calendar import TUESDAY, SATURDAY, JANUARY, FEBRUARY, APRIL, JULY, OCTOBER\n",
    "from datetime import date, timedelta\n",
    "\n",
    "from lib.schedules import \\\n",
    "    NeverSchedule, \\\n",
    "    DailySchedule, \\\n",
    "    DaySchedule, \\\n",
    "    FromSchedule, \\\n",
    "    UntilSchedule, \\\n",
    "    RangeSchedule, \\\n",
    "    WeeklySchedule, \\\n",
    "    MonthlySchedule, \\\n",
    "    YearlySchedule, \\\n",
    "    FilterSchedule, \\\n",
    "    AnySchedule, \\\n",
    "    AllSchedule\n",
    "from lib.utils.format import \\\n",
    "    format_day, \\\n",
    "    format_days\n",
    "\n",
    "START_DATE = date.today()\n",
    "\n",
    "print(f'Start Date: {format_day(START_DATE)}')"
   ]
  },
  {
   "cell_type": "markdown",
   "id": "b375883e0aef0abe",
   "metadata": {
    "papermill": {
     "duration": 0.00221,
     "end_time": "2025-08-05T11:02:08.871529",
     "exception": false,
     "start_time": "2025-08-05T11:02:08.869319",
     "status": "completed"
    },
    "tags": []
   },
   "source": [
    "## Primitive schedules\n",
    "\n",
    "The following schedules are the basic building blocks of schedules."
   ]
  },
  {
   "cell_type": "markdown",
   "id": "24b2f20432708dd4",
   "metadata": {
    "papermill": {
     "duration": 0.00214,
     "end_time": "2025-08-05T11:02:08.875801",
     "exception": false,
     "start_time": "2025-08-05T11:02:08.873661",
     "status": "completed"
    },
    "tags": []
   },
   "source": [
    "### NeverSchedule\n",
    "\n",
    "This is a trivial schedule in that it always returns False"
   ]
  },
  {
   "cell_type": "code",
   "execution_count": 2,
   "id": "155acd03e1e6e439",
   "metadata": {
    "ExecuteTime": {
     "end_time": "2025-08-04T17:35:08.276928Z",
     "start_time": "2025-08-04T17:35:08.272926Z"
    },
    "execution": {
     "iopub.execute_input": "2025-08-05T11:02:08.880846Z",
     "iopub.status.busy": "2025-08-05T11:02:08.880683Z",
     "iopub.status.idle": "2025-08-05T11:02:08.883517Z",
     "shell.execute_reply": "2025-08-05T11:02:08.883261Z"
    },
    "papermill": {
     "duration": 0.006208,
     "end_time": "2025-08-05T11:02:08.884258",
     "exception": false,
     "start_time": "2025-08-05T11:02:08.878050",
     "status": "completed"
    },
    "tags": []
   },
   "outputs": [
    {
     "name": "stdout",
     "output_type": "stream",
     "text": [
      "[]\n"
     ]
    }
   ],
   "source": [
    "days = [START_DATE + timedelta(days=i) for i in range(1000)]\n",
    "matches = filter(NeverSchedule().check, days)\n",
    "print(format_days(matches))"
   ]
  },
  {
   "cell_type": "markdown",
   "id": "a6c95b36a4777e3b",
   "metadata": {
    "papermill": {
     "duration": 0.002288,
     "end_time": "2025-08-05T11:02:08.889062",
     "exception": false,
     "start_time": "2025-08-05T11:02:08.886774",
     "status": "completed"
    },
    "tags": []
   },
   "source": [
    "### DailySchedule\n",
    "\n",
    "This is a trivial schedule in that it always returns True"
   ]
  },
  {
   "cell_type": "code",
   "execution_count": 3,
   "id": "143ee0c99bef08f5",
   "metadata": {
    "ExecuteTime": {
     "end_time": "2025-08-04T17:35:08.306521Z",
     "start_time": "2025-08-04T17:35:08.303620Z"
    },
    "execution": {
     "iopub.execute_input": "2025-08-05T11:02:08.894402Z",
     "iopub.status.busy": "2025-08-05T11:02:08.894243Z",
     "iopub.status.idle": "2025-08-05T11:02:08.896619Z",
     "shell.execute_reply": "2025-08-05T11:02:08.896342Z"
    },
    "papermill": {
     "duration": 0.005961,
     "end_time": "2025-08-05T11:02:08.897388",
     "exception": false,
     "start_time": "2025-08-05T11:02:08.891427",
     "status": "completed"
    },
    "tags": []
   },
   "outputs": [
    {
     "name": "stdout",
     "output_type": "stream",
     "text": [
      "[2025-08-05 : Tue\n",
      " 2025-08-06 : Wed\n",
      " 2025-08-07 : Thu\n",
      " 2025-08-08 : Fri\n",
      " 2025-08-09 : Sat\n",
      " 2025-08-10 : Sun\n",
      " 2025-08-11 : Mon\n",
      " 2025-08-12 : Tue\n",
      " 2025-08-13 : Wed\n",
      " 2025-08-14 : Thu]\n"
     ]
    }
   ],
   "source": [
    "days = [START_DATE + timedelta(days=i) for i in range(10)]\n",
    "matches = filter(DailySchedule().check, days)\n",
    "print(format_days(matches))"
   ]
  },
  {
   "cell_type": "markdown",
   "id": "c881833ea29fbb9f",
   "metadata": {
    "papermill": {
     "duration": 0.002588,
     "end_time": "2025-08-05T11:02:08.902462",
     "exception": false,
     "start_time": "2025-08-05T11:02:08.899874",
     "status": "completed"
    },
    "tags": []
   },
   "source": [
    "### DaySchedule\n",
    "\n",
    "This schedule will only match on the specified day"
   ]
  },
  {
   "cell_type": "code",
   "execution_count": 4,
   "id": "906f3fdcd1986f5e",
   "metadata": {
    "ExecuteTime": {
     "end_time": "2025-08-04T17:35:08.325710Z",
     "start_time": "2025-08-04T17:35:08.321285Z"
    },
    "execution": {
     "iopub.execute_input": "2025-08-05T11:02:08.907715Z",
     "iopub.status.busy": "2025-08-05T11:02:08.907583Z",
     "iopub.status.idle": "2025-08-05T11:02:08.910433Z",
     "shell.execute_reply": "2025-08-05T11:02:08.910132Z"
    },
    "papermill": {
     "duration": 0.006343,
     "end_time": "2025-08-05T11:02:08.911172",
     "exception": false,
     "start_time": "2025-08-05T11:02:08.904829",
     "status": "completed"
    },
    "tags": []
   },
   "outputs": [
    {
     "name": "stdout",
     "output_type": "stream",
     "text": [
      "[2025-09-24 : Wed]\n"
     ]
    }
   ],
   "source": [
    "days = [START_DATE + timedelta(days=i) for i in range(1000)]\n",
    "matches = filter(DaySchedule(START_DATE + timedelta(days=50)).check, days)\n",
    "print(format_days(matches))"
   ]
  },
  {
   "cell_type": "markdown",
   "id": "dacb67fc16fe79cb",
   "metadata": {
    "papermill": {
     "duration": 0.002221,
     "end_time": "2025-08-05T11:02:08.915829",
     "exception": false,
     "start_time": "2025-08-05T11:02:08.913608",
     "status": "completed"
    },
    "tags": []
   },
   "source": [
    "### FromSchedule\n",
    "\n",
    "This schedule will match on all dates after and including the specified day"
   ]
  },
  {
   "cell_type": "code",
   "execution_count": 5,
   "id": "cd1f77cd06a1c4fe",
   "metadata": {
    "ExecuteTime": {
     "end_time": "2025-08-04T17:35:08.344938Z",
     "start_time": "2025-08-04T17:35:08.341804Z"
    },
    "execution": {
     "iopub.execute_input": "2025-08-05T11:02:08.920992Z",
     "iopub.status.busy": "2025-08-05T11:02:08.920786Z",
     "iopub.status.idle": "2025-08-05T11:02:08.922896Z",
     "shell.execute_reply": "2025-08-05T11:02:08.922671Z"
    },
    "papermill": {
     "duration": 0.005275,
     "end_time": "2025-08-05T11:02:08.923595",
     "exception": false,
     "start_time": "2025-08-05T11:02:08.918320",
     "status": "completed"
    },
    "tags": []
   },
   "outputs": [
    {
     "name": "stdout",
     "output_type": "stream",
     "text": [
      "[2025-08-15 : Fri\n",
      " 2025-08-16 : Sat\n",
      " 2025-08-17 : Sun\n",
      " 2025-08-18 : Mon\n",
      " 2025-08-19 : Tue\n",
      " 2025-08-20 : Wed\n",
      " 2025-08-21 : Thu\n",
      " 2025-08-22 : Fri\n",
      " 2025-08-23 : Sat\n",
      " 2025-08-24 : Sun]\n"
     ]
    }
   ],
   "source": [
    "days = [START_DATE + timedelta(days=i) for i in range(20)]\n",
    "matches = filter(FromSchedule(START_DATE + timedelta(days=10)).check, days)\n",
    "print(format_days(matches))"
   ]
  },
  {
   "cell_type": "markdown",
   "id": "91a29fed9500151c",
   "metadata": {
    "papermill": {
     "duration": 0.002068,
     "end_time": "2025-08-05T11:02:08.927868",
     "exception": false,
     "start_time": "2025-08-05T11:02:08.925800",
     "status": "completed"
    },
    "tags": []
   },
   "source": [
    "### UntilSchedule\n",
    "\n",
    "This schedule will match on all dates up to but not including the specified day"
   ]
  },
  {
   "cell_type": "code",
   "execution_count": 6,
   "id": "3ac26fb8744eb83",
   "metadata": {
    "ExecuteTime": {
     "end_time": "2025-08-04T17:35:08.370226Z",
     "start_time": "2025-08-04T17:35:08.367096Z"
    },
    "execution": {
     "iopub.execute_input": "2025-08-05T11:02:08.932631Z",
     "iopub.status.busy": "2025-08-05T11:02:08.932487Z",
     "iopub.status.idle": "2025-08-05T11:02:08.934685Z",
     "shell.execute_reply": "2025-08-05T11:02:08.934457Z"
    },
    "papermill": {
     "duration": 0.005427,
     "end_time": "2025-08-05T11:02:08.935325",
     "exception": false,
     "start_time": "2025-08-05T11:02:08.929898",
     "status": "completed"
    },
    "tags": []
   },
   "outputs": [
    {
     "name": "stdout",
     "output_type": "stream",
     "text": [
      "[2025-08-05 : Tue\n",
      " 2025-08-06 : Wed\n",
      " 2025-08-07 : Thu\n",
      " 2025-08-08 : Fri\n",
      " 2025-08-09 : Sat\n",
      " 2025-08-10 : Sun\n",
      " 2025-08-11 : Mon\n",
      " 2025-08-12 : Tue\n",
      " 2025-08-13 : Wed\n",
      " 2025-08-14 : Thu]\n"
     ]
    }
   ],
   "source": [
    "days = [START_DATE + timedelta(days=i) for i in range(20)]\n",
    "matches = filter(UntilSchedule(START_DATE + timedelta(days=10)).check, days)\n",
    "print(format_days(matches))"
   ]
  },
  {
   "cell_type": "markdown",
   "id": "6fc05568787e8cdb",
   "metadata": {
    "papermill": {
     "duration": 0.001804,
     "end_time": "2025-08-05T11:02:08.939247",
     "exception": false,
     "start_time": "2025-08-05T11:02:08.937443",
     "status": "completed"
    },
    "tags": []
   },
   "source": [
    "### RangeSchedule\n",
    "\n",
    "This schedule will match on all dates after and including the `from_date` up to but not including\n",
    "the `until_date`"
   ]
  },
  {
   "cell_type": "code",
   "execution_count": 7,
   "id": "22627d6ed8970f75",
   "metadata": {
    "ExecuteTime": {
     "end_time": "2025-08-04T17:35:08.390645Z",
     "start_time": "2025-08-04T17:35:08.387678Z"
    },
    "execution": {
     "iopub.execute_input": "2025-08-05T11:02:08.943436Z",
     "iopub.status.busy": "2025-08-05T11:02:08.943324Z",
     "iopub.status.idle": "2025-08-05T11:02:08.945345Z",
     "shell.execute_reply": "2025-08-05T11:02:08.945134Z"
    },
    "papermill": {
     "duration": 0.004779,
     "end_time": "2025-08-05T11:02:08.945949",
     "exception": false,
     "start_time": "2025-08-05T11:02:08.941170",
     "status": "completed"
    },
    "tags": []
   },
   "outputs": [
    {
     "name": "stdout",
     "output_type": "stream",
     "text": [
      "[2025-08-15 : Fri\n",
      " 2025-08-16 : Sat\n",
      " 2025-08-17 : Sun\n",
      " 2025-08-18 : Mon\n",
      " 2025-08-19 : Tue\n",
      " 2025-08-20 : Wed\n",
      " 2025-08-21 : Thu\n",
      " 2025-08-22 : Fri\n",
      " 2025-08-23 : Sat\n",
      " 2025-08-24 : Sun]\n"
     ]
    }
   ],
   "source": [
    "days = [START_DATE + timedelta(days=i) for i in range(30)]\n",
    "matches = filter(RangeSchedule(from_date=START_DATE + timedelta(days=10),\n",
    "                               until_date=START_DATE + timedelta(days=20)).check, days)\n",
    "print(format_days(matches))"
   ]
  },
  {
   "cell_type": "markdown",
   "id": "7b9ebdf63a827652",
   "metadata": {
    "papermill": {
     "duration": 0.00185,
     "end_time": "2025-08-05T11:02:08.949750",
     "exception": false,
     "start_time": "2025-08-05T11:02:08.947900",
     "status": "completed"
    },
    "tags": []
   },
   "source": [
    "### WeeklySchedule\n",
    "\n",
    "This schedule will match on the specified day of the week"
   ]
  },
  {
   "cell_type": "code",
   "execution_count": 8,
   "id": "8337dcfb7faf8c47",
   "metadata": {
    "ExecuteTime": {
     "end_time": "2025-08-04T17:35:08.410235Z",
     "start_time": "2025-08-04T17:35:08.406463Z"
    },
    "execution": {
     "iopub.execute_input": "2025-08-05T11:02:08.954718Z",
     "iopub.status.busy": "2025-08-05T11:02:08.954556Z",
     "iopub.status.idle": "2025-08-05T11:02:08.956621Z",
     "shell.execute_reply": "2025-08-05T11:02:08.956426Z"
    },
    "papermill": {
     "duration": 0.005266,
     "end_time": "2025-08-05T11:02:08.957360",
     "exception": false,
     "start_time": "2025-08-05T11:02:08.952094",
     "status": "completed"
    },
    "tags": []
   },
   "outputs": [
    {
     "name": "stdout",
     "output_type": "stream",
     "text": [
      "[2025-08-05 : Tue\n",
      " 2025-08-12 : Tue\n",
      " 2025-08-19 : Tue\n",
      " 2025-08-26 : Tue\n",
      " 2025-09-02 : Tue\n",
      " 2025-09-09 : Tue\n",
      " 2025-09-16 : Tue\n",
      " 2025-09-23 : Tue]\n"
     ]
    }
   ],
   "source": [
    "days = [START_DATE + timedelta(days=i) for i in range(50)]\n",
    "matches = filter(WeeklySchedule(TUESDAY).check, days)\n",
    "print(format_days(matches))"
   ]
  },
  {
   "cell_type": "markdown",
   "id": "1bddb1513f8eac3c",
   "metadata": {
    "papermill": {
     "duration": 0.002027,
     "end_time": "2025-08-05T11:02:08.961480",
     "exception": false,
     "start_time": "2025-08-05T11:02:08.959453",
     "status": "completed"
    },
    "tags": []
   },
   "source": [
    "### MonthlySchedule\n",
    "\n",
    "This schedule will match on the specified day of the month.\n",
    "\n",
    "> **_NB._** If the current month does not have the specified day (e.g., there is no 30th of February in any year)\n",
    "then the last day of the month will match."
   ]
  },
  {
   "cell_type": "code",
   "execution_count": 9,
   "id": "76f2f172fda2c5b8",
   "metadata": {
    "ExecuteTime": {
     "end_time": "2025-08-04T17:35:08.430939Z",
     "start_time": "2025-08-04T17:35:08.427205Z"
    },
    "execution": {
     "iopub.execute_input": "2025-08-05T11:02:08.965869Z",
     "iopub.status.busy": "2025-08-05T11:02:08.965735Z",
     "iopub.status.idle": "2025-08-05T11:02:08.968097Z",
     "shell.execute_reply": "2025-08-05T11:02:08.967816Z"
    },
    "papermill": {
     "duration": 0.005363,
     "end_time": "2025-08-05T11:02:08.968790",
     "exception": false,
     "start_time": "2025-08-05T11:02:08.963427",
     "status": "completed"
    },
    "tags": []
   },
   "outputs": [
    {
     "name": "stdout",
     "output_type": "stream",
     "text": [
      "[2025-08-30 : Sat\n",
      " 2025-09-30 : Tue\n",
      " 2025-10-30 : Thu\n",
      " 2025-11-30 : Sun\n",
      " 2025-12-30 : Tue\n",
      " 2026-01-30 : Fri\n",
      " 2026-02-28 : Sat\n",
      " 2026-03-30 : Mon\n",
      " 2026-04-30 : Thu\n",
      " 2026-05-30 : Sat\n",
      " 2026-06-30 : Tue\n",
      " 2026-07-30 : Thu\n",
      " 2026-08-30 : Sun\n",
      " 2026-09-30 : Wed\n",
      " 2026-10-30 : Fri\n",
      " 2026-11-30 : Mon]\n"
     ]
    }
   ],
   "source": [
    "days = [START_DATE + timedelta(days=i) for i in range(500)]\n",
    "matches = filter(MonthlySchedule(30).check, days)\n",
    "print(format_days(matches))"
   ]
  },
  {
   "cell_type": "markdown",
   "id": "fe7200e9208b0cb3",
   "metadata": {
    "papermill": {
     "duration": 0.001971,
     "end_time": "2025-08-05T11:02:08.972795",
     "exception": false,
     "start_time": "2025-08-05T11:02:08.970824",
     "status": "completed"
    },
    "tags": []
   },
   "source": [
    "### YearlySchedule\n",
    "\n",
    "This schedule will match on the specified day of specified month.\n",
    "\n",
    "> **_NB._** If the current month does not have the specified day (e.g., there is no 30th of February in any year)\n",
    "then the last day of the month will match."
   ]
  },
  {
   "cell_type": "code",
   "execution_count": 10,
   "id": "ce50c3ac5cd812ae",
   "metadata": {
    "ExecuteTime": {
     "end_time": "2025-08-04T17:35:08.474324Z",
     "start_time": "2025-08-04T17:35:08.451428Z"
    },
    "execution": {
     "iopub.execute_input": "2025-08-05T11:02:08.977515Z",
     "iopub.status.busy": "2025-08-05T11:02:08.977360Z",
     "iopub.status.idle": "2025-08-05T11:02:08.981656Z",
     "shell.execute_reply": "2025-08-05T11:02:08.981401Z"
    },
    "papermill": {
     "duration": 0.007492,
     "end_time": "2025-08-05T11:02:08.982375",
     "exception": false,
     "start_time": "2025-08-05T11:02:08.974883",
     "status": "completed"
    },
    "tags": []
   },
   "outputs": [
    {
     "name": "stdout",
     "output_type": "stream",
     "text": [
      "[2026-02-28 : Sat\n",
      " 2027-02-28 : Sun\n",
      " 2028-02-29 : Tue\n",
      " 2029-02-28 : Wed\n",
      " 2030-02-28 : Thu\n",
      " 2031-02-28 : Fri\n",
      " 2032-02-29 : Sun\n",
      " 2033-02-28 : Mon\n",
      " 2034-02-28 : Tue\n",
      " 2035-02-28 : Wed\n",
      " 2036-02-29 : Fri\n",
      " 2037-02-28 : Sat\n",
      " 2038-02-28 : Sun\n",
      " 2039-02-28 : Mon]\n"
     ]
    }
   ],
   "source": [
    "days = [START_DATE + timedelta(days=i) for i in range(5000)]\n",
    "matches = filter(YearlySchedule(FEBRUARY, 30).check, days)\n",
    "print(format_days(matches))"
   ]
  },
  {
   "cell_type": "markdown",
   "id": "231710f92f799dfa",
   "metadata": {
    "papermill": {
     "duration": 0.001977,
     "end_time": "2025-08-05T11:02:08.986476",
     "exception": false,
     "start_time": "2025-08-05T11:02:08.984499",
     "status": "completed"
    },
    "tags": []
   },
   "source": [
    "### FilterSchedule\n",
    "\n",
    "This is a generic schedule that takes a callback function that will be used to check the supplied date"
   ]
  },
  {
   "cell_type": "code",
   "execution_count": 11,
   "id": "e8e7d0477ac7deb1",
   "metadata": {
    "ExecuteTime": {
     "end_time": "2025-08-04T17:35:08.500729Z",
     "start_time": "2025-08-04T17:35:08.497464Z"
    },
    "execution": {
     "iopub.execute_input": "2025-08-05T11:02:08.990962Z",
     "iopub.status.busy": "2025-08-05T11:02:08.990847Z",
     "iopub.status.idle": "2025-08-05T11:02:08.993172Z",
     "shell.execute_reply": "2025-08-05T11:02:08.992950Z"
    },
    "papermill": {
     "duration": 0.005314,
     "end_time": "2025-08-05T11:02:08.993842",
     "exception": false,
     "start_time": "2025-08-05T11:02:08.988528",
     "status": "completed"
    },
    "tags": []
   },
   "outputs": [
    {
     "name": "stdout",
     "output_type": "stream",
     "text": [
      "[2025-08-05 : Tue\n",
      " 2025-08-06 : Wed\n",
      " 2025-08-07 : Thu\n",
      " 2025-08-08 : Fri\n",
      " 2025-08-11 : Mon\n",
      " 2025-08-12 : Tue\n",
      " 2025-08-13 : Wed\n",
      " 2025-08-14 : Thu\n",
      " 2025-08-15 : Fri\n",
      " 2025-08-18 : Mon\n",
      " 2025-08-19 : Tue\n",
      " 2025-08-20 : Wed\n",
      " 2025-08-21 : Thu\n",
      " 2025-08-22 : Fri]\n"
     ]
    }
   ],
   "source": [
    "days = [START_DATE + timedelta(days=i) for i in range(20)]\n",
    "\n",
    "\n",
    "def filter_func(current_date: date) -> bool:\n",
    "    return current_date.weekday() < SATURDAY\n",
    "\n",
    "\n",
    "matches = filter(FilterSchedule(filter_func).check, days)\n",
    "print(format_days(matches))"
   ]
  },
  {
   "cell_type": "markdown",
   "id": "7045591371c57f8d",
   "metadata": {
    "papermill": {
     "duration": 0.001953,
     "end_time": "2025-08-05T11:02:08.997907",
     "exception": false,
     "start_time": "2025-08-05T11:02:08.995954",
     "status": "completed"
    },
    "tags": []
   },
   "source": [
    "## Schedule operators\n",
    "\n",
    "The following schedules take other schedules and apply an operator to them."
   ]
  },
  {
   "cell_type": "markdown",
   "id": "d2caa297c71f9604",
   "metadata": {
    "papermill": {
     "duration": 0.002094,
     "end_time": "2025-08-05T11:02:09.002119",
     "exception": false,
     "start_time": "2025-08-05T11:02:09.000025",
     "status": "completed"
    },
    "tags": []
   },
   "source": [
    "### AnySchedule\n",
    "\n",
    "This represents a boolean `OR` operator for schedules. If any of the child schedules match the current date,\n",
    "then this schedule will match.\n",
    "\n",
    "For example, to get a quarterly schedule, you could create four Yearly schedules and Any them together."
   ]
  },
  {
   "cell_type": "code",
   "execution_count": 12,
   "id": "71f905ff00962efe",
   "metadata": {
    "ExecuteTime": {
     "end_time": "2025-08-04T17:35:08.518159Z",
     "start_time": "2025-08-04T17:35:08.513094Z"
    },
    "execution": {
     "iopub.execute_input": "2025-08-05T11:02:09.006946Z",
     "iopub.status.busy": "2025-08-05T11:02:09.006586Z",
     "iopub.status.idle": "2025-08-05T11:02:09.009907Z",
     "shell.execute_reply": "2025-08-05T11:02:09.009662Z"
    },
    "papermill": {
     "duration": 0.006421,
     "end_time": "2025-08-05T11:02:09.010528",
     "exception": false,
     "start_time": "2025-08-05T11:02:09.004107",
     "status": "completed"
    },
    "tags": []
   },
   "outputs": [
    {
     "name": "stdout",
     "output_type": "stream",
     "text": [
      "[2025-10-01 : Wed\n",
      " 2026-01-01 : Thu\n",
      " 2026-04-01 : Wed\n",
      " 2026-07-01 : Wed\n",
      " 2026-10-01 : Thu\n",
      " 2027-01-01 : Fri\n",
      " 2027-04-01 : Thu\n",
      " 2027-07-01 : Thu\n",
      " 2027-10-01 : Fri\n",
      " 2028-01-01 : Sat\n",
      " 2028-04-01 : Sat]\n"
     ]
    }
   ],
   "source": [
    "days = [START_DATE + timedelta(days=i) for i in range(1000)]\n",
    "matches = filter(AnySchedule({\n",
    "    'Every January 1': YearlySchedule(JANUARY, 1),\n",
    "    'Every April 1': YearlySchedule(APRIL, 1),\n",
    "    'Every July 1': YearlySchedule(JULY, 1),\n",
    "    'Every October 1': YearlySchedule(OCTOBER, 1)}).check, days)\n",
    "print(format_days(matches))"
   ]
  },
  {
   "cell_type": "markdown",
   "id": "b31fae2015c167c3",
   "metadata": {
    "papermill": {
     "duration": 0.002012,
     "end_time": "2025-08-05T11:02:09.014754",
     "exception": false,
     "start_time": "2025-08-05T11:02:09.012742",
     "status": "completed"
    },
    "tags": []
   },
   "source": [
    "### AllSchedule\n",
    "\n",
    "This represents a boolean `AND` operator for schedules. Only if all the child schedules match the current date,\n",
    "will this schedule match.\n",
    "\n",
    "For example, to get a weekly schedule but only from a certain date."
   ]
  },
  {
   "cell_type": "code",
   "execution_count": 13,
   "id": "2e0cdcce1e258b7c",
   "metadata": {
    "ExecuteTime": {
     "end_time": "2025-08-04T17:35:08.534910Z",
     "start_time": "2025-08-04T17:35:08.529452Z"
    },
    "execution": {
     "iopub.execute_input": "2025-08-05T11:02:09.019407Z",
     "iopub.status.busy": "2025-08-05T11:02:09.019277Z",
     "iopub.status.idle": "2025-08-05T11:02:09.021369Z",
     "shell.execute_reply": "2025-08-05T11:02:09.021158Z"
    },
    "papermill": {
     "duration": 0.005152,
     "end_time": "2025-08-05T11:02:09.022008",
     "exception": false,
     "start_time": "2025-08-05T11:02:09.016856",
     "status": "completed"
    },
    "tags": []
   },
   "outputs": [
    {
     "name": "stdout",
     "output_type": "stream",
     "text": [
      "[2025-08-19 : Tue\n",
      " 2025-08-26 : Tue\n",
      " 2025-09-02 : Tue\n",
      " 2025-09-09 : Tue\n",
      " 2025-09-16 : Tue\n",
      " 2025-09-23 : Tue]\n"
     ]
    }
   ],
   "source": [
    "days = [START_DATE + timedelta(days=i) for i in range(50)]\n",
    "matches = filter(AllSchedule({\n",
    "    'Every Tuesday': WeeklySchedule(TUESDAY),\n",
    "    'From 10 days from now': FromSchedule(START_DATE + timedelta(days=10))}).check, days)\n",
    "print(format_days(matches))"
   ]
  }
 ],
 "metadata": {
  "kernelspec": {
   "display_name": "Python 3",
   "language": "python",
   "name": "python3"
  },
  "language_info": {
   "codemirror_mode": {
    "name": "ipython",
    "version": 3
   },
   "file_extension": ".py",
   "mimetype": "text/x-python",
   "name": "python",
   "nbconvert_exporter": "python",
   "pygments_lexer": "ipython3",
   "version": "3.12.11"
  },
  "papermill": {
   "default_parameters": {},
   "duration": 1.133596,
   "end_time": "2025-08-05T11:02:09.138862",
   "environment_variables": {},
   "exception": null,
   "input_path": "./lib/schedules/README.ipynb",
   "output_path": "./lib/schedules/README.ipynb",
   "parameters": {},
   "start_time": "2025-08-05T11:02:08.005266",
   "version": "2.6.0"
  }
 },
 "nbformat": 4,
 "nbformat_minor": 5
}