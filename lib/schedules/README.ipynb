{
 "cells": [
  {
   "cell_type": "markdown",
   "id": "86d255fd9c1132ac",
   "metadata": {
    "papermill": {
     "duration": 0.009864,
     "end_time": "2025-08-05T15:15:39.659667",
     "exception": false,
     "start_time": "2025-08-05T15:15:39.649803",
     "status": "completed"
    },
    "tags": []
   },
   "source": [
    "# Schedules\n",
    "\n",
    "A collection of schedule implementations that will take the current date and check if that day\n",
    "is in the schedule."
   ]
  },
  {
   "cell_type": "code",
   "execution_count": 1,
   "id": "bf95de8ad60d9354",
   "metadata": {
    "ExecuteTime": {
     "end_time": "2025-08-05T11:25:39.856082Z",
     "start_time": "2025-08-05T11:25:39.773374Z"
    },
    "execution": {
     "iopub.execute_input": "2025-08-05T15:15:39.671664Z",
     "iopub.status.busy": "2025-08-05T15:15:39.671361Z",
     "iopub.status.idle": "2025-08-05T15:15:39.762003Z",
     "shell.execute_reply": "2025-08-05T15:15:39.761263Z"
    },
    "papermill": {
     "duration": 0.098678,
     "end_time": "2025-08-05T15:15:39.764443",
     "exception": false,
     "start_time": "2025-08-05T15:15:39.665765",
     "status": "completed"
    },
    "tags": []
   },
   "outputs": [
    {
     "name": "stdout",
     "output_type": "stream",
     "text": [
      "Start Date: 2025-08-05 : Tue\n"
     ]
    }
   ],
   "source": [
    "from calendar import TUESDAY, SATURDAY, JANUARY, FEBRUARY, APRIL, JULY, OCTOBER\n",
    "from datetime import date, timedelta\n",
    "\n",
    "from lib.schedules import \\\n",
    "    NeverSchedule, \\\n",
    "    DailySchedule, \\\n",
    "    DaySchedule, \\\n",
    "    FromSchedule, \\\n",
    "    UntilSchedule, \\\n",
    "    RangeSchedule, \\\n",
    "    WeeklySchedule, \\\n",
    "    MonthlySchedule, \\\n",
    "    YearlySchedule, \\\n",
    "    FilterSchedule, \\\n",
    "    AnySchedule, \\\n",
    "    AllSchedule\n",
    "from lib.utils.format import \\\n",
    "    format_day, \\\n",
    "    format_days\n",
    "\n",
    "START_DATE = date.today()\n",
    "\n",
    "print(f'Start Date: {format_day(START_DATE)}')"
   ]
  },
  {
   "cell_type": "markdown",
   "id": "b375883e0aef0abe",
   "metadata": {
    "papermill": {
     "duration": 0.006153,
     "end_time": "2025-08-05T15:15:39.779873",
     "exception": false,
     "start_time": "2025-08-05T15:15:39.773720",
     "status": "completed"
    },
    "tags": []
   },
   "source": [
    "## Primitive schedules\n",
    "\n",
    "The following schedules are the basic building blocks of schedules."
   ]
  },
  {
   "cell_type": "markdown",
   "id": "24b2f20432708dd4",
   "metadata": {
    "papermill": {
     "duration": 0.005703,
     "end_time": "2025-08-05T15:15:39.788387",
     "exception": false,
     "start_time": "2025-08-05T15:15:39.782684",
     "status": "completed"
    },
    "tags": []
   },
   "source": [
    "### NeverSchedule\n",
    "\n",
    "This is a trivial schedule in that it always returns False"
   ]
  },
  {
   "cell_type": "code",
   "execution_count": 2,
   "id": "155acd03e1e6e439",
   "metadata": {
    "ExecuteTime": {
     "end_time": "2025-08-05T11:25:40.002979Z",
     "start_time": "2025-08-05T11:25:39.979413Z"
    },
    "execution": {
     "iopub.execute_input": "2025-08-05T15:15:39.806298Z",
     "iopub.status.busy": "2025-08-05T15:15:39.805564Z",
     "iopub.status.idle": "2025-08-05T15:15:39.813895Z",
     "shell.execute_reply": "2025-08-05T15:15:39.813090Z"
    },
    "papermill": {
     "duration": 0.021871,
     "end_time": "2025-08-05T15:15:39.815854",
     "exception": false,
     "start_time": "2025-08-05T15:15:39.793983",
     "status": "completed"
    },
    "tags": []
   },
   "outputs": [
    {
     "name": "stdout",
     "output_type": "stream",
     "text": [
      "[]\n"
     ]
    }
   ],
   "source": [
    "days = [START_DATE + timedelta(days=i) for i in range(1000)]\n",
    "matches = filter(NeverSchedule().check, days)\n",
    "print(format_days(matches))"
   ]
  },
  {
   "cell_type": "markdown",
   "id": "a6c95b36a4777e3b",
   "metadata": {
    "papermill": {
     "duration": 0.002842,
     "end_time": "2025-08-05T15:15:39.824415",
     "exception": false,
     "start_time": "2025-08-05T15:15:39.821573",
     "status": "completed"
    },
    "tags": []
   },
   "source": [
    "### DailySchedule\n",
    "\n",
    "This is a trivial schedule in that it always returns True"
   ]
  },
  {
   "cell_type": "code",
   "execution_count": 3,
   "id": "143ee0c99bef08f5",
   "metadata": {
    "ExecuteTime": {
     "end_time": "2025-08-05T11:25:40.027229Z",
     "start_time": "2025-08-05T11:25:40.017876Z"
    },
    "execution": {
     "iopub.execute_input": "2025-08-05T15:15:39.841607Z",
     "iopub.status.busy": "2025-08-05T15:15:39.840970Z",
     "iopub.status.idle": "2025-08-05T15:15:39.847993Z",
     "shell.execute_reply": "2025-08-05T15:15:39.847124Z"
    },
    "papermill": {
     "duration": 0.019861,
     "end_time": "2025-08-05T15:15:39.850023",
     "exception": false,
     "start_time": "2025-08-05T15:15:39.830162",
     "status": "completed"
    },
    "tags": []
   },
   "outputs": [
    {
     "name": "stdout",
     "output_type": "stream",
     "text": [
      "[2025-08-05 : Tue\n",
      " 2025-08-06 : Wed\n",
      " 2025-08-07 : Thu\n",
      " 2025-08-08 : Fri\n",
      " 2025-08-09 : Sat\n",
      " 2025-08-10 : Sun\n",
      " 2025-08-11 : Mon\n",
      " 2025-08-12 : Tue\n",
      " 2025-08-13 : Wed\n",
      " 2025-08-14 : Thu]\n"
     ]
    }
   ],
   "source": [
    "days = [START_DATE + timedelta(days=i) for i in range(10)]\n",
    "matches = filter(DailySchedule().check, days)\n",
    "print(format_days(matches))"
   ]
  },
  {
   "cell_type": "markdown",
   "id": "c881833ea29fbb9f",
   "metadata": {
    "papermill": {
     "duration": 0.005195,
     "end_time": "2025-08-05T15:15:39.861034",
     "exception": false,
     "start_time": "2025-08-05T15:15:39.855839",
     "status": "completed"
    },
    "tags": []
   },
   "source": [
    "### DaySchedule\n",
    "\n",
    "This schedule will only match on the specified day"
   ]
  },
  {
   "cell_type": "code",
   "execution_count": 4,
   "id": "906f3fdcd1986f5e",
   "metadata": {
    "ExecuteTime": {
     "end_time": "2025-08-05T11:25:40.050186Z",
     "start_time": "2025-08-05T11:25:40.039556Z"
    },
    "execution": {
     "iopub.execute_input": "2025-08-05T15:15:39.875853Z",
     "iopub.status.busy": "2025-08-05T15:15:39.875530Z",
     "iopub.status.idle": "2025-08-05T15:15:39.882919Z",
     "shell.execute_reply": "2025-08-05T15:15:39.881014Z"
    },
    "papermill": {
     "duration": 0.017354,
     "end_time": "2025-08-05T15:15:39.884833",
     "exception": false,
     "start_time": "2025-08-05T15:15:39.867479",
     "status": "completed"
    },
    "tags": []
   },
   "outputs": [
    {
     "name": "stdout",
     "output_type": "stream",
     "text": [
      "[2025-09-24 : Wed]\n"
     ]
    }
   ],
   "source": [
    "days = [START_DATE + timedelta(days=i) for i in range(1000)]\n",
    "matches = filter(DaySchedule(START_DATE + timedelta(days=50)).check, days)\n",
    "print(format_days(matches))"
   ]
  },
  {
   "cell_type": "markdown",
   "id": "dacb67fc16fe79cb",
   "metadata": {
    "papermill": {
     "duration": 0.006701,
     "end_time": "2025-08-05T15:15:39.897861",
     "exception": false,
     "start_time": "2025-08-05T15:15:39.891160",
     "status": "completed"
    },
    "tags": []
   },
   "source": [
    "### FromSchedule\n",
    "\n",
    "This schedule will match on all dates after and including the specified day"
   ]
  },
  {
   "cell_type": "code",
   "execution_count": 5,
   "id": "cd1f77cd06a1c4fe",
   "metadata": {
    "ExecuteTime": {
     "end_time": "2025-08-05T11:25:40.070818Z",
     "start_time": "2025-08-05T11:25:40.061744Z"
    },
    "execution": {
     "iopub.execute_input": "2025-08-05T15:15:39.903948Z",
     "iopub.status.busy": "2025-08-05T15:15:39.903576Z",
     "iopub.status.idle": "2025-08-05T15:15:39.910130Z",
     "shell.execute_reply": "2025-08-05T15:15:39.909208Z"
    },
    "papermill": {
     "duration": 0.012608,
     "end_time": "2025-08-05T15:15:39.912898",
     "exception": false,
     "start_time": "2025-08-05T15:15:39.900290",
     "status": "completed"
    },
    "tags": []
   },
   "outputs": [
    {
     "name": "stdout",
     "output_type": "stream",
     "text": [
      "[2025-08-15 : Fri\n",
      " 2025-08-16 : Sat\n",
      " 2025-08-17 : Sun\n",
      " 2025-08-18 : Mon\n",
      " 2025-08-19 : Tue\n",
      " 2025-08-20 : Wed\n",
      " 2025-08-21 : Thu\n",
      " 2025-08-22 : Fri\n",
      " 2025-08-23 : Sat\n",
      " 2025-08-24 : Sun]\n"
     ]
    }
   ],
   "source": [
    "days = [START_DATE + timedelta(days=i) for i in range(20)]\n",
    "matches = filter(FromSchedule(START_DATE + timedelta(days=10)).check, days)\n",
    "print(format_days(matches))"
   ]
  },
  {
   "cell_type": "markdown",
   "id": "91a29fed9500151c",
   "metadata": {
    "papermill": {
     "duration": 0.00317,
     "end_time": "2025-08-05T15:15:39.919599",
     "exception": false,
     "start_time": "2025-08-05T15:15:39.916429",
     "status": "completed"
    },
    "tags": []
   },
   "source": [
    "### UntilSchedule\n",
    "\n",
    "This schedule will match on all dates up to but not including the specified day"
   ]
  },
  {
   "cell_type": "code",
   "execution_count": 6,
   "id": "3ac26fb8744eb83",
   "metadata": {
    "ExecuteTime": {
     "end_time": "2025-08-05T11:25:40.093681Z",
     "start_time": "2025-08-05T11:25:40.083252Z"
    },
    "execution": {
     "iopub.execute_input": "2025-08-05T15:15:39.932678Z",
     "iopub.status.busy": "2025-08-05T15:15:39.932299Z",
     "iopub.status.idle": "2025-08-05T15:15:39.937474Z",
     "shell.execute_reply": "2025-08-05T15:15:39.936430Z"
    },
    "papermill": {
     "duration": 0.01525,
     "end_time": "2025-08-05T15:15:39.939610",
     "exception": false,
     "start_time": "2025-08-05T15:15:39.924360",
     "status": "completed"
    },
    "tags": []
   },
   "outputs": [
    {
     "name": "stdout",
     "output_type": "stream",
     "text": [
      "[2025-08-05 : Tue\n",
      " 2025-08-06 : Wed\n",
      " 2025-08-07 : Thu\n",
      " 2025-08-08 : Fri\n",
      " 2025-08-09 : Sat\n",
      " 2025-08-10 : Sun\n",
      " 2025-08-11 : Mon\n",
      " 2025-08-12 : Tue\n",
      " 2025-08-13 : Wed\n",
      " 2025-08-14 : Thu]\n"
     ]
    }
   ],
   "source": [
    "days = [START_DATE + timedelta(days=i) for i in range(20)]\n",
    "matches = filter(UntilSchedule(START_DATE + timedelta(days=10)).check, days)\n",
    "print(format_days(matches))"
   ]
  },
  {
   "cell_type": "markdown",
   "id": "6fc05568787e8cdb",
   "metadata": {
    "papermill": {
     "duration": 0.004803,
     "end_time": "2025-08-05T15:15:39.950400",
     "exception": false,
     "start_time": "2025-08-05T15:15:39.945597",
     "status": "completed"
    },
    "tags": []
   },
   "source": [
    "### RangeSchedule\n",
    "\n",
    "This schedule will match on all dates after and including the `from_date` up to but not including\n",
    "the `until_date`"
   ]
  },
  {
   "cell_type": "code",
   "execution_count": 7,
   "id": "22627d6ed8970f75",
   "metadata": {
    "ExecuteTime": {
     "end_time": "2025-08-05T11:25:40.111591Z",
     "start_time": "2025-08-05T11:25:40.104750Z"
    },
    "execution": {
     "iopub.execute_input": "2025-08-05T15:15:39.958611Z",
     "iopub.status.busy": "2025-08-05T15:15:39.958442Z",
     "iopub.status.idle": "2025-08-05T15:15:39.960520Z",
     "shell.execute_reply": "2025-08-05T15:15:39.960299Z"
    },
    "papermill": {
     "duration": 0.004774,
     "end_time": "2025-08-05T15:15:39.961100",
     "exception": false,
     "start_time": "2025-08-05T15:15:39.956326",
     "status": "completed"
    },
    "tags": []
   },
   "outputs": [
    {
     "name": "stdout",
     "output_type": "stream",
     "text": [
      "[2025-08-15 : Fri\n",
      " 2025-08-16 : Sat\n",
      " 2025-08-17 : Sun\n",
      " 2025-08-18 : Mon\n",
      " 2025-08-19 : Tue\n",
      " 2025-08-20 : Wed\n",
      " 2025-08-21 : Thu\n",
      " 2025-08-22 : Fri\n",
      " 2025-08-23 : Sat\n",
      " 2025-08-24 : Sun]\n"
     ]
    }
   ],
   "source": [
    "days = [START_DATE + timedelta(days=i) for i in range(30)]\n",
    "matches = filter(RangeSchedule(from_date=START_DATE + timedelta(days=10),\n",
    "                               until_date=START_DATE + timedelta(days=20)).check, days)\n",
    "print(format_days(matches))"
   ]
  },
  {
   "cell_type": "markdown",
   "id": "7b9ebdf63a827652",
   "metadata": {
    "papermill": {
     "duration": 0.001725,
     "end_time": "2025-08-05T15:15:39.964605",
     "exception": false,
     "start_time": "2025-08-05T15:15:39.962880",
     "status": "completed"
    },
    "tags": []
   },
   "source": [
    "### WeeklySchedule\n",
    "\n",
    "This schedule will match on the specified day of the week"
   ]
  },
  {
   "cell_type": "code",
   "execution_count": 8,
   "id": "8337dcfb7faf8c47",
   "metadata": {
    "ExecuteTime": {
     "end_time": "2025-08-05T11:25:40.129864Z",
     "start_time": "2025-08-05T11:25:40.126226Z"
    },
    "execution": {
     "iopub.execute_input": "2025-08-05T15:15:39.968694Z",
     "iopub.status.busy": "2025-08-05T15:15:39.968581Z",
     "iopub.status.idle": "2025-08-05T15:15:39.970444Z",
     "shell.execute_reply": "2025-08-05T15:15:39.970236Z"
    },
    "papermill": {
     "duration": 0.004597,
     "end_time": "2025-08-05T15:15:39.971040",
     "exception": false,
     "start_time": "2025-08-05T15:15:39.966443",
     "status": "completed"
    },
    "tags": []
   },
   "outputs": [
    {
     "name": "stdout",
     "output_type": "stream",
     "text": [
      "[2025-08-05 : Tue\n",
      " 2025-08-12 : Tue\n",
      " 2025-08-19 : Tue\n",
      " 2025-08-26 : Tue\n",
      " 2025-09-02 : Tue\n",
      " 2025-09-09 : Tue\n",
      " 2025-09-16 : Tue\n",
      " 2025-09-23 : Tue]\n"
     ]
    }
   ],
   "source": [
    "days = [START_DATE + timedelta(days=i) for i in range(50)]\n",
    "matches = filter(WeeklySchedule(TUESDAY).check, days)\n",
    "print(format_days(matches))"
   ]
  },
  {
   "cell_type": "markdown",
   "id": "1bddb1513f8eac3c",
   "metadata": {
    "papermill": {
     "duration": 0.001749,
     "end_time": "2025-08-05T15:15:39.974610",
     "exception": false,
     "start_time": "2025-08-05T15:15:39.972861",
     "status": "completed"
    },
    "tags": []
   },
   "source": [
    "### MonthlySchedule\n",
    "\n",
    "This schedule will match on the specified day of the month.\n",
    "\n",
    "> **_NB._** If the current month does not have the specified day (e.g., there is no 30th of February in any year)\n",
    "then the last day of the month will match."
   ]
  },
  {
   "cell_type": "code",
   "execution_count": 9,
   "id": "76f2f172fda2c5b8",
   "metadata": {
    "ExecuteTime": {
     "end_time": "2025-08-05T11:25:40.149228Z",
     "start_time": "2025-08-05T11:25:40.146442Z"
    },
    "execution": {
     "iopub.execute_input": "2025-08-05T15:15:39.978485Z",
     "iopub.status.busy": "2025-08-05T15:15:39.978391Z",
     "iopub.status.idle": "2025-08-05T15:15:39.980520Z",
     "shell.execute_reply": "2025-08-05T15:15:39.980327Z"
    },
    "papermill": {
     "duration": 0.004909,
     "end_time": "2025-08-05T15:15:39.981288",
     "exception": false,
     "start_time": "2025-08-05T15:15:39.976379",
     "status": "completed"
    },
    "tags": []
   },
   "outputs": [
    {
     "name": "stdout",
     "output_type": "stream",
     "text": [
      "[2025-08-30 : Sat\n",
      " 2025-09-30 : Tue\n",
      " 2025-10-30 : Thu\n",
      " 2025-11-30 : Sun\n",
      " 2025-12-30 : Tue\n",
      " 2026-01-30 : Fri\n",
      " 2026-02-28 : Sat\n",
      " 2026-03-30 : Mon\n",
      " 2026-04-30 : Thu\n",
      " 2026-05-30 : Sat\n",
      " 2026-06-30 : Tue\n",
      " 2026-07-30 : Thu\n",
      " 2026-08-30 : Sun\n",
      " 2026-09-30 : Wed\n",
      " 2026-10-30 : Fri\n",
      " 2026-11-30 : Mon]\n"
     ]
    }
   ],
   "source": [
    "days = [START_DATE + timedelta(days=i) for i in range(500)]\n",
    "matches = filter(MonthlySchedule(30).check, days)\n",
    "print(format_days(matches))"
   ]
  },
  {
   "cell_type": "markdown",
   "id": "fe7200e9208b0cb3",
   "metadata": {
    "papermill": {
     "duration": 0.001846,
     "end_time": "2025-08-05T15:15:39.985148",
     "exception": false,
     "start_time": "2025-08-05T15:15:39.983302",
     "status": "completed"
    },
    "tags": []
   },
   "source": [
    "### YearlySchedule\n",
    "\n",
    "This schedule will match on the specified day of specified month.\n",
    "\n",
    "> **_NB._** If the current month does not have the specified day (e.g., there is no 30th of February in any year)\n",
    "then the last day of the month will match."
   ]
  },
  {
   "cell_type": "code",
   "execution_count": 10,
   "id": "ce50c3ac5cd812ae",
   "metadata": {
    "ExecuteTime": {
     "end_time": "2025-08-05T11:25:40.179094Z",
     "start_time": "2025-08-05T11:25:40.174156Z"
    },
    "execution": {
     "iopub.execute_input": "2025-08-05T15:15:39.991956Z",
     "iopub.status.busy": "2025-08-05T15:15:39.991807Z",
     "iopub.status.idle": "2025-08-05T15:15:39.998164Z",
     "shell.execute_reply": "2025-08-05T15:15:39.997901Z"
    },
    "papermill": {
     "duration": 0.010187,
     "end_time": "2025-08-05T15:15:39.998789",
     "exception": false,
     "start_time": "2025-08-05T15:15:39.988602",
     "status": "completed"
    },
    "tags": []
   },
   "outputs": [
    {
     "name": "stdout",
     "output_type": "stream",
     "text": [
      "[2026-02-28 : Sat\n",
      " 2027-02-28 : Sun\n",
      " 2028-02-29 : Tue\n",
      " 2029-02-28 : Wed\n",
      " 2030-02-28 : Thu\n",
      " 2031-02-28 : Fri\n",
      " 2032-02-29 : Sun\n",
      " 2033-02-28 : Mon\n",
      " 2034-02-28 : Tue\n",
      " 2035-02-28 : Wed\n",
      " 2036-02-29 : Fri\n",
      " 2037-02-28 : Sat\n",
      " 2038-02-28 : Sun\n",
      " 2039-02-28 : Mon]\n"
     ]
    }
   ],
   "source": [
    "days = [START_DATE + timedelta(days=i) for i in range(5000)]\n",
    "matches = filter(YearlySchedule(FEBRUARY, 30).check, days)\n",
    "print(format_days(matches))"
   ]
  },
  {
   "cell_type": "markdown",
   "id": "231710f92f799dfa",
   "metadata": {
    "papermill": {
     "duration": 0.0019,
     "end_time": "2025-08-05T15:15:40.002861",
     "exception": false,
     "start_time": "2025-08-05T15:15:40.000961",
     "status": "completed"
    },
    "tags": []
   },
   "source": [
    "### FilterSchedule\n",
    "\n",
    "This is a generic schedule that takes a callback function that will be used to check the supplied date"
   ]
  },
  {
   "cell_type": "code",
   "execution_count": 11,
   "id": "e8e7d0477ac7deb1",
   "metadata": {
    "ExecuteTime": {
     "end_time": "2025-08-05T11:25:40.215376Z",
     "start_time": "2025-08-05T11:25:40.206181Z"
    },
    "execution": {
     "iopub.execute_input": "2025-08-05T15:15:40.007354Z",
     "iopub.status.busy": "2025-08-05T15:15:40.007144Z",
     "iopub.status.idle": "2025-08-05T15:15:40.009496Z",
     "shell.execute_reply": "2025-08-05T15:15:40.009251Z"
    },
    "papermill": {
     "duration": 0.005362,
     "end_time": "2025-08-05T15:15:40.010134",
     "exception": false,
     "start_time": "2025-08-05T15:15:40.004772",
     "status": "completed"
    },
    "tags": []
   },
   "outputs": [
    {
     "name": "stdout",
     "output_type": "stream",
     "text": [
      "[2025-08-05 : Tue\n",
      " 2025-08-06 : Wed\n",
      " 2025-08-07 : Thu\n",
      " 2025-08-08 : Fri\n",
      " 2025-08-11 : Mon\n",
      " 2025-08-12 : Tue\n",
      " 2025-08-13 : Wed\n",
      " 2025-08-14 : Thu\n",
      " 2025-08-15 : Fri\n",
      " 2025-08-18 : Mon\n",
      " 2025-08-19 : Tue\n",
      " 2025-08-20 : Wed\n",
      " 2025-08-21 : Thu\n",
      " 2025-08-22 : Fri]\n"
     ]
    }
   ],
   "source": [
    "days = [START_DATE + timedelta(days=i) for i in range(20)]\n",
    "\n",
    "\n",
    "def filter_func(current_date: date) -> bool:\n",
    "    return current_date.weekday() < SATURDAY\n",
    "\n",
    "\n",
    "matches = filter(FilterSchedule(filter_func).check, days)\n",
    "print(format_days(matches))"
   ]
  },
  {
   "cell_type": "markdown",
   "id": "7045591371c57f8d",
   "metadata": {
    "papermill": {
     "duration": 0.001931,
     "end_time": "2025-08-05T15:15:40.014232",
     "exception": false,
     "start_time": "2025-08-05T15:15:40.012301",
     "status": "completed"
    },
    "tags": []
   },
   "source": [
    "## Schedule operators\n",
    "\n",
    "The following schedules take other schedules and apply an operator to them."
   ]
  },
  {
   "cell_type": "markdown",
   "id": "d2caa297c71f9604",
   "metadata": {
    "papermill": {
     "duration": 0.002235,
     "end_time": "2025-08-05T15:15:40.018525",
     "exception": false,
     "start_time": "2025-08-05T15:15:40.016290",
     "status": "completed"
    },
    "tags": []
   },
   "source": [
    "### AnySchedule\n",
    "\n",
    "This represents a boolean `OR` operator for schedules. If any of the child schedules match the current date,\n",
    "then this schedule will match.\n",
    "\n",
    "For example, to get a quarterly schedule, you could create four Yearly schedules and Any them together."
   ]
  },
  {
   "cell_type": "code",
   "execution_count": 12,
   "id": "5afc9afcab53a588",
   "metadata": {
    "ExecuteTime": {
     "end_time": "2025-08-05T11:25:40.236730Z",
     "start_time": "2025-08-05T11:25:40.224709Z"
    },
    "execution": {
     "iopub.execute_input": "2025-08-05T15:15:40.023247Z",
     "iopub.status.busy": "2025-08-05T15:15:40.023108Z",
     "iopub.status.idle": "2025-08-05T15:15:40.026586Z",
     "shell.execute_reply": "2025-08-05T15:15:40.026108Z"
    },
    "papermill": {
     "duration": 0.006649,
     "end_time": "2025-08-05T15:15:40.027250",
     "exception": false,
     "start_time": "2025-08-05T15:15:40.020601",
     "status": "completed"
    },
    "tags": []
   },
   "outputs": [
    {
     "name": "stdout",
     "output_type": "stream",
     "text": [
      "[2025-10-01 : Wed\n",
      " 2026-01-01 : Thu\n",
      " 2026-04-01 : Wed\n",
      " 2026-07-01 : Wed\n",
      " 2026-10-01 : Thu\n",
      " 2027-01-01 : Fri\n",
      " 2027-04-01 : Thu\n",
      " 2027-07-01 : Thu\n",
      " 2027-10-01 : Fri\n",
      " 2028-01-01 : Sat\n",
      " 2028-04-01 : Sat]\n"
     ]
    }
   ],
   "source": [
    "days = [START_DATE + timedelta(days=i) for i in range(1000)]\n",
    "matches = filter(AnySchedule((YearlySchedule(JANUARY, 1),\n",
    "                              YearlySchedule(APRIL, 1),\n",
    "                              YearlySchedule(JULY, 1),\n",
    "                              YearlySchedule(OCTOBER, 1))).check, days)\n",
    "print(format_days(matches))"
   ]
  },
  {
   "cell_type": "markdown",
   "id": "b31fae2015c167c3",
   "metadata": {
    "papermill": {
     "duration": 0.001943,
     "end_time": "2025-08-05T15:15:40.031384",
     "exception": false,
     "start_time": "2025-08-05T15:15:40.029441",
     "status": "completed"
    },
    "tags": []
   },
   "source": [
    "### AllSchedule\n",
    "\n",
    "This represents a boolean `AND` operator for schedules. Only if all the child schedules match the current date,\n",
    "will this schedule match.\n",
    "\n",
    "For example, to get a weekly schedule but only from a certain date."
   ]
  },
  {
   "cell_type": "code",
   "execution_count": 13,
   "id": "98f5ebc725d6e6dc",
   "metadata": {
    "ExecuteTime": {
     "end_time": "2025-08-05T11:25:40.256145Z",
     "start_time": "2025-08-05T11:25:40.247277Z"
    },
    "execution": {
     "iopub.execute_input": "2025-08-05T15:15:40.038930Z",
     "iopub.status.busy": "2025-08-05T15:15:40.038761Z",
     "iopub.status.idle": "2025-08-05T15:15:40.041292Z",
     "shell.execute_reply": "2025-08-05T15:15:40.040986Z"
    },
    "papermill": {
     "duration": 0.007072,
     "end_time": "2025-08-05T15:15:40.042001",
     "exception": false,
     "start_time": "2025-08-05T15:15:40.034929",
     "status": "completed"
    },
    "tags": []
   },
   "outputs": [
    {
     "name": "stdout",
     "output_type": "stream",
     "text": [
      "[2025-08-19 : Tue\n",
      " 2025-08-26 : Tue\n",
      " 2025-09-02 : Tue\n",
      " 2025-09-09 : Tue\n",
      " 2025-09-16 : Tue\n",
      " 2025-09-23 : Tue]\n"
     ]
    }
   ],
   "source": [
    "days = [START_DATE + timedelta(days=i) for i in range(50)]\n",
    "matches = filter(AllSchedule((WeeklySchedule(TUESDAY),\n",
    "                              FromSchedule(START_DATE + timedelta(days=10)))).check, days)\n",
    "print(format_days(matches))"
   ]
  }
 ],
 "metadata": {
  "kernelspec": {
   "display_name": "Python 3",
   "language": "python",
   "name": "python3"
  },
  "language_info": {
   "codemirror_mode": {
    "name": "ipython",
    "version": 3
   },
   "file_extension": ".py",
   "mimetype": "text/x-python",
   "name": "python",
   "nbconvert_exporter": "python",
   "pygments_lexer": "ipython3",
   "version": "3.12.11"
  },
  "papermill": {
   "default_parameters": {},
   "duration": 1.348629,
   "end_time": "2025-08-05T15:15:40.165734",
   "environment_variables": {},
   "exception": null,
   "input_path": "./lib/schedules/README.ipynb",
   "output_path": "./lib/schedules/README.ipynb",
   "parameters": {},
   "start_time": "2025-08-05T15:15:38.817105",
   "version": "2.6.0"
  }
 },
 "nbformat": 4,
 "nbformat_minor": 5
}