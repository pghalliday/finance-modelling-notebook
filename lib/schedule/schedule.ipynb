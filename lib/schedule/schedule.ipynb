{
 "cells": [
  {
   "cell_type": "code",
   "id": "initial_id",
   "metadata": {
    "collapsed": true,
    "ExecuteTime": {
     "end_time": "2025-07-31T15:17:01.937797Z",
     "start_time": "2025-07-31T15:17:01.922812Z"
    }
   },
   "source": [
    "from calendar import TUESDAY, JANUARY, FEBRUARY, APRIL, JULY, OCTOBER\n",
    "from datetime import date, timedelta\n",
    "from typing import List\n",
    "\n",
    "from lib.schedule import \\\n",
    "    NeverSchedule, \\\n",
    "    DailySchedule, \\\n",
    "    DaySchedule, \\\n",
    "    WeeklySchedule, \\\n",
    "    MonthlySchedule, \\\n",
    "    YearlySchedule, \\\n",
    "    AnySchedule, \\\n",
    "    AllSchedule, \\\n",
    "    ModuloSchedule\n",
    "\n",
    "START_DATE = date.today()\n",
    "\n",
    "\n",
    "def print_date_list(dates: List[date]) -> None:\n",
    "    print('[', end='')\n",
    "    print(*[item.strftime(\"%Y-%m-%d : %A\") for item in dates], end='', sep='\\n ')\n",
    "    print(']')\n"
   ],
   "outputs": [],
   "execution_count": 1
  },
  {
   "metadata": {},
   "cell_type": "markdown",
   "source": [
    "# Schedule\n",
    "\n",
    "A collection of schedule implementations that will take the current date and return if that day\n",
    "is in the schedule."
   ],
   "id": "86d255fd9c1132ac"
  },
  {
   "metadata": {},
   "cell_type": "markdown",
   "source": [
    "## Primitive schedules\n",
    "\n",
    "The following schedules are the basic building blocks of schedules."
   ],
   "id": "b375883e0aef0abe"
  },
  {
   "metadata": {},
   "cell_type": "markdown",
   "source": [
    "### Never schedule\n",
    "\n",
    "This is a trivial schedule in that it always returns False\n"
   ],
   "id": "24b2f20432708dd4"
  },
  {
   "metadata": {
    "ExecuteTime": {
     "end_time": "2025-07-31T15:17:02.046003Z",
     "start_time": "2025-07-31T15:17:02.043647Z"
    }
   },
   "cell_type": "code",
   "source": [
    "days = [START_DATE + timedelta(days=i) for i in range(1000)]\n",
    "matches = filter(NeverSchedule().check, days)\n",
    "print_date_list(matches)"
   ],
   "id": "155acd03e1e6e439",
   "outputs": [
    {
     "name": "stdout",
     "output_type": "stream",
     "text": [
      "[]\n"
     ]
    }
   ],
   "execution_count": 2
  },
  {
   "metadata": {},
   "cell_type": "markdown",
   "source": [
    "### Daily schedule\n",
    "\n",
    "This is a trivial schedule in that it always returns True"
   ],
   "id": "a6c95b36a4777e3b"
  },
  {
   "metadata": {
    "ExecuteTime": {
     "end_time": "2025-07-31T15:17:02.088410Z",
     "start_time": "2025-07-31T15:17:02.083330Z"
    }
   },
   "cell_type": "code",
   "source": [
    "days = [START_DATE + timedelta(days=i) for i in range(10)]\n",
    "matches = filter(DailySchedule().check, days)\n",
    "print_date_list(matches)"
   ],
   "id": "143ee0c99bef08f5",
   "outputs": [
    {
     "name": "stdout",
     "output_type": "stream",
     "text": [
      "[2025-07-31 : Thursday\n",
      " 2025-08-01 : Friday\n",
      " 2025-08-02 : Saturday\n",
      " 2025-08-03 : Sunday\n",
      " 2025-08-04 : Monday\n",
      " 2025-08-05 : Tuesday\n",
      " 2025-08-06 : Wednesday\n",
      " 2025-08-07 : Thursday\n",
      " 2025-08-08 : Friday\n",
      " 2025-08-09 : Saturday]\n"
     ]
    }
   ],
   "execution_count": 3
  },
  {
   "metadata": {},
   "cell_type": "markdown",
   "source": [
    "### Day Schedule\n",
    "\n",
    "This schedule will only match on the specified day"
   ],
   "id": "c881833ea29fbb9f"
  },
  {
   "metadata": {
    "ExecuteTime": {
     "end_time": "2025-07-31T15:17:02.115538Z",
     "start_time": "2025-07-31T15:17:02.113064Z"
    }
   },
   "cell_type": "code",
   "source": [
    "days = [START_DATE + timedelta(days=i) for i in range(1000)]\n",
    "matches = filter(DaySchedule(START_DATE + timedelta(days=50)).check, days)\n",
    "print_date_list(matches)"
   ],
   "id": "906f3fdcd1986f5e",
   "outputs": [
    {
     "name": "stdout",
     "output_type": "stream",
     "text": [
      "[2025-09-19 : Friday]\n"
     ]
    }
   ],
   "execution_count": 4
  },
  {
   "metadata": {},
   "cell_type": "markdown",
   "source": [
    "### Weekly schedule\n",
    "\n",
    "This schedule will match on the specified day of the week"
   ],
   "id": "7b9ebdf63a827652"
  },
  {
   "metadata": {
    "ExecuteTime": {
     "end_time": "2025-07-31T15:17:02.146698Z",
     "start_time": "2025-07-31T15:17:02.143724Z"
    }
   },
   "cell_type": "code",
   "source": [
    "days = [START_DATE + timedelta(days=i) for i in range(50)]\n",
    "matches = filter(WeeklySchedule(TUESDAY).check, days)\n",
    "print_date_list(matches)"
   ],
   "id": "8337dcfb7faf8c47",
   "outputs": [
    {
     "name": "stdout",
     "output_type": "stream",
     "text": [
      "[2025-08-05 : Tuesday\n",
      " 2025-08-12 : Tuesday\n",
      " 2025-08-19 : Tuesday\n",
      " 2025-08-26 : Tuesday\n",
      " 2025-09-02 : Tuesday\n",
      " 2025-09-09 : Tuesday\n",
      " 2025-09-16 : Tuesday]\n"
     ]
    }
   ],
   "execution_count": 5
  },
  {
   "metadata": {},
   "cell_type": "markdown",
   "source": [
    "### Monthly schedule\n",
    "\n",
    "This schedule will match on the specified day of the month.\n",
    "\n",
    "NB. If the current month does not have the specified day (eg. there is no 30th of February in any year)\n",
    "then the last day of the month will match."
   ],
   "id": "1bddb1513f8eac3c"
  },
  {
   "metadata": {
    "ExecuteTime": {
     "end_time": "2025-07-31T15:17:02.184280Z",
     "start_time": "2025-07-31T15:17:02.179905Z"
    }
   },
   "cell_type": "code",
   "source": [
    "days = [START_DATE + timedelta(days=i) for i in range(500)]\n",
    "matches = filter(MonthlySchedule(30).check, days)\n",
    "print_date_list(matches)"
   ],
   "id": "76f2f172fda2c5b8",
   "outputs": [
    {
     "name": "stdout",
     "output_type": "stream",
     "text": [
      "[2025-08-30 : Saturday\n",
      " 2025-09-30 : Tuesday\n",
      " 2025-10-30 : Thursday\n",
      " 2025-11-30 : Sunday\n",
      " 2025-12-30 : Tuesday\n",
      " 2026-01-30 : Friday\n",
      " 2026-02-28 : Saturday\n",
      " 2026-03-30 : Monday\n",
      " 2026-04-30 : Thursday\n",
      " 2026-05-30 : Saturday\n",
      " 2026-06-30 : Tuesday\n",
      " 2026-07-30 : Thursday\n",
      " 2026-08-30 : Sunday\n",
      " 2026-09-30 : Wednesday\n",
      " 2026-10-30 : Friday\n",
      " 2026-11-30 : Monday]\n"
     ]
    }
   ],
   "execution_count": 6
  },
  {
   "metadata": {},
   "cell_type": "markdown",
   "source": [
    "### Yearly schedule\n",
    "\n",
    "This schedule will match on the specified day of specified month.\n",
    "\n",
    "NB. If the current month does not have the specified day (eg. there is no 30th of February in any year)\n",
    "then the last day of the month will match."
   ],
   "id": "fe7200e9208b0cb3"
  },
  {
   "metadata": {
    "ExecuteTime": {
     "end_time": "2025-07-31T15:17:02.216880Z",
     "start_time": "2025-07-31T15:17:02.212739Z"
    }
   },
   "cell_type": "code",
   "source": [
    "days = [START_DATE + timedelta(days=i) for i in range(5000)]\n",
    "matches = filter(YearlySchedule(FEBRUARY, 30).check, days)\n",
    "print_date_list(matches)"
   ],
   "id": "ce50c3ac5cd812ae",
   "outputs": [
    {
     "name": "stdout",
     "output_type": "stream",
     "text": [
      "[2026-02-28 : Saturday\n",
      " 2027-02-28 : Sunday\n",
      " 2028-02-29 : Tuesday\n",
      " 2029-02-28 : Wednesday\n",
      " 2030-02-28 : Thursday\n",
      " 2031-02-28 : Friday\n",
      " 2032-02-29 : Sunday\n",
      " 2033-02-28 : Monday\n",
      " 2034-02-28 : Tuesday\n",
      " 2035-02-28 : Wednesday\n",
      " 2036-02-29 : Friday\n",
      " 2037-02-28 : Saturday\n",
      " 2038-02-28 : Sunday\n",
      " 2039-02-28 : Monday]\n"
     ]
    }
   ],
   "execution_count": 7
  },
  {
   "metadata": {},
   "cell_type": "markdown",
   "source": [
    "## Schedule operators\n",
    "\n",
    "The following schedules take other schedules and apply an operator to them."
   ],
   "id": "7045591371c57f8d"
  },
  {
   "metadata": {},
   "cell_type": "markdown",
   "source": [
    "### Any schedule\n",
    "\n",
    "This represents a boolean `OR` operator for schedules. If any of the child schedules match the current date,\n",
    "then this schedule will match.\n",
    "\n",
    "For example, to get a quarterly schedule, you could create four Yearly schedules and Any them together."
   ],
   "id": "d2caa297c71f9604"
  },
  {
   "metadata": {
    "ExecuteTime": {
     "end_time": "2025-07-31T15:17:02.238217Z",
     "start_time": "2025-07-31T15:17:02.232167Z"
    }
   },
   "cell_type": "code",
   "source": [
    "days = [START_DATE + timedelta(days=i) for i in range(1000)]\n",
    "matches = filter(AnySchedule({\n",
    "    'Every January 1': YearlySchedule(JANUARY, 1),\n",
    "    'Every April 1': YearlySchedule(APRIL, 1),\n",
    "    'Every July 1': YearlySchedule(JULY, 1),\n",
    "    'Every October 1': YearlySchedule(OCTOBER, 1)}).check, days)\n",
    "print_date_list(matches)"
   ],
   "id": "71f905ff00962efe",
   "outputs": [
    {
     "name": "stdout",
     "output_type": "stream",
     "text": [
      "[2025-10-01 : Wednesday\n",
      " 2026-01-01 : Thursday\n",
      " 2026-04-01 : Wednesday\n",
      " 2026-07-01 : Wednesday\n",
      " 2026-10-01 : Thursday\n",
      " 2027-01-01 : Friday\n",
      " 2027-04-01 : Thursday\n",
      " 2027-07-01 : Thursday\n",
      " 2027-10-01 : Friday\n",
      " 2028-01-01 : Saturday\n",
      " 2028-04-01 : Saturday]\n"
     ]
    }
   ],
   "execution_count": 8
  },
  {
   "metadata": {},
   "cell_type": "markdown",
   "source": [
    "### All schedule\n",
    "\n",
    "This represents a boolean `AND` operator for schedules. Only if all the child schedules match the current date,\n",
    "will this schedule match."
   ],
   "id": "b31fae2015c167c3"
  },
  {
   "metadata": {
    "ExecuteTime": {
     "end_time": "2025-07-31T15:17:02.256622Z",
     "start_time": "2025-07-31T15:17:02.252285Z"
    }
   },
   "cell_type": "code",
   "source": [
    "days = [START_DATE + timedelta(days=i) for i in range(1000)]\n",
    "matches = filter(AllSchedule({\n",
    "    'Every Tuesday': WeeklySchedule(TUESDAY),\n",
    "    'Every 5th of the month': MonthlySchedule(5)}).check, days)\n",
    "print_date_list(matches)"
   ],
   "id": "2e0cdcce1e258b7c",
   "outputs": [
    {
     "name": "stdout",
     "output_type": "stream",
     "text": [
      "[2025-08-05 : Tuesday\n",
      " 2026-05-05 : Tuesday\n",
      " 2027-01-05 : Tuesday\n",
      " 2027-10-05 : Tuesday]\n"
     ]
    }
   ],
   "execution_count": 9
  },
  {
   "metadata": {},
   "cell_type": "markdown",
   "source": [
    "### Modulo schedule\n",
    "\n",
    "This represents a `MODULO` operator for schedules.\n",
    "\n",
    "The `start_date` specifies the first date on or after which a match from the child schedule will\n",
    "result in the Modulo matching.\n",
    "\n",
    "The `modulo` specifies the number of child matches after each Modulo match before the Modulo will\n",
    "match again.\n",
    "\n",
    "For example, to get a schedule for every 4 years, you could use a YearlySchedule for the required date.\n",
    "Then, apply a ModuloSchedule starting on the first of January and matching every fourth child match.\n",
    "\n",
    "NB. A ModuloSchedule will assert if a date before the `start_date` is checked"
   ],
   "id": "2264bbaf8cda7e64"
  },
  {
   "metadata": {
    "ExecuteTime": {
     "end_time": "2025-07-31T15:17:02.277139Z",
     "start_time": "2025-07-31T15:17:02.267639Z"
    }
   },
   "cell_type": "code",
   "source": [
    "days = [START_DATE + timedelta(days=i) for i in range(5000)]\n",
    "matches = filter(ModuloSchedule(YearlySchedule(APRIL, 15),\n",
    "                                start_date=date(START_DATE.year, JANUARY, 1),\n",
    "                                modulo=4).check, days)\n",
    "print_date_list(matches)"
   ],
   "id": "3caacd6e5bd7c495",
   "outputs": [
    {
     "name": "stdout",
     "output_type": "stream",
     "text": [
      "[2029-04-15 : Sunday\n",
      " 2033-04-15 : Friday\n",
      " 2037-04-15 : Wednesday]\n"
     ]
    }
   ],
   "execution_count": 10
  },
  {
   "metadata": {},
   "cell_type": "markdown",
   "source": [
    "## Implementation notes\n",
    "\n",
    "Schedule checks should be pure functions. That is, any call with the same input should return the\n",
    "same result.\n",
    "\n",
    "For most of the implementations, this is true as they are stateless.\n",
    "\n",
    "However, for the ModuloSchedule to work efficiently, it does implement a cache of dates that have been\n",
    "checked. Even so, the ModuloSchedule check will always return the same value for the same input as long\n",
    "as the child schedule check is also a pure function."
   ],
   "id": "1b71c5ddfd8392b9"
  }
 ],
 "metadata": {
  "kernelspec": {
   "display_name": "Python 3",
   "language": "python",
   "name": "python3"
  },
  "language_info": {
   "codemirror_mode": {
    "name": "ipython",
    "version": 2
   },
   "file_extension": ".py",
   "mimetype": "text/x-python",
   "name": "python",
   "nbconvert_exporter": "python",
   "pygments_lexer": "ipython2",
   "version": "2.7.6"
  }
 },
 "nbformat": 4,
 "nbformat_minor": 5
}
