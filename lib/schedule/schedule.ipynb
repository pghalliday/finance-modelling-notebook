{
 "cells": [
  {
   "metadata": {},
   "cell_type": "markdown",
   "source": [
    "# Schedule\n",
    "\n",
    "A collection of schedule implementations that will take the current date and check if that day\n",
    "is in the schedule."
   ],
   "id": "86d255fd9c1132ac"
  },
  {
   "metadata": {
    "collapsed": true,
    "ExecuteTime": {
     "end_time": "2025-07-31T20:58:10.489232Z",
     "start_time": "2025-07-31T20:58:10.383418Z"
    }
   },
   "cell_type": "code",
   "source": [
    "from calendar import TUESDAY, SATURDAY, JANUARY, FEBRUARY, APRIL, JULY, OCTOBER\n",
    "from datetime import date, timedelta\n",
    "from typing import List\n",
    "\n",
    "from lib.schedule import \\\n",
    "    NeverSchedule, \\\n",
    "    DailySchedule, \\\n",
    "    DaySchedule, \\\n",
    "    FromSchedule, \\\n",
    "    UntilSchedule, \\\n",
    "    RangeSchedule, \\\n",
    "    WeeklySchedule, \\\n",
    "    MonthlySchedule, \\\n",
    "    YearlySchedule, \\\n",
    "    FilterSchedule, \\\n",
    "    AnySchedule, \\\n",
    "    AllSchedule, \\\n",
    "    ModuloSchedule\n",
    "\n",
    "START_DATE = date.today()\n",
    "\n",
    "\n",
    "def print_date_list(dates: List[date]) -> None:\n",
    "    print('[', end='')\n",
    "    print(*[item.strftime(\"%Y-%m-%d : %A\") for item in dates], end='', sep='\\n ')\n",
    "    print(']')\n"
   ],
   "id": "initial_id",
   "outputs": [],
   "execution_count": 16
  },
  {
   "metadata": {},
   "cell_type": "markdown",
   "source": [
    "## Primitive schedules\n",
    "\n",
    "The following schedules are the basic building blocks of schedules."
   ],
   "id": "b375883e0aef0abe"
  },
  {
   "metadata": {},
   "cell_type": "markdown",
   "source": [
    "### NeverSchedule\n",
    "\n",
    "This is a trivial schedule in that it always returns False"
   ],
   "id": "24b2f20432708dd4"
  },
  {
   "metadata": {
    "ExecuteTime": {
     "end_time": "2025-07-31T20:58:10.541808Z",
     "start_time": "2025-07-31T20:58:10.533637Z"
    }
   },
   "cell_type": "code",
   "source": [
    "days = [START_DATE + timedelta(days=i) for i in range(1000)]\n",
    "matches = filter(NeverSchedule().check, days)\n",
    "print_date_list(matches)"
   ],
   "id": "155acd03e1e6e439",
   "outputs": [
    {
     "name": "stdout",
     "output_type": "stream",
     "text": [
      "[]\n"
     ]
    }
   ],
   "execution_count": 17
  },
  {
   "metadata": {},
   "cell_type": "markdown",
   "source": [
    "### DailySchedule\n",
    "\n",
    "This is a trivial schedule in that it always returns True"
   ],
   "id": "a6c95b36a4777e3b"
  },
  {
   "metadata": {
    "ExecuteTime": {
     "end_time": "2025-07-31T20:58:10.571328Z",
     "start_time": "2025-07-31T20:58:10.562799Z"
    }
   },
   "cell_type": "code",
   "source": [
    "days = [START_DATE + timedelta(days=i) for i in range(10)]\n",
    "matches = filter(DailySchedule().check, days)\n",
    "print_date_list(matches)"
   ],
   "id": "143ee0c99bef08f5",
   "outputs": [
    {
     "name": "stdout",
     "output_type": "stream",
     "text": [
      "[2025-07-31 : Thursday\n",
      " 2025-08-01 : Friday\n",
      " 2025-08-02 : Saturday\n",
      " 2025-08-03 : Sunday\n",
      " 2025-08-04 : Monday\n",
      " 2025-08-05 : Tuesday\n",
      " 2025-08-06 : Wednesday\n",
      " 2025-08-07 : Thursday\n",
      " 2025-08-08 : Friday\n",
      " 2025-08-09 : Saturday]\n"
     ]
    }
   ],
   "execution_count": 18
  },
  {
   "metadata": {},
   "cell_type": "markdown",
   "source": [
    "### DaySchedule\n",
    "\n",
    "This schedule will only match on the specified day"
   ],
   "id": "c881833ea29fbb9f"
  },
  {
   "metadata": {
    "ExecuteTime": {
     "end_time": "2025-07-31T20:58:10.598864Z",
     "start_time": "2025-07-31T20:58:10.593855Z"
    }
   },
   "cell_type": "code",
   "source": [
    "days = [START_DATE + timedelta(days=i) for i in range(1000)]\n",
    "matches = filter(DaySchedule(START_DATE + timedelta(days=50)).check, days)\n",
    "print_date_list(matches)"
   ],
   "id": "906f3fdcd1986f5e",
   "outputs": [
    {
     "name": "stdout",
     "output_type": "stream",
     "text": [
      "[2025-09-19 : Friday]\n"
     ]
    }
   ],
   "execution_count": 19
  },
  {
   "metadata": {},
   "cell_type": "markdown",
   "source": [
    "### FromSchedule\n",
    "\n",
    "This schedule will match on all dates after and including the specified day"
   ],
   "id": "dacb67fc16fe79cb"
  },
  {
   "metadata": {
    "ExecuteTime": {
     "end_time": "2025-07-31T20:58:10.622651Z",
     "start_time": "2025-07-31T20:58:10.617984Z"
    }
   },
   "cell_type": "code",
   "source": [
    "days = [START_DATE + timedelta(days=i) for i in range(20)]\n",
    "matches = filter(FromSchedule(START_DATE + timedelta(days=10)).check, days)\n",
    "print_date_list(matches)"
   ],
   "id": "cd1f77cd06a1c4fe",
   "outputs": [
    {
     "name": "stdout",
     "output_type": "stream",
     "text": [
      "[2025-08-10 : Sunday\n",
      " 2025-08-11 : Monday\n",
      " 2025-08-12 : Tuesday\n",
      " 2025-08-13 : Wednesday\n",
      " 2025-08-14 : Thursday\n",
      " 2025-08-15 : Friday\n",
      " 2025-08-16 : Saturday\n",
      " 2025-08-17 : Sunday\n",
      " 2025-08-18 : Monday\n",
      " 2025-08-19 : Tuesday]\n"
     ]
    }
   ],
   "execution_count": 20
  },
  {
   "metadata": {},
   "cell_type": "markdown",
   "source": [
    "### UntilSchedule\n",
    "\n",
    "This schedule will match on all dates up to but not including the specified day"
   ],
   "id": "91a29fed9500151c"
  },
  {
   "metadata": {
    "ExecuteTime": {
     "end_time": "2025-07-31T20:58:10.645707Z",
     "start_time": "2025-07-31T20:58:10.637582Z"
    }
   },
   "cell_type": "code",
   "source": [
    "days = [START_DATE + timedelta(days=i) for i in range(20)]\n",
    "matches = filter(UntilSchedule(START_DATE + timedelta(days=10)).check, days)\n",
    "print_date_list(matches)"
   ],
   "id": "3ac26fb8744eb83",
   "outputs": [
    {
     "name": "stdout",
     "output_type": "stream",
     "text": [
      "[2025-07-31 : Thursday\n",
      " 2025-08-01 : Friday\n",
      " 2025-08-02 : Saturday\n",
      " 2025-08-03 : Sunday\n",
      " 2025-08-04 : Monday\n",
      " 2025-08-05 : Tuesday\n",
      " 2025-08-06 : Wednesday\n",
      " 2025-08-07 : Thursday\n",
      " 2025-08-08 : Friday\n",
      " 2025-08-09 : Saturday]\n"
     ]
    }
   ],
   "execution_count": 21
  },
  {
   "metadata": {},
   "cell_type": "markdown",
   "source": [
    "### RangeSchedule\n",
    "\n",
    "This schedule will match on all dates after and including the `from_date` up to but not including\n",
    "the `until_date`"
   ],
   "id": "6fc05568787e8cdb"
  },
  {
   "metadata": {
    "ExecuteTime": {
     "end_time": "2025-07-31T20:58:10.662336Z",
     "start_time": "2025-07-31T20:58:10.658569Z"
    }
   },
   "cell_type": "code",
   "source": [
    "days = [START_DATE + timedelta(days=i) for i in range(30)]\n",
    "matches = filter(RangeSchedule(from_date=START_DATE + timedelta(days=10),\n",
    "                               until_date=START_DATE + timedelta(days=20)).check, days)\n",
    "print_date_list(matches)"
   ],
   "id": "22627d6ed8970f75",
   "outputs": [
    {
     "name": "stdout",
     "output_type": "stream",
     "text": [
      "[2025-08-10 : Sunday\n",
      " 2025-08-11 : Monday\n",
      " 2025-08-12 : Tuesday\n",
      " 2025-08-13 : Wednesday\n",
      " 2025-08-14 : Thursday\n",
      " 2025-08-15 : Friday\n",
      " 2025-08-16 : Saturday\n",
      " 2025-08-17 : Sunday\n",
      " 2025-08-18 : Monday\n",
      " 2025-08-19 : Tuesday]\n"
     ]
    }
   ],
   "execution_count": 22
  },
  {
   "metadata": {},
   "cell_type": "markdown",
   "source": [
    "### WeeklySchedule\n",
    "\n",
    "This schedule will match on the specified day of the week"
   ],
   "id": "7b9ebdf63a827652"
  },
  {
   "metadata": {
    "ExecuteTime": {
     "end_time": "2025-07-31T20:58:10.676286Z",
     "start_time": "2025-07-31T20:58:10.672521Z"
    }
   },
   "cell_type": "code",
   "source": [
    "days = [START_DATE + timedelta(days=i) for i in range(50)]\n",
    "matches = filter(WeeklySchedule(TUESDAY).check, days)\n",
    "print_date_list(matches)"
   ],
   "id": "8337dcfb7faf8c47",
   "outputs": [
    {
     "name": "stdout",
     "output_type": "stream",
     "text": [
      "[2025-08-05 : Tuesday\n",
      " 2025-08-12 : Tuesday\n",
      " 2025-08-19 : Tuesday\n",
      " 2025-08-26 : Tuesday\n",
      " 2025-09-02 : Tuesday\n",
      " 2025-09-09 : Tuesday\n",
      " 2025-09-16 : Tuesday]\n"
     ]
    }
   ],
   "execution_count": 23
  },
  {
   "metadata": {},
   "cell_type": "markdown",
   "source": [
    "### MonthlySchedule\n",
    "\n",
    "This schedule will match on the specified day of the month.\n",
    "\n",
    "> **_NB._** If the current month does not have the specified day (eg. there is no 30th of February in any year)\n",
    "then the last day of the month will match."
   ],
   "id": "1bddb1513f8eac3c"
  },
  {
   "metadata": {
    "ExecuteTime": {
     "end_time": "2025-07-31T20:58:10.695802Z",
     "start_time": "2025-07-31T20:58:10.688270Z"
    }
   },
   "cell_type": "code",
   "source": [
    "days = [START_DATE + timedelta(days=i) for i in range(500)]\n",
    "matches = filter(MonthlySchedule(30).check, days)\n",
    "print_date_list(matches)"
   ],
   "id": "76f2f172fda2c5b8",
   "outputs": [
    {
     "name": "stdout",
     "output_type": "stream",
     "text": [
      "[2025-08-30 : Saturday\n",
      " 2025-09-30 : Tuesday\n",
      " 2025-10-30 : Thursday\n",
      " 2025-11-30 : Sunday\n",
      " 2025-12-30 : Tuesday\n",
      " 2026-01-30 : Friday\n",
      " 2026-02-28 : Saturday\n",
      " 2026-03-30 : Monday\n",
      " 2026-04-30 : Thursday\n",
      " 2026-05-30 : Saturday\n",
      " 2026-06-30 : Tuesday\n",
      " 2026-07-30 : Thursday\n",
      " 2026-08-30 : Sunday\n",
      " 2026-09-30 : Wednesday\n",
      " 2026-10-30 : Friday\n",
      " 2026-11-30 : Monday]\n"
     ]
    }
   ],
   "execution_count": 24
  },
  {
   "metadata": {},
   "cell_type": "markdown",
   "source": [
    "### YearlySchedule\n",
    "\n",
    "This schedule will match on the specified day of specified month.\n",
    "\n",
    "> **_NB._** If the current month does not have the specified day (eg. there is no 30th of February in any year)\n",
    "then the last day of the month will match."
   ],
   "id": "fe7200e9208b0cb3"
  },
  {
   "metadata": {
    "ExecuteTime": {
     "end_time": "2025-07-31T20:58:10.718142Z",
     "start_time": "2025-07-31T20:58:10.707390Z"
    }
   },
   "cell_type": "code",
   "source": [
    "days = [START_DATE + timedelta(days=i) for i in range(5000)]\n",
    "matches = filter(YearlySchedule(FEBRUARY, 30).check, days)\n",
    "print_date_list(matches)"
   ],
   "id": "ce50c3ac5cd812ae",
   "outputs": [
    {
     "name": "stdout",
     "output_type": "stream",
     "text": [
      "[2026-02-28 : Saturday\n",
      " 2027-02-28 : Sunday\n",
      " 2028-02-29 : Tuesday\n",
      " 2029-02-28 : Wednesday\n",
      " 2030-02-28 : Thursday\n",
      " 2031-02-28 : Friday\n",
      " 2032-02-29 : Sunday\n",
      " 2033-02-28 : Monday\n",
      " 2034-02-28 : Tuesday\n",
      " 2035-02-28 : Wednesday\n",
      " 2036-02-29 : Friday\n",
      " 2037-02-28 : Saturday\n",
      " 2038-02-28 : Sunday\n",
      " 2039-02-28 : Monday]\n"
     ]
    }
   ],
   "execution_count": 25
  },
  {
   "metadata": {},
   "cell_type": "markdown",
   "source": [
    "### FilterSchedule\n",
    "\n",
    "This is a generic schedule that takes a callback function that will be used to check the supplied date"
   ],
   "id": "231710f92f799dfa"
  },
  {
   "metadata": {
    "ExecuteTime": {
     "end_time": "2025-07-31T20:58:10.740211Z",
     "start_time": "2025-07-31T20:58:10.732877Z"
    }
   },
   "cell_type": "code",
   "source": [
    "days = [START_DATE + timedelta(days=i) for i in range(20)]\n",
    "def filter_func(current_date: date) -> bool:\n",
    "    return current_date.weekday() < SATURDAY\n",
    "matches = filter(FilterSchedule(filter_func).check, days)\n",
    "print_date_list(matches)"
   ],
   "id": "e8e7d0477ac7deb1",
   "outputs": [
    {
     "name": "stdout",
     "output_type": "stream",
     "text": [
      "[2025-07-31 : Thursday\n",
      " 2025-08-01 : Friday\n",
      " 2025-08-04 : Monday\n",
      " 2025-08-05 : Tuesday\n",
      " 2025-08-06 : Wednesday\n",
      " 2025-08-07 : Thursday\n",
      " 2025-08-08 : Friday\n",
      " 2025-08-11 : Monday\n",
      " 2025-08-12 : Tuesday\n",
      " 2025-08-13 : Wednesday\n",
      " 2025-08-14 : Thursday\n",
      " 2025-08-15 : Friday\n",
      " 2025-08-18 : Monday\n",
      " 2025-08-19 : Tuesday]\n"
     ]
    }
   ],
   "execution_count": 26
  },
  {
   "metadata": {},
   "cell_type": "markdown",
   "source": [
    "## Schedule operators\n",
    "\n",
    "The following schedules take other schedules and apply an operator to them."
   ],
   "id": "7045591371c57f8d"
  },
  {
   "metadata": {},
   "cell_type": "markdown",
   "source": [
    "### AnySchedule\n",
    "\n",
    "This represents a boolean `OR` operator for schedules. If any of the child schedules match the current date,\n",
    "then this schedule will match.\n",
    "\n",
    "For example, to get a quarterly schedule, you could create four Yearly schedules and Any them together."
   ],
   "id": "d2caa297c71f9604"
  },
  {
   "metadata": {
    "ExecuteTime": {
     "end_time": "2025-07-31T20:58:10.786093Z",
     "start_time": "2025-07-31T20:58:10.765Z"
    }
   },
   "cell_type": "code",
   "source": [
    "days = [START_DATE + timedelta(days=i) for i in range(1000)]\n",
    "matches = filter(AnySchedule({\n",
    "    'Every January 1': YearlySchedule(JANUARY, 1),\n",
    "    'Every April 1': YearlySchedule(APRIL, 1),\n",
    "    'Every July 1': YearlySchedule(JULY, 1),\n",
    "    'Every October 1': YearlySchedule(OCTOBER, 1)}).check, days)\n",
    "print_date_list(matches)"
   ],
   "id": "71f905ff00962efe",
   "outputs": [
    {
     "name": "stdout",
     "output_type": "stream",
     "text": [
      "[2025-10-01 : Wednesday\n",
      " 2026-01-01 : Thursday\n",
      " 2026-04-01 : Wednesday\n",
      " 2026-07-01 : Wednesday\n",
      " 2026-10-01 : Thursday\n",
      " 2027-01-01 : Friday\n",
      " 2027-04-01 : Thursday\n",
      " 2027-07-01 : Thursday\n",
      " 2027-10-01 : Friday\n",
      " 2028-01-01 : Saturday\n",
      " 2028-04-01 : Saturday]\n"
     ]
    }
   ],
   "execution_count": 27
  },
  {
   "metadata": {},
   "cell_type": "markdown",
   "source": [
    "### AllSchedule\n",
    "\n",
    "This represents a boolean `AND` operator for schedules. Only if all the child schedules match the current date,\n",
    "will this schedule match.\n",
    "\n",
    "For example, to get a weekly schedule but only from a certain date."
   ],
   "id": "b31fae2015c167c3"
  },
  {
   "metadata": {
    "ExecuteTime": {
     "end_time": "2025-07-31T20:58:10.831020Z",
     "start_time": "2025-07-31T20:58:10.819793Z"
    }
   },
   "cell_type": "code",
   "source": [
    "days = [START_DATE + timedelta(days=i) for i in range(50)]\n",
    "matches = filter(AllSchedule({\n",
    "    'Every Tuesday': WeeklySchedule(TUESDAY),\n",
    "    'From 10 days from now': FromSchedule(START_DATE + timedelta(days=10))}).check, days)\n",
    "print_date_list(matches)"
   ],
   "id": "2e0cdcce1e258b7c",
   "outputs": [
    {
     "name": "stdout",
     "output_type": "stream",
     "text": [
      "[2025-08-12 : Tuesday\n",
      " 2025-08-19 : Tuesday\n",
      " 2025-08-26 : Tuesday\n",
      " 2025-09-02 : Tuesday\n",
      " 2025-09-09 : Tuesday\n",
      " 2025-09-16 : Tuesday]\n"
     ]
    }
   ],
   "execution_count": 28
  },
  {
   "metadata": {},
   "cell_type": "markdown",
   "source": [
    "### ModuloSchedule\n",
    "\n",
    "This represents a `MODULO` operator for schedules.\n",
    "\n",
    "The `start_date` specifies the first date on or after which a match from the child schedule will\n",
    "result in the Modulo matching.\n",
    "\n",
    "The `modulo` specifies the number of child matches after each Modulo match before the Modulo will\n",
    "match again.\n",
    "\n",
    "For example, to get a schedule for every 4 years, you could use a YearlySchedule for the required date.\n",
    "Then, apply a ModuloSchedule starting on the first of January and matching every fourth child match.\n",
    "\n",
    "> **_NB._** A ModuloSchedule will assert if a date before the `start_date` is checked.\n",
    "\n",
    "> **_NBB._** This is a complicated schedule that may be removed in the future. Any use case may well be achievable\n",
    "using a combination of the other schedules. Particularly the FilterSchedule and another schedule combined\n",
    "with an AllSchedule."
   ],
   "id": "2264bbaf8cda7e64"
  },
  {
   "metadata": {
    "ExecuteTime": {
     "end_time": "2025-07-31T20:58:10.858903Z",
     "start_time": "2025-07-31T20:58:10.845400Z"
    }
   },
   "cell_type": "code",
   "source": [
    "days = [START_DATE + timedelta(days=i) for i in range(5000)]\n",
    "matches = filter(ModuloSchedule(YearlySchedule(APRIL, 15),\n",
    "                                start_date=date(START_DATE.year, JANUARY, 1),\n",
    "                                modulo=4).check, days)\n",
    "print_date_list(matches)"
   ],
   "id": "3caacd6e5bd7c495",
   "outputs": [
    {
     "name": "stdout",
     "output_type": "stream",
     "text": [
      "[2029-04-15 : Sunday\n",
      " 2033-04-15 : Friday\n",
      " 2037-04-15 : Wednesday]\n"
     ]
    }
   ],
   "execution_count": 29
  },
  {
   "metadata": {},
   "cell_type": "markdown",
   "source": [
    "## Implementation notes\n",
    "\n",
    "Schedule checks should be pure functions. That is, any call with the same input should return the\n",
    "same result.\n",
    "\n",
    "For most of the implementations, this is true as they are stateless.\n",
    "\n",
    "However, for the ModuloSchedule to work efficiently, it does implement a cache of dates that have been\n",
    "checked. Even so, the ModuloSchedule check will always return the same value for the same input as long\n",
    "as the child schedule check is also a pure function."
   ],
   "id": "1b71c5ddfd8392b9"
  }
 ],
 "metadata": {
  "kernelspec": {
   "display_name": "Python 3",
   "language": "python",
   "name": "python3"
  },
  "language_info": {
   "codemirror_mode": {
    "name": "ipython",
    "version": 2
   },
   "file_extension": ".py",
   "mimetype": "text/x-python",
   "name": "python",
   "nbconvert_exporter": "python",
   "pygments_lexer": "ipython2",
   "version": "2.7.6"
  }
 },
 "nbformat": 4,
 "nbformat_minor": 5
}
