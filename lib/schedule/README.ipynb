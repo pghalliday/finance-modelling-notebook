{
 "cells": [
  {
   "cell_type": "markdown",
   "id": "86d255fd9c1132ac",
   "metadata": {
    "papermill": {
     "duration": 0.011857,
     "end_time": "2025-08-01T08:48:34.799896",
     "exception": false,
     "start_time": "2025-08-01T08:48:34.788039",
     "status": "completed"
    },
    "tags": []
   },
   "source": [
    "# Schedule\n",
    "\n",
    "A collection of schedule implementations that will take the current date and check if that day\n",
    "is in the schedule."
   ]
  },
  {
   "cell_type": "code",
   "execution_count": 1,
   "id": "initial_id",
   "metadata": {
    "ExecuteTime": {
     "end_time": "2025-08-01T08:47:17.837475Z",
     "start_time": "2025-08-01T08:47:17.817786Z"
    },
    "collapsed": true,
    "execution": {
     "iopub.execute_input": "2025-08-01T08:48:34.813129Z",
     "iopub.status.busy": "2025-08-01T08:48:34.812825Z",
     "iopub.status.idle": "2025-08-01T08:48:34.830493Z",
     "shell.execute_reply": "2025-08-01T08:48:34.830132Z"
    },
    "papermill": {
     "duration": 0.024812,
     "end_time": "2025-08-01T08:48:34.831536",
     "exception": false,
     "start_time": "2025-08-01T08:48:34.806724",
     "status": "completed"
    },
    "tags": []
   },
   "outputs": [
    {
     "name": "stdout",
     "output_type": "stream",
     "text": [
      "Start Date: 2025-08-01 : Fri\n"
     ]
    }
   ],
   "source": [
    "from calendar import TUESDAY, SATURDAY, JANUARY, FEBRUARY, APRIL, JULY, OCTOBER\n",
    "from datetime import date, timedelta\n",
    "\n",
    "from lib.schedule import \\\n",
    "    NeverSchedule, \\\n",
    "    DailySchedule, \\\n",
    "    DaySchedule, \\\n",
    "    FromSchedule, \\\n",
    "    UntilSchedule, \\\n",
    "    RangeSchedule, \\\n",
    "    WeeklySchedule, \\\n",
    "    MonthlySchedule, \\\n",
    "    YearlySchedule, \\\n",
    "    FilterSchedule, \\\n",
    "    AnySchedule, \\\n",
    "    AllSchedule, \\\n",
    "    ModuloSchedule\n",
    "from lib.utils.print import \\\n",
    "    format_day, \\\n",
    "    print_days\n",
    "\n",
    "START_DATE = date.today()\n",
    "\n",
    "print(f'Start Date: {format_day(START_DATE)}')"
   ]
  },
  {
   "cell_type": "markdown",
   "id": "b375883e0aef0abe",
   "metadata": {
    "papermill": {
     "duration": 0.003754,
     "end_time": "2025-08-01T08:48:34.839573",
     "exception": false,
     "start_time": "2025-08-01T08:48:34.835819",
     "status": "completed"
    },
    "tags": []
   },
   "source": [
    "## Primitive schedules\n",
    "\n",
    "The following schedules are the basic building blocks of schedules."
   ]
  },
  {
   "cell_type": "markdown",
   "id": "24b2f20432708dd4",
   "metadata": {
    "papermill": {
     "duration": 0.002834,
     "end_time": "2025-08-01T08:48:34.845609",
     "exception": false,
     "start_time": "2025-08-01T08:48:34.842775",
     "status": "completed"
    },
    "tags": []
   },
   "source": [
    "### NeverSchedule\n",
    "\n",
    "This is a trivial schedule in that it always returns False"
   ]
  },
  {
   "cell_type": "code",
   "execution_count": 2,
   "id": "155acd03e1e6e439",
   "metadata": {
    "ExecuteTime": {
     "end_time": "2025-08-01T08:47:17.916987Z",
     "start_time": "2025-08-01T08:47:17.907735Z"
    },
    "execution": {
     "iopub.execute_input": "2025-08-01T08:48:34.851578Z",
     "iopub.status.busy": "2025-08-01T08:48:34.851423Z",
     "iopub.status.idle": "2025-08-01T08:48:34.854146Z",
     "shell.execute_reply": "2025-08-01T08:48:34.853844Z"
    },
    "papermill": {
     "duration": 0.006511,
     "end_time": "2025-08-01T08:48:34.854926",
     "exception": false,
     "start_time": "2025-08-01T08:48:34.848415",
     "status": "completed"
    },
    "tags": []
   },
   "outputs": [
    {
     "name": "stdout",
     "output_type": "stream",
     "text": [
      "[]\n"
     ]
    }
   ],
   "source": [
    "days = [START_DATE + timedelta(days=i) for i in range(1000)]\n",
    "matches = filter(NeverSchedule().check, days)\n",
    "print_days(matches)"
   ]
  },
  {
   "cell_type": "markdown",
   "id": "a6c95b36a4777e3b",
   "metadata": {
    "papermill": {
     "duration": 0.002354,
     "end_time": "2025-08-01T08:48:34.859756",
     "exception": false,
     "start_time": "2025-08-01T08:48:34.857402",
     "status": "completed"
    },
    "tags": []
   },
   "source": [
    "### DailySchedule\n",
    "\n",
    "This is a trivial schedule in that it always returns True"
   ]
  },
  {
   "cell_type": "code",
   "execution_count": 3,
   "id": "143ee0c99bef08f5",
   "metadata": {
    "ExecuteTime": {
     "end_time": "2025-08-01T08:47:17.974549Z",
     "start_time": "2025-08-01T08:47:17.970157Z"
    },
    "execution": {
     "iopub.execute_input": "2025-08-01T08:48:34.864997Z",
     "iopub.status.busy": "2025-08-01T08:48:34.864886Z",
     "iopub.status.idle": "2025-08-01T08:48:34.866992Z",
     "shell.execute_reply": "2025-08-01T08:48:34.866754Z"
    },
    "papermill": {
     "duration": 0.005393,
     "end_time": "2025-08-01T08:48:34.867634",
     "exception": false,
     "start_time": "2025-08-01T08:48:34.862241",
     "status": "completed"
    },
    "tags": []
   },
   "outputs": [
    {
     "name": "stdout",
     "output_type": "stream",
     "text": [
      "[2025-08-01 : Fri\n",
      " 2025-08-02 : Sat\n",
      " 2025-08-03 : Sun\n",
      " 2025-08-04 : Mon\n",
      " 2025-08-05 : Tue\n",
      " 2025-08-06 : Wed\n",
      " 2025-08-07 : Thu\n",
      " 2025-08-08 : Fri\n",
      " 2025-08-09 : Sat\n",
      " 2025-08-10 : Sun]\n"
     ]
    }
   ],
   "source": [
    "days = [START_DATE + timedelta(days=i) for i in range(10)]\n",
    "matches = filter(DailySchedule().check, days)\n",
    "print_days(matches)"
   ]
  },
  {
   "cell_type": "markdown",
   "id": "c881833ea29fbb9f",
   "metadata": {
    "papermill": {
     "duration": 0.002128,
     "end_time": "2025-08-01T08:48:34.872379",
     "exception": false,
     "start_time": "2025-08-01T08:48:34.870251",
     "status": "completed"
    },
    "tags": []
   },
   "source": [
    "### DaySchedule\n",
    "\n",
    "This schedule will only match on the specified day"
   ]
  },
  {
   "cell_type": "code",
   "execution_count": 4,
   "id": "906f3fdcd1986f5e",
   "metadata": {
    "ExecuteTime": {
     "end_time": "2025-08-01T08:47:18.014557Z",
     "start_time": "2025-08-01T08:47:18.007238Z"
    },
    "execution": {
     "iopub.execute_input": "2025-08-01T08:48:34.877063Z",
     "iopub.status.busy": "2025-08-01T08:48:34.876958Z",
     "iopub.status.idle": "2025-08-01T08:48:34.879156Z",
     "shell.execute_reply": "2025-08-01T08:48:34.878932Z"
    },
    "papermill": {
     "duration": 0.005175,
     "end_time": "2025-08-01T08:48:34.879783",
     "exception": false,
     "start_time": "2025-08-01T08:48:34.874608",
     "status": "completed"
    },
    "tags": []
   },
   "outputs": [
    {
     "name": "stdout",
     "output_type": "stream",
     "text": [
      "[2025-09-20 : Sat]\n"
     ]
    }
   ],
   "source": [
    "days = [START_DATE + timedelta(days=i) for i in range(1000)]\n",
    "matches = filter(DaySchedule(START_DATE + timedelta(days=50)).check, days)\n",
    "print_days(matches)"
   ]
  },
  {
   "cell_type": "markdown",
   "id": "dacb67fc16fe79cb",
   "metadata": {
    "papermill": {
     "duration": 0.001958,
     "end_time": "2025-08-01T08:48:34.884429",
     "exception": false,
     "start_time": "2025-08-01T08:48:34.882471",
     "status": "completed"
    },
    "tags": []
   },
   "source": [
    "### FromSchedule\n",
    "\n",
    "This schedule will match on all dates after and including the specified day"
   ]
  },
  {
   "cell_type": "code",
   "execution_count": 5,
   "id": "cd1f77cd06a1c4fe",
   "metadata": {
    "ExecuteTime": {
     "end_time": "2025-08-01T08:47:18.074418Z",
     "start_time": "2025-08-01T08:47:18.065857Z"
    },
    "execution": {
     "iopub.execute_input": "2025-08-01T08:48:34.889380Z",
     "iopub.status.busy": "2025-08-01T08:48:34.889273Z",
     "iopub.status.idle": "2025-08-01T08:48:34.891195Z",
     "shell.execute_reply": "2025-08-01T08:48:34.890960Z"
    },
    "papermill": {
     "duration": 0.004957,
     "end_time": "2025-08-01T08:48:34.891787",
     "exception": false,
     "start_time": "2025-08-01T08:48:34.886830",
     "status": "completed"
    },
    "tags": []
   },
   "outputs": [
    {
     "name": "stdout",
     "output_type": "stream",
     "text": [
      "[2025-08-11 : Mon\n",
      " 2025-08-12 : Tue\n",
      " 2025-08-13 : Wed\n",
      " 2025-08-14 : Thu\n",
      " 2025-08-15 : Fri\n",
      " 2025-08-16 : Sat\n",
      " 2025-08-17 : Sun\n",
      " 2025-08-18 : Mon\n",
      " 2025-08-19 : Tue\n",
      " 2025-08-20 : Wed]\n"
     ]
    }
   ],
   "source": [
    "days = [START_DATE + timedelta(days=i) for i in range(20)]\n",
    "matches = filter(FromSchedule(START_DATE + timedelta(days=10)).check, days)\n",
    "print_days(matches)"
   ]
  },
  {
   "cell_type": "markdown",
   "id": "91a29fed9500151c",
   "metadata": {
    "papermill": {
     "duration": 0.002114,
     "end_time": "2025-08-01T08:48:34.896101",
     "exception": false,
     "start_time": "2025-08-01T08:48:34.893987",
     "status": "completed"
    },
    "tags": []
   },
   "source": [
    "### UntilSchedule\n",
    "\n",
    "This schedule will match on all dates up to but not including the specified day"
   ]
  },
  {
   "cell_type": "code",
   "execution_count": 6,
   "id": "3ac26fb8744eb83",
   "metadata": {
    "ExecuteTime": {
     "end_time": "2025-08-01T08:47:18.101696Z",
     "start_time": "2025-08-01T08:47:18.098361Z"
    },
    "execution": {
     "iopub.execute_input": "2025-08-01T08:48:34.900312Z",
     "iopub.status.busy": "2025-08-01T08:48:34.900205Z",
     "iopub.status.idle": "2025-08-01T08:48:34.902027Z",
     "shell.execute_reply": "2025-08-01T08:48:34.901824Z"
    },
    "papermill": {
     "duration": 0.004621,
     "end_time": "2025-08-01T08:48:34.902651",
     "exception": false,
     "start_time": "2025-08-01T08:48:34.898030",
     "status": "completed"
    },
    "tags": []
   },
   "outputs": [
    {
     "name": "stdout",
     "output_type": "stream",
     "text": [
      "[2025-08-01 : Fri\n",
      " 2025-08-02 : Sat\n",
      " 2025-08-03 : Sun\n",
      " 2025-08-04 : Mon\n",
      " 2025-08-05 : Tue\n",
      " 2025-08-06 : Wed\n",
      " 2025-08-07 : Thu\n",
      " 2025-08-08 : Fri\n",
      " 2025-08-09 : Sat\n",
      " 2025-08-10 : Sun]\n"
     ]
    }
   ],
   "source": [
    "days = [START_DATE + timedelta(days=i) for i in range(20)]\n",
    "matches = filter(UntilSchedule(START_DATE + timedelta(days=10)).check, days)\n",
    "print_days(matches)"
   ]
  },
  {
   "cell_type": "markdown",
   "id": "6fc05568787e8cdb",
   "metadata": {
    "papermill": {
     "duration": 0.002087,
     "end_time": "2025-08-01T08:48:34.906918",
     "exception": false,
     "start_time": "2025-08-01T08:48:34.904831",
     "status": "completed"
    },
    "tags": []
   },
   "source": [
    "### RangeSchedule\n",
    "\n",
    "This schedule will match on all dates after and including the `from_date` up to but not including\n",
    "the `until_date`"
   ]
  },
  {
   "cell_type": "code",
   "execution_count": 7,
   "id": "22627d6ed8970f75",
   "metadata": {
    "ExecuteTime": {
     "end_time": "2025-08-01T08:47:18.137412Z",
     "start_time": "2025-08-01T08:47:18.134086Z"
    },
    "execution": {
     "iopub.execute_input": "2025-08-01T08:48:34.913331Z",
     "iopub.status.busy": "2025-08-01T08:48:34.913122Z",
     "iopub.status.idle": "2025-08-01T08:48:34.916192Z",
     "shell.execute_reply": "2025-08-01T08:48:34.915567Z"
    },
    "papermill": {
     "duration": 0.007807,
     "end_time": "2025-08-01T08:48:34.917156",
     "exception": false,
     "start_time": "2025-08-01T08:48:34.909349",
     "status": "completed"
    },
    "tags": []
   },
   "outputs": [
    {
     "name": "stdout",
     "output_type": "stream",
     "text": [
      "[2025-08-11 : Mon\n",
      " 2025-08-12 : Tue\n",
      " 2025-08-13 : Wed\n",
      " 2025-08-14 : Thu\n",
      " 2025-08-15 : Fri\n",
      " 2025-08-16 : Sat\n",
      " 2025-08-17 : Sun\n",
      " 2025-08-18 : Mon\n",
      " 2025-08-19 : Tue\n",
      " 2025-08-20 : Wed]\n"
     ]
    }
   ],
   "source": [
    "days = [START_DATE + timedelta(days=i) for i in range(30)]\n",
    "matches = filter(RangeSchedule(from_date=START_DATE + timedelta(days=10),\n",
    "                               until_date=START_DATE + timedelta(days=20)).check, days)\n",
    "print_days(matches)"
   ]
  },
  {
   "cell_type": "markdown",
   "id": "7b9ebdf63a827652",
   "metadata": {
    "papermill": {
     "duration": 0.002607,
     "end_time": "2025-08-01T08:48:34.922565",
     "exception": false,
     "start_time": "2025-08-01T08:48:34.919958",
     "status": "completed"
    },
    "tags": []
   },
   "source": [
    "### WeeklySchedule\n",
    "\n",
    "This schedule will match on the specified day of the week"
   ]
  },
  {
   "cell_type": "code",
   "execution_count": 8,
   "id": "8337dcfb7faf8c47",
   "metadata": {
    "ExecuteTime": {
     "end_time": "2025-08-01T08:47:18.181540Z",
     "start_time": "2025-08-01T08:47:18.174623Z"
    },
    "execution": {
     "iopub.execute_input": "2025-08-01T08:48:34.928527Z",
     "iopub.status.busy": "2025-08-01T08:48:34.928389Z",
     "iopub.status.idle": "2025-08-01T08:48:34.930454Z",
     "shell.execute_reply": "2025-08-01T08:48:34.930226Z"
    },
    "papermill": {
     "duration": 0.005936,
     "end_time": "2025-08-01T08:48:34.931201",
     "exception": false,
     "start_time": "2025-08-01T08:48:34.925265",
     "status": "completed"
    },
    "tags": []
   },
   "outputs": [
    {
     "name": "stdout",
     "output_type": "stream",
     "text": [
      "[2025-08-05 : Tue\n",
      " 2025-08-12 : Tue\n",
      " 2025-08-19 : Tue\n",
      " 2025-08-26 : Tue\n",
      " 2025-09-02 : Tue\n",
      " 2025-09-09 : Tue\n",
      " 2025-09-16 : Tue]\n"
     ]
    }
   ],
   "source": [
    "days = [START_DATE + timedelta(days=i) for i in range(50)]\n",
    "matches = filter(WeeklySchedule(TUESDAY).check, days)\n",
    "print_days(matches)"
   ]
  },
  {
   "cell_type": "markdown",
   "id": "1bddb1513f8eac3c",
   "metadata": {
    "papermill": {
     "duration": 0.002516,
     "end_time": "2025-08-01T08:48:34.936536",
     "exception": false,
     "start_time": "2025-08-01T08:48:34.934020",
     "status": "completed"
    },
    "tags": []
   },
   "source": [
    "### MonthlySchedule\n",
    "\n",
    "This schedule will match on the specified day of the month.\n",
    "\n",
    "> **_NB._** If the current month does not have the specified day (e.g., there is no 30th of February in any year)\n",
    "then the last day of the month will match."
   ]
  },
  {
   "cell_type": "code",
   "execution_count": 9,
   "id": "76f2f172fda2c5b8",
   "metadata": {
    "ExecuteTime": {
     "end_time": "2025-08-01T08:47:18.222861Z",
     "start_time": "2025-08-01T08:47:18.212089Z"
    },
    "execution": {
     "iopub.execute_input": "2025-08-01T08:48:34.942385Z",
     "iopub.status.busy": "2025-08-01T08:48:34.942215Z",
     "iopub.status.idle": "2025-08-01T08:48:34.945021Z",
     "shell.execute_reply": "2025-08-01T08:48:34.944765Z"
    },
    "papermill": {
     "duration": 0.006734,
     "end_time": "2025-08-01T08:48:34.945823",
     "exception": false,
     "start_time": "2025-08-01T08:48:34.939089",
     "status": "completed"
    },
    "tags": []
   },
   "outputs": [
    {
     "name": "stdout",
     "output_type": "stream",
     "text": [
      "[2025-08-30 : Sat\n",
      " 2025-09-30 : Tue\n",
      " 2025-10-30 : Thu\n",
      " 2025-11-30 : Sun\n",
      " 2025-12-30 : Tue\n",
      " 2026-01-30 : Fri\n",
      " 2026-02-28 : Sat\n",
      " 2026-03-30 : Mon\n",
      " 2026-04-30 : Thu\n",
      " 2026-05-30 : Sat\n",
      " 2026-06-30 : Tue\n",
      " 2026-07-30 : Thu\n",
      " 2026-08-30 : Sun\n",
      " 2026-09-30 : Wed\n",
      " 2026-10-30 : Fri\n",
      " 2026-11-30 : Mon]\n"
     ]
    }
   ],
   "source": [
    "days = [START_DATE + timedelta(days=i) for i in range(500)]\n",
    "matches = filter(MonthlySchedule(30).check, days)\n",
    "print_days(matches)"
   ]
  },
  {
   "cell_type": "markdown",
   "id": "fe7200e9208b0cb3",
   "metadata": {
    "papermill": {
     "duration": 0.003557,
     "end_time": "2025-08-01T08:48:34.952425",
     "exception": false,
     "start_time": "2025-08-01T08:48:34.948868",
     "status": "completed"
    },
    "tags": []
   },
   "source": [
    "### YearlySchedule\n",
    "\n",
    "This schedule will match on the specified day of specified month.\n",
    "\n",
    "> **_NB._** If the current month does not have the specified day (e.g., there is no 30th of February in any year)\n",
    "then the last day of the month will match."
   ]
  },
  {
   "cell_type": "code",
   "execution_count": 10,
   "id": "ce50c3ac5cd812ae",
   "metadata": {
    "ExecuteTime": {
     "end_time": "2025-08-01T08:47:18.268219Z",
     "start_time": "2025-08-01T08:47:18.244291Z"
    },
    "execution": {
     "iopub.execute_input": "2025-08-01T08:48:34.961984Z",
     "iopub.status.busy": "2025-08-01T08:48:34.961467Z",
     "iopub.status.idle": "2025-08-01T08:48:34.965974Z",
     "shell.execute_reply": "2025-08-01T08:48:34.965719Z"
    },
    "papermill": {
     "duration": 0.011155,
     "end_time": "2025-08-01T08:48:34.966632",
     "exception": false,
     "start_time": "2025-08-01T08:48:34.955477",
     "status": "completed"
    },
    "tags": []
   },
   "outputs": [
    {
     "name": "stdout",
     "output_type": "stream",
     "text": [
      "[2026-02-28 : Sat\n",
      " 2027-02-28 : Sun\n",
      " 2028-02-29 : Tue\n",
      " 2029-02-28 : Wed\n",
      " 2030-02-28 : Thu\n",
      " 2031-02-28 : Fri\n",
      " 2032-02-29 : Sun\n",
      " 2033-02-28 : Mon\n",
      " 2034-02-28 : Tue\n",
      " 2035-02-28 : Wed\n",
      " 2036-02-29 : Fri\n",
      " 2037-02-28 : Sat\n",
      " 2038-02-28 : Sun\n",
      " 2039-02-28 : Mon]\n"
     ]
    }
   ],
   "source": [
    "days = [START_DATE + timedelta(days=i) for i in range(5000)]\n",
    "matches = filter(YearlySchedule(FEBRUARY, 30).check, days)\n",
    "print_days(matches)"
   ]
  },
  {
   "cell_type": "markdown",
   "id": "231710f92f799dfa",
   "metadata": {
    "papermill": {
     "duration": 0.002432,
     "end_time": "2025-08-01T08:48:34.972131",
     "exception": false,
     "start_time": "2025-08-01T08:48:34.969699",
     "status": "completed"
    },
    "tags": []
   },
   "source": [
    "### FilterSchedule\n",
    "\n",
    "This is a generic schedule that takes a callback function that will be used to check the supplied date"
   ]
  },
  {
   "cell_type": "code",
   "execution_count": 11,
   "id": "e8e7d0477ac7deb1",
   "metadata": {
    "ExecuteTime": {
     "end_time": "2025-08-01T08:47:18.312505Z",
     "start_time": "2025-08-01T08:47:18.308012Z"
    },
    "execution": {
     "iopub.execute_input": "2025-08-01T08:48:34.977925Z",
     "iopub.status.busy": "2025-08-01T08:48:34.977792Z",
     "iopub.status.idle": "2025-08-01T08:48:34.980032Z",
     "shell.execute_reply": "2025-08-01T08:48:34.979835Z"
    },
    "papermill": {
     "duration": 0.005923,
     "end_time": "2025-08-01T08:48:34.980631",
     "exception": false,
     "start_time": "2025-08-01T08:48:34.974708",
     "status": "completed"
    },
    "tags": []
   },
   "outputs": [
    {
     "name": "stdout",
     "output_type": "stream",
     "text": [
      "[2025-08-01 : Fri\n",
      " 2025-08-04 : Mon\n",
      " 2025-08-05 : Tue\n",
      " 2025-08-06 : Wed\n",
      " 2025-08-07 : Thu\n",
      " 2025-08-08 : Fri\n",
      " 2025-08-11 : Mon\n",
      " 2025-08-12 : Tue\n",
      " 2025-08-13 : Wed\n",
      " 2025-08-14 : Thu\n",
      " 2025-08-15 : Fri\n",
      " 2025-08-18 : Mon\n",
      " 2025-08-19 : Tue\n",
      " 2025-08-20 : Wed]\n"
     ]
    }
   ],
   "source": [
    "days = [START_DATE + timedelta(days=i) for i in range(20)]\n",
    "\n",
    "\n",
    "def filter_func(current_date: date) -> bool:\n",
    "    return current_date.weekday() < SATURDAY\n",
    "\n",
    "\n",
    "matches = filter(FilterSchedule(filter_func).check, days)\n",
    "print_days(matches)"
   ]
  },
  {
   "cell_type": "markdown",
   "id": "7045591371c57f8d",
   "metadata": {
    "papermill": {
     "duration": 0.002468,
     "end_time": "2025-08-01T08:48:34.985312",
     "exception": false,
     "start_time": "2025-08-01T08:48:34.982844",
     "status": "completed"
    },
    "tags": []
   },
   "source": [
    "## Schedule operators\n",
    "\n",
    "The following schedules take other schedules and apply an operator to them."
   ]
  },
  {
   "cell_type": "markdown",
   "id": "d2caa297c71f9604",
   "metadata": {
    "papermill": {
     "duration": 0.002583,
     "end_time": "2025-08-01T08:48:34.990228",
     "exception": false,
     "start_time": "2025-08-01T08:48:34.987645",
     "status": "completed"
    },
    "tags": []
   },
   "source": [
    "### AnySchedule\n",
    "\n",
    "This represents a boolean `OR` operator for schedules. If any of the child schedules match the current date,\n",
    "then this schedule will match.\n",
    "\n",
    "For example, to get a quarterly schedule, you could create four Yearly schedules and Any them together."
   ]
  },
  {
   "cell_type": "code",
   "execution_count": 12,
   "id": "71f905ff00962efe",
   "metadata": {
    "ExecuteTime": {
     "end_time": "2025-08-01T08:47:18.349376Z",
     "start_time": "2025-08-01T08:47:18.344640Z"
    },
    "execution": {
     "iopub.execute_input": "2025-08-01T08:48:34.995345Z",
     "iopub.status.busy": "2025-08-01T08:48:34.995243Z",
     "iopub.status.idle": "2025-08-01T08:48:34.998111Z",
     "shell.execute_reply": "2025-08-01T08:48:34.997904Z"
    },
    "papermill": {
     "duration": 0.006251,
     "end_time": "2025-08-01T08:48:34.998722",
     "exception": false,
     "start_time": "2025-08-01T08:48:34.992471",
     "status": "completed"
    },
    "tags": []
   },
   "outputs": [
    {
     "name": "stdout",
     "output_type": "stream",
     "text": [
      "[2025-10-01 : Wed\n",
      " 2026-01-01 : Thu\n",
      " 2026-04-01 : Wed\n",
      " 2026-07-01 : Wed\n",
      " 2026-10-01 : Thu\n",
      " 2027-01-01 : Fri\n",
      " 2027-04-01 : Thu\n",
      " 2027-07-01 : Thu\n",
      " 2027-10-01 : Fri\n",
      " 2028-01-01 : Sat\n",
      " 2028-04-01 : Sat]\n"
     ]
    }
   ],
   "source": [
    "days = [START_DATE + timedelta(days=i) for i in range(1000)]\n",
    "matches = filter(AnySchedule({\n",
    "    'Every January 1': YearlySchedule(JANUARY, 1),\n",
    "    'Every April 1': YearlySchedule(APRIL, 1),\n",
    "    'Every July 1': YearlySchedule(JULY, 1),\n",
    "    'Every October 1': YearlySchedule(OCTOBER, 1)}).check, days)\n",
    "print_days(matches)"
   ]
  },
  {
   "cell_type": "markdown",
   "id": "b31fae2015c167c3",
   "metadata": {
    "papermill": {
     "duration": 0.002395,
     "end_time": "2025-08-01T08:48:35.003459",
     "exception": false,
     "start_time": "2025-08-01T08:48:35.001064",
     "status": "completed"
    },
    "tags": []
   },
   "source": [
    "### AllSchedule\n",
    "\n",
    "This represents a boolean `AND` operator for schedules. Only if all the child schedules match the current date,\n",
    "will this schedule match.\n",
    "\n",
    "For example, to get a weekly schedule but only from a certain date."
   ]
  },
  {
   "cell_type": "code",
   "execution_count": 13,
   "id": "2e0cdcce1e258b7c",
   "metadata": {
    "ExecuteTime": {
     "end_time": "2025-08-01T08:47:18.382409Z",
     "start_time": "2025-08-01T08:47:18.377958Z"
    },
    "execution": {
     "iopub.execute_input": "2025-08-01T08:48:35.009276Z",
     "iopub.status.busy": "2025-08-01T08:48:35.009102Z",
     "iopub.status.idle": "2025-08-01T08:48:35.013965Z",
     "shell.execute_reply": "2025-08-01T08:48:35.012520Z"
    },
    "papermill": {
     "duration": 0.010191,
     "end_time": "2025-08-01T08:48:35.016242",
     "exception": false,
     "start_time": "2025-08-01T08:48:35.006051",
     "status": "completed"
    },
    "tags": []
   },
   "outputs": [
    {
     "name": "stdout",
     "output_type": "stream",
     "text": [
      "[2025-08-12 : Tue\n",
      " 2025-08-19 : Tue\n",
      " 2025-08-26 : Tue\n",
      " 2025-09-02 : Tue\n",
      " 2025-09-09 : Tue\n",
      " 2025-09-16 : Tue]\n"
     ]
    }
   ],
   "source": [
    "days = [START_DATE + timedelta(days=i) for i in range(50)]\n",
    "matches = filter(AllSchedule({\n",
    "    'Every Tuesday': WeeklySchedule(TUESDAY),\n",
    "    'From 10 days from now': FromSchedule(START_DATE + timedelta(days=10))}).check, days)\n",
    "print_days(matches)"
   ]
  },
  {
   "cell_type": "markdown",
   "id": "2264bbaf8cda7e64",
   "metadata": {
    "papermill": {
     "duration": 0.004985,
     "end_time": "2025-08-01T08:48:35.026159",
     "exception": false,
     "start_time": "2025-08-01T08:48:35.021174",
     "status": "completed"
    },
    "tags": []
   },
   "source": [
    "### ModuloSchedule\n",
    "\n",
    "This represents a `MODULO` operator for schedules.\n",
    "\n",
    "The `start_date` specifies the first date on or after which a match from the child schedule will\n",
    "result in the Modulo matching.\n",
    "\n",
    "The `modulo` specifies the number of child matches after each Modulo match before the Modulo will\n",
    "match again.\n",
    "\n",
    "For example, to get a schedule for every 4 years, you could use a YearlySchedule for the required date.\n",
    "Then, apply a ModuloSchedule starting on the first of January and matching every fourth child match.\n",
    "\n",
    "> **_NB._** A ModuloSchedule will assert if a date before the `start_date` is checked.\n",
    "\n",
    "> **_NBB._** This is a complicated schedule that may be removed in the future. Any use case may well be achievable\n",
    "using a combination of the other schedules. Particularly the FilterSchedule and another schedule combined\n",
    "with an AllSchedule."
   ]
  },
  {
   "cell_type": "code",
   "execution_count": 14,
   "id": "3caacd6e5bd7c495",
   "metadata": {
    "ExecuteTime": {
     "end_time": "2025-08-01T08:47:18.422081Z",
     "start_time": "2025-08-01T08:47:18.409930Z"
    },
    "execution": {
     "iopub.execute_input": "2025-08-01T08:48:35.034032Z",
     "iopub.status.busy": "2025-08-01T08:48:35.033898Z",
     "iopub.status.idle": "2025-08-01T08:48:35.040647Z",
     "shell.execute_reply": "2025-08-01T08:48:35.040393Z"
    },
    "papermill": {
     "duration": 0.010529,
     "end_time": "2025-08-01T08:48:35.041267",
     "exception": false,
     "start_time": "2025-08-01T08:48:35.030738",
     "status": "completed"
    },
    "tags": []
   },
   "outputs": [
    {
     "name": "stdout",
     "output_type": "stream",
     "text": [
      "[2029-04-15 : Sun\n",
      " 2033-04-15 : Fri\n",
      " 2037-04-15 : Wed]\n"
     ]
    }
   ],
   "source": [
    "days = [START_DATE + timedelta(days=i) for i in range(5000)]\n",
    "matches = filter(ModuloSchedule(YearlySchedule(APRIL, 15),\n",
    "                                start_date=date(START_DATE.year, JANUARY, 1),\n",
    "                                modulo=4).check, days)\n",
    "print_days(matches)"
   ]
  },
  {
   "cell_type": "markdown",
   "id": "1b71c5ddfd8392b9",
   "metadata": {
    "papermill": {
     "duration": 0.002617,
     "end_time": "2025-08-01T08:48:35.046634",
     "exception": false,
     "start_time": "2025-08-01T08:48:35.044017",
     "status": "completed"
    },
    "tags": []
   },
   "source": [
    "## Implementation notes\n",
    "\n",
    "Schedule checks should be pure functions. That is, any call with the same input should return the\n",
    "same result.\n",
    "\n",
    "For most of the implementations, this is true as they are stateless.\n",
    "\n",
    "However, for the ModuloSchedule to work efficiently, it does implement a cache of dates that have been\n",
    "checked. Even so, the ModuloSchedule check will always return the same value for the same input as long\n",
    "as the child schedule check is also a pure function."
   ]
  }
 ],
 "metadata": {
  "kernelspec": {
   "display_name": "Python 3",
   "language": "python",
   "name": "python3"
  },
  "language_info": {
   "codemirror_mode": {
    "name": "ipython",
    "version": 3
   },
   "file_extension": ".py",
   "mimetype": "text/x-python",
   "name": "python",
   "nbconvert_exporter": "python",
   "pygments_lexer": "ipython3",
   "version": "3.12.11"
  },
  "papermill": {
   "default_parameters": {},
   "duration": 1.162056,
   "end_time": "2025-08-01T08:48:35.164976",
   "environment_variables": {},
   "exception": null,
   "input_path": "./lib/schedule/README.ipynb",
   "output_path": "./lib/schedule/README.ipynb",
   "parameters": {},
   "start_time": "2025-08-01T08:48:34.002920",
   "version": "2.6.0"
  }
 },
 "nbformat": 4,
 "nbformat_minor": 5
}