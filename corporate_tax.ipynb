{
 "cells": [
  {
   "metadata": {},
   "cell_type": "markdown",
   "source": [
    "# Corporate tax for BV\n",
    "\n",
    "The annual corporate tax for a BV is calculated on a taxable amount which is the gross revenue minus deductibles. For example.\n",
    "\n",
    "Given:"
   ],
   "id": "8a77807f92f26ee"
  },
  {
   "metadata": {
    "ExecuteTime": {
     "end_time": "2025-07-28T20:26:21.139516Z",
     "start_time": "2025-07-28T20:26:21.131035Z"
    }
   },
   "cell_type": "code",
   "source": [
    "revenue = 500_000.00\n",
    "deductibles = 200_000.00"
   ],
   "id": "6d5b19c401ac8b2f",
   "outputs": [],
   "execution_count": 1
  },
  {
   "metadata": {},
   "cell_type": "markdown",
   "source": "Then:",
   "id": "b23ba8aa58266760"
  },
  {
   "metadata": {
    "ExecuteTime": {
     "end_time": "2025-07-28T20:26:21.336283Z",
     "start_time": "2025-07-28T20:26:21.323439Z"
    }
   },
   "cell_type": "code",
   "source": [
    "taxable = revenue - deductibles\n",
    "taxable"
   ],
   "id": "fbc121e30a2defb3",
   "outputs": [
    {
     "data": {
      "text/plain": [
       "300000.0"
      ]
     },
     "execution_count": 2,
     "metadata": {},
     "output_type": "execute_result"
    }
   ],
   "execution_count": 2
  },
  {
   "metadata": {},
   "cell_type": "markdown",
   "source": "The tax payable is then calculated based on rates for bands set by the Belastingdienst each year. For example, the bands set for 2025 are:",
   "id": "3bef2b2ba159c37e"
  },
  {
   "metadata": {
    "ExecuteTime": {
     "end_time": "2025-07-28T20:26:21.497912Z",
     "start_time": "2025-07-28T20:26:21.477747Z"
    }
   },
   "cell_type": "code",
   "source": [
    "from lib.tax_bands_by_year import TaxBandsByYear\n",
    "\n",
    "taxBandsByYear = TaxBandsByYear('data/corporate_tax_bands.json')\n",
    "taxBands2025 = taxBandsByYear.get_bands(2025)\n",
    "print(taxBands2025)"
   ],
   "id": "5a41b474f3f86787",
   "outputs": [
    {
     "name": "stdout",
     "output_type": "stream",
     "text": [
      "┌───────────────────────────────────────┬────────┐\n",
      "│ For the portion of the taxable amount │   Rate │\n",
      "├───────────────────────────────────────┼────────┤\n",
      "│ up to 200_000                         │ 19.00% │\n",
      "│ above 200_000                         │ 25.80% │\n",
      "└───────────────────────────────────────┴────────┘\n"
     ]
    }
   ],
   "execution_count": 3
  },
  {
   "metadata": {},
   "cell_type": "markdown",
   "source": "Thus, the tax calculation for our example above is:",
   "id": "e5d712855410ff96"
  },
  {
   "metadata": {
    "ExecuteTime": {
     "end_time": "2025-07-28T20:26:21.528545Z",
     "start_time": "2025-07-28T20:26:21.524387Z"
    }
   },
   "cell_type": "code",
   "source": [
    "taxCalculation = taxBands2025.calculate(taxable)\n",
    "print(taxCalculation)"
   ],
   "id": "c253a3a7511a668b",
   "outputs": [
    {
     "name": "stdout",
     "output_type": "stream",
     "text": [
      "┌───────────────────────────────────────┬────────┬─────────────────┬───────────┐\n",
      "│ For the portion of the taxable amount │   Rate │ Taxable portion │   Tax Due │\n",
      "├───────────────────────────────────────┼────────┼─────────────────┼───────────┤\n",
      "│ up to 200_000                         │ 19.00% │      200_000.00 │ 38_000.00 │\n",
      "│ above 200_000                         │ 25.80% │      100_000.00 │ 25_800.00 │\n",
      "├───────────────────────────────────────┼────────┼─────────────────┼───────────┤\n",
      "│                                       │  Total │      300_000.00 │ 63_800.00 │\n",
      "└───────────────────────────────────────┴────────┴─────────────────┴───────────┘\n"
     ]
    }
   ],
   "execution_count": 4
  },
  {
   "metadata": {
    "ExecuteTime": {
     "end_time": "2025-07-28T20:26:21.561670Z",
     "start_time": "2025-07-28T20:26:21.551804Z"
    }
   },
   "cell_type": "code",
   "source": "taxCalculation.tax_due",
   "id": "5d1163d6cbd11db2",
   "outputs": [
    {
     "data": {
      "text/plain": [
       "63800.0"
      ]
     },
     "execution_count": 5,
     "metadata": {},
     "output_type": "execute_result"
    }
   ],
   "execution_count": 5
  }
 ],
 "metadata": {
  "kernelspec": {
   "display_name": "Python 3",
   "language": "python",
   "name": "python3"
  },
  "language_info": {
   "codemirror_mode": {
    "name": "ipython",
    "version": 2
   },
   "file_extension": ".py",
   "mimetype": "text/x-python",
   "name": "python",
   "nbconvert_exporter": "python",
   "pygments_lexer": "ipython2",
   "version": "2.7.6"
  }
 },
 "nbformat": 4,
 "nbformat_minor": 5
}
